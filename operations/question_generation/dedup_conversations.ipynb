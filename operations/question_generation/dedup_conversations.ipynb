{
 "cells": [
  {
   "cell_type": "code",
   "execution_count": null,
   "metadata": {},
   "outputs": [],
   "source": [
    "import sys \n",
    "sys.path.append('../../')"
   ]
  },
  {
   "cell_type": "code",
   "execution_count": 5,
   "metadata": {},
   "outputs": [],
   "source": [
    "import pandas as pd\n",
    "\n",
    "# Specify the path to your Excel file\n",
    "file_path = 'dedup_conversations.xlsx'\n",
    "\n",
    "# Specify the sheet name or index. For example, 'Sheet1' or 0 for the first sheet\n",
    "all_sheet_name = 'all'\n",
    "# Read the specified sheet of the Excel file\n",
    "df_all = pd.read_excel(file_path, sheet_name=all_sheet_name)\n",
    "\n",
    "\n",
    "# Specify the sheet name or index. For example, 'Sheet1' or 0 for the first sheet\n",
    "submitted_sheet_name = 'submitted'\n",
    "# Read the specified sheet of the Excel file\n",
    "df_submitted = pd.read_excel(file_path, sheet_name=submitted_sheet_name)"
   ]
  },
  {
   "cell_type": "code",
   "execution_count": 9,
   "metadata": {},
   "outputs": [
    {
     "data": {
      "text/plain": [
       "300"
      ]
     },
     "execution_count": 9,
     "metadata": {},
     "output_type": "execute_result"
    }
   ],
   "source": [
    "# Accessing the 'task_link' column from the df_submitted DataFrame\n",
    "submitted_tasks = df_submitted['task_link']\n",
    "# Creating a set from the 'task_link' column\n",
    "submitted_tasks_set = set(submitted_tasks)\n",
    "\n",
    "len(submitted_tasks)\n",
    "\n"
   ]
  },
  {
   "cell_type": "code",
   "execution_count": 39,
   "metadata": {},
   "outputs": [],
   "source": [
    "from openpyxl import load_workbook\n",
    "from openpyxl.workbook import Workbook\n",
    "from openpyxl.worksheet.datavalidation import DataValidation\n",
    "from copy import copy\n",
    "from openpyxl.utils.cell import get_column_letter\n",
    "\n",
    "# Load the workbook and the 'all' sheet\n",
    "source_file_path = 'dedup_conversations.xlsx'\n",
    "source_workbook = load_workbook(filename=source_file_path)\n",
    "sheet_all = source_workbook['all']\n",
    "\n",
    "# Create a new workbook for the split sheets\n",
    "new_workbook = Workbook()\n",
    "sheet_submitted = new_workbook.active\n",
    "sheet_submitted.title = 'submitted'\n",
    "sheet_unsubmitted = new_workbook.create_sheet('unsubmitted')\n",
    "\n",
    "# Find the index of the 'task_link' column\n",
    "task_link_index = None\n",
    "for idx, cell in enumerate(sheet_all[1]):  # Assuming the first row contains headers\n",
    "    if cell.value == 'task_link':\n",
    "        task_link_index = idx\n",
    "        break\n",
    "\n",
    "if task_link_index is None:\n",
    "    raise ValueError(\"The 'task_link' column was not found in the 'all' sheet.\")\n",
    "\n",
    "# Function to copy a row to a new sheet\n",
    "def copy_row_to_sheet(row, target_sheet, row_num):\n",
    "    for col_num, cell in enumerate(row, start=1):\n",
    "        new_cell = target_sheet.cell(row=row_num, column=col_num)\n",
    "        new_cell.value = cell.value\n",
    "        if cell.hyperlink:  # Copy hyperlink if present\n",
    "            new_cell.hyperlink = copy(cell.hyperlink)\n",
    "        if cell.has_style:  # Copy style if present\n",
    "            new_cell.font = copy(cell.font)\n",
    "            new_cell.border = copy(cell.border)\n",
    "            new_cell.fill = copy(cell.fill)\n",
    "            new_cell.number_format = copy(cell.number_format)\n",
    "            new_cell.protection = copy(cell.protection)\n",
    "            new_cell.alignment = copy(cell.alignment)\n",
    "\n",
    "# Copy the header row to both new sheets\n",
    "header_row = next(sheet_all.iter_rows(min_row=1, max_row=1))\n",
    "copy_row_to_sheet(header_row, sheet_submitted, 1)\n",
    "copy_row_to_sheet(header_row, sheet_unsubmitted, 1)\n",
    "\n",
    "# Copy data validation for drop-down menus and checkboxes\n",
    "for dv in sheet_all.data_validations.dataValidation:\n",
    "    new_dv = copy(dv)\n",
    "    # Adjust the range for the new sheet\n",
    "    new_ranges = []\n",
    "    for range_ in dv.ranges:\n",
    "        # Assuming the data validation is applied to the entire column\n",
    "        col_letter = get_column_letter(range_.min_col)\n",
    "        new_range_str = f\"{col_letter}2:{col_letter}{sheet_unsubmitted.max_row + 1}\"\n",
    "        new_ranges.append(new_range_str)\n",
    "    new_dv.ranges = new_ranges\n",
    "    sheet_submitted.add_data_validation(new_dv)\n",
    "    sheet_unsubmitted.add_data_validation(new_dv)\n",
    "\n",
    "# Iterate over the 'all' sheet and copy rows to the corresponding new sheet\n",
    "submitted_row_num = 2\n",
    "unsubmitted_row_num = 2\n",
    "for row in sheet_all.iter_rows(min_row=2):\n",
    "    task_link = row[task_link_index].value\n",
    "    if isinstance(task_link, str) and task_link.startswith('https'):\n",
    "        if task_link in submitted_tasks_set:\n",
    "            copy_row_to_sheet(row, sheet_submitted, submitted_row_num)\n",
    "            submitted_row_num += 1\n",
    "        else:\n",
    "            copy_row_to_sheet(row, sheet_unsubmitted, unsubmitted_row_num)\n",
    "            unsubmitted_row_num += 1\n",
    "\n",
    "# Save the new workbook\n",
    "new_file_path = 'split_dedup_conversations.xlsx'\n",
    "new_workbook.save(filename=new_file_path)"
   ]
  }
 ],
 "metadata": {
  "kernelspec": {
   "display_name": "Python 3",
   "language": "python",
   "name": "python3"
  },
  "language_info": {
   "codemirror_mode": {
    "name": "ipython",
    "version": 3
   },
   "file_extension": ".py",
   "mimetype": "text/x-python",
   "name": "python",
   "nbconvert_exporter": "python",
   "pygments_lexer": "ipython3",
   "version": "3.10.11"
  }
 },
 "nbformat": 4,
 "nbformat_minor": 2
}
