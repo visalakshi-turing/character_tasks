{
 "cells": [
  {
   "cell_type": "code",
   "execution_count": null,
   "metadata": {},
   "outputs": [],
   "source": [
    "import sys \n",
    "sys.path.append('../../')"
   ]
  },
  {
   "cell_type": "markdown",
   "metadata": {},
   "source": [
    "# Human Like Quesitons"
   ]
  },
  {
   "cell_type": "code",
   "execution_count": 51,
   "metadata": {},
   "outputs": [],
   "source": [
    "import os\n",
    "from openai import OpenAI\n",
    "import pandas as pd\n",
    "\n",
    "openai_api_key = os.environ.get(\"OPENAI_API_KEY\")\n",
    "client = OpenAI()"
   ]
  },
  {
   "cell_type": "markdown",
   "metadata": {},
   "source": [
    "#### Load Existing Questons"
   ]
  },
  {
   "cell_type": "code",
   "execution_count": 2,
   "metadata": {},
   "outputs": [],
   "source": [
    "# from src.gdrive_api.utils import extract_questions, find_and_load_all_problems, extract_questions_by_topic\n",
    "\n",
    "# parent_folder_path = './notebooks'\n",
    "\n",
    "# all_problems = find_and_load_all_problems(parent_folder_path)\n",
    "# questions = extract_questions(all_problems)\n",
    "# existing_questions = list(questions)\n",
    "# existing_questions"
   ]
  },
  {
   "cell_type": "code",
   "execution_count": 2,
   "metadata": {},
   "outputs": [],
   "source": [
    "from src.gdrive_api.utils import extract_questions, find_and_load_all_problems, extract_questions_by_topic\n",
    "\n",
    "parent_dir = \"./notebooks\"\n",
    "all_problems = find_and_load_all_problems(parent_dir)\n",
    "questions_grouped_by_topic = extract_questions_by_topic(all_problems)\n",
    "\n",
    "# # Printing each topic and its questions\n",
    "# for topic, questions in questions_grouped_by_topic.items():\n",
    "#     print(f\"Topic: {topic}\")\n",
    "#     for question in questions:\n",
    "#         print(f\" - {question}\")"
   ]
  },
  {
   "cell_type": "code",
   "execution_count": 4,
   "metadata": {},
   "outputs": [],
   "source": [
    "\n",
    "questions_by_topic = extract_questions_by_topic(all_problems)"
   ]
  },
  {
   "cell_type": "markdown",
   "metadata": {},
   "source": [
    "#### Load Topic"
   ]
  },
  {
   "cell_type": "code",
   "execution_count": 3,
   "metadata": {},
   "outputs": [
    {
     "name": "stdout",
     "output_type": "stream",
     "text": [
      "Total number of topics: 132\n"
     ]
    }
   ],
   "source": [
    "import json\n",
    "\n",
    "# Function to crawl the topic hierarchy and retrieve all topics\n",
    "def crawl_keys(d, sep=' > ', prefix=''):\n",
    "    paths = []\n",
    "    for k, v in d.items():\n",
    "        path = prefix + k\n",
    "        if isinstance(v, dict) and len(v.keys()) > 0:\n",
    "            paths.extend(crawl_keys(v, sep, path + sep))\n",
    "        else:\n",
    "            paths.append(path)\n",
    "    return paths\n",
    "\n",
    "# Open the `topic_hierarchy.json` file and retrieve all topics\n",
    "with open('topic_hierarchy.json') as json_file:\n",
    "    topic_hierarchy = json.load(json_file)\n",
    "\n",
    "all_topics = crawl_keys(topic_hierarchy)\n",
    "print(f\"Total number of topics: {len(all_topics)}\")"
   ]
  },
  {
   "cell_type": "markdown",
   "metadata": {},
   "source": [
    "#### Max Questions to generate"
   ]
  },
  {
   "cell_type": "code",
   "execution_count": 5,
   "metadata": {},
   "outputs": [],
   "source": [
    "MAX_QUESTIONS = 10  # The maximum number of questions\n",
    "generated_questions_count = 0  # Counter for the number of questions generated so far"
   ]
  },
  {
   "cell_type": "code",
   "execution_count": 6,
   "metadata": {},
   "outputs": [
    {
     "name": "stderr",
     "output_type": "stream",
     "text": [
      "  0%|          | 0/10 [00:00<?, ?it/s]"
     ]
    },
    {
     "name": "stderr",
     "output_type": "stream",
     "text": [
      "100%|██████████| 10/10 [00:13<00:00,  1.36s/it]\n"
     ]
    }
   ],
   "source": [
    "from src.gdrive_api.utils import generate_human_like_questions\n",
    "from tqdm import tqdm\n",
    "\n",
    "problems = []\n",
    "\n",
    "questions_grouped_by_topics = extract_questions_by_topic(all_problems)\n",
    "\n",
    "# If the existing questions are not grouped by full topic paths, convert them first\n",
    "questions_grouped_by_topic = {}\n",
    "for topic in all_topics:\n",
    "    questions_grouped_by_topic[topic] = questions_grouped_by_topics.get(topic, set())\n",
    "\n",
    "with tqdm(total=MAX_QUESTIONS) as pbar:\n",
    "    for topic, existing_questions in questions_grouped_by_topics.items():\n",
    "        # Stop if we've reached the max limit\n",
    "        if generated_questions_count >= MAX_QUESTIONS:\n",
    "            break\n",
    "\n",
    "        # Generate questions\n",
    "        questions = generate_human_like_questions(topic, 5, existing_questions)\n",
    "        for question in questions[\"questions\"]:\n",
    "            # If we're at the max, break\n",
    "            if generated_questions_count >= MAX_QUESTIONS:\n",
    "                break\n",
    "            problems.append({\n",
    "                \"metadata\": {\n",
    "                    \"topic\": topic,\n",
    "                    \"type\": \"query\",\n",
    "                    \"difficulty\": \"Easy\",\n",
    "                    \"target_length\": 1\n",
    "                },\n",
    "                \"messages\": [\n",
    "                    {\"role\": \"user\", \"content\": question},\n",
    "                ]\n",
    "            })\n",
    "            generated_questions_count += 1  # Increment for each question\n",
    "            pbar.update(1)"
   ]
  },
  {
   "cell_type": "code",
   "execution_count": null,
   "metadata": {},
   "outputs": [],
   "source": []
  },
  {
   "cell_type": "code",
   "execution_count": 14,
   "metadata": {},
   "outputs": [],
   "source": [
    "\n",
    "# from src.gdrive_api.utils import generate_human_like_questions\n",
    "# from tqdm import tqdm\n",
    "\n",
    "# problems = []\n",
    "\n",
    "# with tqdm(total=MAX_QUESTIONS) as pbar:\n",
    "#     for topic in all_topics:\n",
    "#         # Stop if we've reached the max limit\n",
    "#         if generated_questions_count >= MAX_QUESTIONS:\n",
    "#             break\n",
    "\n",
    "#         existing_questions = questions_grouped_by_topic.get(f'{topic}', set())\n",
    "#         print('existing' + str(existing_questions))\n",
    "#         print('topics' + str(topic))\n",
    "\n",
    "#         # Generate questions\n",
    "#         questions = generate_human_like_questions(topic, 5, existing_questions)\n",
    "#         for question in questions[\"questions\"]:\n",
    "#             # If we're at the max, break\n",
    "#             if generated_questions_count >= MAX_QUESTIONS:\n",
    "#                 break\n",
    "#             problems.append({\n",
    "#                 \"metadata\": {\n",
    "#                     \"topic\": topic,\n",
    "#                     \"type\": \"query\",\n",
    "#                     \"difficulty\": \"Easy\",\n",
    "#                     \"target_length\": 1\n",
    "#                 },\n",
    "#                 \"messages\": [\n",
    "#                     {\"role\": \"user\", \"content\": question},\n",
    "#                 ]\n",
    "#             })\n",
    "#             generated_questions_count += 1  # Increment for each question\n",
    "#             pbar.update(1)"
   ]
  },
  {
   "cell_type": "code",
   "execution_count": 8,
   "metadata": {},
   "outputs": [
    {
     "name": "stderr",
     "output_type": "stream",
     "text": [
      "100%|██████████| 100/100 [11:27<00:00,  6.88s/it]\n"
     ]
    }
   ],
   "source": [
    "from src.gdrive_api.utils import generate_human_like_code_modification_requests\n",
    "\n",
    "generated_questions_count = 0\n",
    "\n",
    "with tqdm(total=MAX_QUESTIONS) as pbar:\n",
    "    for topic, existing_questions in questions_grouped_by_topics.items():\n",
    "        # Stop if we've reached the max limit\n",
    "        if generated_questions_count >= MAX_QUESTIONS:\n",
    "            break\n",
    "        \n",
    "        questions = generate_human_like_code_modification_requests(topic, 3, existing_questions)\n",
    "        for question in questions[\"questions\"]:\n",
    "            # If we're at the max, break\n",
    "            if generated_questions_count >= MAX_QUESTIONS:\n",
    "                break\n",
    "            problems.append({\n",
    "                \"metadata\": {\n",
    "                    \"topic\": topic,\n",
    "                    \"type\": \"modification\",\n",
    "                    \"difficulty\": \"Easy\",\n",
    "                    \"target_length\": 1\n",
    "                },\n",
    "                \"messages\": [\n",
    "                    {\"role\": \"user\", \"content\": question},\n",
    "                ]\n",
    "            })\n",
    "            generated_questions_count += 1  # Increment for each question\n",
    "            pbar.update(1)"
   ]
  },
  {
   "cell_type": "code",
   "execution_count": 9,
   "metadata": {},
   "outputs": [],
   "source": [
    "problem_titles = []\n",
    "problem_topic_counts = {}\n",
    "file_path_to_problem = {}\n",
    "for problem in problems:\n",
    "    topic_type = f'{problem[\"metadata\"][\"topic\"].split(\" > \")[-1]}__{problem[\"metadata\"][\"type\"]}'\n",
    "    idx = problem_topic_counts.get(topic_type, 0)\n",
    "    title = f'{topic_type}__{idx}'\n",
    "    problem_titles.append(title)\n",
    "    file_path_to_problem[f\"{title}.ipynb\"] = problem\n",
    "    problem_topic_counts[topic_type] = idx + 1"
   ]
  },
  {
   "cell_type": "markdown",
   "metadata": {},
   "source": [
    "#### distribution for the number of turns"
   ]
  },
  {
   "cell_type": "code",
   "execution_count": 12,
   "metadata": {},
   "outputs": [],
   "source": [
    "import nbformat\n",
    "from nbformat.v4 import new_notebook, new_markdown_cell\n",
    "import re\n",
    "import os\n",
    "import random\n",
    "\n",
    "# Define distribution for the number of turns\n",
    "distribution = {1: 25, 2: 50, 6: 25}\n",
    "\n",
    "# Ensure that the distribution sums up to 100%\n",
    "assert sum(distribution.values()) == 100, \"The distribution must sum to 100%\"\n",
    "\n",
    "def weighted_choice(choices):\n",
    "    total = sum(weight for choice, weight in choices)\n",
    "    r = random.uniform(0, total)\n",
    "    upto = 0\n",
    "    for choice, weight in choices:\n",
    "        if upto + weight >= r:\n",
    "            return choice\n",
    "        upto += weight\n",
    "\n",
    "def select_number_of_turns(distribution):\n",
    "    # Normalize distribution values to probabilities\n",
    "    total = sum(distribution.values())\n",
    "    normalized_distribution = {k: v/total for k, v in distribution.items()}\n",
    "    turns = weighted_choice(normalized_distribution.items())\n",
    "    return turns\n",
    "\n",
    "for p, t in zip(problems, problem_titles):\n",
    "    # Determine the parity based on the last digit in the title\n",
    "    title_number = int(re.search(r'\\d+$', t).group())  # Extract the last number from the title\n",
    "\n",
    "    turns = select_number_of_turns(distribution)\n",
    "    \n",
    "    parity = title_number % 2\n",
    "\n",
    "    # Create a new notebook\n",
    "    notebook = new_notebook()\n",
    "\n",
    "    # Add metadata\n",
    "    metadata = f\"\"\"# Metadata\n",
    "\n",
    "**Python Topics** - {p[\"metadata\"][\"topic\"]}\n",
    "\n",
    "**Type** - {p[\"metadata\"][\"type\"]}\n",
    "\n",
    "**Target Number of Turns (User + Assistant)** - {turns}\n",
    "\"\"\"\n",
    "    metadata_cell = new_markdown_cell(metadata)\n",
    "    notebook.cells.append(metadata_cell)\n",
    "\n",
    "    # Add conversation header\n",
    "    conversation_header = \"# Conversation\"\n",
    "    conversation_header_cell = new_markdown_cell(conversation_header)\n",
    "    notebook.cells.append(conversation_header_cell)\n",
    "\n",
    "    # Append conversation messages\n",
    "    title = \"**User**\" if parity else \"**Assistant**\"\n",
    "    for message in p[\"messages\"]:\n",
    "        msg_content = f\"\"\"{title}\n",
    "\n",
    "{message[\"content\"]}\n",
    "\"\"\"\n",
    "        conversation_message_cell = new_markdown_cell(msg_content)\n",
    "        notebook.cells.append(conversation_message_cell)\n",
    "\n",
    "    # Save the notebook\n",
    "    notebook_path = f'notebooks/test/{t}.ipynb'\n",
    "     \n",
    "    try:\n",
    "        os.makedirs(os.path.dirname(notebook_path))\n",
    "    except FileExistsError:\n",
    "        pass\n",
    "     \n",
    "    with open(notebook_path, 'w') as f:\n",
    "        nbformat.write(notebook, f)"
   ]
  },
  {
   "cell_type": "markdown",
   "metadata": {},
   "source": [
    "#### biased_normal_distribution"
   ]
  },
  {
   "cell_type": "code",
   "execution_count": 14,
   "metadata": {},
   "outputs": [
    {
     "name": "stdout",
     "output_type": "stream",
     "text": [
      "algorithms.by_data_structure.arrays\n",
      "Topic: algorithms.by_data_structure.arrays, Percentile: 0.03787878787878788\n",
      "turns2\n",
      "algorithms.by_data_structure.arrays\n",
      "Topic: algorithms.by_data_structure.arrays, Percentile: 0.03787878787878788\n",
      "turns2\n",
      "algorithms.by_data_structure.arrays\n",
      "Topic: algorithms.by_data_structure.arrays, Percentile: 0.03787878787878788\n",
      "turns2\n",
      "algorithms.by_data_structure.arrays\n",
      "Topic: algorithms.by_data_structure.arrays, Percentile: 0.03787878787878788\n",
      "turns4\n",
      "algorithms.by_data_structure.arrays\n",
      "Topic: algorithms.by_data_structure.arrays, Percentile: 0.03787878787878788\n",
      "turns2\n",
      "algorithms.by_data_structure.linked_lists\n",
      "Topic: algorithms.by_data_structure.linked_lists, Percentile: 0.14015151515151514\n",
      "turns2\n",
      "algorithms.by_data_structure.linked_lists\n",
      "Topic: algorithms.by_data_structure.linked_lists, Percentile: 0.14015151515151514\n",
      "turns1\n",
      "algorithms.by_data_structure.linked_lists\n",
      "Topic: algorithms.by_data_structure.linked_lists, Percentile: 0.14015151515151514\n",
      "turns2\n",
      "algorithms.by_data_structure.linked_lists\n",
      "Topic: algorithms.by_data_structure.linked_lists, Percentile: 0.14015151515151514\n",
      "turns6\n",
      "algorithms.by_data_structure.linked_lists\n",
      "Topic: algorithms.by_data_structure.linked_lists, Percentile: 0.14015151515151514\n",
      "turns4\n",
      "algorithms.by_data_structure.stacks\n",
      "Topic: algorithms.by_data_structure.stacks, Percentile: 0.14015151515151514\n",
      "turns2\n",
      "algorithms.by_data_structure.stacks\n",
      "Topic: algorithms.by_data_structure.stacks, Percentile: 0.14015151515151514\n",
      "turns1\n",
      "algorithms.by_data_structure.stacks\n",
      "Topic: algorithms.by_data_structure.stacks, Percentile: 0.14015151515151514\n",
      "turns4\n",
      "algorithms.by_data_structure.stacks\n",
      "Topic: algorithms.by_data_structure.stacks, Percentile: 0.14015151515151514\n",
      "turns4\n",
      "algorithms.by_data_structure.stacks\n",
      "Topic: algorithms.by_data_structure.stacks, Percentile: 0.14015151515151514\n",
      "turns2\n",
      "algorithms.by_data_structure.queues\n",
      "Topic: algorithms.by_data_structure.queues, Percentile: 0.14015151515151514\n",
      "turns1\n",
      "algorithms.by_data_structure.queues\n",
      "Topic: algorithms.by_data_structure.queues, Percentile: 0.14015151515151514\n",
      "turns1\n",
      "algorithms.by_data_structure.queues\n",
      "Topic: algorithms.by_data_structure.queues, Percentile: 0.14015151515151514\n",
      "turns3\n",
      "algorithms.by_data_structure.queues\n",
      "Topic: algorithms.by_data_structure.queues, Percentile: 0.14015151515151514\n",
      "turns2\n",
      "algorithms.by_data_structure.queues\n",
      "Topic: algorithms.by_data_structure.queues, Percentile: 0.14015151515151514\n",
      "turns1\n",
      "algorithms.by_data_structure.trees\n",
      "Topic: algorithms.by_data_structure.trees, Percentile: 0.5378787878787878\n",
      "turns2\n",
      "algorithms.by_data_structure.trees\n",
      "Topic: algorithms.by_data_structure.trees, Percentile: 0.5378787878787878\n",
      "turns4\n",
      "algorithms.by_data_structure.trees\n",
      "Topic: algorithms.by_data_structure.trees, Percentile: 0.5378787878787878\n",
      "turns4\n",
      "algorithms.by_data_structure.trees\n",
      "Topic: algorithms.by_data_structure.trees, Percentile: 0.5378787878787878\n",
      "turns6\n",
      "algorithms.by_data_structure.trees\n",
      "Topic: algorithms.by_data_structure.trees, Percentile: 0.5378787878787878\n",
      "turns1\n",
      "algorithms.by_data_structure.graphs\n",
      "Topic: algorithms.by_data_structure.graphs, Percentile: 0.9015151515151515\n",
      "turns4\n",
      "algorithms.by_data_structure.graphs\n",
      "Topic: algorithms.by_data_structure.graphs, Percentile: 0.9015151515151515\n",
      "turns3\n",
      "algorithms.by_data_structure.graphs\n",
      "Topic: algorithms.by_data_structure.graphs, Percentile: 0.9015151515151515\n",
      "turns2\n",
      "algorithms.by_data_structure.graphs\n",
      "Topic: algorithms.by_data_structure.graphs, Percentile: 0.9015151515151515\n",
      "turns1\n",
      "algorithms.by_data_structure.graphs\n",
      "Topic: algorithms.by_data_structure.graphs, Percentile: 0.9015151515151515\n",
      "turns5\n",
      "algorithms.by_data_structure.hash_tables\n",
      "Topic: algorithms.by_data_structure.hash_tables, Percentile: 0.3143939393939394\n",
      "turns2\n",
      "algorithms.by_data_structure.hash_tables\n",
      "Topic: algorithms.by_data_structure.hash_tables, Percentile: 0.3143939393939394\n",
      "turns1\n",
      "algorithms.by_data_structure.hash_tables\n",
      "Topic: algorithms.by_data_structure.hash_tables, Percentile: 0.3143939393939394\n",
      "turns2\n",
      "algorithms.by_data_structure.hash_tables\n",
      "Topic: algorithms.by_data_structure.hash_tables, Percentile: 0.3143939393939394\n",
      "turns1\n",
      "algorithms.by_data_structure.hash_tables\n",
      "Topic: algorithms.by_data_structure.hash_tables, Percentile: 0.3143939393939394\n",
      "turns2\n",
      "algorithms.by_data_structure.heaps\n",
      "Topic: algorithms.by_data_structure.heaps, Percentile: 0.5378787878787878\n",
      "turns6\n",
      "algorithms.by_data_structure.heaps\n",
      "Topic: algorithms.by_data_structure.heaps, Percentile: 0.5378787878787878\n",
      "turns6\n",
      "algorithms.by_data_structure.heaps\n",
      "Topic: algorithms.by_data_structure.heaps, Percentile: 0.5378787878787878\n",
      "turns1\n",
      "algorithms.by_data_structure.heaps\n",
      "Topic: algorithms.by_data_structure.heaps, Percentile: 0.5378787878787878\n",
      "turns5\n",
      "algorithms.by_data_structure.heaps\n",
      "Topic: algorithms.by_data_structure.heaps, Percentile: 0.5378787878787878\n",
      "turns1\n",
      "algorithms.by_data_structure.strings\n",
      "Topic: algorithms.by_data_structure.strings, Percentile: 0.3143939393939394\n",
      "turns2\n",
      "algorithms.by_data_structure.strings\n",
      "Topic: algorithms.by_data_structure.strings, Percentile: 0.3143939393939394\n",
      "turns2\n",
      "algorithms.by_data_structure.strings\n",
      "Topic: algorithms.by_data_structure.strings, Percentile: 0.3143939393939394\n",
      "turns1\n",
      "algorithms.by_data_structure.strings\n",
      "Topic: algorithms.by_data_structure.strings, Percentile: 0.3143939393939394\n",
      "turns2\n",
      "algorithms.by_data_structure.strings\n",
      "Topic: algorithms.by_data_structure.strings, Percentile: 0.3143939393939394\n",
      "turns5\n",
      "algorithms.by_data_structure.advanced_data_structures\n",
      "Topic: algorithms.by_data_structure.advanced_data_structures, Percentile: 0.9886363636363636\n",
      "turns8\n",
      "algorithms.by_data_structure.advanced_data_structures\n",
      "Topic: algorithms.by_data_structure.advanced_data_structures, Percentile: 0.9886363636363636\n",
      "turns3\n",
      "algorithms.by_data_structure.advanced_data_structures\n",
      "Topic: algorithms.by_data_structure.advanced_data_structures, Percentile: 0.9886363636363636\n",
      "turns4\n",
      "algorithms.by_data_structure.advanced_data_structures\n",
      "Topic: algorithms.by_data_structure.advanced_data_structures, Percentile: 0.9886363636363636\n",
      "turns6\n",
      "algorithms.by_data_structure.advanced_data_structures\n",
      "Topic: algorithms.by_data_structure.advanced_data_structures, Percentile: 0.9886363636363636\n",
      "turns1\n",
      "algorithms.by_topic.dynamic_programming\n",
      "Topic: algorithms.by_topic.dynamic_programming, Percentile: 0.9886363636363636\n",
      "turns4\n",
      "algorithms.by_topic.dynamic_programming\n",
      "Topic: algorithms.by_topic.dynamic_programming, Percentile: 0.9886363636363636\n",
      "turns2\n",
      "algorithms.by_topic.dynamic_programming\n",
      "Topic: algorithms.by_topic.dynamic_programming, Percentile: 0.9886363636363636\n",
      "turns2\n",
      "algorithms.by_topic.dynamic_programming\n",
      "Topic: algorithms.by_topic.dynamic_programming, Percentile: 0.9886363636363636\n",
      "turns4\n",
      "algorithms.by_topic.dynamic_programming\n",
      "Topic: algorithms.by_topic.dynamic_programming, Percentile: 0.9886363636363636\n",
      "turns1\n",
      "algorithms.by_topic.famous_algorithms\n",
      "Topic: algorithms.by_topic.famous_algorithms, Percentile: 0.9015151515151515\n",
      "turns7\n",
      "algorithms.by_topic.famous_algorithms\n",
      "Topic: algorithms.by_topic.famous_algorithms, Percentile: 0.9015151515151515\n",
      "turns5\n",
      "algorithms.by_topic.famous_algorithms\n",
      "Topic: algorithms.by_topic.famous_algorithms, Percentile: 0.9015151515151515\n",
      "turns1\n",
      "algorithms.by_topic.famous_algorithms\n",
      "Topic: algorithms.by_topic.famous_algorithms, Percentile: 0.9015151515151515\n",
      "turns6\n",
      "algorithms.by_topic.famous_algorithms\n",
      "Topic: algorithms.by_topic.famous_algorithms, Percentile: 0.9015151515151515\n",
      "turns5\n",
      "algorithms.by_topic.greedy_algorithms\n",
      "Topic: algorithms.by_topic.greedy_algorithms, Percentile: 0.7462121212121212\n",
      "turns3\n",
      "algorithms.by_topic.greedy_algorithms\n",
      "Topic: algorithms.by_topic.greedy_algorithms, Percentile: 0.7462121212121212\n",
      "turns7\n",
      "algorithms.by_topic.greedy_algorithms\n",
      "Topic: algorithms.by_topic.greedy_algorithms, Percentile: 0.7462121212121212\n",
      "turns3\n",
      "algorithms.by_topic.greedy_algorithms\n",
      "Topic: algorithms.by_topic.greedy_algorithms, Percentile: 0.7462121212121212\n",
      "turns4\n",
      "algorithms.by_topic.greedy_algorithms\n",
      "Topic: algorithms.by_topic.greedy_algorithms, Percentile: 0.7462121212121212\n",
      "turns1\n",
      "algorithms.by_topic.recursion\n",
      "Topic: algorithms.by_topic.recursion, Percentile: 0.5378787878787878\n",
      "turns3\n",
      "algorithms.by_topic.recursion\n",
      "Topic: algorithms.by_topic.recursion, Percentile: 0.5378787878787878\n",
      "turns7\n",
      "algorithms.by_topic.recursion\n",
      "Topic: algorithms.by_topic.recursion, Percentile: 0.5378787878787878\n",
      "turns1\n",
      "algorithms.by_topic.recursion\n",
      "Topic: algorithms.by_topic.recursion, Percentile: 0.5378787878787878\n",
      "turns4\n",
      "algorithms.by_topic.recursion\n",
      "Topic: algorithms.by_topic.recursion, Percentile: 0.5378787878787878\n",
      "turns6\n",
      "algorithms.by_topic.searching\n",
      "Topic: algorithms.by_topic.searching, Percentile: 0.14015151515151514\n",
      "turns1\n",
      "algorithms.by_topic.searching\n",
      "Topic: algorithms.by_topic.searching, Percentile: 0.14015151515151514\n",
      "turns2\n",
      "algorithms.by_topic.searching\n",
      "Topic: algorithms.by_topic.searching, Percentile: 0.14015151515151514\n",
      "turns2\n",
      "algorithms.by_topic.searching\n",
      "Topic: algorithms.by_topic.searching, Percentile: 0.14015151515151514\n",
      "turns1\n",
      "algorithms.by_topic.searching\n",
      "Topic: algorithms.by_topic.searching, Percentile: 0.14015151515151514\n",
      "turns2\n",
      "algorithms.by_topic.sorting\n",
      "Topic: algorithms.by_topic.sorting, Percentile: 0.3143939393939394\n",
      "turns5\n",
      "algorithms.by_topic.sorting\n",
      "Topic: algorithms.by_topic.sorting, Percentile: 0.3143939393939394\n",
      "turns5\n",
      "algorithms.by_topic.sorting\n",
      "Topic: algorithms.by_topic.sorting, Percentile: 0.3143939393939394\n",
      "turns2\n",
      "algorithms.by_topic.sorting\n",
      "Topic: algorithms.by_topic.sorting, Percentile: 0.3143939393939394\n",
      "turns2\n",
      "algorithms.by_topic.sorting\n",
      "Topic: algorithms.by_topic.sorting, Percentile: 0.3143939393939394\n",
      "turns4\n",
      "algorithms.by_topic.math\n",
      "Topic: algorithms.by_topic.math, Percentile: 0.5378787878787878\n",
      "turns1\n",
      "algorithms.by_topic.math\n",
      "Topic: algorithms.by_topic.math, Percentile: 0.5378787878787878\n",
      "turns5\n",
      "algorithms.by_topic.math\n",
      "Topic: algorithms.by_topic.math, Percentile: 0.5378787878787878\n",
      "turns7\n",
      "algorithms.by_topic.math\n",
      "Topic: algorithms.by_topic.math, Percentile: 0.5378787878787878\n",
      "turns3\n",
      "algorithms.by_topic.math\n",
      "Topic: algorithms.by_topic.math, Percentile: 0.5378787878787878\n",
      "turns1\n",
      "algorithms.by_topic.bit_manipulation\n",
      "Topic: algorithms.by_topic.bit_manipulation, Percentile: 0.5378787878787878\n",
      "turns5\n",
      "algorithms.by_topic.bit_manipulation\n",
      "Topic: algorithms.by_topic.bit_manipulation, Percentile: 0.5378787878787878\n",
      "turns4\n",
      "algorithms.by_topic.bit_manipulation\n",
      "Topic: algorithms.by_topic.bit_manipulation, Percentile: 0.5378787878787878\n",
      "turns3\n",
      "algorithms.by_topic.bit_manipulation\n",
      "Topic: algorithms.by_topic.bit_manipulation, Percentile: 0.5378787878787878\n",
      "turns1\n",
      "algorithms.by_topic.bit_manipulation\n",
      "Topic: algorithms.by_topic.bit_manipulation, Percentile: 0.5378787878787878\n",
      "turns1\n",
      "algorithms.by_topic.geometry\n",
      "Topic: algorithms.by_topic.geometry, Percentile: 0.7462121212121212\n",
      "turns5\n",
      "algorithms.by_topic.geometry\n",
      "Topic: algorithms.by_topic.geometry, Percentile: 0.7462121212121212\n",
      "turns5\n",
      "algorithms.by_topic.geometry\n",
      "Topic: algorithms.by_topic.geometry, Percentile: 0.7462121212121212\n",
      "turns6\n",
      "algorithms.by_topic.geometry\n",
      "Topic: algorithms.by_topic.geometry, Percentile: 0.7462121212121212\n",
      "turns2\n",
      "algorithms.by_topic.geometry\n",
      "Topic: algorithms.by_topic.geometry, Percentile: 0.7462121212121212\n",
      "turns1\n",
      "algorithms.by_topic.probability\n",
      "Topic: algorithms.by_topic.probability, Percentile: 0.7462121212121212\n",
      "turns3\n",
      "algorithms.by_topic.probability\n",
      "Topic: algorithms.by_topic.probability, Percentile: 0.7462121212121212\n",
      "turns2\n",
      "algorithms.by_topic.probability\n",
      "Topic: algorithms.by_topic.probability, Percentile: 0.7462121212121212\n",
      "turns7\n",
      "algorithms.by_topic.probability\n",
      "Topic: algorithms.by_topic.probability, Percentile: 0.7462121212121212\n",
      "turns3\n",
      "algorithms.by_topic.probability\n",
      "Topic: algorithms.by_topic.probability, Percentile: 0.7462121212121212\n",
      "turns2\n",
      "algorithms.by_data_structure.arrays\n",
      "Topic: algorithms.by_data_structure.arrays, Percentile: 0.03787878787878788\n",
      "turns5\n",
      "algorithms.by_data_structure.arrays\n",
      "Topic: algorithms.by_data_structure.arrays, Percentile: 0.03787878787878788\n",
      "turns1\n",
      "algorithms.by_data_structure.arrays\n",
      "Topic: algorithms.by_data_structure.arrays, Percentile: 0.03787878787878788\n",
      "turns3\n",
      "algorithms.by_data_structure.linked_lists\n",
      "Topic: algorithms.by_data_structure.linked_lists, Percentile: 0.14015151515151514\n",
      "turns2\n",
      "algorithms.by_data_structure.linked_lists\n",
      "Topic: algorithms.by_data_structure.linked_lists, Percentile: 0.14015151515151514\n",
      "turns1\n",
      "algorithms.by_data_structure.linked_lists\n",
      "Topic: algorithms.by_data_structure.linked_lists, Percentile: 0.14015151515151514\n",
      "turns1\n",
      "algorithms.by_data_structure.stacks\n",
      "Topic: algorithms.by_data_structure.stacks, Percentile: 0.14015151515151514\n",
      "turns5\n",
      "algorithms.by_data_structure.stacks\n",
      "Topic: algorithms.by_data_structure.stacks, Percentile: 0.14015151515151514\n",
      "turns2\n",
      "algorithms.by_data_structure.stacks\n",
      "Topic: algorithms.by_data_structure.stacks, Percentile: 0.14015151515151514\n",
      "turns2\n",
      "algorithms.by_data_structure.queues\n",
      "Topic: algorithms.by_data_structure.queues, Percentile: 0.14015151515151514\n",
      "turns2\n",
      "algorithms.by_data_structure.queues\n",
      "Topic: algorithms.by_data_structure.queues, Percentile: 0.14015151515151514\n",
      "turns1\n",
      "algorithms.by_data_structure.queues\n",
      "Topic: algorithms.by_data_structure.queues, Percentile: 0.14015151515151514\n",
      "turns2\n",
      "algorithms.by_data_structure.trees\n",
      "Topic: algorithms.by_data_structure.trees, Percentile: 0.5378787878787878\n",
      "turns1\n",
      "algorithms.by_data_structure.trees\n",
      "Topic: algorithms.by_data_structure.trees, Percentile: 0.5378787878787878\n",
      "turns7\n",
      "algorithms.by_data_structure.trees\n",
      "Topic: algorithms.by_data_structure.trees, Percentile: 0.5378787878787878\n",
      "turns3\n",
      "algorithms.by_data_structure.graphs\n",
      "Topic: algorithms.by_data_structure.graphs, Percentile: 0.9015151515151515\n",
      "turns2\n",
      "algorithms.by_data_structure.graphs\n",
      "Topic: algorithms.by_data_structure.graphs, Percentile: 0.9015151515151515\n",
      "turns1\n",
      "algorithms.by_data_structure.graphs\n",
      "Topic: algorithms.by_data_structure.graphs, Percentile: 0.9015151515151515\n",
      "turns4\n",
      "algorithms.by_data_structure.hash_tables\n",
      "Topic: algorithms.by_data_structure.hash_tables, Percentile: 0.3143939393939394\n",
      "turns1\n",
      "algorithms.by_data_structure.hash_tables\n",
      "Topic: algorithms.by_data_structure.hash_tables, Percentile: 0.3143939393939394\n",
      "turns2\n",
      "algorithms.by_data_structure.hash_tables\n",
      "Topic: algorithms.by_data_structure.hash_tables, Percentile: 0.3143939393939394\n",
      "turns1\n",
      "algorithms.by_data_structure.heaps\n",
      "Topic: algorithms.by_data_structure.heaps, Percentile: 0.5378787878787878\n",
      "turns5\n",
      "algorithms.by_data_structure.heaps\n",
      "Topic: algorithms.by_data_structure.heaps, Percentile: 0.5378787878787878\n",
      "turns5\n",
      "algorithms.by_data_structure.heaps\n",
      "Topic: algorithms.by_data_structure.heaps, Percentile: 0.5378787878787878\n",
      "turns3\n",
      "algorithms.by_data_structure.strings\n",
      "Topic: algorithms.by_data_structure.strings, Percentile: 0.3143939393939394\n",
      "turns4\n",
      "algorithms.by_data_structure.strings\n",
      "Topic: algorithms.by_data_structure.strings, Percentile: 0.3143939393939394\n",
      "turns7\n",
      "algorithms.by_data_structure.strings\n",
      "Topic: algorithms.by_data_structure.strings, Percentile: 0.3143939393939394\n",
      "turns1\n",
      "algorithms.by_data_structure.advanced_data_structures\n",
      "Topic: algorithms.by_data_structure.advanced_data_structures, Percentile: 0.9886363636363636\n",
      "turns6\n",
      "algorithms.by_data_structure.advanced_data_structures\n",
      "Topic: algorithms.by_data_structure.advanced_data_structures, Percentile: 0.9886363636363636\n",
      "turns5\n",
      "algorithms.by_data_structure.advanced_data_structures\n",
      "Topic: algorithms.by_data_structure.advanced_data_structures, Percentile: 0.9886363636363636\n",
      "turns4\n",
      "algorithms.by_topic.dynamic_programming\n",
      "Topic: algorithms.by_topic.dynamic_programming, Percentile: 0.9886363636363636\n",
      "turns3\n",
      "algorithms.by_topic.dynamic_programming\n",
      "Topic: algorithms.by_topic.dynamic_programming, Percentile: 0.9886363636363636\n",
      "turns5\n",
      "algorithms.by_topic.dynamic_programming\n",
      "Topic: algorithms.by_topic.dynamic_programming, Percentile: 0.9886363636363636\n",
      "turns2\n",
      "algorithms.by_topic.famous_algorithms\n",
      "Topic: algorithms.by_topic.famous_algorithms, Percentile: 0.9015151515151515\n",
      "turns4\n",
      "algorithms.by_topic.famous_algorithms\n",
      "Topic: algorithms.by_topic.famous_algorithms, Percentile: 0.9015151515151515\n",
      "turns3\n",
      "algorithms.by_topic.famous_algorithms\n",
      "Topic: algorithms.by_topic.famous_algorithms, Percentile: 0.9015151515151515\n",
      "turns4\n",
      "algorithms.by_topic.greedy_algorithms\n",
      "Topic: algorithms.by_topic.greedy_algorithms, Percentile: 0.7462121212121212\n",
      "turns3\n",
      "algorithms.by_topic.greedy_algorithms\n",
      "Topic: algorithms.by_topic.greedy_algorithms, Percentile: 0.7462121212121212\n",
      "turns1\n",
      "algorithms.by_topic.greedy_algorithms\n",
      "Topic: algorithms.by_topic.greedy_algorithms, Percentile: 0.7462121212121212\n",
      "turns1\n",
      "algorithms.by_topic.recursion\n",
      "Topic: algorithms.by_topic.recursion, Percentile: 0.5378787878787878\n",
      "turns8\n",
      "algorithms.by_topic.recursion\n",
      "Topic: algorithms.by_topic.recursion, Percentile: 0.5378787878787878\n",
      "turns2\n",
      "algorithms.by_topic.recursion\n",
      "Topic: algorithms.by_topic.recursion, Percentile: 0.5378787878787878\n",
      "turns5\n",
      "algorithms.by_topic.searching\n",
      "Topic: algorithms.by_topic.searching, Percentile: 0.14015151515151514\n",
      "turns1\n",
      "algorithms.by_topic.searching\n",
      "Topic: algorithms.by_topic.searching, Percentile: 0.14015151515151514\n",
      "turns2\n",
      "algorithms.by_topic.searching\n",
      "Topic: algorithms.by_topic.searching, Percentile: 0.14015151515151514\n",
      "turns2\n",
      "algorithms.by_topic.sorting\n",
      "Topic: algorithms.by_topic.sorting, Percentile: 0.3143939393939394\n",
      "turns2\n",
      "algorithms.by_topic.sorting\n",
      "Topic: algorithms.by_topic.sorting, Percentile: 0.3143939393939394\n",
      "turns1\n",
      "algorithms.by_topic.sorting\n",
      "Topic: algorithms.by_topic.sorting, Percentile: 0.3143939393939394\n",
      "turns2\n",
      "algorithms.by_topic.math\n",
      "Topic: algorithms.by_topic.math, Percentile: 0.5378787878787878\n",
      "turns2\n",
      "algorithms.by_topic.math\n",
      "Topic: algorithms.by_topic.math, Percentile: 0.5378787878787878\n",
      "turns1\n",
      "algorithms.by_topic.math\n",
      "Topic: algorithms.by_topic.math, Percentile: 0.5378787878787878\n",
      "turns2\n",
      "algorithms.by_topic.bit_manipulation\n",
      "Topic: algorithms.by_topic.bit_manipulation, Percentile: 0.5378787878787878\n",
      "turns2\n",
      "algorithms.by_topic.bit_manipulation\n",
      "Topic: algorithms.by_topic.bit_manipulation, Percentile: 0.5378787878787878\n",
      "turns3\n",
      "algorithms.by_topic.bit_manipulation\n",
      "Topic: algorithms.by_topic.bit_manipulation, Percentile: 0.5378787878787878\n",
      "turns2\n",
      "algorithms.by_topic.geometry\n",
      "Topic: algorithms.by_topic.geometry, Percentile: 0.7462121212121212\n",
      "turns9\n",
      "algorithms.by_topic.geometry\n",
      "Topic: algorithms.by_topic.geometry, Percentile: 0.7462121212121212\n",
      "turns3\n",
      "algorithms.by_topic.geometry\n",
      "Topic: algorithms.by_topic.geometry, Percentile: 0.7462121212121212\n",
      "turns3\n",
      "algorithms.by_topic.probability\n",
      "Topic: algorithms.by_topic.probability, Percentile: 0.7462121212121212\n",
      "turns4\n",
      "algorithms.by_topic.probability\n",
      "Topic: algorithms.by_topic.probability, Percentile: 0.7462121212121212\n",
      "turns1\n",
      "algorithms.by_topic.probability\n",
      "Topic: algorithms.by_topic.probability, Percentile: 0.7462121212121212\n",
      "turns6\n",
      "algorithms.by_topic.game_theory\n",
      "Topic: algorithms.by_topic.game_theory, Percentile: 0.9015151515151515\n",
      "turns5\n",
      "algorithms.by_topic.game_theory\n",
      "Topic: algorithms.by_topic.game_theory, Percentile: 0.9015151515151515\n",
      "turns1\n",
      "algorithms.by_topic.game_theory\n",
      "Topic: algorithms.by_topic.game_theory, Percentile: 0.9015151515151515\n",
      "turns2\n",
      "algorithms.by_topic.divide_and_conquer\n",
      "Topic: algorithms.by_topic.divide_and_conquer, Percentile: 0.9015151515151515\n",
      "turns6\n",
      "algorithms.by_topic.divide_and_conquer\n",
      "Topic: algorithms.by_topic.divide_and_conquer, Percentile: 0.9015151515151515\n",
      "turns7\n",
      "algorithms.by_topic.divide_and_conquer\n",
      "Topic: algorithms.by_topic.divide_and_conquer, Percentile: 0.9015151515151515\n",
      "turns3\n",
      "algorithms.by_topic.backtracking\n",
      "Topic: algorithms.by_topic.backtracking, Percentile: 0.9015151515151515\n",
      "turns5\n",
      "algorithms.by_topic.backtracking\n",
      "Topic: algorithms.by_topic.backtracking, Percentile: 0.9015151515151515\n",
      "turns1\n",
      "algorithms.by_topic.backtracking\n",
      "Topic: algorithms.by_topic.backtracking, Percentile: 0.9015151515151515\n",
      "turns5\n",
      "algorithms.by_topic.counting\n",
      "Topic: algorithms.by_topic.counting, Percentile: 0.5378787878787878\n",
      "turns2\n",
      "algorithms.by_topic.counting\n",
      "Topic: algorithms.by_topic.counting, Percentile: 0.5378787878787878\n",
      "turns3\n",
      "algorithms.by_topic.counting\n",
      "Topic: algorithms.by_topic.counting, Percentile: 0.5378787878787878\n",
      "turns1\n",
      "algorithms.by_topic.statistics\n",
      "Topic: algorithms.by_topic.statistics, Percentile: 0.5378787878787878\n",
      "turns1\n",
      "algorithms.by_topic.statistics\n",
      "Topic: algorithms.by_topic.statistics, Percentile: 0.5378787878787878\n",
      "turns3\n",
      "algorithms.by_topic.statistics\n",
      "Topic: algorithms.by_topic.statistics, Percentile: 0.5378787878787878\n",
      "turns2\n",
      "algorithms.by_topic.combinatorics\n",
      "Topic: algorithms.by_topic.combinatorics, Percentile: 0.9015151515151515\n",
      "turns5\n",
      "algorithms.by_topic.combinatorics\n",
      "Topic: algorithms.by_topic.combinatorics, Percentile: 0.9015151515151515\n",
      "turns4\n",
      "algorithms.by_topic.combinatorics\n",
      "Topic: algorithms.by_topic.combinatorics, Percentile: 0.9015151515151515\n",
      "turns4\n",
      "algorithms.by_topic.union_find\n",
      "Topic: algorithms.by_topic.union_find, Percentile: 0.5378787878787878\n",
      "turns2\n",
      "algorithms.by_topic.union_find\n",
      "Topic: algorithms.by_topic.union_find, Percentile: 0.5378787878787878\n",
      "turns3\n",
      "algorithms.by_topic.union_find\n",
      "Topic: algorithms.by_topic.union_find, Percentile: 0.5378787878787878\n",
      "turns5\n",
      "algorithms.by_topic.sliding_window\n",
      "Topic: algorithms.by_topic.sliding_window, Percentile: 0.3143939393939394\n",
      "turns8\n",
      "algorithms.by_topic.sliding_window\n",
      "Topic: algorithms.by_topic.sliding_window, Percentile: 0.3143939393939394\n",
      "turns2\n",
      "algorithms.by_topic.sliding_window\n",
      "Topic: algorithms.by_topic.sliding_window, Percentile: 0.3143939393939394\n",
      "turns1\n",
      "algorithms.by_topic.path_finding\n",
      "Topic: algorithms.by_topic.path_finding, Percentile: 0.7462121212121212\n",
      "turns2\n",
      "algorithms.by_topic.path_finding\n",
      "Topic: algorithms.by_topic.path_finding, Percentile: 0.7462121212121212\n",
      "turns5\n",
      "algorithms.by_topic.path_finding\n",
      "Topic: algorithms.by_topic.path_finding, Percentile: 0.7462121212121212\n",
      "turns5\n",
      "algorithms.by_topic.two_pointers\n",
      "Topic: algorithms.by_topic.two_pointers, Percentile: 0.14015151515151514\n",
      "turns2\n",
      "algorithms.by_topic.two_pointers\n",
      "Topic: algorithms.by_topic.two_pointers, Percentile: 0.14015151515151514\n",
      "turns1\n",
      "algorithms.by_topic.two_pointers\n",
      "Topic: algorithms.by_topic.two_pointers, Percentile: 0.14015151515151514\n",
      "turns1\n",
      "algorithms.by_topic.sampling\n",
      "Topic: algorithms.by_topic.sampling, Percentile: 0.5378787878787878\n",
      "turns1\n",
      "algorithms.by_topic.sampling\n",
      "Topic: algorithms.by_topic.sampling, Percentile: 0.5378787878787878\n",
      "turns7\n",
      "algorithms.by_topic.sampling\n",
      "Topic: algorithms.by_topic.sampling, Percentile: 0.5378787878787878\n",
      "turns2\n",
      "python_language_and_scripting.basic_python_syntax\n",
      "Topic: python_language_and_scripting.basic_python_syntax, Percentile: 0.007575757575757576\n",
      "turns3\n",
      "python_language_and_scripting.basic_python_syntax\n",
      "Topic: python_language_and_scripting.basic_python_syntax, Percentile: 0.007575757575757576\n",
      "turns1\n",
      "python_language_and_scripting.basic_python_syntax\n",
      "Topic: python_language_and_scripting.basic_python_syntax, Percentile: 0.007575757575757576\n",
      "turns2\n",
      "python_language_and_scripting.functions_and_modules\n",
      "Topic: python_language_and_scripting.functions_and_modules, Percentile: 0.03787878787878788\n",
      "turns1\n",
      "python_language_and_scripting.functions_and_modules\n",
      "Topic: python_language_and_scripting.functions_and_modules, Percentile: 0.03787878787878788\n",
      "turns1\n",
      "python_language_and_scripting.functions_and_modules\n",
      "Topic: python_language_and_scripting.functions_and_modules, Percentile: 0.03787878787878788\n",
      "turns1\n",
      "python_language_and_scripting.file_handling\n",
      "Topic: python_language_and_scripting.file_handling, Percentile: 0.14015151515151514\n",
      "turns5\n"
     ]
    }
   ],
   "source": [
    "import json\n",
    "import nbformat\n",
    "import os\n",
    "import re\n",
    "import numpy as np\n",
    "from nbformat.v4 import new_notebook, new_markdown_cell\n",
    "from scipy.stats import rankdata\n",
    "\n",
    "def flatten_complexity_scores(data, key_prefix='', scores_dict=None):\n",
    "    if scores_dict is None:\n",
    "        scores_dict = {}\n",
    "    for key, value in data.items():\n",
    "        if isinstance(value, dict):\n",
    "            if 'complexity' in value:\n",
    "                scores_dict[f'{key_prefix}.{key}'.strip('.')] = value['complexity']\n",
    "            else:\n",
    "                new_prefix = f'{key_prefix}.{key}'.strip('.')\n",
    "                flatten_complexity_scores(value, new_prefix, scores_dict)\n",
    "        elif isinstance(value, int):\n",
    "            scores_dict[key_prefix] = value\n",
    "    return scores_dict\n",
    "\n",
    "with open('./topic_dist.json') as f:\n",
    "    complexity_data = json.load(f)\n",
    "\n",
    "# Flatten the complexity data into a dictionary\n",
    "complexity_scores = flatten_complexity_scores(complexity_data)\n",
    "\n",
    "# Sort the complexity scores in descending order\n",
    "sorted_by_complexity = dict(sorted(complexity_scores.items(), key=lambda item: item[1], reverse=True))\n",
    "\n",
    "# Calculate the percentiles based on the sorted complexity scores\n",
    "# Higher complexity will have higher rank and thus higher percentile\n",
    "complexity_ranks = rankdata(list(sorted_by_complexity.values()), method='average')\n",
    "topic_percentiles = {topic: rank / len(complexity_scores) for topic, rank in zip(sorted_by_complexity.keys(), complexity_ranks)}\n",
    "\n",
    "def get_turn_range(turns):\n",
    "    \"\"\"\n",
    "    Converts a target turn number into a soft target range.\n",
    "\n",
    "    Parameters:\n",
    "    - turns (int): Target turn number.\n",
    "\n",
    "    Returns:\n",
    "    - A tuple representing the soft target range (min_turns, max_turns).\n",
    "    \"\"\"\n",
    "    min_turns = max(1, turns - 1)\n",
    "    max_turns = min(15, turns + 3)\n",
    "    return min_turns, max_turns\n",
    "\n",
    "def biased_normal_distribution(input_number):\n",
    "    \"\"\"\n",
    "    Samples a number from a normal distribution that is biased towards the lower end,\n",
    "    with a specified range and standard deviation.\n",
    "\n",
    "    Parameters:\n",
    "    - input_number (int or float): A number, typically representing a percentile, between 0 and 100 that\n",
    "      influences the mean of the normal distribution.\n",
    "\n",
    "    Returns:\n",
    "    - int: A sample from the biased normal distribution, truncated to the nearest integer.\n",
    "    \"\"\"\n",
    "    # Constants for the distribution\n",
    "    min_val, max_val = 1, 15\n",
    "    std_dev = 2.5  # Fixed standard deviation\n",
    "\n",
    "    # Base mean for input_number 50 (biased towards lower end)\n",
    "    base_mean = 1\n",
    "\n",
    "    # Adjust the mean based on the input number (linear mapping)\n",
    "    mean = np.interp(input_number, [0, 100], [min_val, max_val])\n",
    "    \n",
    "    # Adjust mean for the bias towards lower numbers\n",
    "    adjusted_mean = (mean + 3*base_mean) / 5\n",
    "\n",
    "    # Sample from a normal distribution\n",
    "    while True:\n",
    "        sample = np.random.normal(adjusted_mean, std_dev)\n",
    "        if min_val <= sample <= max_val:\n",
    "            break\n",
    "\n",
    "    return int(sample)\n",
    "\n",
    "for p, t in zip(problems, problem_titles):\n",
    "\n",
    "    metadata_topic_hierarchy = p[\"metadata\"].get(\"topic\") \n",
    "    normalized_topic = metadata_topic_hierarchy.replace(\" > \", \".\")\n",
    "    print(normalized_topic)\n",
    "\n",
    "    # Retrieve the percentile using the normalized topic string\n",
    "    percentile = topic_percentiles.get(normalized_topic, 0)\n",
    "    print(f\"Topic: {normalized_topic}, Percentile: {percentile}\")\n",
    "\n",
    "    # Calculate turns using the biased_normal_distribution function\n",
    "    turns = biased_normal_distribution(percentile * 100)  # Percentile scaled to 0-100 \n",
    "    print('turns'+str(turns))\n",
    "\n",
    "    min_turns, max_turns = get_turn_range(turns)\n",
    "    print(f'Target Number of Turns: {min_turns}-{max_turns}')\n",
    "    \n",
    "    # Create a new notebook\n",
    "    notebook = new_notebook()\n",
    "    # Add metadata\n",
    "    metadata = f\"\"\"# Metadata\n",
    "\n",
    "**Python Topics** - {p[\"metadata\"][\"topic\"]}\n",
    "\n",
    "**Type** - {p[\"metadata\"][\"type\"]}\n",
    "\n",
    "**Target Number of Turns (User + Assistant)** - {min_turns}-{max_turns}\n",
    "\"\"\"\n",
    "    metadata_cell = new_markdown_cell(metadata)\n",
    "    notebook.cells.append(metadata_cell)\n",
    "\n",
    "    # Add conversation header\n",
    "    conversation_header = \"# Conversation\"\n",
    "    conversation_header_cell = new_markdown_cell(conversation_header)\n",
    "    notebook.cells.append(conversation_header_cell)\n",
    "\n",
    "    # Append conversation messages\n",
    "    user_message = f\"\"\"**User**\n",
    "\n",
    "{p[\"messages\"][0][\"content\"]}\n",
    "\"\"\"\n",
    "    conversation_message_cell = new_markdown_cell(msg_content)\n",
    "    notebook.cells.append(conversation_message_cell)\n",
    "\n",
    "    # Save the notebook\n",
    "    notebook_path = f'notebooks/test/{t}.ipynb'\n",
    "     \n",
    "    try:\n",
    "        os.makedirs(os.path.dirname(notebook_path))\n",
    "    except FileExistsError:\n",
    "        pass\n",
    "     \n",
    "    with open(notebook_path, 'w') as f:\n",
    "        nbformat.write(notebook, f)"
   ]
  },
  {
   "cell_type": "markdown",
   "metadata": {},
   "source": []
  },
  {
   "cell_type": "code",
   "execution_count": 4,
   "metadata": {},
   "outputs": [],
   "source": [
    "import csv\n",
    "\n",
    "def parse_and_flatten_csv(input_csv_filepath, output_csv_filepath):\n",
    "    with open(input_csv_filepath, mode='r', newline='', encoding='utf-8') as infile, \\\n",
    "         open(output_csv_filepath, mode='w', newline='', encoding='utf-8') as outfile:\n",
    "        \n",
    "        reader = csv.reader(infile)\n",
    "        writer = csv.writer(outfile)\n",
    "        \n",
    "        for row in reader:\n",
    "            highlevel_topic = row[0].strip()\n",
    "            subtopics = row[1].split('\\n')\n",
    "            for subtopic in subtopics:\n",
    "                subtopic_cleaned = subtopic.strip()\n",
    "                if subtopic_cleaned:\n",
    "                    writer.writerow([highlevel_topic, subtopic_cleaned])\n",
    "\n",
    "input_csv_filepath = './Copy of Copy of c.ai Turing Feedback - Areas to focus on.csv'  \n",
    "output_csv_filepath = 'flattened.csv'\n",
    "\n",
    "parse_and_flatten_csv(input_csv_filepath, output_csv_filepath)"
   ]
  },
  {
   "cell_type": "code",
   "execution_count": 50,
   "metadata": {},
   "outputs": [],
   "source": [
    "import json\n",
    "import csv\n",
    "\n",
    "\n",
    "def process_sublevels(highlevel_topic, sublevels_dict, writer):\n",
    "    for sublevel, nested in sublevels_dict.items():\n",
    "        combined_sublevel = sublevel \n",
    "        if nested:\n",
    "            for nested_topic in nested.keys():\n",
    "                writer.writerow([highlevel_topic, f'{combined_sublevel}.{nested_topic}'])\n",
    "        else:  \n",
    "            writer.writerow([highlevel_topic, combined_sublevel])\n",
    "\n",
    "\n",
    "with open('./topic_hierarchy.json', 'r') as json_file:\n",
    "    data = json.load(json_file)\n",
    "\n",
    "\n",
    "with open('topics_1.csv', 'w', newline='') as csv_file:\n",
    "    writer = csv.writer(csv_file)\n",
    "\n",
    "    writer.writerow(['highlevel_topic', 'sublevel_topic'])\n",
    "\n",
    "\n",
    "    for highlevel_topic, sublevels in data.items():\n",
    "        if sublevels: \n",
    "            process_sublevels(highlevel_topic, sublevels, writer)\n",
    "        else:  \n",
    "            writer.writerow([highlevel_topic, ''])"
   ]
  },
  {
   "cell_type": "code",
   "execution_count": 5,
   "metadata": {},
   "outputs": [
    {
     "name": "stdout",
     "output_type": "stream",
     "text": [
      "30 rows have been updated.\n"
     ]
    }
   ],
   "source": [
    "from google.oauth2 import service_account\n",
    "from googleapiclient.discovery import build\n",
    "\n",
    "# Path to your service account key file\n",
    "SERVICE_ACCOUNT_FILE = 'creds/google__sa.json'\n",
    "\n",
    "# The scopes required for the Sheets API\n",
    "SCOPES = ['https://www.googleapis.com/auth/spreadsheets']\n",
    "\n",
    "# The ID of your spreadsheet\n",
    "SPREADSHEET_ID = '1bsM3nz13BPPqCxmbLYFz5Ed9KOfV51hNoagBP8dP948'\n",
    "\n",
    "# Authenticate and build the service\n",
    "creds = service_account.Credentials.from_service_account_file(\n",
    "        SERVICE_ACCOUNT_FILE, scopes=SCOPES)\n",
    "service = build('sheets', 'v4', credentials=creds)\n",
    "\n",
    "# Specify the range and values to update\n",
    "range_ = 'Areas status!A:B'  \n",
    "\n",
    "def read_csv(filename):\n",
    "    with open(filename, newline='') as csv_file:\n",
    "        reader = csv.reader(csv_file)\n",
    "        return list(reader)\n",
    "\n",
    "# Call the Sheets API\n",
    "service = build('sheets', 'v4', credentials=creds)\n",
    "sheet = service.spreadsheets()\n",
    "\n",
    "# Load data from the CSV file\n",
    "csv_values = read_csv('./flattened.csv')\n",
    "\n",
    "# Use the Sheets API to write data\n",
    "request = sheet.values().update(spreadsheetId=SPREADSHEET_ID, range=range_,\n",
    "                               valueInputOption='RAW', body={'values': csv_values})\n",
    "response = request.execute()\n",
    "\n",
    "print(f\"{len(csv_values) - 1} rows have been updated.\")"
   ]
  },
  {
   "cell_type": "code",
   "execution_count": null,
   "metadata": {},
   "outputs": [],
   "source": []
  },
  {
   "cell_type": "code",
   "execution_count": 15,
   "metadata": {},
   "outputs": [
    {
     "name": "stdout",
     "output_type": "stream",
     "text": [
      "algorithms_by_data_structure_advanced_data_structures: Complexity 8\n",
      "algorithms_by_topic_dynamic_programming: Complexity 8\n",
      "python_language_and_scripting_python_c_extensions: Complexity 8\n",
      "deep_learning_backpropagation_understanding: Complexity 8\n",
      "algorithms_by_data_structure_graphs: Complexity 7\n",
      "algorithms_by_topic_famous_algorithms: Complexity 7\n",
      "algorithms_by_topic_game_theory: Complexity 7\n",
      "algorithms_by_topic_divide_and_conquer: Complexity 7\n",
      "algorithms_by_topic_backtracking: Complexity 7\n",
      "algorithms_by_topic_combinatorics: Complexity 7\n",
      "python_language_and_scripting_metaclasses_and_class_factories: Complexity 7\n",
      "python_language_and_scripting_memory_management_and_python_internals: Complexity 7\n",
      "python_language_and_scripting_advanced_networking: Complexity 7\n",
      "python_language_and_scripting_cython_and_PyPy: Complexity 7\n",
      "python_language_and_scripting_parallel_programming: Complexity 7\n",
      "unit_testing_methodology_test_ai_and_ml_models: Complexity 7\n",
      "web_development_web_security: Complexity 7\n",
      "ml_principles_neural_networks_implementation: Complexity 7\n",
      "deep_learning_optimization_algorithms: Complexity 7\n",
      "deep_learning_convolutional_neural_networks: Complexity 7\n",
      "deep_learning_recurrent_neural_networks: Complexity 7\n",
      "database_sql_query_optimization: Complexity 7\n",
      "database_database_security_best_practices: Complexity 7\n",
      "algorithms_by_topic_greedy_algorithms: Complexity 6\n",
      "algorithms_by_topic_geometry: Complexity 6\n",
      "algorithms_by_topic_probability: Complexity 6\n",
      "algorithms_by_topic_path_finding: Complexity 6\n",
      "python_language_and_scripting_descriptors: Complexity 6\n",
      "python_language_and_scripting_dynamic_programming_and_closures: Complexity 6\n",
      "python_language_and_scripting_functional_programming_features: Complexity 6\n",
      "unit_testing_methodology_performance_testing: Complexity 6\n",
      "unit_testing_methodology_security_testing: Complexity 6\n",
      "unit_testing_methodology_testing_asynchronous_code: Complexity 6\n",
      "unit_testing_methodology_data_quality_tests: Complexity 6\n",
      "data_analysis_time_series_analysis: Complexity 6\n",
      "ml_principles_cross_validation_application: Complexity 6\n",
      "ml_principles_hyperparameter_tuning: Complexity 6\n",
      "deep_learning_neural_network_concepts: Complexity 6\n",
      "deep_learning_loss_functions: Complexity 6\n",
      "deep_learning_regularization_techniques: Complexity 6\n",
      "deep_learning_transfer_learning: Complexity 6\n",
      "database_relational_database_design: Complexity 6\n",
      "database_transaction_management: Complexity 6\n",
      "database_indexing_and_search_performance: Complexity 6\n",
      "database_data_replication_strategies: Complexity 6\n",
      "algorithms_by_data_structure_trees: Complexity 5\n",
      "algorithms_by_data_structure_heaps: Complexity 5\n",
      "algorithms_by_topic_recursion: Complexity 5\n",
      "algorithms_by_topic_math: Complexity 5\n",
      "algorithms_by_topic_bit_manipulation: Complexity 5\n",
      "algorithms_by_topic_counting: Complexity 5\n",
      "algorithms_by_topic_statistics: Complexity 5\n",
      "algorithms_by_topic_union_find: Complexity 5\n",
      "algorithms_by_topic_sampling: Complexity 5\n",
      "python_language_and_scripting_decorators: Complexity 5\n",
      "python_language_and_scripting_generators_and_iterators: Complexity 5\n",
      "python_language_and_scripting_context_managers: Complexity 5\n",
      "python_language_and_scripting_advanced_exception_handling: Complexity 5\n",
      "python_language_and_scripting_packaging: Complexity 5\n",
      "unit_testing_methodology_test_driven_development: Complexity 5\n",
      "unit_testing_methodology_mocking_and_patching: Complexity 5\n",
      "unit_testing_methodology_best_practices_in_writing_test_cases: Complexity 5\n",
      "unit_testing_methodology_testing_database_interaction: Complexity 5\n",
      "web_development_web_performance: Complexity 5\n",
      "web_development_web_services: Complexity 5\n",
      "web_development_web_development_best_practices: Complexity 5\n",
      "data_analysis_data_visualization: Complexity 5\n",
      "data_analysis_pivot_tables_usage: Complexity 5\n",
      "ml_principles_knn_classification: Complexity 5\n",
      "ml_principles_model_accuracy_assessment: Complexity 5\n",
      "ml_principles_feature_selection_techniques: Complexity 5\n",
      "ml_principles_decision_trees_usage: Complexity 5\n",
      "deep_learning_activation_functions: Complexity 5\n",
      "deep_learning_deep_learning_frameworks: Complexity 5\n",
      "database_no_sql_database_concepts: Complexity 5\n",
      "database_database_normalization: Complexity 5\n",
      "database_database_backup_and_recovery: Complexity 5\n",
      "database_cloud_database_solutions: Complexity 5\n",
      "algorithms_by_data_structure_hash_tables: Complexity 4\n",
      "algorithms_by_data_structure_strings: Complexity 4\n",
      "algorithms_by_topic_sorting: Complexity 4\n",
      "algorithms_by_topic_sliding_window: Complexity 4\n",
      "python_language_and_scripting_object_oriented_programming: Complexity 4\n",
      "python_language_and_scripting_data_handling_manipulation: Complexity 4\n",
      "python_language_and_scripting_pythonic_code: Complexity 4\n",
      "python_language_and_scripting_python_standard_library: Complexity 4\n",
      "python_language_and_scripting_data_serialization_and_marshaling: Complexity 4\n",
      "unit_testing_methodology_integration_testing: Complexity 4\n",
      "unit_testing_methodology_code_coverage: Complexity 4\n",
      "web_development_python_frameworks: Complexity 4\n",
      "web_development_web_servers: Complexity 4\n",
      "web_development_web_design: Complexity 4\n",
      "web_development_web_development_tools: Complexity 4\n",
      "web_development_web_development_interview_questions: Complexity 4\n",
      "data_analysis_data_cleaning: Complexity 4\n",
      "data_analysis_data_grouping_aggregation: Complexity 4\n",
      "data_analysis_data_merging_joining: Complexity 4\n",
      "data_analysis_sql_query_with_pandas: Complexity 4\n",
      "data_analysis_duplicate_data_identification: Complexity 4\n",
      "ml_principles_data_normalization_scaling: Complexity 4\n",
      "ml_principles_linear_regression_implementation: Complexity 4\n",
      "debugging_and_tracing: Complexity 4\n",
      "high_school_math: Complexity 4\n",
      "high_school_physics: Complexity 4\n",
      "algorithms_by_data_structure_linked_lists: Complexity 3\n",
      "algorithms_by_data_structure_stacks: Complexity 3\n",
      "algorithms_by_data_structure_queues: Complexity 3\n",
      "algorithms_by_topic_searching: Complexity 3\n",
      "algorithms_by_topic_two_pointers: Complexity 3\n",
      "python_language_and_scripting_file_handling: Complexity 3\n",
      "python_language_and_scripting_scripting_and_automation: Complexity 3\n",
      "python_language_and_scripting_modules_and_packages: Complexity 3\n",
      "python_language_and_scripting_type_hinting: Complexity 3\n",
      "python_language_and_scripting_virtual_environments: Complexity 3\n",
      "python_language_and_scripting_logging: Complexity 3\n",
      "unit_testing_methodology_testing_frameworks: Complexity 3\n",
      "web_development_web_scraping: Complexity 3\n",
      "web_development_web_crawling: Complexity 3\n",
      "web_development_web_development_trends: Complexity 3\n",
      "data_analysis_json_parsing: Complexity 3\n",
      "ml_principles_train_test_split: Complexity 3\n",
      "high_school_programming: Complexity 3\n",
      "high_school_accounting: Complexity 3\n",
      "high_school_economics: Complexity 3\n",
      "algorithms_by_data_structure_arrays: Complexity 2\n",
      "python_language_and_scripting_functions_and_modules: Complexity 2\n",
      "python_language_and_scripting_python_2_vs_3: Complexity 2\n",
      "unit_testing_methodology_unit_testing_basics: Complexity 2\n",
      "web_development_fundamentals: Complexity 2\n",
      "data_analysis_csv_handling: Complexity 2\n",
      "everyday_use_cases: Complexity 2\n",
      "python_language_and_scripting_basic_python_syntax: Complexity 1\n"
     ]
    }
   ],
   "source": [
    "with open('./topic_dist.json') as f:\n",
    "    data = json.load(f)\n",
    "\n",
    "# Flatten the data structure, creating a list of (category, complexity) tuples\n",
    "def flatten_data(data, parent_key='', sep='_'):\n",
    "    items = []\n",
    "    for k, v in data.items():\n",
    "        new_key = f'{parent_key}{sep}{k}' if parent_key else k\n",
    "        if isinstance(v, dict):\n",
    "            if 'complexity' in v:\n",
    "                items.append((new_key, v['complexity']))\n",
    "            else:\n",
    "                items.extend(flatten_data(v, new_key, sep=sep))\n",
    "    return items\n",
    "\n",
    "# Flatten the provided JSON data\n",
    "flattened_data = flatten_data(data)\n",
    "\n",
    "# Now we sort the flattened data by complexity in descending order\n",
    "sorted_data = sorted(flattened_data, key=lambda x: x[1], reverse=True)\n",
    "\n",
    "for item in sorted_data:\n",
    "    print(f\"{item[0]}: Complexity {item[1]}\")"
   ]
  },
  {
   "cell_type": "code",
   "execution_count": null,
   "metadata": {},
   "outputs": [],
   "source": []
  },
  {
   "cell_type": "code",
   "execution_count": 19,
   "metadata": {},
   "outputs": [],
   "source": [
    "import json\n",
    "\n",
    "with open('notebooks/test/problems.json', 'w') as f:\n",
    "    json.dump(problems, f, indent=4)"
   ]
  },
  {
   "cell_type": "code",
   "execution_count": 20,
   "metadata": {},
   "outputs": [],
   "source": [
    "with open('notebooks/test/problems.json') as f:\n",
    "    problems = json.load(f)"
   ]
  },
  {
   "cell_type": "code",
   "execution_count": 21,
   "metadata": {},
   "outputs": [
    {
     "name": "stdout",
     "output_type": "stream",
     "text": [
      "------------------------------------------------------------\n",
      "Processing directory .: 1 of 0 in total.\n",
      "Uploading file 1 of 41 in '.', 1 of 41 in total.\n",
      "Uploading new file 'arrays__modification__0.ipynb'.\n",
      "File 'arrays__modification__0.ipynb' has been uploaded.\n",
      "Uploaded 'arrays__modification__0.ipynb' to folder ID '1T14cHENpx7j2aS4Yb_3WhnXhMql0zq2y'.\n",
      "arrays__modification__0.ipynb\n",
      "==========================================================================================\n",
      "Uploading file 2 of 41 in '.', 2 of 41 in total.\n",
      "Uploading new file 'arrays__modification__1.ipynb'.\n",
      "File 'arrays__modification__1.ipynb' has been uploaded.\n",
      "Uploaded 'arrays__modification__1.ipynb' to folder ID '1T14cHENpx7j2aS4Yb_3WhnXhMql0zq2y'.\n",
      "arrays__modification__1.ipynb\n",
      "==========================================================================================\n",
      "Uploading file 3 of 41 in '.', 3 of 41 in total.\n",
      "Uploading new file 'arrays__modification__2.ipynb'.\n",
      "File 'arrays__modification__2.ipynb' has been uploaded.\n",
      "Uploaded 'arrays__modification__2.ipynb' to folder ID '1T14cHENpx7j2aS4Yb_3WhnXhMql0zq2y'.\n",
      "arrays__modification__2.ipynb\n",
      "==========================================================================================\n",
      "Uploading file 4 of 41 in '.', 4 of 41 in total.\n",
      "Replacing existing file 'arrays__query__0.ipynb' with the new version.\n",
      "File 'arrays__query__0.ipynb' has been replaced.\n",
      "Uploaded 'arrays__query__0.ipynb' to folder ID '1T14cHENpx7j2aS4Yb_3WhnXhMql0zq2y'.\n",
      "arrays__query__0.ipynb\n",
      "==========================================================================================\n",
      "Uploading file 5 of 41 in '.', 5 of 41 in total.\n",
      "Replacing existing file 'arrays__query__1.ipynb' with the new version.\n",
      "File 'arrays__query__1.ipynb' has been replaced.\n",
      "Uploaded 'arrays__query__1.ipynb' to folder ID '1T14cHENpx7j2aS4Yb_3WhnXhMql0zq2y'.\n",
      "arrays__query__1.ipynb\n",
      "==========================================================================================\n",
      "Uploading file 6 of 41 in '.', 6 of 41 in total.\n",
      "Replacing existing file 'arrays__query__2.ipynb' with the new version.\n",
      "File 'arrays__query__2.ipynb' has been replaced.\n",
      "Uploaded 'arrays__query__2.ipynb' to folder ID '1T14cHENpx7j2aS4Yb_3WhnXhMql0zq2y'.\n",
      "arrays__query__2.ipynb\n",
      "==========================================================================================\n",
      "Uploading file 7 of 41 in '.', 7 of 41 in total.\n",
      "Replacing existing file 'arrays__query__3.ipynb' with the new version.\n",
      "File 'arrays__query__3.ipynb' has been replaced.\n",
      "Uploaded 'arrays__query__3.ipynb' to folder ID '1T14cHENpx7j2aS4Yb_3WhnXhMql0zq2y'.\n",
      "arrays__query__3.ipynb\n",
      "==========================================================================================\n",
      "Uploading file 8 of 41 in '.', 8 of 41 in total.\n",
      "Replacing existing file 'arrays__query__4.ipynb' with the new version.\n",
      "File 'arrays__query__4.ipynb' has been replaced.\n",
      "Uploaded 'arrays__query__4.ipynb' to folder ID '1T14cHENpx7j2aS4Yb_3WhnXhMql0zq2y'.\n",
      "arrays__query__4.ipynb\n",
      "==========================================================================================\n",
      "Uploading file 9 of 41 in '.', 9 of 41 in total.\n",
      "Uploading new file 'graphs__modification__0.ipynb'.\n",
      "File 'graphs__modification__0.ipynb' has been uploaded.\n",
      "Uploaded 'graphs__modification__0.ipynb' to folder ID '1T14cHENpx7j2aS4Yb_3WhnXhMql0zq2y'.\n",
      "graphs__modification__0.ipynb\n",
      "==========================================================================================\n",
      "Uploading file 10 of 41 in '.', 10 of 41 in total.\n",
      "Uploading new file 'graphs__modification__1.ipynb'.\n",
      "File 'graphs__modification__1.ipynb' has been uploaded.\n",
      "Uploaded 'graphs__modification__1.ipynb' to folder ID '1T14cHENpx7j2aS4Yb_3WhnXhMql0zq2y'.\n",
      "graphs__modification__1.ipynb\n",
      "==========================================================================================\n",
      "Uploading file 11 of 41 in '.', 11 of 41 in total.\n",
      "Uploading new file 'graphs__modification__2.ipynb'.\n",
      "File 'graphs__modification__2.ipynb' has been uploaded.\n",
      "Uploaded 'graphs__modification__2.ipynb' to folder ID '1T14cHENpx7j2aS4Yb_3WhnXhMql0zq2y'.\n",
      "graphs__modification__2.ipynb\n",
      "==========================================================================================\n",
      "Uploading file 12 of 41 in '.', 12 of 41 in total.\n",
      "Uploading new file 'hash_tables__modification__0.ipynb'.\n",
      "File 'hash_tables__modification__0.ipynb' has been uploaded.\n",
      "Uploaded 'hash_tables__modification__0.ipynb' to folder ID '1T14cHENpx7j2aS4Yb_3WhnXhMql0zq2y'.\n",
      "hash_tables__modification__0.ipynb\n",
      "==========================================================================================\n",
      "Uploading file 13 of 41 in '.', 13 of 41 in total.\n",
      "Uploading new file 'hash_tables__modification__1.ipynb'.\n",
      "File 'hash_tables__modification__1.ipynb' has been uploaded.\n",
      "Uploaded 'hash_tables__modification__1.ipynb' to folder ID '1T14cHENpx7j2aS4Yb_3WhnXhMql0zq2y'.\n",
      "hash_tables__modification__1.ipynb\n",
      "==========================================================================================\n",
      "Uploading file 14 of 41 in '.', 14 of 41 in total.\n",
      "Uploading new file 'linked_lists__modification__0.ipynb'.\n",
      "File 'linked_lists__modification__0.ipynb' has been uploaded.\n",
      "Uploaded 'linked_lists__modification__0.ipynb' to folder ID '1T14cHENpx7j2aS4Yb_3WhnXhMql0zq2y'.\n",
      "linked_lists__modification__0.ipynb\n",
      "==========================================================================================\n",
      "Uploading file 15 of 41 in '.', 15 of 41 in total.\n",
      "Uploading new file 'linked_lists__modification__1.ipynb'.\n",
      "File 'linked_lists__modification__1.ipynb' has been uploaded.\n",
      "Uploaded 'linked_lists__modification__1.ipynb' to folder ID '1T14cHENpx7j2aS4Yb_3WhnXhMql0zq2y'.\n",
      "linked_lists__modification__1.ipynb\n",
      "==========================================================================================\n",
      "Uploading file 16 of 41 in '.', 16 of 41 in total.\n",
      "Uploading new file 'linked_lists__modification__2.ipynb'.\n",
      "File 'linked_lists__modification__2.ipynb' has been uploaded.\n",
      "Uploaded 'linked_lists__modification__2.ipynb' to folder ID '1T14cHENpx7j2aS4Yb_3WhnXhMql0zq2y'.\n",
      "linked_lists__modification__2.ipynb\n",
      "==========================================================================================\n",
      "Uploading file 17 of 41 in '.', 17 of 41 in total.\n",
      "Replacing existing file 'linked_lists__query__0.ipynb' with the new version.\n",
      "File 'linked_lists__query__0.ipynb' has been replaced.\n",
      "Uploaded 'linked_lists__query__0.ipynb' to folder ID '1T14cHENpx7j2aS4Yb_3WhnXhMql0zq2y'.\n",
      "linked_lists__query__0.ipynb\n",
      "==========================================================================================\n",
      "Uploading file 18 of 41 in '.', 18 of 41 in total.\n",
      "Replacing existing file 'linked_lists__query__1.ipynb' with the new version.\n",
      "File 'linked_lists__query__1.ipynb' has been replaced.\n",
      "Uploaded 'linked_lists__query__1.ipynb' to folder ID '1T14cHENpx7j2aS4Yb_3WhnXhMql0zq2y'.\n",
      "linked_lists__query__1.ipynb\n",
      "==========================================================================================\n",
      "Uploading file 19 of 41 in '.', 19 of 41 in total.\n",
      "Replacing existing file 'linked_lists__query__2.ipynb' with the new version.\n",
      "File 'linked_lists__query__2.ipynb' has been replaced.\n",
      "Uploaded 'linked_lists__query__2.ipynb' to folder ID '1T14cHENpx7j2aS4Yb_3WhnXhMql0zq2y'.\n",
      "linked_lists__query__2.ipynb\n",
      "==========================================================================================\n",
      "Uploading file 20 of 41 in '.', 20 of 41 in total.\n",
      "Replacing existing file 'linked_lists__query__3.ipynb' with the new version.\n",
      "File 'linked_lists__query__3.ipynb' has been replaced.\n",
      "Uploaded 'linked_lists__query__3.ipynb' to folder ID '1T14cHENpx7j2aS4Yb_3WhnXhMql0zq2y'.\n",
      "linked_lists__query__3.ipynb\n",
      "==========================================================================================\n",
      "Uploading file 21 of 41 in '.', 21 of 41 in total.\n",
      "Replacing existing file 'linked_lists__query__4.ipynb' with the new version.\n",
      "File 'linked_lists__query__4.ipynb' has been replaced.\n",
      "Uploaded 'linked_lists__query__4.ipynb' to folder ID '1T14cHENpx7j2aS4Yb_3WhnXhMql0zq2y'.\n",
      "linked_lists__query__4.ipynb\n",
      "==========================================================================================\n",
      "Uploading file 22 of 41 in '.', 22 of 41 in total.\n",
      "Replacing existing file 'problems.json' with the new version.\n",
      "File 'problems.json' has been replaced.\n",
      "Uploaded 'problems.json' to folder ID '1T14cHENpx7j2aS4Yb_3WhnXhMql0zq2y'.\n",
      "problems.json\n",
      "==========================================================================================\n",
      "Uploading file 23 of 41 in '.', 23 of 41 in total.\n",
      "Uploading new file 'queues__modification__0.ipynb'.\n",
      "File 'queues__modification__0.ipynb' has been uploaded.\n",
      "Uploaded 'queues__modification__0.ipynb' to folder ID '1T14cHENpx7j2aS4Yb_3WhnXhMql0zq2y'.\n",
      "queues__modification__0.ipynb\n",
      "==========================================================================================\n",
      "Uploading file 24 of 41 in '.', 24 of 41 in total.\n",
      "Uploading new file 'queues__modification__1.ipynb'.\n",
      "File 'queues__modification__1.ipynb' has been uploaded.\n",
      "Uploaded 'queues__modification__1.ipynb' to folder ID '1T14cHENpx7j2aS4Yb_3WhnXhMql0zq2y'.\n",
      "queues__modification__1.ipynb\n",
      "==========================================================================================\n",
      "Uploading file 25 of 41 in '.', 25 of 41 in total.\n",
      "Uploading new file 'queues__modification__2.ipynb'.\n",
      "File 'queues__modification__2.ipynb' has been uploaded.\n",
      "Uploaded 'queues__modification__2.ipynb' to folder ID '1T14cHENpx7j2aS4Yb_3WhnXhMql0zq2y'.\n",
      "queues__modification__2.ipynb\n",
      "==========================================================================================\n",
      "Uploading file 26 of 41 in '.', 26 of 41 in total.\n",
      "Replacing existing file 'queues__query__0.ipynb' with the new version.\n",
      "File 'queues__query__0.ipynb' has been replaced.\n",
      "Uploaded 'queues__query__0.ipynb' to folder ID '1T14cHENpx7j2aS4Yb_3WhnXhMql0zq2y'.\n",
      "queues__query__0.ipynb\n",
      "==========================================================================================\n",
      "Uploading file 27 of 41 in '.', 27 of 41 in total.\n",
      "Replacing existing file 'queues__query__1.ipynb' with the new version.\n",
      "File 'queues__query__1.ipynb' has been replaced.\n",
      "Uploaded 'queues__query__1.ipynb' to folder ID '1T14cHENpx7j2aS4Yb_3WhnXhMql0zq2y'.\n",
      "queues__query__1.ipynb\n",
      "==========================================================================================\n",
      "Uploading file 28 of 41 in '.', 28 of 41 in total.\n",
      "Replacing existing file 'queues__query__2.ipynb' with the new version.\n",
      "File 'queues__query__2.ipynb' has been replaced.\n",
      "Uploaded 'queues__query__2.ipynb' to folder ID '1T14cHENpx7j2aS4Yb_3WhnXhMql0zq2y'.\n",
      "queues__query__2.ipynb\n",
      "==========================================================================================\n",
      "Uploading file 29 of 41 in '.', 29 of 41 in total.\n",
      "Replacing existing file 'queues__query__3.ipynb' with the new version.\n",
      "File 'queues__query__3.ipynb' has been replaced.\n",
      "Uploaded 'queues__query__3.ipynb' to folder ID '1T14cHENpx7j2aS4Yb_3WhnXhMql0zq2y'.\n",
      "queues__query__3.ipynb\n",
      "==========================================================================================\n",
      "Uploading file 30 of 41 in '.', 30 of 41 in total.\n",
      "Replacing existing file 'queues__query__4.ipynb' with the new version.\n",
      "File 'queues__query__4.ipynb' has been replaced.\n",
      "Uploaded 'queues__query__4.ipynb' to folder ID '1T14cHENpx7j2aS4Yb_3WhnXhMql0zq2y'.\n",
      "queues__query__4.ipynb\n",
      "==========================================================================================\n",
      "Uploading file 31 of 41 in '.', 31 of 41 in total.\n",
      "Uploading new file 'stacks__modification__0.ipynb'.\n",
      "File 'stacks__modification__0.ipynb' has been uploaded.\n",
      "Uploaded 'stacks__modification__0.ipynb' to folder ID '1T14cHENpx7j2aS4Yb_3WhnXhMql0zq2y'.\n",
      "stacks__modification__0.ipynb\n",
      "==========================================================================================\n",
      "Uploading file 32 of 41 in '.', 32 of 41 in total.\n",
      "Uploading new file 'stacks__modification__1.ipynb'.\n",
      "File 'stacks__modification__1.ipynb' has been uploaded.\n",
      "Uploaded 'stacks__modification__1.ipynb' to folder ID '1T14cHENpx7j2aS4Yb_3WhnXhMql0zq2y'.\n",
      "stacks__modification__1.ipynb\n",
      "==========================================================================================\n",
      "Uploading file 33 of 41 in '.', 33 of 41 in total.\n",
      "Uploading new file 'stacks__modification__2.ipynb'.\n",
      "File 'stacks__modification__2.ipynb' has been uploaded.\n",
      "Uploaded 'stacks__modification__2.ipynb' to folder ID '1T14cHENpx7j2aS4Yb_3WhnXhMql0zq2y'.\n",
      "stacks__modification__2.ipynb\n",
      "==========================================================================================\n",
      "Uploading file 34 of 41 in '.', 34 of 41 in total.\n",
      "Replacing existing file 'stacks__query__0.ipynb' with the new version.\n",
      "File 'stacks__query__0.ipynb' has been replaced.\n",
      "Uploaded 'stacks__query__0.ipynb' to folder ID '1T14cHENpx7j2aS4Yb_3WhnXhMql0zq2y'.\n",
      "stacks__query__0.ipynb\n",
      "==========================================================================================\n",
      "Uploading file 35 of 41 in '.', 35 of 41 in total.\n",
      "Replacing existing file 'stacks__query__1.ipynb' with the new version.\n",
      "File 'stacks__query__1.ipynb' has been replaced.\n",
      "Uploaded 'stacks__query__1.ipynb' to folder ID '1T14cHENpx7j2aS4Yb_3WhnXhMql0zq2y'.\n",
      "stacks__query__1.ipynb\n",
      "==========================================================================================\n",
      "Uploading file 36 of 41 in '.', 36 of 41 in total.\n",
      "Replacing existing file 'stacks__query__2.ipynb' with the new version.\n",
      "File 'stacks__query__2.ipynb' has been replaced.\n",
      "Uploaded 'stacks__query__2.ipynb' to folder ID '1T14cHENpx7j2aS4Yb_3WhnXhMql0zq2y'.\n",
      "stacks__query__2.ipynb\n",
      "==========================================================================================\n",
      "Uploading file 37 of 41 in '.', 37 of 41 in total.\n",
      "Replacing existing file 'stacks__query__3.ipynb' with the new version.\n",
      "File 'stacks__query__3.ipynb' has been replaced.\n",
      "Uploaded 'stacks__query__3.ipynb' to folder ID '1T14cHENpx7j2aS4Yb_3WhnXhMql0zq2y'.\n",
      "stacks__query__3.ipynb\n",
      "==========================================================================================\n",
      "Uploading file 38 of 41 in '.', 38 of 41 in total.\n",
      "Replacing existing file 'stacks__query__4.ipynb' with the new version.\n",
      "File 'stacks__query__4.ipynb' has been replaced.\n",
      "Uploaded 'stacks__query__4.ipynb' to folder ID '1T14cHENpx7j2aS4Yb_3WhnXhMql0zq2y'.\n",
      "stacks__query__4.ipynb\n",
      "==========================================================================================\n",
      "Uploading file 39 of 41 in '.', 39 of 41 in total.\n",
      "Uploading new file 'trees__modification__0.ipynb'.\n",
      "File 'trees__modification__0.ipynb' has been uploaded.\n",
      "Uploaded 'trees__modification__0.ipynb' to folder ID '1T14cHENpx7j2aS4Yb_3WhnXhMql0zq2y'.\n",
      "trees__modification__0.ipynb\n",
      "==========================================================================================\n",
      "Uploading file 40 of 41 in '.', 40 of 41 in total.\n",
      "Uploading new file 'trees__modification__1.ipynb'.\n",
      "File 'trees__modification__1.ipynb' has been uploaded.\n",
      "Uploaded 'trees__modification__1.ipynb' to folder ID '1T14cHENpx7j2aS4Yb_3WhnXhMql0zq2y'.\n",
      "trees__modification__1.ipynb\n",
      "==========================================================================================\n",
      "Uploading file 41 of 41 in '.', 41 of 41 in total.\n",
      "Uploading new file 'trees__modification__2.ipynb'.\n",
      "File 'trees__modification__2.ipynb' has been uploaded.\n",
      "Uploaded 'trees__modification__2.ipynb' to folder ID '1T14cHENpx7j2aS4Yb_3WhnXhMql0zq2y'.\n",
      "trees__modification__2.ipynb\n",
      "==========================================================================================\n",
      "============================================================\n",
      "Successfully uploaded 41 files out of 41.\n",
      "Skipped 0 files.\n",
      "Successfully processed 0 directories.\n",
      "============================================================\n"
     ]
    },
    {
     "name": "stderr",
     "output_type": "stream",
     "text": [
      "100%|██████████| 41/41 [00:00<?, ?it/s]\n"
     ]
    }
   ],
   "source": [
    "from tqdm import tqdm\n",
    "from src.gdrive_api.folder_upload import upload_folder\n",
    "from src.gdrive_api.auth import build_service\n",
    "\n",
    "service = build_service('creds/google__sa.json')\n",
    "# destination_folder_url = \"https://drive.google.com/drive/u/0/folders/1Z1bdYMe2Qmo_vs-OaKDaYIiV3rIqLJH9\"\n",
    "# destination_folder_url = \"https://drive.google.com/drive/u/2/folders/1sfPFHkXYpKyY41V0pfz3Qw3k4VLy5Hvb\"\n",
    "destination_folder_url = 'https://drive.google.com/drive/folders/1T14cHENpx7j2aS4Yb_3WhnXhMql0zq2y'\n",
    "\n",
    "uploaded_files = upload_folder(service, 'notebooks/test', destination_folder_url, force_replace = True, is_url=True)\n",
    "\n",
    "file_path_to_url = {}\n",
    "with tqdm(total=len(uploaded_files)) as pbar:\n",
    "    for file_path, file_url in uploaded_files.items():\n",
    "        if file_url is not None:\n",
    "            drive_id = file_url.split(\"id=\")[-1].split(\"&\")[0].strip()\n",
    "            colab_url = f\"https://colab.research.google.com/drive/{drive_id}\"\n",
    "            file_path_to_url[file_path] = colab_url\n",
    "        else:\n",
    "            print(f\"Skipped uploading {file_path}\")\n",
    "        pbar.update(1)\n",
    "\n",
    "for file_path in file_path_to_url.keys():\n",
    "    if file_path == \"problems.json\":\n",
    "        continue\n",
    "    problem = file_path_to_problem[file_path]\n",
    "    problem[\"metadata\"][\"colab_url\"] = file_path_to_url[file_path]\n",
    "    problem[\"metadata\"][\"file_path\"] = file_path\n",
    "    problem[\"metadata\"][\"batch_idx\"] = \"test\""
   ]
  },
  {
   "cell_type": "code",
   "execution_count": 22,
   "metadata": {},
   "outputs": [],
   "source": [
    "problems = list(file_path_to_problem.values())\n",
    "\n",
    "with open('notebooks/test/problems.json', 'w') as f:\n",
    "    json.dump(problems, f, indent=4)"
   ]
  },
  {
   "cell_type": "code",
   "execution_count": 23,
   "metadata": {},
   "outputs": [],
   "source": [
    "# from google.oauth2 import service_account\n",
    "# from googleapiclient.discovery import build\n",
    "\n",
    "# # Path to your service account key file\n",
    "# SERVICE_ACCOUNT_FILE = 'creds/google__sa.json'\n",
    "\n",
    "# # The scopes required for the Sheets API\n",
    "# SCOPES = ['https://www.googleapis.com/auth/spreadsheets']\n",
    "\n",
    "# # The ID of your spreadsheet\n",
    "# SPREADSHEET_ID = '1qBU7Kvuuij2fxbqPxebReKMxWgIBmOIE5Gi4ZuX0j_4'\n",
    "\n",
    "\n",
    "# # Authenticate and build the service\n",
    "# creds = service_account.Credentials.from_service_account_file(\n",
    "#         SERVICE_ACCOUNT_FILE, scopes=SCOPES)\n",
    "# service = build('sheets', 'v4', credentials=creds)\n",
    "\n",
    "# # Specify the range and values to update\n",
    "# range_ = 'Conversations_Batch_3!A2:E610'  # For example, this updates cells from A1 to D5 in Sheet1\n",
    "# values = []\n",
    "\n",
    "# for problem in problems:\n",
    "#     values.append([\n",
    "#         problem[\"metadata\"][\"colab_url\"],\n",
    "#         problem[\"metadata\"][\"topic\"],\n",
    "#         problem[\"metadata\"][\"target_length\"],\n",
    "#         problem[\"metadata\"][\"type\"],\n",
    "#         problem[\"metadata\"][\"batch_idx\"],\n",
    "#     ])\n",
    "\n",
    "\n",
    "# body = {\n",
    "#     'values': values\n",
    "# }\n",
    "\n",
    "# # Call the Sheets API to update the range\n",
    "# request = service.spreadsheets().values().update(spreadsheetId=SPREADSHEET_ID, range=range_, valueInputOption='RAW', body=body)\n",
    "# response = request.execute()"
   ]
  },
  {
   "cell_type": "code",
   "execution_count": null,
   "metadata": {},
   "outputs": [],
   "source": [
    "# python related questions, add - student related types"
   ]
  },
  {
   "cell_type": "markdown",
   "metadata": {},
   "source": [
    "#### create occupation with experience levels"
   ]
  },
  {
   "cell_type": "code",
   "execution_count": 9,
   "metadata": {},
   "outputs": [],
   "source": []
  },
  {
   "cell_type": "code",
   "execution_count": 55,
   "metadata": {},
   "outputs": [
    {
     "name": "stdout",
     "output_type": "stream",
     "text": [
      "Total number of occupation with experience levels: 200\n",
      "['Python Developer > First Timer', 'Python Developer > Beginner', 'Python Developer > Intermediate', 'Python Developer > Advanced', 'Python Developer > Expert', 'Web Developer > First Timer', 'Web Developer > Beginner', 'Web Developer > Intermediate', 'Web Developer > Advanced', 'Web Developer > Expert', 'Data Scientist > First Timer', 'Data Scientist > Beginner', 'Data Scientist > Intermediate', 'Data Scientist > Advanced', 'Data Scientist > Expert', 'Mobile App Developer > First Timer', 'Mobile App Developer > Beginner', 'Mobile App Developer > Intermediate', 'Mobile App Developer > Advanced', 'Mobile App Developer > Expert', 'Python DevOps Engineer > First Timer', 'Python DevOps Engineer > Beginner', 'Python DevOps Engineer > Intermediate', 'Python DevOps Engineer > Advanced', 'Python DevOps Engineer > Expert', 'Front-End Developer > First Timer', 'Front-End Developer > Beginner', 'Front-End Developer > Intermediate', 'Front-End Developer > Advanced', 'Front-End Developer > Expert', 'Backend Developer > First Timer', 'Backend Developer > Beginner', 'Backend Developer > Intermediate', 'Backend Developer > Advanced', 'Backend Developer > Expert', 'Full-Stack Developer > First Timer', 'Full-Stack Developer > Beginner', 'Full-Stack Developer > Intermediate', 'Full-Stack Developer > Advanced', 'Full-Stack Developer > Expert', 'Machine Learning Engineer > First Timer', 'Machine Learning Engineer > Beginner', 'Machine Learning Engineer > Intermediate', 'Machine Learning Engineer > Advanced', 'Machine Learning Engineer > Expert', 'Cybersecurity Analyst > First Timer', 'Cybersecurity Analyst > Beginner', 'Cybersecurity Analyst > Intermediate', 'Cybersecurity Analyst > Advanced', 'Cybersecurity Analyst > Expert', 'Artificial Intelligence Engineer > First Timer', 'Artificial Intelligence Engineer > Beginner', 'Artificial Intelligence Engineer > Intermediate', 'Artificial Intelligence Engineer > Advanced', 'Artificial Intelligence Engineer > Expert', 'Cloud Engineer (Python-Focused) > First Timer', 'Cloud Engineer (Python-Focused) > Beginner', 'Cloud Engineer (Python-Focused) > Intermediate', 'Cloud Engineer (Python-Focused) > Advanced', 'Cloud Engineer (Python-Focused) > Expert', 'Data Engineer > First Timer', 'Data Engineer > Beginner', 'Data Engineer > Intermediate', 'Data Engineer > Advanced', 'Data Engineer > Expert', 'Site Reliability Engineer (SRE) with Python > First Timer', 'Site Reliability Engineer (SRE) with Python > Beginner', 'Site Reliability Engineer (SRE) with Python > Intermediate', 'Site Reliability Engineer (SRE) with Python > Advanced', 'Site Reliability Engineer (SRE) with Python > Expert', 'Cybersecurity Analyst using Python > First Timer', 'Cybersecurity Analyst using Python > Beginner', 'Cybersecurity Analyst using Python > Intermediate', 'Cybersecurity Analyst using Python > Advanced', 'Cybersecurity Analyst using Python > Expert', 'Data Visualization Developer > First Timer', 'Data Visualization Developer > Beginner', 'Data Visualization Developer > Intermediate', 'Data Visualization Developer > Advanced', 'Data Visualization Developer > Expert', 'Robotics Engineer with Python Expertise > First Timer', 'Robotics Engineer with Python Expertise > Beginner', 'Robotics Engineer with Python Expertise > Intermediate', 'Robotics Engineer with Python Expertise > Advanced', 'Robotics Engineer with Python Expertise > Expert', 'Python Content Creator (Technical Writing/Tutorials) > First Timer', 'Python Content Creator (Technical Writing/Tutorials) > Beginner', 'Python Content Creator (Technical Writing/Tutorials) > Intermediate', 'Python Content Creator (Technical Writing/Tutorials) > Advanced', 'Python Content Creator (Technical Writing/Tutorials) > Expert', 'Data Analytics Consultant > First Timer', 'Data Analytics Consultant > Beginner', 'Data Analytics Consultant > Intermediate', 'Data Analytics Consultant > Advanced', 'Data Analytics Consultant > Expert', 'Natural Language Processing Engineer > First Timer', 'Natural Language Processing Engineer > Beginner', 'Natural Language Processing Engineer > Intermediate', 'Natural Language Processing Engineer > Advanced', 'Natural Language Processing Engineer > Expert', 'Business Analyst > First Timer', 'Business Analyst > Beginner', 'Business Analyst > Intermediate', 'Business Analyst > Advanced', 'Business Analyst > Expert', 'Marketing Manager > First Timer', 'Marketing Manager > Beginner', 'Marketing Manager > Intermediate', 'Marketing Manager > Advanced', 'Marketing Manager > Expert', 'Financial Analyst > First Timer', 'Financial Analyst > Beginner', 'Financial Analyst > Intermediate', 'Financial Analyst > Advanced', 'Financial Analyst > Expert', 'Project Manager > First Timer', 'Project Manager > Beginner', 'Project Manager > Intermediate', 'Project Manager > Advanced', 'Project Manager > Expert', 'Product Manager > First Timer', 'Product Manager > Beginner', 'Product Manager > Intermediate', 'Product Manager > Advanced', 'Product Manager > Expert', 'Operations Manager > First Timer', 'Operations Manager > Beginner', 'Operations Manager > Intermediate', 'Operations Manager > Advanced', 'Operations Manager > Expert', 'Healthcare Administrator > First Timer', 'Healthcare Administrator > Beginner', 'Healthcare Administrator > Intermediate', 'Healthcare Administrator > Advanced', 'Healthcare Administrator > Expert', 'Academic Researcher > First Timer', 'Academic Researcher > Beginner', 'Academic Researcher > Intermediate', 'Academic Researcher > Advanced', 'Academic Researcher > Expert', 'Supply Chain Manager > First Timer', 'Supply Chain Manager > Beginner', 'Supply Chain Manager > Intermediate', 'Supply Chain Manager > Advanced', 'Supply Chain Manager > Expert', 'Digital Content Strategist > First Timer', 'Digital Content Strategist > Beginner', 'Digital Content Strategist > Intermediate', 'Digital Content Strategist > Advanced', 'Digital Content Strategist > Expert', 'Data Analyst > First Timer', 'Data Analyst > Beginner', 'Data Analyst > Intermediate', 'Data Analyst > Advanced', 'Data Analyst > Expert', 'Growth Hacker > First Timer', 'Growth Hacker > Beginner', 'Growth Hacker > Intermediate', 'Growth Hacker > Advanced', 'Growth Hacker > Expert', 'Bioinformatics Specialist > First Timer', 'Bioinformatics Specialist > Beginner', 'Bioinformatics Specialist > Intermediate', 'Bioinformatics Specialist > Advanced', 'Bioinformatics Specialist > Expert', 'Environmental Scientist > First Timer', 'Environmental Scientist > Beginner', 'Environmental Scientist > Intermediate', 'Environmental Scientist > Advanced', 'Environmental Scientist > Expert', 'User Experience Researcher > First Timer', 'User Experience Researcher > Beginner', 'User Experience Researcher > Intermediate', 'User Experience Researcher > Advanced', 'User Experience Researcher > Expert', 'Data Journalist > First Timer', 'Data Journalist > Beginner', 'Data Journalist > Intermediate', 'Data Journalist > Advanced', 'Data Journalist > Expert', 'Educational Technologist > First Timer', 'Educational Technologist > Beginner', 'Educational Technologist > Intermediate', 'Educational Technologist > Advanced', 'Educational Technologist > Expert', 'Precision Agriculture Specialist > First Timer', 'Precision Agriculture Specialist > Beginner', 'Precision Agriculture Specialist > Intermediate', 'Precision Agriculture Specialist > Advanced', 'Precision Agriculture Specialist > Expert', 'Smart City Planner > First Timer', 'Smart City Planner > Beginner', 'Smart City Planner > Intermediate', 'Smart City Planner > Advanced', 'Smart City Planner > Expert', 'E-Commerce Analyst > First Timer', 'E-Commerce Analyst > Beginner', 'E-Commerce Analyst > Intermediate', 'E-Commerce Analyst > Advanced', 'E-Commerce Analyst > Expert']\n"
     ]
    }
   ],
   "source": [
    "import json\n",
    "\n",
    "with open('./occupations.json') as json_file:\n",
    "    topic_hierarchy = json.load(json_file)\n",
    "\n",
    "def combine_occupations_with_experience(occupations_dict, experience_levels):\n",
    "    occupation_pairs = []\n",
    "    for occupation_category in occupations_dict:\n",
    "        if occupation_category == \"UserExperience\":  # Skip experience levels key\n",
    "            continue\n",
    "\n",
    "        for occupation_type in [\"MostPopular\", \"Trending\"]:\n",
    "            for occupation in occupations_dict[occupation_category].get(occupation_type, []):\n",
    "                for level in experience_levels:\n",
    "                    occupation_pairs.append(f\"{occupation} > {level}\")\n",
    "    return occupation_pairs\n",
    "\n",
    "# Extract the experience levels from the hierarchy\n",
    "experience_levels = topic_hierarchy[\"UserExperience\"][\"Levels\"]\n",
    "\n",
    "# Combine occupations with experience levels\n",
    "occupation_with_experience_pairs = combine_occupations_with_experience(topic_hierarchy, experience_levels)\n",
    "\n",
    "print(f\"Total number of occupation with experience levels: {len(occupation_with_experience_pairs)}\")\n",
    "print(occupation_with_experience_pairs)"
   ]
  },
  {
   "cell_type": "code",
   "execution_count": 75,
   "metadata": {},
   "outputs": [],
   "source": [
    "occupation_skills = occupation_with_experience_pairs"
   ]
  },
  {
   "cell_type": "code",
   "execution_count": 72,
   "metadata": {},
   "outputs": [
    {
     "name": "stdout",
     "output_type": "stream",
     "text": [
      "<class 'list'>\n"
     ]
    }
   ],
   "source": [
    "print(type(occupation_with_experience_pairs))"
   ]
  },
  {
   "cell_type": "code",
   "execution_count": 53,
   "metadata": {},
   "outputs": [
    {
     "name": "stdout",
     "output_type": "stream",
     "text": [
      "17\n"
     ]
    }
   ],
   "source": [
    "df = pd.read_csv('./compatible_area.csv')\n",
    "\n",
    "filtered_df = df[df['Status'] == 'To Cover']\n",
    "\n",
    "print(len(filtered_df))"
   ]
  },
  {
   "cell_type": "code",
   "execution_count": 59,
   "metadata": {},
   "outputs": [
    {
     "name": "stderr",
     "output_type": "stream",
     "text": [
      "C:\\Users\\hp\\AppData\\Local\\Temp\\ipykernel_1832\\2856107563.py:1: SettingWithCopyWarning: \n",
      "A value is trying to be set on a copy of a slice from a DataFrame.\n",
      "Try using .loc[row_indexer,col_indexer] = value instead\n",
      "\n",
      "See the caveats in the documentation: https://pandas.pydata.org/pandas-docs/stable/user_guide/indexing.html#returning-a-view-versus-a-copy\n",
      "  filtered_df['combined'] = filtered_df['Highlevel_topic'] + \" - \" + filtered_df['Sublevel_topic']\n"
     ]
    }
   ],
   "source": [
    "filtered_df['combined'] = filtered_df['Highlevel_topic'] + \" - \" + filtered_df['Sublevel_topic']"
   ]
  },
  {
   "cell_type": "code",
   "execution_count": 73,
   "metadata": {},
   "outputs": [],
   "source": [
    "areas_of_focus = filtered_df['combined'].to_list()"
   ]
  },
  {
   "cell_type": "code",
   "execution_count": 74,
   "metadata": {},
   "outputs": [
    {
     "data": {
      "text/plain": [
       "['Basic scripting - Write simple code in Javascript',\n",
       " 'General coding help - Rewrite code using better formatting / best practises',\n",
       " 'General coding help - Refactor code',\n",
       " 'General coding help - Explain complex code snippets',\n",
       " 'General coding help - Add comments to code',\n",
       " 'General coding help - Do a code review',\n",
       " 'Write unit test - Explain code with comments',\n",
       " 'Interview preparation - Explain the problem step by step',\n",
       " 'Interview preparation - Explain areas where people usually make mistakes',\n",
       " 'Interview preparation - Explain alternative solutions and trade offs',\n",
       " 'Interview preparation - Debug and fix code',\n",
       " 'Interview preparation - System Design rounds',\n",
       " 'Interview preparation - Proactively ask follow up questions',\n",
       " 'Interview preparation - User asks AI help to take an Interview. AI takes an interview',\n",
       " 'Debugging and Troubleshooting - Debug error trace',\n",
       " 'Learning - Learn to program',\n",
       " 'Learning - Learn to use some tool / infra']"
      ]
     },
     "execution_count": 74,
     "metadata": {},
     "output_type": "execute_result"
    }
   ],
   "source": [
    "areas_of_focus"
   ]
  },
  {
   "cell_type": "code",
   "execution_count": null,
   "metadata": {},
   "outputs": [],
   "source": [
    "# 3. Suggestions should provide a clear direction for further development or learning."
   ]
  },
  {
   "cell_type": "markdown",
   "metadata": {},
   "source": [
    "#### matching Occupation and skill pairs with Compatible areas of focus"
   ]
  },
  {
   "cell_type": "code",
   "execution_count": 103,
   "metadata": {},
   "outputs": [],
   "source": [
    "def compatible_area_check(occupation_skill, area_of_focus, n=1, existing_questions=None):\n",
    "    SYSTEM_PROMPT = f\"\"\"IDENTITY:\n",
    "You are an AI capable of identifying compatible areas of focus based on individuals' occupation and skills from the given list of compatible area only and if not compatible with occupation and skill from the list of area of focus please skip and only include the ones compatible..\n",
    "\n",
    "CONTEXT:\n",
    "We are trying to assist users in aligning their professional expertise and their skills with the most compatible areas of focus. This will help in furthering their career development and staying relevant in their fields.\n",
    "We already have a batch of existing occupation-skill-area of focus combinations and we want to avoid duplication when providing new suggestions.\n",
    "\n",
    "CONSTRAINTS:\n",
    "1. The suggestions must be from the input list of compatible area relevant to the provided occupation and skill level if not compatible with occupation and skill from the list of area of focus please skip and only include the ones compatible..\n",
    "2. It should be practical, meaning it can realistically be pursued given the user's background.\n",
    "\n",
    "\n",
    "INSTRUCTION:\n",
    "You will be given pairs of occupations and skills and and also list of selected compatible areas and will be asked to find a number of compatible areas of focus. You should also be provided with existing pairs and asked to ignore suggesting those if they already exist.\n",
    "Act accordingly.\n",
    "\n",
    "Find compatible areas of focus for the given occupation and skill pairs:\n",
    "- Occupation and skill pairs: \n",
    "The suggestions should only be from the provided areas of focus if not compatible with occupation and skill from the list of area of focus please skip and only include the ones compatible.\n",
    "\n",
    "RESPONSE FORMAT:\n",
    "A JSON-valid object that includes {{\"questions\": ['Occupation and skill','area_of_focus1', 'Occupation and skill','area_of_focus2', ...] }}.\n",
    "\"\"\"\n",
    "    try:\n",
    "        response = client.chat.completions.create(\n",
    "            model=\"gpt-4-1106-preview\",\n",
    "            messages=[\n",
    "                {\"role\": \"system\", \"content\": SYSTEM_PROMPT},\n",
    "                {\"role\": \"user\", \"content\": f\"Occupation and skill: {occupation_skill} \\nCompatible areas of focus: {area_of_focus}\"},\n",
    "            ],\n",
    "            temperature=0.0,\n",
    "            max_tokens=4096,\n",
    "            seed = 42,\n",
    "            response_format={ \n",
    "                \"type\": \"json_object\" \n",
    "            },\n",
    "        )\n",
    "        questions = json.loads(response.choices[0].message.content)\n",
    "        return questions\n",
    "    except Exception as e:\n",
    "        print(f\"An error occurred: {e}\")\n",
    "        return None"
   ]
  },
  {
   "cell_type": "code",
   "execution_count": null,
   "metadata": {},
   "outputs": [],
   "source": [
    "# total_iterations = len(occupation_skills) * len(areas_of_focus)"
   ]
  },
  {
   "cell_type": "code",
   "execution_count": 104,
   "metadata": {},
   "outputs": [
    {
     "name": "stderr",
     "output_type": "stream",
     "text": []
    },
    {
     "name": "stderr",
     "output_type": "stream",
     "text": []
    },
    {
     "name": "stdout",
     "output_type": "stream",
     "text": [
      "Python Developer > First Timer\n",
      "General coding help - Rewrite code using better formatting / best practises\n"
     ]
    },
    {
     "name": "stderr",
     "output_type": "stream",
     "text": []
    },
    {
     "name": "stdout",
     "output_type": "stream",
     "text": [
      "Python Developer > First Timer\n",
      "General coding help\n"
     ]
    },
    {
     "name": "stderr",
     "output_type": "stream",
     "text": []
    },
    {
     "name": "stdout",
     "output_type": "stream",
     "text": [
      "Python Developer > First Timer\n",
      "General coding help\n"
     ]
    },
    {
     "name": "stderr",
     "output_type": "stream",
     "text": []
    },
    {
     "name": "stdout",
     "output_type": "stream",
     "text": [
      "Python Developer > First Timer\n",
      "General coding help\n"
     ]
    },
    {
     "name": "stderr",
     "output_type": "stream",
     "text": []
    },
    {
     "name": "stdout",
     "output_type": "stream",
     "text": [
      "Python Developer > First Timer\n",
      "General coding help\n"
     ]
    },
    {
     "name": "stderr",
     "output_type": "stream",
     "text": []
    },
    {
     "name": "stdout",
     "output_type": "stream",
     "text": [
      "Python Developer > First Timer\n",
      "Write unit test\n"
     ]
    },
    {
     "name": "stderr",
     "output_type": "stream",
     "text": []
    },
    {
     "name": "stdout",
     "output_type": "stream",
     "text": [
      "Python Developer > First Timer\n",
      "Interview preparation - Explain the problem step by step\n"
     ]
    },
    {
     "name": "stderr",
     "output_type": "stream",
     "text": []
    },
    {
     "name": "stdout",
     "output_type": "stream",
     "text": [
      "Python Developer > First Timer\n",
      "Interview preparation - Explain areas where people usually make mistakes\n"
     ]
    },
    {
     "name": "stderr",
     "output_type": "stream",
     "text": []
    },
    {
     "name": "stdout",
     "output_type": "stream",
     "text": [
      "Python Developer > First Timer\n",
      "Interview preparation\n"
     ]
    },
    {
     "name": "stderr",
     "output_type": "stream",
     "text": []
    },
    {
     "name": "stdout",
     "output_type": "stream",
     "text": [
      "Python Developer > First Timer\n",
      "Interview preparation\n"
     ]
    },
    {
     "name": "stderr",
     "output_type": "stream",
     "text": []
    },
    {
     "name": "stdout",
     "output_type": "stream",
     "text": [
      "Python Developer > First Timer\n",
      "Interview preparation\n"
     ]
    },
    {
     "name": "stderr",
     "output_type": "stream",
     "text": []
    },
    {
     "name": "stdout",
     "output_type": "stream",
     "text": [
      "Python Developer > First Timer\n",
      "Interview preparation\n"
     ]
    },
    {
     "name": "stderr",
     "output_type": "stream",
     "text": []
    },
    {
     "name": "stdout",
     "output_type": "stream",
     "text": [
      "Python Developer > First Timer\n",
      "Debugging and Troubleshooting - Debug error trace\n"
     ]
    },
    {
     "name": "stderr",
     "output_type": "stream",
     "text": []
    },
    {
     "name": "stdout",
     "output_type": "stream",
     "text": [
      "Python Developer > First Timer\n",
      "Learning - Learn to program\n"
     ]
    },
    {
     "name": "stderr",
     "output_type": "stream",
     "text": []
    },
    {
     "name": "stdout",
     "output_type": "stream",
     "text": [
      "Python Developer > First Timer\n",
      "Learning - Learn to use some tool / infra\n"
     ]
    },
    {
     "name": "stderr",
     "output_type": "stream",
     "text": []
    },
    {
     "name": "stdout",
     "output_type": "stream",
     "text": [
      "Python Developer > Beginner\n",
      "General coding help - Rewrite code using better formatting / best practises\n"
     ]
    },
    {
     "name": "stderr",
     "output_type": "stream",
     "text": []
    },
    {
     "name": "stdout",
     "output_type": "stream",
     "text": [
      "Python Developer > Beginner\n",
      "General coding help\n"
     ]
    },
    {
     "name": "stderr",
     "output_type": "stream",
     "text": []
    },
    {
     "name": "stdout",
     "output_type": "stream",
     "text": [
      "Python Developer > Beginner\n",
      "General coding help\n"
     ]
    },
    {
     "name": "stderr",
     "output_type": "stream",
     "text": []
    },
    {
     "name": "stdout",
     "output_type": "stream",
     "text": [
      "Python Developer > Beginner\n",
      "General coding help\n"
     ]
    },
    {
     "name": "stderr",
     "output_type": "stream",
     "text": []
    },
    {
     "name": "stdout",
     "output_type": "stream",
     "text": [
      "Python Developer > Beginner\n",
      "General coding help\n"
     ]
    },
    {
     "name": "stderr",
     "output_type": "stream",
     "text": []
    },
    {
     "name": "stdout",
     "output_type": "stream",
     "text": [
      "Python Developer > Beginner\n",
      "Write unit test\n"
     ]
    },
    {
     "name": "stderr",
     "output_type": "stream",
     "text": []
    },
    {
     "name": "stdout",
     "output_type": "stream",
     "text": [
      "Python Developer > Beginner\n",
      "Interview preparation - Explain areas where people usually make mistakes\n"
     ]
    },
    {
     "name": "stderr",
     "output_type": "stream",
     "text": []
    },
    {
     "name": "stdout",
     "output_type": "stream",
     "text": [
      "Python Developer > Beginner\n",
      "Debug and fix code\n"
     ]
    },
    {
     "name": "stderr",
     "output_type": "stream",
     "text": []
    },
    {
     "name": "stdout",
     "output_type": "stream",
     "text": [
      "Python Developer > Beginner\n",
      "Debugging and Troubleshooting - Debug error trace\n"
     ]
    },
    {
     "name": "stderr",
     "output_type": "stream",
     "text": []
    },
    {
     "name": "stdout",
     "output_type": "stream",
     "text": [
      "Python Developer > Beginner\n",
      "Learning - Learn to program\n"
     ]
    },
    {
     "name": "stderr",
     "output_type": "stream",
     "text": []
    },
    {
     "name": "stdout",
     "output_type": "stream",
     "text": [
      "Python Developer > Beginner\n",
      "Learning - Learn to use some tool / infra\n"
     ]
    },
    {
     "name": "stderr",
     "output_type": "stream",
     "text": []
    },
    {
     "name": "stdout",
     "output_type": "stream",
     "text": [
      "Python Developer > Intermediate\n",
      "General coding help - Rewrite code using better formatting / best practises\n"
     ]
    },
    {
     "name": "stderr",
     "output_type": "stream",
     "text": []
    },
    {
     "name": "stdout",
     "output_type": "stream",
     "text": [
      "Python Developer > Intermediate\n",
      "Refactor code\n"
     ]
    },
    {
     "name": "stderr",
     "output_type": "stream",
     "text": []
    },
    {
     "name": "stdout",
     "output_type": "stream",
     "text": [
      "Python Developer > Intermediate\n",
      "General coding help\n",
      "Python Developer > Intermediate\n",
      "Explain complex code snippets\n"
     ]
    },
    {
     "name": "stderr",
     "output_type": "stream",
     "text": []
    },
    {
     "name": "stdout",
     "output_type": "stream",
     "text": [
      "Python Developer > Intermediate\n",
      "General coding help - Do a code review\n"
     ]
    },
    {
     "name": "stderr",
     "output_type": "stream",
     "text": []
    },
    {
     "name": "stdout",
     "output_type": "stream",
     "text": [
      "Python Developer > Intermediate\n",
      "Write unit test\n"
     ]
    },
    {
     "name": "stderr",
     "output_type": "stream",
     "text": []
    },
    {
     "name": "stdout",
     "output_type": "stream",
     "text": [
      "Python Developer > Intermediate\n",
      "Skip\n"
     ]
    },
    {
     "name": "stderr",
     "output_type": "stream",
     "text": []
    },
    {
     "name": "stdout",
     "output_type": "stream",
     "text": [
      "Python Developer > Intermediate\n",
      "Debug and fix code\n"
     ]
    },
    {
     "name": "stderr",
     "output_type": "stream",
     "text": []
    },
    {
     "name": "stdout",
     "output_type": "stream",
     "text": [
      "Python Developer > Intermediate\n",
      "Debugging and Troubleshooting - Debug error trace\n"
     ]
    },
    {
     "name": "stderr",
     "output_type": "stream",
     "text": []
    },
    {
     "name": "stdout",
     "output_type": "stream",
     "text": [
      "Python Developer > Intermediate\n",
      "Learning - Learn to use some tool / infra\n"
     ]
    },
    {
     "name": "stderr",
     "output_type": "stream",
     "text": []
    },
    {
     "name": "stdout",
     "output_type": "stream",
     "text": [
      "Python Developer > Advanced\n",
      "General coding help - Rewrite code using better formatting / best practises\n"
     ]
    },
    {
     "name": "stderr",
     "output_type": "stream",
     "text": []
    },
    {
     "name": "stdout",
     "output_type": "stream",
     "text": [
      "Python Developer > Advanced\n",
      "Refactor code\n"
     ]
    },
    {
     "name": "stderr",
     "output_type": "stream",
     "text": []
    },
    {
     "name": "stdout",
     "output_type": "stream",
     "text": [
      "Python Developer > Advanced\n",
      "Do a code review\n"
     ]
    },
    {
     "name": "stderr",
     "output_type": "stream",
     "text": []
    },
    {
     "name": "stdout",
     "output_type": "stream",
     "text": [
      "Python Developer > Advanced\n",
      "Write unit test\n"
     ]
    },
    {
     "name": "stderr",
     "output_type": "stream",
     "text": []
    },
    {
     "name": "stdout",
     "output_type": "stream",
     "text": [
      "Python Developer > Advanced\n",
      "Skip\n"
     ]
    },
    {
     "name": "stderr",
     "output_type": "stream",
     "text": []
    },
    {
     "name": "stdout",
     "output_type": "stream",
     "text": [
      "Python Developer > Advanced\n",
      "Interview preparation - Explain alternative solutions and trade offs\n"
     ]
    },
    {
     "name": "stderr",
     "output_type": "stream",
     "text": []
    },
    {
     "name": "stdout",
     "output_type": "stream",
     "text": [
      "Python Developer > Advanced\n",
      "Debug and fix code\n"
     ]
    },
    {
     "name": "stderr",
     "output_type": "stream",
     "text": []
    },
    {
     "name": "stdout",
     "output_type": "stream",
     "text": [
      "Python Developer > Advanced\n",
      "Debugging and Troubleshooting - Debug error trace\n"
     ]
    },
    {
     "name": "stderr",
     "output_type": "stream",
     "text": []
    },
    {
     "name": "stdout",
     "output_type": "stream",
     "text": [
      "Python Developer > Advanced\n",
      "Learning - Learn to use some tool / infra\n"
     ]
    },
    {
     "name": "stderr",
     "output_type": "stream",
     "text": []
    },
    {
     "name": "stdout",
     "output_type": "stream",
     "text": [
      "Python Developer > Expert\n",
      "General coding help - Rewrite code using better formatting / best practises\n"
     ]
    },
    {
     "name": "stderr",
     "output_type": "stream",
     "text": []
    },
    {
     "name": "stdout",
     "output_type": "stream",
     "text": [
      "Python Developer > Expert\n",
      "Refactor code\n"
     ]
    },
    {
     "name": "stderr",
     "output_type": "stream",
     "text": []
    },
    {
     "name": "stdout",
     "output_type": "stream",
     "text": [
      "Python Developer > Expert\n",
      "Do a code review\n"
     ]
    },
    {
     "name": "stderr",
     "output_type": "stream",
     "text": []
    },
    {
     "name": "stdout",
     "output_type": "stream",
     "text": [
      "Python Developer > Expert\n",
      "Write unit test\n"
     ]
    },
    {
     "name": "stderr",
     "output_type": "stream",
     "text": []
    },
    {
     "name": "stdout",
     "output_type": "stream",
     "text": [
      "Python Developer > Expert\n",
      "Interview preparation - Explain alternative solutions and trade offs\n"
     ]
    },
    {
     "name": "stderr",
     "output_type": "stream",
     "text": []
    },
    {
     "name": "stdout",
     "output_type": "stream",
     "text": [
      "Python Developer > Expert\n",
      "Debug and fix code\n"
     ]
    },
    {
     "name": "stderr",
     "output_type": "stream",
     "text": []
    },
    {
     "name": "stdout",
     "output_type": "stream",
     "text": [
      "Python Developer > Expert\n",
      "Debugging and Troubleshooting - Debug error trace\n"
     ]
    },
    {
     "name": "stderr",
     "output_type": "stream",
     "text": []
    },
    {
     "name": "stdout",
     "output_type": "stream",
     "text": [
      "Python Developer > Expert\n",
      "Learning - Learn to use some tool / infra\n"
     ]
    },
    {
     "name": "stderr",
     "output_type": "stream",
     "text": []
    },
    {
     "name": "stdout",
     "output_type": "stream",
     "text": [
      "Web Developer > First Timer\n",
      "Basic scripting - Write simple code in Javascript\n"
     ]
    },
    {
     "name": "stderr",
     "output_type": "stream",
     "text": []
    },
    {
     "name": "stdout",
     "output_type": "stream",
     "text": [
      "Web Developer > First Timer\n",
      "General coding help\n",
      "Web Developer > First Timer\n",
      "Rewrite code using better formatting / best practises\n"
     ]
    },
    {
     "name": "stderr",
     "output_type": "stream",
     "text": []
    },
    {
     "name": "stdout",
     "output_type": "stream",
     "text": [
      "Web Developer > First Timer\n",
      "General coding help\n"
     ]
    },
    {
     "name": "stderr",
     "output_type": "stream",
     "text": []
    },
    {
     "name": "stdout",
     "output_type": "stream",
     "text": [
      "Web Developer > First Timer\n",
      "General coding help\n"
     ]
    },
    {
     "name": "stderr",
     "output_type": "stream",
     "text": []
    },
    {
     "name": "stdout",
     "output_type": "stream",
     "text": [
      "Web Developer > First Timer\n",
      "General coding help\n"
     ]
    },
    {
     "name": "stderr",
     "output_type": "stream",
     "text": []
    },
    {
     "name": "stdout",
     "output_type": "stream",
     "text": [
      "Web Developer > First Timer\n",
      "General coding help\n"
     ]
    },
    {
     "name": "stderr",
     "output_type": "stream",
     "text": []
    },
    {
     "name": "stdout",
     "output_type": "stream",
     "text": [
      "Web Developer > First Timer\n",
      "Write unit test\n"
     ]
    },
    {
     "name": "stderr",
     "output_type": "stream",
     "text": []
    },
    {
     "name": "stdout",
     "output_type": "stream",
     "text": [
      "Web Developer > First Timer\n",
      "Interview preparation - Explain areas where people usually make mistakes\n"
     ]
    },
    {
     "name": "stderr",
     "output_type": "stream",
     "text": []
    },
    {
     "name": "stdout",
     "output_type": "stream",
     "text": [
      "Web Developer > First Timer\n",
      "Debug and fix code\n"
     ]
    },
    {
     "name": "stderr",
     "output_type": "stream",
     "text": []
    },
    {
     "name": "stdout",
     "output_type": "stream",
     "text": [
      "Web Developer > First Timer\n",
      "Debugging and Troubleshooting - Debug error trace\n"
     ]
    },
    {
     "name": "stderr",
     "output_type": "stream",
     "text": []
    },
    {
     "name": "stdout",
     "output_type": "stream",
     "text": [
      "Web Developer > First Timer\n",
      "Learning - Learn to program\n"
     ]
    },
    {
     "name": "stderr",
     "output_type": "stream",
     "text": []
    },
    {
     "name": "stdout",
     "output_type": "stream",
     "text": [
      "Web Developer > First Timer\n",
      "Learning - Learn to use some tool / infra\n"
     ]
    },
    {
     "name": "stderr",
     "output_type": "stream",
     "text": []
    },
    {
     "name": "stdout",
     "output_type": "stream",
     "text": [
      "Web Developer > Beginner\n",
      "Basic scripting - Write simple code in Javascript\n"
     ]
    },
    {
     "name": "stderr",
     "output_type": "stream",
     "text": []
    },
    {
     "name": "stdout",
     "output_type": "stream",
     "text": [
      "Web Developer > Beginner\n",
      "General coding help - Rewrite code using better formatting / best practises\n"
     ]
    },
    {
     "name": "stderr",
     "output_type": "stream",
     "text": []
    },
    {
     "name": "stdout",
     "output_type": "stream",
     "text": [
      "Web Developer > Beginner\n",
      "General coding help\n"
     ]
    },
    {
     "name": "stderr",
     "output_type": "stream",
     "text": []
    },
    {
     "name": "stdout",
     "output_type": "stream",
     "text": [
      "Web Developer > Beginner\n",
      "General coding help\n"
     ]
    },
    {
     "name": "stderr",
     "output_type": "stream",
     "text": []
    },
    {
     "name": "stdout",
     "output_type": "stream",
     "text": [
      "Web Developer > Beginner\n",
      "General coding help\n"
     ]
    },
    {
     "name": "stderr",
     "output_type": "stream",
     "text": []
    },
    {
     "name": "stdout",
     "output_type": "stream",
     "text": [
      "Web Developer > Beginner\n",
      "General coding help\n"
     ]
    },
    {
     "name": "stderr",
     "output_type": "stream",
     "text": []
    },
    {
     "name": "stdout",
     "output_type": "stream",
     "text": [
      "Web Developer > Beginner\n",
      "Write unit test\n"
     ]
    },
    {
     "name": "stderr",
     "output_type": "stream",
     "text": []
    },
    {
     "name": "stdout",
     "output_type": "stream",
     "text": [
      "Web Developer > Beginner\n",
      "Debug and fix code\n"
     ]
    },
    {
     "name": "stderr",
     "output_type": "stream",
     "text": []
    },
    {
     "name": "stdout",
     "output_type": "stream",
     "text": [
      "Web Developer > Beginner\n",
      "Debugging and Troubleshooting - Debug error trace\n"
     ]
    },
    {
     "name": "stderr",
     "output_type": "stream",
     "text": []
    },
    {
     "name": "stdout",
     "output_type": "stream",
     "text": [
      "Web Developer > Beginner\n",
      "Learning - Learn to program\n"
     ]
    },
    {
     "name": "stderr",
     "output_type": "stream",
     "text": []
    },
    {
     "name": "stdout",
     "output_type": "stream",
     "text": [
      "Web Developer > Beginner\n",
      "Learning - Learn to use some tool / infra\n"
     ]
    },
    {
     "name": "stderr",
     "output_type": "stream",
     "text": []
    },
    {
     "name": "stdout",
     "output_type": "stream",
     "text": [
      "Web Developer > Intermediate\n",
      "Basic scripting - Write simple code in Javascript\n"
     ]
    },
    {
     "name": "stderr",
     "output_type": "stream",
     "text": []
    },
    {
     "name": "stdout",
     "output_type": "stream",
     "text": [
      "Web Developer > Intermediate\n",
      "General coding help - Rewrite code using better formatting / best practises\n"
     ]
    },
    {
     "name": "stderr",
     "output_type": "stream",
     "text": []
    },
    {
     "name": "stdout",
     "output_type": "stream",
     "text": [
      "Web Developer > Intermediate\n",
      "Refactor code\n"
     ]
    },
    {
     "name": "stderr",
     "output_type": "stream",
     "text": []
    },
    {
     "name": "stdout",
     "output_type": "stream",
     "text": [
      "Web Developer > Intermediate\n",
      "General coding help\n"
     ]
    },
    {
     "name": "stderr",
     "output_type": "stream",
     "text": []
    },
    {
     "name": "stdout",
     "output_type": "stream",
     "text": [
      "Web Developer > Intermediate\n",
      "General coding help - Do a code review\n"
     ]
    },
    {
     "name": "stderr",
     "output_type": "stream",
     "text": []
    },
    {
     "name": "stdout",
     "output_type": "stream",
     "text": [
      "Web Developer > Intermediate\n",
      "Write unit test\n"
     ]
    },
    {
     "name": "stderr",
     "output_type": "stream",
     "text": []
    },
    {
     "name": "stdout",
     "output_type": "stream",
     "text": [
      "Web Developer > Intermediate\n",
      "Debug and fix code\n"
     ]
    },
    {
     "name": "stderr",
     "output_type": "stream",
     "text": []
    },
    {
     "name": "stdout",
     "output_type": "stream",
     "text": [
      "Web Developer > Intermediate\n",
      "Debugging and Troubleshooting - Debug error trace\n"
     ]
    },
    {
     "name": "stderr",
     "output_type": "stream",
     "text": []
    },
    {
     "name": "stdout",
     "output_type": "stream",
     "text": [
      "Web Developer > Intermediate\n",
      "Learning - Learn to use some tool / infra\n"
     ]
    },
    {
     "name": "stderr",
     "output_type": "stream",
     "text": []
    },
    {
     "name": "stdout",
     "output_type": "stream",
     "text": [
      "Web Developer > Advanced\n",
      "Basic scripting - Write simple code in Javascript\n"
     ]
    },
    {
     "name": "stderr",
     "output_type": "stream",
     "text": []
    },
    {
     "name": "stdout",
     "output_type": "stream",
     "text": [
      "Web Developer > Advanced\n",
      "General coding help - Rewrite code using better formatting / best practises\n"
     ]
    },
    {
     "name": "stderr",
     "output_type": "stream",
     "text": []
    },
    {
     "name": "stdout",
     "output_type": "stream",
     "text": [
      "Web Developer > Advanced\n",
      "Refactor code\n"
     ]
    },
    {
     "name": "stderr",
     "output_type": "stream",
     "text": []
    },
    {
     "name": "stdout",
     "output_type": "stream",
     "text": [
      "Web Developer > Advanced\n",
      "Do a code review\n"
     ]
    },
    {
     "name": "stderr",
     "output_type": "stream",
     "text": []
    },
    {
     "name": "stdout",
     "output_type": "stream",
     "text": [
      "Web Developer > Advanced\n",
      "Write unit test\n"
     ]
    },
    {
     "name": "stderr",
     "output_type": "stream",
     "text": []
    },
    {
     "name": "stdout",
     "output_type": "stream",
     "text": [
      "Web Developer > Advanced\n",
      "Debug and fix code\n"
     ]
    },
    {
     "name": "stderr",
     "output_type": "stream",
     "text": []
    },
    {
     "name": "stdout",
     "output_type": "stream",
     "text": [
      "Web Developer > Advanced\n",
      "Debugging and Troubleshooting - Debug error trace\n"
     ]
    },
    {
     "name": "stderr",
     "output_type": "stream",
     "text": []
    },
    {
     "name": "stdout",
     "output_type": "stream",
     "text": [
      "Web Developer > Advanced\n",
      "Learning - Learn to use some tool / infra\n"
     ]
    },
    {
     "name": "stderr",
     "output_type": "stream",
     "text": []
    },
    {
     "name": "stdout",
     "output_type": "stream",
     "text": [
      "Web Developer > Expert\n",
      "General coding help - Rewrite code using better formatting / best practises\n"
     ]
    },
    {
     "name": "stderr",
     "output_type": "stream",
     "text": []
    },
    {
     "name": "stdout",
     "output_type": "stream",
     "text": [
      "Web Developer > Expert\n",
      "Refactor code\n"
     ]
    },
    {
     "name": "stderr",
     "output_type": "stream",
     "text": []
    },
    {
     "name": "stdout",
     "output_type": "stream",
     "text": [
      "Web Developer > Expert\n",
      "Do a code review\n"
     ]
    },
    {
     "name": "stderr",
     "output_type": "stream",
     "text": []
    },
    {
     "name": "stdout",
     "output_type": "stream",
     "text": [
      "Web Developer > Expert\n",
      "Write unit test\n"
     ]
    },
    {
     "name": "stderr",
     "output_type": "stream",
     "text": []
    },
    {
     "name": "stdout",
     "output_type": "stream",
     "text": [
      "Web Developer > Expert\n",
      "Debug and fix code\n"
     ]
    },
    {
     "name": "stderr",
     "output_type": "stream",
     "text": []
    },
    {
     "name": "stdout",
     "output_type": "stream",
     "text": [
      "Web Developer > Expert\n",
      "Debugging and Troubleshooting - Debug error trace\n"
     ]
    },
    {
     "name": "stderr",
     "output_type": "stream",
     "text": []
    },
    {
     "name": "stdout",
     "output_type": "stream",
     "text": [
      "Web Developer > Expert\n",
      "Learning - Learn to use some tool / infra\n"
     ]
    },
    {
     "name": "stderr",
     "output_type": "stream",
     "text": []
    },
    {
     "name": "stdout",
     "output_type": "stream",
     "text": [
      "Data Scientist > First Timer\n",
      "General coding help - Rewrite code using better formatting / best practises\n"
     ]
    },
    {
     "name": "stderr",
     "output_type": "stream",
     "text": []
    },
    {
     "name": "stdout",
     "output_type": "stream",
     "text": [
      "Data Scientist > First Timer\n",
      "General coding help\n",
      "Data Scientist > First Timer\n",
      "Refactor code\n"
     ]
    },
    {
     "name": "stderr",
     "output_type": "stream",
     "text": []
    },
    {
     "name": "stdout",
     "output_type": "stream",
     "text": [
      "Data Scientist > First Timer\n",
      "General coding help\n"
     ]
    },
    {
     "name": "stderr",
     "output_type": "stream",
     "text": []
    },
    {
     "name": "stdout",
     "output_type": "stream",
     "text": [
      "Data Scientist > First Timer\n",
      "General coding help\n"
     ]
    },
    {
     "name": "stderr",
     "output_type": "stream",
     "text": []
    },
    {
     "name": "stdout",
     "output_type": "stream",
     "text": [
      "Data Scientist > First Timer\n",
      "Explain code with comments\n"
     ]
    },
    {
     "name": "stderr",
     "output_type": "stream",
     "text": []
    },
    {
     "name": "stdout",
     "output_type": "stream",
     "text": [
      "Data Scientist > First Timer\n",
      "Interview preparation\n"
     ]
    },
    {
     "name": "stderr",
     "output_type": "stream",
     "text": []
    },
    {
     "name": "stdout",
     "output_type": "stream",
     "text": [
      "Data Scientist > First Timer\n",
      "Interview preparation - Explain areas where people usually make mistakes\n"
     ]
    },
    {
     "name": "stderr",
     "output_type": "stream",
     "text": []
    },
    {
     "name": "stdout",
     "output_type": "stream",
     "text": [
      "Data Scientist > First Timer\n",
      "Interview preparation\n"
     ]
    },
    {
     "name": "stderr",
     "output_type": "stream",
     "text": []
    },
    {
     "name": "stdout",
     "output_type": "stream",
     "text": [
      "Data Scientist > First Timer\n",
      "Interview preparation\n"
     ]
    },
    {
     "name": "stderr",
     "output_type": "stream",
     "text": []
    },
    {
     "name": "stdout",
     "output_type": "stream",
     "text": [
      "Data Scientist > First Timer\n",
      "Interview preparation\n"
     ]
    },
    {
     "name": "stderr",
     "output_type": "stream",
     "text": []
    },
    {
     "name": "stdout",
     "output_type": "stream",
     "text": [
      "Data Scientist > First Timer\n",
      "Learning - Learn to program\n"
     ]
    },
    {
     "name": "stderr",
     "output_type": "stream",
     "text": []
    },
    {
     "name": "stdout",
     "output_type": "stream",
     "text": [
      "Data Scientist > First Timer\n",
      "Learning - Learn to use some tool / infra\n"
     ]
    },
    {
     "name": "stderr",
     "output_type": "stream",
     "text": []
    },
    {
     "name": "stdout",
     "output_type": "stream",
     "text": [
      "Data Scientist > Beginner\n",
      "Basic scripting - Write simple code in Javascript\n"
     ]
    },
    {
     "name": "stderr",
     "output_type": "stream",
     "text": []
    },
    {
     "name": "stdout",
     "output_type": "stream",
     "text": [
      "Data Scientist > Beginner\n",
      "General coding help - Rewrite code using better formatting / best practises\n"
     ]
    },
    {
     "name": "stderr",
     "output_type": "stream",
     "text": []
    },
    {
     "name": "stdout",
     "output_type": "stream",
     "text": [
      "Data Scientist > Beginner\n",
      "Learning - Learn to program\n"
     ]
    },
    {
     "name": "stderr",
     "output_type": "stream",
     "text": []
    },
    {
     "name": "stdout",
     "output_type": "stream",
     "text": [
      "Data Scientist > Beginner\n",
      "Learning - Learn to use some tool / infra\n"
     ]
    },
    {
     "name": "stderr",
     "output_type": "stream",
     "text": []
    },
    {
     "name": "stdout",
     "output_type": "stream",
     "text": [
      "Data Scientist > Intermediate\n",
      "General coding help - Rewrite code using better formatting / best practises\n"
     ]
    },
    {
     "name": "stderr",
     "output_type": "stream",
     "text": []
    },
    {
     "name": "stdout",
     "output_type": "stream",
     "text": [
      "Data Scientist > Intermediate\n",
      "Debugging and Troubleshooting - Debug error trace\n"
     ]
    },
    {
     "name": "stderr",
     "output_type": "stream",
     "text": []
    },
    {
     "name": "stdout",
     "output_type": "stream",
     "text": [
      "Data Scientist > Intermediate\n",
      "Learning - Learn to use some tool / infra\n"
     ]
    },
    {
     "name": "stderr",
     "output_type": "stream",
     "text": []
    },
    {
     "name": "stdout",
     "output_type": "stream",
     "text": [
      "Data Scientist > Advanced\n",
      "General coding help - Rewrite code using better formatting / best practises\n"
     ]
    },
    {
     "name": "stderr",
     "output_type": "stream",
     "text": []
    },
    {
     "name": "stdout",
     "output_type": "stream",
     "text": [
      "Data Scientist > Advanced\n",
      "Learning - Learn to use some tool / infra\n"
     ]
    },
    {
     "name": "stderr",
     "output_type": "stream",
     "text": []
    },
    {
     "name": "stdout",
     "output_type": "stream",
     "text": [
      "Data Scientist > Expert\n",
      "General coding help - Rewrite code using better formatting / best practises\n"
     ]
    },
    {
     "name": "stderr",
     "output_type": "stream",
     "text": []
    },
    {
     "name": "stdout",
     "output_type": "stream",
     "text": [
      "Data Scientist > Expert\n",
      "Do a code review\n"
     ]
    },
    {
     "name": "stderr",
     "output_type": "stream",
     "text": []
    },
    {
     "name": "stdout",
     "output_type": "stream",
     "text": [
      "Data Scientist > Expert\n",
      "Learning - Learn to use some tool / infra\n"
     ]
    },
    {
     "name": "stderr",
     "output_type": "stream",
     "text": []
    },
    {
     "name": "stdout",
     "output_type": "stream",
     "text": [
      "Mobile App Developer > First Timer\n",
      "Basic scripting - Write simple code in Javascript\n"
     ]
    },
    {
     "name": "stderr",
     "output_type": "stream",
     "text": []
    },
    {
     "name": "stdout",
     "output_type": "stream",
     "text": [
      "Mobile App Developer > First Timer\n",
      "General coding help\n",
      "Mobile App Developer > First Timer\n",
      "Rewrite code using better formatting / best practises\n"
     ]
    },
    {
     "name": "stderr",
     "output_type": "stream",
     "text": []
    },
    {
     "name": "stdout",
     "output_type": "stream",
     "text": [
      "Mobile App Developer > First Timer\n",
      "General coding help\n"
     ]
    },
    {
     "name": "stderr",
     "output_type": "stream",
     "text": []
    },
    {
     "name": "stdout",
     "output_type": "stream",
     "text": [
      "Mobile App Developer > First Timer\n",
      "General coding help - Add comments to code\n"
     ]
    },
    {
     "name": "stderr",
     "output_type": "stream",
     "text": []
    },
    {
     "name": "stdout",
     "output_type": "stream",
     "text": [
      "Mobile App Developer > First Timer\n",
      "General coding help\n"
     ]
    },
    {
     "name": "stderr",
     "output_type": "stream",
     "text": []
    },
    {
     "name": "stdout",
     "output_type": "stream",
     "text": [
      "Mobile App Developer > First Timer\n",
      "Write unit test\n"
     ]
    },
    {
     "name": "stderr",
     "output_type": "stream",
     "text": []
    },
    {
     "name": "stdout",
     "output_type": "stream",
     "text": [
      "Mobile App Developer > First Timer\n",
      "Interview preparation - Explain areas where people usually make mistakes\n"
     ]
    },
    {
     "name": "stderr",
     "output_type": "stream",
     "text": []
    },
    {
     "name": "stdout",
     "output_type": "stream",
     "text": [
      "Mobile App Developer > First Timer\n",
      "Debug and fix code\n"
     ]
    },
    {
     "name": "stderr",
     "output_type": "stream",
     "text": []
    },
    {
     "name": "stdout",
     "output_type": "stream",
     "text": [
      "Mobile App Developer > First Timer\n",
      "Interview preparation\n"
     ]
    },
    {
     "name": "stderr",
     "output_type": "stream",
     "text": []
    },
    {
     "name": "stdout",
     "output_type": "stream",
     "text": [
      "Mobile App Developer > First Timer\n",
      "Debugging and Troubleshooting - Debug error trace\n"
     ]
    },
    {
     "name": "stderr",
     "output_type": "stream",
     "text": []
    },
    {
     "name": "stdout",
     "output_type": "stream",
     "text": [
      "Mobile App Developer > First Timer\n",
      "Learning - Learn to program\n"
     ]
    },
    {
     "name": "stderr",
     "output_type": "stream",
     "text": []
    },
    {
     "name": "stdout",
     "output_type": "stream",
     "text": [
      "Mobile App Developer > First Timer\n",
      "Learning - Learn to use some tool / infra\n"
     ]
    },
    {
     "name": "stderr",
     "output_type": "stream",
     "text": []
    },
    {
     "name": "stdout",
     "output_type": "stream",
     "text": [
      "Mobile App Developer > Beginner\n",
      "Basic scripting - Write simple code in Javascript\n"
     ]
    },
    {
     "name": "stderr",
     "output_type": "stream",
     "text": []
    },
    {
     "name": "stdout",
     "output_type": "stream",
     "text": [
      "Mobile App Developer > Beginner\n",
      "General coding help - Rewrite code using better formatting / best practises\n"
     ]
    },
    {
     "name": "stderr",
     "output_type": "stream",
     "text": []
    },
    {
     "name": "stdout",
     "output_type": "stream",
     "text": [
      "Mobile App Developer > Beginner\n",
      "General coding help\n"
     ]
    },
    {
     "name": "stderr",
     "output_type": "stream",
     "text": []
    },
    {
     "name": "stdout",
     "output_type": "stream",
     "text": [
      "Mobile App Developer > Beginner\n",
      "General coding help\n"
     ]
    },
    {
     "name": "stderr",
     "output_type": "stream",
     "text": []
    },
    {
     "name": "stdout",
     "output_type": "stream",
     "text": [
      "Mobile App Developer > Beginner\n",
      "Write unit test\n"
     ]
    },
    {
     "name": "stderr",
     "output_type": "stream",
     "text": []
    },
    {
     "name": "stdout",
     "output_type": "stream",
     "text": [
      "Mobile App Developer > Beginner\n",
      "Skip\n"
     ]
    },
    {
     "name": "stderr",
     "output_type": "stream",
     "text": []
    },
    {
     "name": "stdout",
     "output_type": "stream",
     "text": [
      "Mobile App Developer > Beginner\n",
      "Skip\n"
     ]
    },
    {
     "name": "stderr",
     "output_type": "stream",
     "text": []
    },
    {
     "name": "stdout",
     "output_type": "stream",
     "text": [
      "Mobile App Developer > Beginner\n",
      "Debug and fix code\n"
     ]
    },
    {
     "name": "stderr",
     "output_type": "stream",
     "text": []
    },
    {
     "name": "stdout",
     "output_type": "stream",
     "text": [
      "Mobile App Developer > Beginner\n",
      "Debugging and Troubleshooting - Debug error trace\n"
     ]
    },
    {
     "name": "stderr",
     "output_type": "stream",
     "text": []
    },
    {
     "name": "stdout",
     "output_type": "stream",
     "text": [
      "Mobile App Developer > Beginner\n",
      "Learning - Learn to program\n"
     ]
    },
    {
     "name": "stderr",
     "output_type": "stream",
     "text": []
    },
    {
     "name": "stdout",
     "output_type": "stream",
     "text": [
      "Mobile App Developer > Beginner\n",
      "Learning - Learn to use some tool / infra\n"
     ]
    },
    {
     "name": "stderr",
     "output_type": "stream",
     "text": []
    },
    {
     "name": "stdout",
     "output_type": "stream",
     "text": [
      "Mobile App Developer > Intermediate\n",
      "General coding help - Rewrite code using better formatting / best practises\n"
     ]
    },
    {
     "name": "stderr",
     "output_type": "stream",
     "text": []
    },
    {
     "name": "stdout",
     "output_type": "stream",
     "text": [
      "Mobile App Developer > Intermediate\n",
      "General coding help - Refactor code\n"
     ]
    },
    {
     "name": "stderr",
     "output_type": "stream",
     "text": []
    },
    {
     "name": "stdout",
     "output_type": "stream",
     "text": [
      "Mobile App Developer > Intermediate\n",
      "General coding help - Do a code review\n"
     ]
    },
    {
     "name": "stderr",
     "output_type": "stream",
     "text": []
    },
    {
     "name": "stdout",
     "output_type": "stream",
     "text": [
      "Mobile App Developer > Intermediate\n",
      "Write unit test\n"
     ]
    },
    {
     "name": "stderr",
     "output_type": "stream",
     "text": []
    },
    {
     "name": "stdout",
     "output_type": "stream",
     "text": [
      "Mobile App Developer > Intermediate\n",
      "Skip\n"
     ]
    },
    {
     "name": "stderr",
     "output_type": "stream",
     "text": []
    },
    {
     "name": "stdout",
     "output_type": "stream",
     "text": [
      "Mobile App Developer > Intermediate\n",
      "Debug and fix code\n"
     ]
    },
    {
     "name": "stderr",
     "output_type": "stream",
     "text": []
    },
    {
     "name": "stdout",
     "output_type": "stream",
     "text": [
      "Mobile App Developer > Intermediate\n",
      "Debugging and Troubleshooting - Debug error trace\n"
     ]
    },
    {
     "name": "stderr",
     "output_type": "stream",
     "text": []
    },
    {
     "name": "stdout",
     "output_type": "stream",
     "text": [
      "Mobile App Developer > Intermediate\n",
      "Learning - Learn to program\n"
     ]
    },
    {
     "name": "stderr",
     "output_type": "stream",
     "text": []
    },
    {
     "name": "stdout",
     "output_type": "stream",
     "text": [
      "Mobile App Developer > Intermediate\n",
      "Learning - Learn to use some tool / infra\n"
     ]
    },
    {
     "name": "stderr",
     "output_type": "stream",
     "text": []
    },
    {
     "name": "stdout",
     "output_type": "stream",
     "text": [
      "Mobile App Developer > Advanced\n",
      "General coding help - Rewrite code using better formatting / best practises\n"
     ]
    },
    {
     "name": "stderr",
     "output_type": "stream",
     "text": []
    },
    {
     "name": "stdout",
     "output_type": "stream",
     "text": [
      "Mobile App Developer > Advanced\n",
      "Refactor code\n"
     ]
    },
    {
     "name": "stderr",
     "output_type": "stream",
     "text": []
    },
    {
     "name": "stdout",
     "output_type": "stream",
     "text": [
      "Mobile App Developer > Advanced\n",
      "General coding help - Do a code review\n"
     ]
    },
    {
     "name": "stderr",
     "output_type": "stream",
     "text": []
    },
    {
     "name": "stdout",
     "output_type": "stream",
     "text": [
      "Mobile App Developer > Advanced\n",
      "Write unit test\n"
     ]
    },
    {
     "name": "stderr",
     "output_type": "stream",
     "text": []
    },
    {
     "name": "stdout",
     "output_type": "stream",
     "text": [
      "Mobile App Developer > Advanced\n",
      "Skip\n"
     ]
    },
    {
     "name": "stderr",
     "output_type": "stream",
     "text": []
    },
    {
     "name": "stdout",
     "output_type": "stream",
     "text": [
      "Mobile App Developer > Advanced\n",
      "Debug and fix code\n"
     ]
    },
    {
     "name": "stderr",
     "output_type": "stream",
     "text": []
    },
    {
     "name": "stdout",
     "output_type": "stream",
     "text": [
      "Mobile App Developer > Advanced\n",
      "Debugging and Troubleshooting - Debug error trace\n"
     ]
    },
    {
     "name": "stderr",
     "output_type": "stream",
     "text": []
    },
    {
     "name": "stdout",
     "output_type": "stream",
     "text": [
      "Mobile App Developer > Advanced\n",
      "Learning - Learn to use some tool / infra\n"
     ]
    },
    {
     "name": "stderr",
     "output_type": "stream",
     "text": []
    },
    {
     "name": "stdout",
     "output_type": "stream",
     "text": [
      "Mobile App Developer > Expert\n",
      "General coding help - Rewrite code using better formatting / best practises\n"
     ]
    },
    {
     "name": "stderr",
     "output_type": "stream",
     "text": []
    },
    {
     "name": "stdout",
     "output_type": "stream",
     "text": [
      "Mobile App Developer > Expert\n",
      "Refactor code\n"
     ]
    },
    {
     "name": "stderr",
     "output_type": "stream",
     "text": []
    },
    {
     "name": "stdout",
     "output_type": "stream",
     "text": [
      "Mobile App Developer > Expert\n",
      "General coding help - Do a code review\n"
     ]
    },
    {
     "name": "stderr",
     "output_type": "stream",
     "text": []
    },
    {
     "name": "stdout",
     "output_type": "stream",
     "text": [
      "Mobile App Developer > Expert\n",
      "Write unit test\n"
     ]
    },
    {
     "name": "stderr",
     "output_type": "stream",
     "text": []
    },
    {
     "name": "stdout",
     "output_type": "stream",
     "text": [
      "Mobile App Developer > Expert\n",
      "Debug and fix code\n"
     ]
    },
    {
     "name": "stderr",
     "output_type": "stream",
     "text": []
    },
    {
     "name": "stdout",
     "output_type": "stream",
     "text": [
      "Mobile App Developer > Expert\n",
      "Debugging and Troubleshooting - Debug error trace\n"
     ]
    },
    {
     "name": "stderr",
     "output_type": "stream",
     "text": []
    },
    {
     "name": "stdout",
     "output_type": "stream",
     "text": [
      "Mobile App Developer > Expert\n",
      "Learning - Learn to use some tool / infra\n"
     ]
    },
    {
     "name": "stderr",
     "output_type": "stream",
     "text": []
    },
    {
     "name": "stdout",
     "output_type": "stream",
     "text": [
      "Python DevOps Engineer > First Timer\n",
      "General coding help - Rewrite code using better formatting / best practises\n"
     ]
    },
    {
     "name": "stderr",
     "output_type": "stream",
     "text": []
    },
    {
     "name": "stdout",
     "output_type": "stream",
     "text": [
      "Python DevOps Engineer > First Timer\n",
      "General coding help\n"
     ]
    },
    {
     "name": "stderr",
     "output_type": "stream",
     "text": []
    },
    {
     "name": "stdout",
     "output_type": "stream",
     "text": [
      "Python DevOps Engineer > First Timer\n",
      "General coding help - Add comments to code\n"
     ]
    },
    {
     "name": "stderr",
     "output_type": "stream",
     "text": []
    },
    {
     "name": "stdout",
     "output_type": "stream",
     "text": [
      "Python DevOps Engineer > First Timer\n",
      "General coding help\n"
     ]
    },
    {
     "name": "stderr",
     "output_type": "stream",
     "text": []
    },
    {
     "name": "stdout",
     "output_type": "stream",
     "text": [
      "Python DevOps Engineer > First Timer\n",
      "Write unit test\n"
     ]
    },
    {
     "name": "stderr",
     "output_type": "stream",
     "text": []
    },
    {
     "name": "stdout",
     "output_type": "stream",
     "text": [
      "Python DevOps Engineer > First Timer\n",
      "Interview preparation - Explain areas where people usually make mistakes\n"
     ]
    },
    {
     "name": "stderr",
     "output_type": "stream",
     "text": []
    },
    {
     "name": "stdout",
     "output_type": "stream",
     "text": [
      "Python DevOps Engineer > First Timer\n",
      "Interview preparation - Explain alternative solutions and trade offs\n"
     ]
    },
    {
     "name": "stderr",
     "output_type": "stream",
     "text": []
    },
    {
     "name": "stdout",
     "output_type": "stream",
     "text": [
      "Python DevOps Engineer > First Timer\n",
      "Interview preparation\n"
     ]
    },
    {
     "name": "stderr",
     "output_type": "stream",
     "text": []
    },
    {
     "name": "stdout",
     "output_type": "stream",
     "text": [
      "Python DevOps Engineer > First Timer\n",
      "Interview preparation - System Design rounds\n"
     ]
    },
    {
     "name": "stderr",
     "output_type": "stream",
     "text": []
    },
    {
     "name": "stdout",
     "output_type": "stream",
     "text": [
      "Python DevOps Engineer > First Timer\n",
      "Interview preparation\n"
     ]
    },
    {
     "name": "stderr",
     "output_type": "stream",
     "text": []
    },
    {
     "name": "stdout",
     "output_type": "stream",
     "text": [
      "Python DevOps Engineer > First Timer\n",
      "Interview preparation\n"
     ]
    },
    {
     "name": "stderr",
     "output_type": "stream",
     "text": []
    },
    {
     "name": "stdout",
     "output_type": "stream",
     "text": [
      "Python DevOps Engineer > First Timer\n",
      "Debugging and Troubleshooting - Debug error trace\n"
     ]
    },
    {
     "name": "stderr",
     "output_type": "stream",
     "text": []
    },
    {
     "name": "stdout",
     "output_type": "stream",
     "text": [
      "Python DevOps Engineer > First Timer\n",
      "Learning - Learn to program\n"
     ]
    },
    {
     "name": "stderr",
     "output_type": "stream",
     "text": []
    },
    {
     "name": "stdout",
     "output_type": "stream",
     "text": [
      "Python DevOps Engineer > First Timer\n",
      "Learning - Learn to use some tool / infra\n"
     ]
    },
    {
     "name": "stderr",
     "output_type": "stream",
     "text": []
    },
    {
     "name": "stdout",
     "output_type": "stream",
     "text": [
      "Python DevOps Engineer > Beginner\n",
      "General coding help - Rewrite code using better formatting / best practises\n"
     ]
    },
    {
     "name": "stderr",
     "output_type": "stream",
     "text": []
    },
    {
     "name": "stdout",
     "output_type": "stream",
     "text": [
      "Python DevOps Engineer > Beginner\n",
      "General coding help\n"
     ]
    },
    {
     "name": "stderr",
     "output_type": "stream",
     "text": []
    },
    {
     "name": "stdout",
     "output_type": "stream",
     "text": [
      "Python DevOps Engineer > Beginner\n",
      "General coding help - Do a code review\n"
     ]
    },
    {
     "name": "stderr",
     "output_type": "stream",
     "text": []
    },
    {
     "name": "stdout",
     "output_type": "stream",
     "text": [
      "Python DevOps Engineer > Beginner\n",
      "Write unit test\n"
     ]
    },
    {
     "name": "stderr",
     "output_type": "stream",
     "text": []
    },
    {
     "name": "stdout",
     "output_type": "stream",
     "text": [
      "Python DevOps Engineer > Beginner\n",
      "Skip\n"
     ]
    },
    {
     "name": "stderr",
     "output_type": "stream",
     "text": []
    },
    {
     "name": "stdout",
     "output_type": "stream",
     "text": [
      "Python DevOps Engineer > Beginner\n",
      "Debug and fix code\n"
     ]
    },
    {
     "name": "stderr",
     "output_type": "stream",
     "text": []
    },
    {
     "name": "stdout",
     "output_type": "stream",
     "text": [
      "Python DevOps Engineer > Beginner\n",
      "Debugging and Troubleshooting - Debug error trace\n"
     ]
    },
    {
     "name": "stderr",
     "output_type": "stream",
     "text": []
    },
    {
     "name": "stdout",
     "output_type": "stream",
     "text": [
      "Python DevOps Engineer > Beginner\n",
      "Learning - Learn to program\n"
     ]
    },
    {
     "name": "stderr",
     "output_type": "stream",
     "text": []
    },
    {
     "name": "stdout",
     "output_type": "stream",
     "text": [
      "Python DevOps Engineer > Beginner\n",
      "Learning - Learn to use some tool / infra\n"
     ]
    },
    {
     "name": "stderr",
     "output_type": "stream",
     "text": []
    },
    {
     "name": "stdout",
     "output_type": "stream",
     "text": [
      "Python DevOps Engineer > Intermediate\n",
      "General coding help - Rewrite code using better formatting / best practises\n"
     ]
    },
    {
     "name": "stderr",
     "output_type": "stream",
     "text": []
    },
    {
     "name": "stdout",
     "output_type": "stream",
     "text": [
      "Python DevOps Engineer > Intermediate\n",
      "General coding help - Refactor code\n"
     ]
    },
    {
     "name": "stderr",
     "output_type": "stream",
     "text": []
    },
    {
     "name": "stdout",
     "output_type": "stream",
     "text": [
      "Python DevOps Engineer > Intermediate\n",
      "General coding help - Do a code review\n"
     ]
    },
    {
     "name": "stderr",
     "output_type": "stream",
     "text": []
    },
    {
     "name": "stdout",
     "output_type": "stream",
     "text": [
      "Python DevOps Engineer > Intermediate\n",
      "Write unit test\n"
     ]
    },
    {
     "name": "stderr",
     "output_type": "stream",
     "text": []
    },
    {
     "name": "stdout",
     "output_type": "stream",
     "text": [
      "Python DevOps Engineer > Intermediate\n",
      "Debug and fix code\n"
     ]
    },
    {
     "name": "stderr",
     "output_type": "stream",
     "text": []
    },
    {
     "name": "stdout",
     "output_type": "stream",
     "text": [
      "Python DevOps Engineer > Intermediate\n",
      "Skip\n"
     ]
    },
    {
     "name": "stderr",
     "output_type": "stream",
     "text": []
    },
    {
     "name": "stdout",
     "output_type": "stream",
     "text": [
      "Python DevOps Engineer > Intermediate\n",
      "Debugging and Troubleshooting - Debug error trace\n"
     ]
    },
    {
     "name": "stderr",
     "output_type": "stream",
     "text": []
    },
    {
     "name": "stdout",
     "output_type": "stream",
     "text": [
      "Python DevOps Engineer > Intermediate\n",
      "Learning - Learn to use some tool / infra\n"
     ]
    },
    {
     "name": "stderr",
     "output_type": "stream",
     "text": []
    },
    {
     "name": "stdout",
     "output_type": "stream",
     "text": [
      "Python DevOps Engineer > Advanced\n",
      "General coding help - Rewrite code using better formatting / best practises\n"
     ]
    },
    {
     "name": "stderr",
     "output_type": "stream",
     "text": []
    },
    {
     "name": "stdout",
     "output_type": "stream",
     "text": [
      "Python DevOps Engineer > Advanced\n",
      "Refactor code\n"
     ]
    },
    {
     "name": "stderr",
     "output_type": "stream",
     "text": []
    },
    {
     "name": "stdout",
     "output_type": "stream",
     "text": [
      "Python DevOps Engineer > Advanced\n",
      "Do a code review\n"
     ]
    },
    {
     "name": "stderr",
     "output_type": "stream",
     "text": []
    },
    {
     "name": "stdout",
     "output_type": "stream",
     "text": [
      "Python DevOps Engineer > Advanced\n",
      "Write unit test\n"
     ]
    },
    {
     "name": "stderr",
     "output_type": "stream",
     "text": []
    },
    {
     "name": "stdout",
     "output_type": "stream",
     "text": [
      "Python DevOps Engineer > Advanced\n",
      "Skip\n"
     ]
    },
    {
     "name": "stderr",
     "output_type": "stream",
     "text": []
    },
    {
     "name": "stdout",
     "output_type": "stream",
     "text": [
      "Python DevOps Engineer > Advanced\n",
      "Skip\n"
     ]
    },
    {
     "name": "stderr",
     "output_type": "stream",
     "text": []
    },
    {
     "name": "stdout",
     "output_type": "stream",
     "text": [
      "Python DevOps Engineer > Advanced\n",
      "Debug and fix code\n"
     ]
    },
    {
     "name": "stderr",
     "output_type": "stream",
     "text": []
    },
    {
     "name": "stdout",
     "output_type": "stream",
     "text": [
      "Python DevOps Engineer > Advanced\n",
      "Skip\n"
     ]
    },
    {
     "name": "stderr",
     "output_type": "stream",
     "text": []
    },
    {
     "name": "stdout",
     "output_type": "stream",
     "text": [
      "Python DevOps Engineer > Advanced\n",
      "Debugging and Troubleshooting - Debug error trace\n"
     ]
    },
    {
     "name": "stderr",
     "output_type": "stream",
     "text": []
    },
    {
     "name": "stdout",
     "output_type": "stream",
     "text": [
      "Python DevOps Engineer > Advanced\n",
      "Learning - Learn to use some tool / infra\n"
     ]
    },
    {
     "name": "stderr",
     "output_type": "stream",
     "text": []
    },
    {
     "name": "stdout",
     "output_type": "stream",
     "text": [
      "Python DevOps Engineer > Expert\n",
      "General coding help - Rewrite code using better formatting / best practises\n"
     ]
    },
    {
     "name": "stderr",
     "output_type": "stream",
     "text": []
    },
    {
     "name": "stdout",
     "output_type": "stream",
     "text": [
      "Python DevOps Engineer > Expert\n",
      "Do a code review\n"
     ]
    },
    {
     "name": "stderr",
     "output_type": "stream",
     "text": []
    },
    {
     "name": "stdout",
     "output_type": "stream",
     "text": [
      "Python DevOps Engineer > Expert\n",
      "Write unit test\n"
     ]
    },
    {
     "name": "stderr",
     "output_type": "stream",
     "text": []
    },
    {
     "name": "stdout",
     "output_type": "stream",
     "text": [
      "Python DevOps Engineer > Expert\n",
      "Debug and fix code\n"
     ]
    },
    {
     "name": "stderr",
     "output_type": "stream",
     "text": []
    },
    {
     "name": "stdout",
     "output_type": "stream",
     "text": [
      "Python DevOps Engineer > Expert\n",
      "Interview preparation - System Design rounds\n"
     ]
    },
    {
     "name": "stderr",
     "output_type": "stream",
     "text": []
    },
    {
     "name": "stdout",
     "output_type": "stream",
     "text": [
      "Python DevOps Engineer > Expert\n",
      "Interview preparation - Proactively ask follow up questions\n"
     ]
    },
    {
     "name": "stderr",
     "output_type": "stream",
     "text": []
    },
    {
     "name": "stdout",
     "output_type": "stream",
     "text": [
      "Python DevOps Engineer > Expert\n",
      "Debugging and Troubleshooting - Debug error trace\n"
     ]
    },
    {
     "name": "stderr",
     "output_type": "stream",
     "text": []
    },
    {
     "name": "stdout",
     "output_type": "stream",
     "text": [
      "Python DevOps Engineer > Expert\n",
      "Learning - Learn to use some tool / infra\n"
     ]
    },
    {
     "name": "stderr",
     "output_type": "stream",
     "text": []
    },
    {
     "name": "stdout",
     "output_type": "stream",
     "text": [
      "Front-End Developer > First Timer\n",
      "Basic scripting - Write simple code in Javascript\n"
     ]
    },
    {
     "name": "stderr",
     "output_type": "stream",
     "text": []
    },
    {
     "name": "stdout",
     "output_type": "stream",
     "text": [
      "Front-End Developer > First Timer\n",
      "General coding help\n",
      "Front-End Developer > First Timer\n",
      "Rewrite code using better formatting / best practises\n"
     ]
    },
    {
     "name": "stderr",
     "output_type": "stream",
     "text": []
    },
    {
     "name": "stdout",
     "output_type": "stream",
     "text": [
      "Front-End Developer > First Timer\n",
      "General coding help\n"
     ]
    },
    {
     "name": "stderr",
     "output_type": "stream",
     "text": []
    },
    {
     "name": "stdout",
     "output_type": "stream",
     "text": [
      "Front-End Developer > First Timer\n",
      "General coding help\n"
     ]
    },
    {
     "name": "stderr",
     "output_type": "stream",
     "text": []
    },
    {
     "name": "stdout",
     "output_type": "stream",
     "text": [
      "Front-End Developer > First Timer\n",
      "General coding help\n"
     ]
    },
    {
     "name": "stderr",
     "output_type": "stream",
     "text": []
    },
    {
     "name": "stdout",
     "output_type": "stream",
     "text": [
      "Front-End Developer > First Timer\n",
      "General coding help\n"
     ]
    },
    {
     "name": "stderr",
     "output_type": "stream",
     "text": []
    },
    {
     "name": "stdout",
     "output_type": "stream",
     "text": [
      "Front-End Developer > First Timer\n",
      "Write unit test\n"
     ]
    },
    {
     "name": "stderr",
     "output_type": "stream",
     "text": []
    },
    {
     "name": "stdout",
     "output_type": "stream",
     "text": [
      "Front-End Developer > First Timer\n",
      "Interview preparation - Explain areas where people usually make mistakes\n"
     ]
    },
    {
     "name": "stderr",
     "output_type": "stream",
     "text": []
    },
    {
     "name": "stdout",
     "output_type": "stream",
     "text": [
      "Front-End Developer > First Timer\n",
      "Interview preparation\n"
     ]
    },
    {
     "name": "stderr",
     "output_type": "stream",
     "text": []
    },
    {
     "name": "stdout",
     "output_type": "stream",
     "text": [
      "Front-End Developer > First Timer\n",
      "Interview preparation\n"
     ]
    },
    {
     "name": "stderr",
     "output_type": "stream",
     "text": []
    },
    {
     "name": "stdout",
     "output_type": "stream",
     "text": [
      "Front-End Developer > First Timer\n",
      "Interview preparation\n"
     ]
    },
    {
     "name": "stderr",
     "output_type": "stream",
     "text": []
    },
    {
     "name": "stdout",
     "output_type": "stream",
     "text": [
      "Front-End Developer > First Timer\n",
      "Interview preparation\n"
     ]
    },
    {
     "name": "stderr",
     "output_type": "stream",
     "text": []
    },
    {
     "name": "stdout",
     "output_type": "stream",
     "text": [
      "Front-End Developer > First Timer\n",
      "Debugging and Troubleshooting - Debug error trace\n"
     ]
    },
    {
     "name": "stderr",
     "output_type": "stream",
     "text": []
    },
    {
     "name": "stdout",
     "output_type": "stream",
     "text": [
      "Front-End Developer > First Timer\n",
      "Learning - Learn to program\n"
     ]
    },
    {
     "name": "stderr",
     "output_type": "stream",
     "text": []
    },
    {
     "name": "stdout",
     "output_type": "stream",
     "text": [
      "Front-End Developer > First Timer\n",
      "Learning - Learn to use some tool / infra\n"
     ]
    },
    {
     "name": "stderr",
     "output_type": "stream",
     "text": []
    },
    {
     "name": "stdout",
     "output_type": "stream",
     "text": [
      "Front-End Developer > Beginner\n",
      "Basic scripting - Write simple code in Javascript\n"
     ]
    },
    {
     "name": "stderr",
     "output_type": "stream",
     "text": []
    },
    {
     "name": "stdout",
     "output_type": "stream",
     "text": [
      "Front-End Developer > Beginner\n",
      "General coding help - Rewrite code using better formatting / best practises\n"
     ]
    },
    {
     "name": "stderr",
     "output_type": "stream",
     "text": []
    },
    {
     "name": "stdout",
     "output_type": "stream",
     "text": [
      "Front-End Developer > Beginner\n",
      "General coding help\n"
     ]
    },
    {
     "name": "stderr",
     "output_type": "stream",
     "text": []
    },
    {
     "name": "stdout",
     "output_type": "stream",
     "text": [
      "Front-End Developer > Beginner\n",
      "General coding help\n"
     ]
    },
    {
     "name": "stderr",
     "output_type": "stream",
     "text": []
    },
    {
     "name": "stdout",
     "output_type": "stream",
     "text": [
      "Front-End Developer > Beginner\n",
      "General coding help\n"
     ]
    },
    {
     "name": "stderr",
     "output_type": "stream",
     "text": []
    },
    {
     "name": "stdout",
     "output_type": "stream",
     "text": [
      "Front-End Developer > Beginner\n",
      "General coding help\n"
     ]
    },
    {
     "name": "stderr",
     "output_type": "stream",
     "text": []
    },
    {
     "name": "stdout",
     "output_type": "stream",
     "text": [
      "Front-End Developer > Beginner\n",
      "Write unit test\n"
     ]
    },
    {
     "name": "stderr",
     "output_type": "stream",
     "text": []
    },
    {
     "name": "stdout",
     "output_type": "stream",
     "text": [
      "Front-End Developer > Beginner\n",
      "Interview preparation - Explain areas where people usually make mistakes\n"
     ]
    },
    {
     "name": "stderr",
     "output_type": "stream",
     "text": []
    },
    {
     "name": "stdout",
     "output_type": "stream",
     "text": [
      "Front-End Developer > Beginner\n",
      "Debug and fix code\n"
     ]
    },
    {
     "name": "stderr",
     "output_type": "stream",
     "text": []
    },
    {
     "name": "stdout",
     "output_type": "stream",
     "text": [
      "Front-End Developer > Beginner\n",
      "Interview preparation\n"
     ]
    },
    {
     "name": "stderr",
     "output_type": "stream",
     "text": []
    },
    {
     "name": "stdout",
     "output_type": "stream",
     "text": [
      "Front-End Developer > Beginner\n",
      "Debugging and Troubleshooting - Debug error trace\n"
     ]
    },
    {
     "name": "stderr",
     "output_type": "stream",
     "text": []
    },
    {
     "name": "stdout",
     "output_type": "stream",
     "text": [
      "Front-End Developer > Beginner\n",
      "Learning - Learn to program\n"
     ]
    },
    {
     "name": "stderr",
     "output_type": "stream",
     "text": []
    },
    {
     "name": "stdout",
     "output_type": "stream",
     "text": [
      "Front-End Developer > Beginner\n",
      "Learning - Learn to use some tool / infra\n"
     ]
    },
    {
     "name": "stderr",
     "output_type": "stream",
     "text": []
    },
    {
     "name": "stdout",
     "output_type": "stream",
     "text": [
      "Front-End Developer > Intermediate\n",
      "Basic scripting - Write simple code in Javascript\n"
     ]
    },
    {
     "name": "stderr",
     "output_type": "stream",
     "text": []
    },
    {
     "name": "stdout",
     "output_type": "stream",
     "text": [
      "Front-End Developer > Intermediate\n",
      "General coding help - Rewrite code using better formatting / best practises\n"
     ]
    },
    {
     "name": "stderr",
     "output_type": "stream",
     "text": []
    },
    {
     "name": "stdout",
     "output_type": "stream",
     "text": [
      "Front-End Developer > Intermediate\n",
      "Refactor code\n"
     ]
    },
    {
     "name": "stderr",
     "output_type": "stream",
     "text": []
    },
    {
     "name": "stdout",
     "output_type": "stream",
     "text": [
      "Front-End Developer > Intermediate\n",
      "Do a code review\n"
     ]
    },
    {
     "name": "stderr",
     "output_type": "stream",
     "text": []
    },
    {
     "name": "stdout",
     "output_type": "stream",
     "text": [
      "Front-End Developer > Intermediate\n",
      "Write unit test\n"
     ]
    },
    {
     "name": "stderr",
     "output_type": "stream",
     "text": []
    },
    {
     "name": "stdout",
     "output_type": "stream",
     "text": [
      "Front-End Developer > Intermediate\n",
      "Debug and fix code\n"
     ]
    },
    {
     "name": "stderr",
     "output_type": "stream",
     "text": []
    },
    {
     "name": "stdout",
     "output_type": "stream",
     "text": [
      "Front-End Developer > Intermediate\n",
      "Proactively ask follow up questions\n"
     ]
    },
    {
     "name": "stderr",
     "output_type": "stream",
     "text": []
    },
    {
     "name": "stdout",
     "output_type": "stream",
     "text": [
      "Front-End Developer > Intermediate\n",
      "Debugging and Troubleshooting - Debug error trace\n"
     ]
    },
    {
     "name": "stderr",
     "output_type": "stream",
     "text": []
    },
    {
     "name": "stdout",
     "output_type": "stream",
     "text": [
      "Front-End Developer > Intermediate\n",
      "Learning - Learn to use some tool / infra\n"
     ]
    },
    {
     "name": "stderr",
     "output_type": "stream",
     "text": []
    },
    {
     "name": "stdout",
     "output_type": "stream",
     "text": [
      "Front-End Developer > Advanced\n",
      "General coding help - Rewrite code using better formatting / best practises\n"
     ]
    },
    {
     "name": "stderr",
     "output_type": "stream",
     "text": []
    },
    {
     "name": "stdout",
     "output_type": "stream",
     "text": [
      "Front-End Developer > Advanced\n",
      "Refactor code\n"
     ]
    },
    {
     "name": "stderr",
     "output_type": "stream",
     "text": []
    },
    {
     "name": "stdout",
     "output_type": "stream",
     "text": [
      "Front-End Developer > Advanced\n",
      "Do a code review\n"
     ]
    },
    {
     "name": "stderr",
     "output_type": "stream",
     "text": []
    },
    {
     "name": "stdout",
     "output_type": "stream",
     "text": [
      "Front-End Developer > Advanced\n",
      "Write unit test\n"
     ]
    },
    {
     "name": "stderr",
     "output_type": "stream",
     "text": []
    },
    {
     "name": "stdout",
     "output_type": "stream",
     "text": [
      "Front-End Developer > Advanced\n",
      "Interview preparation - Explain areas where people usually make mistakes\n"
     ]
    },
    {
     "name": "stderr",
     "output_type": "stream",
     "text": []
    },
    {
     "name": "stdout",
     "output_type": "stream",
     "text": [
      "Front-End Developer > Advanced\n",
      "Debug and fix code\n"
     ]
    },
    {
     "name": "stderr",
     "output_type": "stream",
     "text": []
    },
    {
     "name": "stdout",
     "output_type": "stream",
     "text": [
      "Front-End Developer > Advanced\n",
      "Debugging and Troubleshooting - Debug error trace\n"
     ]
    },
    {
     "name": "stderr",
     "output_type": "stream",
     "text": []
    },
    {
     "name": "stdout",
     "output_type": "stream",
     "text": [
      "Front-End Developer > Advanced\n",
      "Learning - Learn to use some tool / infra\n"
     ]
    },
    {
     "name": "stderr",
     "output_type": "stream",
     "text": []
    },
    {
     "name": "stdout",
     "output_type": "stream",
     "text": [
      "Front-End Developer > Expert\n",
      "Basic scripting - Write simple code in Javascript\n"
     ]
    },
    {
     "name": "stderr",
     "output_type": "stream",
     "text": []
    },
    {
     "name": "stdout",
     "output_type": "stream",
     "text": [
      "Front-End Developer > Expert\n",
      "General coding help - Rewrite code using better formatting / best practises\n"
     ]
    },
    {
     "name": "stderr",
     "output_type": "stream",
     "text": []
    },
    {
     "name": "stdout",
     "output_type": "stream",
     "text": [
      "Front-End Developer > Expert\n",
      "Refactor code\n"
     ]
    },
    {
     "name": "stderr",
     "output_type": "stream",
     "text": []
    },
    {
     "name": "stdout",
     "output_type": "stream",
     "text": [
      "Front-End Developer > Expert\n",
      "Do a code review\n"
     ]
    },
    {
     "name": "stderr",
     "output_type": "stream",
     "text": []
    },
    {
     "name": "stdout",
     "output_type": "stream",
     "text": [
      "Front-End Developer > Expert\n",
      "Write unit test\n"
     ]
    },
    {
     "name": "stderr",
     "output_type": "stream",
     "text": []
    },
    {
     "name": "stdout",
     "output_type": "stream",
     "text": [
      "Front-End Developer > Expert\n",
      "Debug and fix code\n"
     ]
    },
    {
     "name": "stderr",
     "output_type": "stream",
     "text": []
    },
    {
     "name": "stdout",
     "output_type": "stream",
     "text": [
      "Front-End Developer > Expert\n",
      "Proactively ask follow up questions\n"
     ]
    },
    {
     "name": "stderr",
     "output_type": "stream",
     "text": []
    },
    {
     "name": "stdout",
     "output_type": "stream",
     "text": [
      "Front-End Developer > Expert\n",
      "Debugging and Troubleshooting - Debug error trace\n"
     ]
    },
    {
     "name": "stderr",
     "output_type": "stream",
     "text": []
    },
    {
     "name": "stdout",
     "output_type": "stream",
     "text": [
      "Front-End Developer > Expert\n",
      "Learning - Learn to use some tool / infra\n"
     ]
    },
    {
     "name": "stderr",
     "output_type": "stream",
     "text": []
    },
    {
     "name": "stdout",
     "output_type": "stream",
     "text": [
      "Backend Developer > First Timer\n",
      "Basic scripting - Write simple code in Javascript\n"
     ]
    },
    {
     "name": "stderr",
     "output_type": "stream",
     "text": []
    },
    {
     "name": "stdout",
     "output_type": "stream",
     "text": [
      "Backend Developer > First Timer\n",
      "General coding help\n",
      "Backend Developer > First Timer\n",
      "Rewrite code using better formatting / best practises\n"
     ]
    },
    {
     "name": "stderr",
     "output_type": "stream",
     "text": []
    },
    {
     "name": "stdout",
     "output_type": "stream",
     "text": [
      "Backend Developer > First Timer\n",
      "General coding help\n"
     ]
    },
    {
     "name": "stderr",
     "output_type": "stream",
     "text": []
    },
    {
     "name": "stdout",
     "output_type": "stream",
     "text": [
      "Backend Developer > First Timer\n",
      "General coding help\n"
     ]
    },
    {
     "name": "stderr",
     "output_type": "stream",
     "text": []
    },
    {
     "name": "stdout",
     "output_type": "stream",
     "text": [
      "Backend Developer > First Timer\n",
      "General coding help\n"
     ]
    },
    {
     "name": "stderr",
     "output_type": "stream",
     "text": []
    },
    {
     "name": "stdout",
     "output_type": "stream",
     "text": [
      "Backend Developer > First Timer\n",
      "General coding help\n"
     ]
    },
    {
     "name": "stderr",
     "output_type": "stream",
     "text": []
    },
    {
     "name": "stdout",
     "output_type": "stream",
     "text": [
      "Backend Developer > First Timer\n",
      "Write unit test\n"
     ]
    },
    {
     "name": "stderr",
     "output_type": "stream",
     "text": []
    },
    {
     "name": "stdout",
     "output_type": "stream",
     "text": [
      "Backend Developer > First Timer\n",
      "Interview preparation\n"
     ]
    },
    {
     "name": "stderr",
     "output_type": "stream",
     "text": []
    },
    {
     "name": "stdout",
     "output_type": "stream",
     "text": [
      "Backend Developer > First Timer\n",
      "Interview preparation - Explain areas where people usually make mistakes\n"
     ]
    },
    {
     "name": "stderr",
     "output_type": "stream",
     "text": []
    },
    {
     "name": "stdout",
     "output_type": "stream",
     "text": [
      "Backend Developer > First Timer\n",
      "Interview preparation\n"
     ]
    },
    {
     "name": "stderr",
     "output_type": "stream",
     "text": []
    },
    {
     "name": "stdout",
     "output_type": "stream",
     "text": [
      "Backend Developer > First Timer\n",
      "Debug and fix code\n"
     ]
    },
    {
     "name": "stderr",
     "output_type": "stream",
     "text": []
    },
    {
     "name": "stdout",
     "output_type": "stream",
     "text": [
      "Backend Developer > First Timer\n",
      "Interview preparation - System Design rounds\n"
     ]
    },
    {
     "name": "stderr",
     "output_type": "stream",
     "text": []
    },
    {
     "name": "stdout",
     "output_type": "stream",
     "text": [
      "Backend Developer > First Timer\n",
      "Interview preparation\n"
     ]
    },
    {
     "name": "stderr",
     "output_type": "stream",
     "text": []
    },
    {
     "name": "stdout",
     "output_type": "stream",
     "text": [
      "Backend Developer > First Timer\n",
      "Interview preparation\n"
     ]
    },
    {
     "name": "stderr",
     "output_type": "stream",
     "text": []
    },
    {
     "name": "stdout",
     "output_type": "stream",
     "text": [
      "Backend Developer > First Timer\n",
      "Debugging and Troubleshooting - Debug error trace\n"
     ]
    },
    {
     "name": "stderr",
     "output_type": "stream",
     "text": []
    },
    {
     "name": "stdout",
     "output_type": "stream",
     "text": [
      "Backend Developer > First Timer\n",
      "Learning - Learn to program\n"
     ]
    },
    {
     "name": "stderr",
     "output_type": "stream",
     "text": []
    },
    {
     "name": "stdout",
     "output_type": "stream",
     "text": [
      "Backend Developer > First Timer\n",
      "Learning - Learn to use some tool / infra\n"
     ]
    },
    {
     "name": "stderr",
     "output_type": "stream",
     "text": []
    },
    {
     "name": "stdout",
     "output_type": "stream",
     "text": [
      "Backend Developer > Beginner\n",
      "Basic scripting - Write simple code in Javascript\n"
     ]
    },
    {
     "name": "stderr",
     "output_type": "stream",
     "text": []
    },
    {
     "name": "stdout",
     "output_type": "stream",
     "text": [
      "Backend Developer > Beginner\n",
      "General coding help - Rewrite code using better formatting / best practises\n"
     ]
    },
    {
     "name": "stderr",
     "output_type": "stream",
     "text": []
    },
    {
     "name": "stdout",
     "output_type": "stream",
     "text": [
      "Backend Developer > Beginner\n",
      "General coding help\n"
     ]
    },
    {
     "name": "stderr",
     "output_type": "stream",
     "text": []
    },
    {
     "name": "stdout",
     "output_type": "stream",
     "text": [
      "Backend Developer > Beginner\n",
      "General coding help\n"
     ]
    },
    {
     "name": "stderr",
     "output_type": "stream",
     "text": []
    },
    {
     "name": "stdout",
     "output_type": "stream",
     "text": [
      "Backend Developer > Beginner\n",
      "General coding help\n"
     ]
    },
    {
     "name": "stderr",
     "output_type": "stream",
     "text": []
    },
    {
     "name": "stdout",
     "output_type": "stream",
     "text": [
      "Backend Developer > Beginner\n",
      "General coding help\n"
     ]
    },
    {
     "name": "stderr",
     "output_type": "stream",
     "text": []
    },
    {
     "name": "stdout",
     "output_type": "stream",
     "text": [
      "Backend Developer > Beginner\n",
      "Write unit test\n"
     ]
    },
    {
     "name": "stderr",
     "output_type": "stream",
     "text": []
    },
    {
     "name": "stdout",
     "output_type": "stream",
     "text": [
      "Backend Developer > Beginner\n",
      "Interview preparation\n"
     ]
    },
    {
     "name": "stderr",
     "output_type": "stream",
     "text": []
    },
    {
     "name": "stdout",
     "output_type": "stream",
     "text": [
      "Backend Developer > Beginner\n",
      "Debug and fix code\n"
     ]
    },
    {
     "name": "stderr",
     "output_type": "stream",
     "text": []
    },
    {
     "name": "stdout",
     "output_type": "stream",
     "text": [
      "Backend Developer > Beginner\n",
      "Interview preparation\n"
     ]
    },
    {
     "name": "stderr",
     "output_type": "stream",
     "text": []
    },
    {
     "name": "stdout",
     "output_type": "stream",
     "text": [
      "Backend Developer > Beginner\n",
      "Debugging and Troubleshooting - Debug error trace\n"
     ]
    },
    {
     "name": "stderr",
     "output_type": "stream",
     "text": []
    },
    {
     "name": "stdout",
     "output_type": "stream",
     "text": [
      "Backend Developer > Beginner\n",
      "Learning - Learn to program\n"
     ]
    },
    {
     "name": "stderr",
     "output_type": "stream",
     "text": []
    },
    {
     "name": "stdout",
     "output_type": "stream",
     "text": [
      "Backend Developer > Beginner\n",
      "Learning - Learn to use some tool / infra\n"
     ]
    },
    {
     "name": "stderr",
     "output_type": "stream",
     "text": []
    },
    {
     "name": "stdout",
     "output_type": "stream",
     "text": [
      "Backend Developer > Intermediate\n",
      "General coding help - Rewrite code using better formatting / best practises\n"
     ]
    },
    {
     "name": "stderr",
     "output_type": "stream",
     "text": []
    },
    {
     "name": "stdout",
     "output_type": "stream",
     "text": [
      "Backend Developer > Intermediate\n",
      "Refactor code\n"
     ]
    },
    {
     "name": "stderr",
     "output_type": "stream",
     "text": []
    },
    {
     "name": "stdout",
     "output_type": "stream",
     "text": [
      "Backend Developer > Intermediate\n",
      "General coding help\n"
     ]
    },
    {
     "name": "stderr",
     "output_type": "stream",
     "text": []
    },
    {
     "name": "stdout",
     "output_type": "stream",
     "text": [
      "Backend Developer > Intermediate\n",
      "Do a code review\n"
     ]
    },
    {
     "name": "stderr",
     "output_type": "stream",
     "text": []
    },
    {
     "name": "stdout",
     "output_type": "stream",
     "text": [
      "Backend Developer > Intermediate\n",
      "Write unit test\n"
     ]
    },
    {
     "name": "stderr",
     "output_type": "stream",
     "text": []
    },
    {
     "name": "stdout",
     "output_type": "stream",
     "text": [
      "Backend Developer > Intermediate\n",
      "Interview preparation - Explain areas where people usually make mistakes\n"
     ]
    },
    {
     "name": "stderr",
     "output_type": "stream",
     "text": []
    },
    {
     "name": "stdout",
     "output_type": "stream",
     "text": [
      "Backend Developer > Intermediate\n",
      "Interview preparation - Explain alternative solutions and trade offs\n"
     ]
    },
    {
     "name": "stderr",
     "output_type": "stream",
     "text": []
    },
    {
     "name": "stdout",
     "output_type": "stream",
     "text": [
      "Backend Developer > Intermediate\n",
      "Debug and fix code\n"
     ]
    },
    {
     "name": "stderr",
     "output_type": "stream",
     "text": []
    },
    {
     "name": "stdout",
     "output_type": "stream",
     "text": [
      "Backend Developer > Intermediate\n",
      "Interview preparation - System Design rounds\n"
     ]
    },
    {
     "name": "stderr",
     "output_type": "stream",
     "text": []
    },
    {
     "name": "stdout",
     "output_type": "stream",
     "text": [
      "Backend Developer > Intermediate\n",
      "Debugging and Troubleshooting - Debug error trace\n"
     ]
    },
    {
     "name": "stderr",
     "output_type": "stream",
     "text": []
    },
    {
     "name": "stdout",
     "output_type": "stream",
     "text": [
      "Backend Developer > Intermediate\n",
      "Learning - Learn to use some tool / infra\n"
     ]
    },
    {
     "name": "stderr",
     "output_type": "stream",
     "text": []
    },
    {
     "name": "stdout",
     "output_type": "stream",
     "text": [
      "Backend Developer > Advanced\n",
      "General coding help - Rewrite code using better formatting / best practises\n"
     ]
    },
    {
     "name": "stderr",
     "output_type": "stream",
     "text": []
    },
    {
     "name": "stdout",
     "output_type": "stream",
     "text": [
      "Backend Developer > Advanced\n",
      "Refactor code\n"
     ]
    },
    {
     "name": "stderr",
     "output_type": "stream",
     "text": []
    },
    {
     "name": "stdout",
     "output_type": "stream",
     "text": [
      "Backend Developer > Advanced\n",
      "Do a code review\n"
     ]
    },
    {
     "name": "stderr",
     "output_type": "stream",
     "text": []
    },
    {
     "name": "stdout",
     "output_type": "stream",
     "text": [
      "Backend Developer > Advanced\n",
      "Write unit test\n"
     ]
    },
    {
     "name": "stderr",
     "output_type": "stream",
     "text": []
    },
    {
     "name": "stdout",
     "output_type": "stream",
     "text": [
      "Backend Developer > Advanced\n",
      "Interview preparation - Explain alternative solutions and trade offs\n"
     ]
    },
    {
     "name": "stderr",
     "output_type": "stream",
     "text": []
    },
    {
     "name": "stdout",
     "output_type": "stream",
     "text": [
      "Backend Developer > Advanced\n",
      "Debug and fix code\n"
     ]
    },
    {
     "name": "stderr",
     "output_type": "stream",
     "text": []
    },
    {
     "name": "stdout",
     "output_type": "stream",
     "text": [
      "Backend Developer > Advanced\n",
      "Interview preparation - System Design rounds\n"
     ]
    },
    {
     "name": "stderr",
     "output_type": "stream",
     "text": []
    },
    {
     "name": "stdout",
     "output_type": "stream",
     "text": [
      "Backend Developer > Advanced\n",
      "Debugging and Troubleshooting - Debug error trace\n"
     ]
    },
    {
     "name": "stderr",
     "output_type": "stream",
     "text": []
    },
    {
     "name": "stdout",
     "output_type": "stream",
     "text": [
      "Backend Developer > Advanced\n",
      "Learning - Learn to use some tool / infra\n"
     ]
    },
    {
     "name": "stderr",
     "output_type": "stream",
     "text": []
    },
    {
     "name": "stdout",
     "output_type": "stream",
     "text": [
      "Backend Developer > Expert\n",
      "General coding help - Rewrite code using better formatting / best practises\n"
     ]
    },
    {
     "name": "stderr",
     "output_type": "stream",
     "text": []
    },
    {
     "name": "stdout",
     "output_type": "stream",
     "text": [
      "Backend Developer > Expert\n",
      "Refactor code\n"
     ]
    },
    {
     "name": "stderr",
     "output_type": "stream",
     "text": []
    },
    {
     "name": "stdout",
     "output_type": "stream",
     "text": [
      "Backend Developer > Expert\n",
      "Do a code review\n"
     ]
    },
    {
     "name": "stderr",
     "output_type": "stream",
     "text": []
    },
    {
     "name": "stdout",
     "output_type": "stream",
     "text": [
      "Backend Developer > Expert\n",
      "Write unit test\n"
     ]
    },
    {
     "name": "stderr",
     "output_type": "stream",
     "text": []
    },
    {
     "name": "stdout",
     "output_type": "stream",
     "text": [
      "Backend Developer > Expert\n",
      "Interview preparation - Explain alternative solutions and trade offs\n"
     ]
    },
    {
     "name": "stderr",
     "output_type": "stream",
     "text": []
    },
    {
     "name": "stdout",
     "output_type": "stream",
     "text": [
      "Backend Developer > Expert\n",
      "Debug and fix code\n"
     ]
    },
    {
     "name": "stderr",
     "output_type": "stream",
     "text": []
    },
    {
     "name": "stdout",
     "output_type": "stream",
     "text": [
      "Backend Developer > Expert\n",
      "Interview preparation - System Design rounds\n"
     ]
    },
    {
     "name": "stderr",
     "output_type": "stream",
     "text": []
    },
    {
     "name": "stdout",
     "output_type": "stream",
     "text": [
      "Backend Developer > Expert\n",
      "Skip\n"
     ]
    },
    {
     "name": "stderr",
     "output_type": "stream",
     "text": []
    },
    {
     "name": "stdout",
     "output_type": "stream",
     "text": [
      "Backend Developer > Expert\n",
      "Debugging and Troubleshooting - Debug error trace\n"
     ]
    },
    {
     "name": "stderr",
     "output_type": "stream",
     "text": []
    },
    {
     "name": "stdout",
     "output_type": "stream",
     "text": [
      "Backend Developer > Expert\n",
      "Learning - Learn to use some tool / infra\n"
     ]
    },
    {
     "name": "stderr",
     "output_type": "stream",
     "text": []
    },
    {
     "name": "stdout",
     "output_type": "stream",
     "text": [
      "Full-Stack Developer > First Timer\n",
      "Basic scripting - Write simple code in Javascript\n"
     ]
    },
    {
     "name": "stderr",
     "output_type": "stream",
     "text": []
    },
    {
     "name": "stdout",
     "output_type": "stream",
     "text": [
      "Full-Stack Developer > First Timer\n",
      "General coding help\n",
      "Full-Stack Developer > First Timer\n",
      "Rewrite code using better formatting / best practises\n"
     ]
    },
    {
     "name": "stderr",
     "output_type": "stream",
     "text": []
    },
    {
     "name": "stdout",
     "output_type": "stream",
     "text": [
      "Full-Stack Developer > First Timer\n",
      "General coding help\n"
     ]
    },
    {
     "name": "stderr",
     "output_type": "stream",
     "text": []
    },
    {
     "name": "stdout",
     "output_type": "stream",
     "text": [
      "Full-Stack Developer > First Timer\n",
      "General coding help\n"
     ]
    },
    {
     "name": "stderr",
     "output_type": "stream",
     "text": []
    },
    {
     "name": "stdout",
     "output_type": "stream",
     "text": [
      "Full-Stack Developer > First Timer\n",
      "General coding help\n"
     ]
    },
    {
     "name": "stderr",
     "output_type": "stream",
     "text": []
    },
    {
     "name": "stdout",
     "output_type": "stream",
     "text": [
      "Full-Stack Developer > First Timer\n",
      "General coding help\n"
     ]
    },
    {
     "name": "stderr",
     "output_type": "stream",
     "text": []
    },
    {
     "name": "stdout",
     "output_type": "stream",
     "text": [
      "Full-Stack Developer > First Timer\n",
      "Write unit test\n"
     ]
    },
    {
     "name": "stderr",
     "output_type": "stream",
     "text": []
    },
    {
     "name": "stdout",
     "output_type": "stream",
     "text": [
      "Full-Stack Developer > First Timer\n",
      "Interview preparation - Explain the problem step by step\n"
     ]
    },
    {
     "name": "stderr",
     "output_type": "stream",
     "text": []
    },
    {
     "name": "stdout",
     "output_type": "stream",
     "text": [
      "Full-Stack Developer > First Timer\n",
      "Interview preparation - Explain areas where people usually make mistakes\n"
     ]
    },
    {
     "name": "stderr",
     "output_type": "stream",
     "text": []
    },
    {
     "name": "stdout",
     "output_type": "stream",
     "text": [
      "Full-Stack Developer > First Timer\n",
      "Interview preparation\n"
     ]
    },
    {
     "name": "stderr",
     "output_type": "stream",
     "text": []
    },
    {
     "name": "stdout",
     "output_type": "stream",
     "text": [
      "Full-Stack Developer > First Timer\n",
      "Interview preparation\n"
     ]
    },
    {
     "name": "stderr",
     "output_type": "stream",
     "text": []
    },
    {
     "name": "stdout",
     "output_type": "stream",
     "text": [
      "Full-Stack Developer > First Timer\n",
      "Interview preparation - System Design rounds\n"
     ]
    },
    {
     "name": "stderr",
     "output_type": "stream",
     "text": []
    },
    {
     "name": "stdout",
     "output_type": "stream",
     "text": [
      "Full-Stack Developer > First Timer\n",
      "Interview preparation\n"
     ]
    },
    {
     "name": "stderr",
     "output_type": "stream",
     "text": []
    },
    {
     "name": "stdout",
     "output_type": "stream",
     "text": [
      "Full-Stack Developer > First Timer\n",
      "Interview preparation\n"
     ]
    },
    {
     "name": "stderr",
     "output_type": "stream",
     "text": []
    },
    {
     "name": "stdout",
     "output_type": "stream",
     "text": [
      "Full-Stack Developer > First Timer\n",
      "Debugging and Troubleshooting - Debug error trace\n"
     ]
    },
    {
     "name": "stderr",
     "output_type": "stream",
     "text": []
    },
    {
     "name": "stdout",
     "output_type": "stream",
     "text": [
      "Full-Stack Developer > First Timer\n",
      "Learning - Learn to program\n"
     ]
    },
    {
     "name": "stderr",
     "output_type": "stream",
     "text": []
    },
    {
     "name": "stdout",
     "output_type": "stream",
     "text": [
      "Full-Stack Developer > First Timer\n",
      "Learning - Learn to use some tool / infra\n"
     ]
    },
    {
     "name": "stderr",
     "output_type": "stream",
     "text": []
    },
    {
     "name": "stdout",
     "output_type": "stream",
     "text": [
      "Full-Stack Developer > Beginner\n",
      "Basic scripting - Write simple code in Javascript\n"
     ]
    },
    {
     "name": "stderr",
     "output_type": "stream",
     "text": []
    },
    {
     "name": "stdout",
     "output_type": "stream",
     "text": [
      "Full-Stack Developer > Beginner\n",
      "General coding help - Rewrite code using better formatting / best practises\n"
     ]
    },
    {
     "name": "stderr",
     "output_type": "stream",
     "text": []
    },
    {
     "name": "stdout",
     "output_type": "stream",
     "text": [
      "Full-Stack Developer > Beginner\n",
      "General coding help\n"
     ]
    },
    {
     "name": "stderr",
     "output_type": "stream",
     "text": []
    },
    {
     "name": "stdout",
     "output_type": "stream",
     "text": [
      "Full-Stack Developer > Beginner\n",
      "General coding help\n"
     ]
    },
    {
     "name": "stderr",
     "output_type": "stream",
     "text": []
    },
    {
     "name": "stdout",
     "output_type": "stream",
     "text": [
      "Full-Stack Developer > Beginner\n",
      "General coding help\n"
     ]
    },
    {
     "name": "stderr",
     "output_type": "stream",
     "text": []
    },
    {
     "name": "stdout",
     "output_type": "stream",
     "text": [
      "Full-Stack Developer > Beginner\n",
      "Write unit test\n"
     ]
    },
    {
     "name": "stderr",
     "output_type": "stream",
     "text": []
    },
    {
     "name": "stdout",
     "output_type": "stream",
     "text": [
      "Full-Stack Developer > Beginner\n",
      "Skip\n"
     ]
    },
    {
     "name": "stderr",
     "output_type": "stream",
     "text": []
    },
    {
     "name": "stdout",
     "output_type": "stream",
     "text": [
      "Full-Stack Developer > Beginner\n",
      "Interview preparation\n"
     ]
    },
    {
     "name": "stderr",
     "output_type": "stream",
     "text": []
    },
    {
     "name": "stdout",
     "output_type": "stream",
     "text": [
      "Full-Stack Developer > Beginner\n",
      "Debug and fix code\n"
     ]
    },
    {
     "name": "stderr",
     "output_type": "stream",
     "text": []
    },
    {
     "name": "stdout",
     "output_type": "stream",
     "text": [
      "Full-Stack Developer > Beginner\n",
      "Debugging and Troubleshooting - Debug error trace\n"
     ]
    },
    {
     "name": "stderr",
     "output_type": "stream",
     "text": []
    },
    {
     "name": "stdout",
     "output_type": "stream",
     "text": [
      "Full-Stack Developer > Beginner\n",
      "Learning - Learn to program\n"
     ]
    },
    {
     "name": "stderr",
     "output_type": "stream",
     "text": []
    },
    {
     "name": "stdout",
     "output_type": "stream",
     "text": [
      "Full-Stack Developer > Beginner\n",
      "Learning - Learn to use some tool / infra\n"
     ]
    },
    {
     "name": "stderr",
     "output_type": "stream",
     "text": []
    },
    {
     "name": "stdout",
     "output_type": "stream",
     "text": [
      "Full-Stack Developer > Intermediate\n",
      "Basic scripting - Write simple code in Javascript\n"
     ]
    },
    {
     "name": "stderr",
     "output_type": "stream",
     "text": []
    },
    {
     "name": "stdout",
     "output_type": "stream",
     "text": [
      "Full-Stack Developer > Intermediate\n",
      "General coding help - Rewrite code using better formatting / best practises\n"
     ]
    },
    {
     "name": "stderr",
     "output_type": "stream",
     "text": []
    },
    {
     "name": "stdout",
     "output_type": "stream",
     "text": [
      "Full-Stack Developer > Intermediate\n",
      "Refactor code\n"
     ]
    },
    {
     "name": "stderr",
     "output_type": "stream",
     "text": []
    },
    {
     "name": "stdout",
     "output_type": "stream",
     "text": [
      "Full-Stack Developer > Intermediate\n",
      "General coding help - Do a code review\n"
     ]
    },
    {
     "name": "stderr",
     "output_type": "stream",
     "text": []
    },
    {
     "name": "stdout",
     "output_type": "stream",
     "text": [
      "Full-Stack Developer > Intermediate\n",
      "Write unit test\n"
     ]
    },
    {
     "name": "stderr",
     "output_type": "stream",
     "text": []
    },
    {
     "name": "stdout",
     "output_type": "stream",
     "text": [
      "Full-Stack Developer > Intermediate\n",
      "Interview preparation - Explain alternative solutions and trade offs\n"
     ]
    },
    {
     "name": "stderr",
     "output_type": "stream",
     "text": []
    },
    {
     "name": "stdout",
     "output_type": "stream",
     "text": [
      "Full-Stack Developer > Intermediate\n",
      "Debug and fix code\n"
     ]
    },
    {
     "name": "stderr",
     "output_type": "stream",
     "text": []
    },
    {
     "name": "stdout",
     "output_type": "stream",
     "text": [
      "Full-Stack Developer > Intermediate\n",
      "Debugging and Troubleshooting - Debug error trace\n"
     ]
    },
    {
     "name": "stderr",
     "output_type": "stream",
     "text": []
    },
    {
     "name": "stdout",
     "output_type": "stream",
     "text": [
      "Full-Stack Developer > Intermediate\n",
      "Learning - Learn to use some tool / infra\n"
     ]
    },
    {
     "name": "stderr",
     "output_type": "stream",
     "text": []
    },
    {
     "name": "stdout",
     "output_type": "stream",
     "text": [
      "Full-Stack Developer > Advanced\n",
      "General coding help - Rewrite code using better formatting / best practises\n"
     ]
    },
    {
     "name": "stderr",
     "output_type": "stream",
     "text": []
    },
    {
     "name": "stdout",
     "output_type": "stream",
     "text": [
      "Full-Stack Developer > Advanced\n",
      "Refactor code\n"
     ]
    },
    {
     "name": "stderr",
     "output_type": "stream",
     "text": []
    },
    {
     "name": "stdout",
     "output_type": "stream",
     "text": [
      "Full-Stack Developer > Advanced\n",
      "Do a code review\n"
     ]
    },
    {
     "name": "stderr",
     "output_type": "stream",
     "text": []
    },
    {
     "name": "stdout",
     "output_type": "stream",
     "text": [
      "Full-Stack Developer > Advanced\n",
      "Write unit test\n"
     ]
    },
    {
     "name": "stderr",
     "output_type": "stream",
     "text": []
    },
    {
     "name": "stdout",
     "output_type": "stream",
     "text": [
      "Full-Stack Developer > Advanced\n",
      "Debug and fix code\n"
     ]
    },
    {
     "name": "stderr",
     "output_type": "stream",
     "text": []
    },
    {
     "name": "stdout",
     "output_type": "stream",
     "text": [
      "Full-Stack Developer > Advanced\n",
      "Interview preparation - System Design rounds\n"
     ]
    },
    {
     "name": "stderr",
     "output_type": "stream",
     "text": []
    },
    {
     "name": "stdout",
     "output_type": "stream",
     "text": [
      "Full-Stack Developer > Advanced\n",
      "Proactively ask follow up questions\n"
     ]
    },
    {
     "name": "stderr",
     "output_type": "stream",
     "text": []
    },
    {
     "name": "stdout",
     "output_type": "stream",
     "text": [
      "Full-Stack Developer > Advanced\n",
      "Debugging and Troubleshooting - Debug error trace\n"
     ]
    },
    {
     "name": "stderr",
     "output_type": "stream",
     "text": []
    },
    {
     "name": "stdout",
     "output_type": "stream",
     "text": [
      "Full-Stack Developer > Advanced\n",
      "Learning - Learn to use some tool / infra\n"
     ]
    },
    {
     "name": "stderr",
     "output_type": "stream",
     "text": []
    },
    {
     "name": "stdout",
     "output_type": "stream",
     "text": [
      "Full-Stack Developer > Expert\n",
      "General coding help - Rewrite code using better formatting / best practises\n"
     ]
    },
    {
     "name": "stderr",
     "output_type": "stream",
     "text": []
    },
    {
     "name": "stdout",
     "output_type": "stream",
     "text": [
      "Full-Stack Developer > Expert\n",
      "Refactor code\n"
     ]
    },
    {
     "name": "stderr",
     "output_type": "stream",
     "text": []
    },
    {
     "name": "stdout",
     "output_type": "stream",
     "text": [
      "Full-Stack Developer > Expert\n",
      "General coding help\n",
      "Full-Stack Developer > Expert\n",
      "Explain complex code snippets\n"
     ]
    },
    {
     "name": "stderr",
     "output_type": "stream",
     "text": []
    },
    {
     "name": "stdout",
     "output_type": "stream",
     "text": [
      "Full-Stack Developer > Expert\n",
      "Do a code review\n"
     ]
    },
    {
     "name": "stderr",
     "output_type": "stream",
     "text": []
    },
    {
     "name": "stdout",
     "output_type": "stream",
     "text": [
      "Full-Stack Developer > Expert\n",
      "Write unit test\n"
     ]
    },
    {
     "name": "stderr",
     "output_type": "stream",
     "text": []
    },
    {
     "name": "stdout",
     "output_type": "stream",
     "text": [
      "Full-Stack Developer > Expert\n",
      "Skip\n"
     ]
    },
    {
     "name": "stderr",
     "output_type": "stream",
     "text": []
    },
    {
     "name": "stdout",
     "output_type": "stream",
     "text": [
      "Full-Stack Developer > Expert\n",
      "Debug and fix code\n"
     ]
    },
    {
     "name": "stderr",
     "output_type": "stream",
     "text": []
    },
    {
     "name": "stdout",
     "output_type": "stream",
     "text": [
      "Full-Stack Developer > Expert\n",
      "Interview preparation - System Design rounds\n"
     ]
    },
    {
     "name": "stderr",
     "output_type": "stream",
     "text": []
    },
    {
     "name": "stdout",
     "output_type": "stream",
     "text": [
      "Full-Stack Developer > Expert\n",
      "Proactively ask follow up questions\n"
     ]
    },
    {
     "name": "stderr",
     "output_type": "stream",
     "text": []
    },
    {
     "name": "stdout",
     "output_type": "stream",
     "text": [
      "Full-Stack Developer > Expert\n",
      "Debugging and Troubleshooting - Debug error trace\n"
     ]
    },
    {
     "name": "stderr",
     "output_type": "stream",
     "text": []
    },
    {
     "name": "stdout",
     "output_type": "stream",
     "text": [
      "Full-Stack Developer > Expert\n",
      "Learning - Learn to use some tool / infra\n"
     ]
    },
    {
     "name": "stderr",
     "output_type": "stream",
     "text": []
    },
    {
     "name": "stdout",
     "output_type": "stream",
     "text": [
      "Machine Learning Engineer > First Timer\n",
      "General coding help - Rewrite code using better formatting / best practises\n"
     ]
    },
    {
     "name": "stderr",
     "output_type": "stream",
     "text": []
    },
    {
     "name": "stdout",
     "output_type": "stream",
     "text": [
      "Machine Learning Engineer > First Timer\n",
      "Explain code with comments\n"
     ]
    },
    {
     "name": "stderr",
     "output_type": "stream",
     "text": []
    },
    {
     "name": "stdout",
     "output_type": "stream",
     "text": [
      "Machine Learning Engineer > First Timer\n",
      "Interview preparation - Explain areas where people usually make mistakes\n"
     ]
    },
    {
     "name": "stderr",
     "output_type": "stream",
     "text": []
    },
    {
     "name": "stdout",
     "output_type": "stream",
     "text": [
      "Machine Learning Engineer > First Timer\n",
      "Interview preparation\n"
     ]
    },
    {
     "name": "stderr",
     "output_type": "stream",
     "text": []
    },
    {
     "name": "stdout",
     "output_type": "stream",
     "text": [
      "Machine Learning Engineer > First Timer\n",
      "Interview preparation\n"
     ]
    },
    {
     "name": "stderr",
     "output_type": "stream",
     "text": []
    },
    {
     "name": "stdout",
     "output_type": "stream",
     "text": [
      "Machine Learning Engineer > First Timer\n",
      "Interview preparation\n"
     ]
    },
    {
     "name": "stderr",
     "output_type": "stream",
     "text": []
    },
    {
     "name": "stdout",
     "output_type": "stream",
     "text": [
      "Machine Learning Engineer > First Timer\n",
      "Debugging and Troubleshooting - Debug error trace\n"
     ]
    },
    {
     "name": "stderr",
     "output_type": "stream",
     "text": []
    },
    {
     "name": "stdout",
     "output_type": "stream",
     "text": [
      "Machine Learning Engineer > First Timer\n",
      "Learning - Learn to program\n"
     ]
    },
    {
     "name": "stderr",
     "output_type": "stream",
     "text": []
    },
    {
     "name": "stdout",
     "output_type": "stream",
     "text": [
      "Machine Learning Engineer > First Timer\n",
      "Learning - Learn to use some tool / infra\n"
     ]
    },
    {
     "name": "stderr",
     "output_type": "stream",
     "text": []
    },
    {
     "name": "stdout",
     "output_type": "stream",
     "text": [
      "Machine Learning Engineer > Beginner\n",
      "General coding help - Rewrite code using better formatting / best practises\n"
     ]
    },
    {
     "name": "stderr",
     "output_type": "stream",
     "text": []
    },
    {
     "name": "stdout",
     "output_type": "stream",
     "text": [
      "Machine Learning Engineer > Beginner\n",
      "Debug and fix code\n"
     ]
    },
    {
     "name": "stderr",
     "output_type": "stream",
     "text": []
    },
    {
     "name": "stdout",
     "output_type": "stream",
     "text": [
      "Machine Learning Engineer > Beginner\n",
      "Proactively ask follow up questions\n"
     ]
    },
    {
     "name": "stderr",
     "output_type": "stream",
     "text": []
    },
    {
     "name": "stdout",
     "output_type": "stream",
     "text": [
      "Machine Learning Engineer > Beginner\n",
      "Debugging and Troubleshooting - Debug error trace\n"
     ]
    },
    {
     "name": "stderr",
     "output_type": "stream",
     "text": []
    },
    {
     "name": "stdout",
     "output_type": "stream",
     "text": [
      "Machine Learning Engineer > Beginner\n",
      "Learning - Learn to use some tool / infra\n"
     ]
    },
    {
     "name": "stderr",
     "output_type": "stream",
     "text": []
    },
    {
     "name": "stdout",
     "output_type": "stream",
     "text": [
      "Machine Learning Engineer > Intermediate\n",
      "Debugging and Troubleshooting - Debug error trace\n"
     ]
    },
    {
     "name": "stderr",
     "output_type": "stream",
     "text": []
    },
    {
     "name": "stdout",
     "output_type": "stream",
     "text": [
      "Machine Learning Engineer > Intermediate\n",
      "Learning - Learn to use some tool / infra\n"
     ]
    },
    {
     "name": "stderr",
     "output_type": "stream",
     "text": []
    },
    {
     "name": "stdout",
     "output_type": "stream",
     "text": [
      "Machine Learning Engineer > Advanced\n",
      "Proactively ask follow up questions\n"
     ]
    },
    {
     "name": "stderr",
     "output_type": "stream",
     "text": []
    },
    {
     "name": "stdout",
     "output_type": "stream",
     "text": [
      "Machine Learning Engineer > Advanced\n",
      "Debugging and Troubleshooting - Debug error trace\n"
     ]
    },
    {
     "name": "stderr",
     "output_type": "stream",
     "text": []
    },
    {
     "name": "stdout",
     "output_type": "stream",
     "text": [
      "Machine Learning Engineer > Advanced\n",
      "Learning - Learn to use some tool / infra\n"
     ]
    },
    {
     "name": "stderr",
     "output_type": "stream",
     "text": []
    },
    {
     "name": "stdout",
     "output_type": "stream",
     "text": [
      "Machine Learning Engineer > Expert\n",
      "Debugging and Troubleshooting - Debug error trace\n"
     ]
    },
    {
     "name": "stderr",
     "output_type": "stream",
     "text": []
    },
    {
     "name": "stdout",
     "output_type": "stream",
     "text": [
      "Machine Learning Engineer > Expert\n",
      "Learning - Learn to use some tool / infra\n"
     ]
    },
    {
     "name": "stderr",
     "output_type": "stream",
     "text": []
    },
    {
     "name": "stdout",
     "output_type": "stream",
     "text": [
      "Cybersecurity Analyst > First Timer\n",
      "Basic scripting - Write simple code in Javascript\n"
     ]
    },
    {
     "name": "stderr",
     "output_type": "stream",
     "text": []
    },
    {
     "name": "stdout",
     "output_type": "stream",
     "text": [
      "Cybersecurity Analyst > First Timer\n",
      "Interview preparation - Explain areas where people usually make mistakes\n"
     ]
    },
    {
     "name": "stderr",
     "output_type": "stream",
     "text": []
    },
    {
     "name": "stdout",
     "output_type": "stream",
     "text": [
      "Cybersecurity Analyst > First Timer\n",
      "Interview preparation\n"
     ]
    },
    {
     "name": "stderr",
     "output_type": "stream",
     "text": []
    },
    {
     "name": "stdout",
     "output_type": "stream",
     "text": [
      "Cybersecurity Analyst > First Timer\n",
      "Debugging and Troubleshooting - Debug error trace\n"
     ]
    },
    {
     "name": "stderr",
     "output_type": "stream",
     "text": []
    },
    {
     "name": "stdout",
     "output_type": "stream",
     "text": [
      "Cybersecurity Analyst > First Timer\n",
      "Learning - Learn to program\n"
     ]
    },
    {
     "name": "stderr",
     "output_type": "stream",
     "text": []
    },
    {
     "name": "stdout",
     "output_type": "stream",
     "text": [
      "Cybersecurity Analyst > First Timer\n",
      "Learning - Learn to use some tool / infra\n"
     ]
    },
    {
     "name": "stderr",
     "output_type": "stream",
     "text": []
    },
    {
     "name": "stdout",
     "output_type": "stream",
     "text": [
      "Cybersecurity Analyst > Beginner\n",
      "Basic scripting - Write simple code in Javascript\n"
     ]
    },
    {
     "name": "stderr",
     "output_type": "stream",
     "text": []
    },
    {
     "name": "stdout",
     "output_type": "stream",
     "text": [
      "Cybersecurity Analyst > Beginner\n",
      "Debugging and Troubleshooting - Debug error trace\n"
     ]
    },
    {
     "name": "stderr",
     "output_type": "stream",
     "text": []
    },
    {
     "name": "stdout",
     "output_type": "stream",
     "text": [
      "Cybersecurity Analyst > Beginner\n",
      "Learning - Learn to program\n"
     ]
    },
    {
     "name": "stderr",
     "output_type": "stream",
     "text": []
    },
    {
     "name": "stdout",
     "output_type": "stream",
     "text": [
      "Cybersecurity Analyst > Beginner\n",
      "Learning - Learn to use some tool / infra\n"
     ]
    },
    {
     "name": "stderr",
     "output_type": "stream",
     "text": []
    },
    {
     "name": "stdout",
     "output_type": "stream",
     "text": [
      "Cybersecurity Analyst > Intermediate\n",
      "Basic scripting - Write simple code in Javascript\n"
     ]
    },
    {
     "name": "stderr",
     "output_type": "stream",
     "text": []
    },
    {
     "name": "stdout",
     "output_type": "stream",
     "text": [
      "Cybersecurity Analyst > Intermediate\n",
      "Debugging and Troubleshooting - Debug error trace\n"
     ]
    },
    {
     "name": "stderr",
     "output_type": "stream",
     "text": []
    },
    {
     "name": "stdout",
     "output_type": "stream",
     "text": [
      "Cybersecurity Analyst > Intermediate\n",
      "Learning - Learn to use some tool / infra\n"
     ]
    },
    {
     "name": "stderr",
     "output_type": "stream",
     "text": []
    },
    {
     "name": "stdout",
     "output_type": "stream",
     "text": [
      "Cybersecurity Analyst > Advanced\n",
      "Do a code review\n"
     ]
    },
    {
     "name": "stderr",
     "output_type": "stream",
     "text": []
    },
    {
     "name": "stdout",
     "output_type": "stream",
     "text": [
      "Cybersecurity Analyst > Advanced\n",
      "Debugging and Troubleshooting - Debug error trace\n"
     ]
    },
    {
     "name": "stderr",
     "output_type": "stream",
     "text": []
    },
    {
     "name": "stdout",
     "output_type": "stream",
     "text": [
      "Cybersecurity Analyst > Advanced\n",
      "Learning - Learn to use some tool / infra\n"
     ]
    },
    {
     "name": "stderr",
     "output_type": "stream",
     "text": []
    },
    {
     "name": "stdout",
     "output_type": "stream",
     "text": [
      "Cybersecurity Analyst > Expert\n",
      "Debugging and Troubleshooting - Debug error trace\n"
     ]
    },
    {
     "name": "stderr",
     "output_type": "stream",
     "text": []
    },
    {
     "name": "stdout",
     "output_type": "stream",
     "text": [
      "Cybersecurity Analyst > Expert\n",
      "Learning - Learn to use some tool / infra\n"
     ]
    },
    {
     "name": "stderr",
     "output_type": "stream",
     "text": []
    },
    {
     "name": "stdout",
     "output_type": "stream",
     "text": [
      "Artificial Intelligence Engineer > First Timer\n",
      "Basic scripting - Write simple code in Javascript\n"
     ]
    },
    {
     "name": "stderr",
     "output_type": "stream",
     "text": []
    },
    {
     "name": "stdout",
     "output_type": "stream",
     "text": [
      "Artificial Intelligence Engineer > First Timer\n",
      "General coding help - Rewrite code using better formatting / best practises\n"
     ]
    },
    {
     "name": "stderr",
     "output_type": "stream",
     "text": []
    },
    {
     "name": "stdout",
     "output_type": "stream",
     "text": [
      "Artificial Intelligence Engineer > First Timer\n",
      "General coding help\n"
     ]
    },
    {
     "name": "stderr",
     "output_type": "stream",
     "text": []
    },
    {
     "name": "stdout",
     "output_type": "stream",
     "text": [
      "Artificial Intelligence Engineer > First Timer\n",
      "Explain code with comments\n"
     ]
    },
    {
     "name": "stderr",
     "output_type": "stream",
     "text": []
    },
    {
     "name": "stdout",
     "output_type": "stream",
     "text": [
      "Artificial Intelligence Engineer > First Timer\n",
      "Interview preparation\n"
     ]
    },
    {
     "name": "stderr",
     "output_type": "stream",
     "text": []
    },
    {
     "name": "stdout",
     "output_type": "stream",
     "text": [
      "Artificial Intelligence Engineer > First Timer\n",
      "Debug and fix code\n"
     ]
    },
    {
     "name": "stderr",
     "output_type": "stream",
     "text": []
    },
    {
     "name": "stdout",
     "output_type": "stream",
     "text": [
      "Artificial Intelligence Engineer > First Timer\n",
      "Proactively ask follow up questions\n"
     ]
    },
    {
     "name": "stderr",
     "output_type": "stream",
     "text": []
    },
    {
     "name": "stdout",
     "output_type": "stream",
     "text": [
      "Artificial Intelligence Engineer > First Timer\n",
      "Interview preparation - User asks AI help to take an Interview\n"
     ]
    },
    {
     "name": "stderr",
     "output_type": "stream",
     "text": []
    },
    {
     "name": "stdout",
     "output_type": "stream",
     "text": [
      "Artificial Intelligence Engineer > First Timer\n",
      "Debugging and Troubleshooting - Debug error trace\n"
     ]
    },
    {
     "name": "stderr",
     "output_type": "stream",
     "text": []
    },
    {
     "name": "stdout",
     "output_type": "stream",
     "text": [
      "Artificial Intelligence Engineer > First Timer\n",
      "Learning - Learn to program\n"
     ]
    },
    {
     "name": "stderr",
     "output_type": "stream",
     "text": []
    },
    {
     "name": "stdout",
     "output_type": "stream",
     "text": [
      "Artificial Intelligence Engineer > First Timer\n",
      "Learning - Learn to use some tool / infra\n"
     ]
    },
    {
     "name": "stderr",
     "output_type": "stream",
     "text": []
    },
    {
     "name": "stdout",
     "output_type": "stream",
     "text": [
      "Artificial Intelligence Engineer > Beginner\n",
      "Basic scripting - Write simple code in Javascript\n"
     ]
    },
    {
     "name": "stderr",
     "output_type": "stream",
     "text": []
    },
    {
     "name": "stdout",
     "output_type": "stream",
     "text": [
      "Artificial Intelligence Engineer > Beginner\n",
      "General coding help - Rewrite code using better formatting / best practises\n"
     ]
    },
    {
     "name": "stderr",
     "output_type": "stream",
     "text": []
    },
    {
     "name": "stdout",
     "output_type": "stream",
     "text": [
      "Artificial Intelligence Engineer > Beginner\n",
      "Explain code with comments\n"
     ]
    },
    {
     "name": "stderr",
     "output_type": "stream",
     "text": []
    },
    {
     "name": "stdout",
     "output_type": "stream",
     "text": [
      "Artificial Intelligence Engineer > Beginner\n",
      "Debug and fix code\n"
     ]
    },
    {
     "name": "stderr",
     "output_type": "stream",
     "text": []
    },
    {
     "name": "stdout",
     "output_type": "stream",
     "text": [
      "Artificial Intelligence Engineer > Beginner\n",
      "Debugging and Troubleshooting - Debug error trace\n"
     ]
    },
    {
     "name": "stderr",
     "output_type": "stream",
     "text": []
    },
    {
     "name": "stdout",
     "output_type": "stream",
     "text": [
      "Artificial Intelligence Engineer > Beginner\n",
      "Learning - Learn to program\n"
     ]
    },
    {
     "name": "stderr",
     "output_type": "stream",
     "text": []
    },
    {
     "name": "stdout",
     "output_type": "stream",
     "text": [
      "Artificial Intelligence Engineer > Beginner\n",
      "Learning - Learn to use some tool / infra\n"
     ]
    },
    {
     "name": "stderr",
     "output_type": "stream",
     "text": []
    },
    {
     "name": "stdout",
     "output_type": "stream",
     "text": [
      "Artificial Intelligence Engineer > Intermediate\n",
      "General coding help - Rewrite code using better formatting / best practises\n"
     ]
    },
    {
     "name": "stderr",
     "output_type": "stream",
     "text": []
    },
    {
     "name": "stdout",
     "output_type": "stream",
     "text": [
      "Artificial Intelligence Engineer > Intermediate\n",
      "Write unit test\n"
     ]
    },
    {
     "name": "stderr",
     "output_type": "stream",
     "text": []
    },
    {
     "name": "stdout",
     "output_type": "stream",
     "text": [
      "Artificial Intelligence Engineer > Intermediate\n",
      "Debug and fix code\n"
     ]
    },
    {
     "name": "stderr",
     "output_type": "stream",
     "text": []
    },
    {
     "name": "stdout",
     "output_type": "stream",
     "text": [
      "Artificial Intelligence Engineer > Intermediate\n",
      "Debugging and Troubleshooting - Debug error trace\n"
     ]
    },
    {
     "name": "stderr",
     "output_type": "stream",
     "text": []
    },
    {
     "name": "stdout",
     "output_type": "stream",
     "text": [
      "Artificial Intelligence Engineer > Intermediate\n",
      "Learning - Learn to program\n"
     ]
    },
    {
     "name": "stderr",
     "output_type": "stream",
     "text": []
    },
    {
     "name": "stdout",
     "output_type": "stream",
     "text": [
      "Artificial Intelligence Engineer > Intermediate\n",
      "Learning - Learn to use some tool / infra\n"
     ]
    },
    {
     "name": "stderr",
     "output_type": "stream",
     "text": []
    },
    {
     "name": "stdout",
     "output_type": "stream",
     "text": [
      "Artificial Intelligence Engineer > Advanced\n",
      "General coding help - Rewrite code using better formatting / best practises\n"
     ]
    },
    {
     "name": "stderr",
     "output_type": "stream",
     "text": []
    },
    {
     "name": "stdout",
     "output_type": "stream",
     "text": [
      "Artificial Intelligence Engineer > Advanced\n",
      "Debugging and Troubleshooting - Debug error trace\n"
     ]
    },
    {
     "name": "stderr",
     "output_type": "stream",
     "text": []
    },
    {
     "name": "stdout",
     "output_type": "stream",
     "text": [
      "Artificial Intelligence Engineer > Advanced\n",
      "Learning - Learn to use some tool / infra\n"
     ]
    },
    {
     "name": "stderr",
     "output_type": "stream",
     "text": []
    },
    {
     "name": "stdout",
     "output_type": "stream",
     "text": [
      "Artificial Intelligence Engineer > Expert\n",
      "General coding help - Rewrite code using better formatting / best practises\n"
     ]
    },
    {
     "name": "stderr",
     "output_type": "stream",
     "text": []
    },
    {
     "name": "stdout",
     "output_type": "stream",
     "text": [
      "Artificial Intelligence Engineer > Expert\n",
      "General coding help - Do a code review\n"
     ]
    },
    {
     "name": "stderr",
     "output_type": "stream",
     "text": []
    },
    {
     "name": "stdout",
     "output_type": "stream",
     "text": [
      "Artificial Intelligence Engineer > Expert\n",
      "Skip\n"
     ]
    },
    {
     "name": "stderr",
     "output_type": "stream",
     "text": []
    },
    {
     "name": "stdout",
     "output_type": "stream",
     "text": [
      "Artificial Intelligence Engineer > Expert\n",
      "Debug and fix code\n"
     ]
    },
    {
     "name": "stderr",
     "output_type": "stream",
     "text": []
    },
    {
     "name": "stdout",
     "output_type": "stream",
     "text": [
      "Artificial Intelligence Engineer > Expert\n",
      "Proactively ask follow up questions\n"
     ]
    },
    {
     "name": "stderr",
     "output_type": "stream",
     "text": []
    },
    {
     "name": "stdout",
     "output_type": "stream",
     "text": [
      "Artificial Intelligence Engineer > Expert\n",
      "Debugging and Troubleshooting - Debug error trace\n"
     ]
    },
    {
     "name": "stderr",
     "output_type": "stream",
     "text": []
    },
    {
     "name": "stdout",
     "output_type": "stream",
     "text": [
      "Artificial Intelligence Engineer > Expert\n",
      "Learning - Learn to use some tool / infra\n"
     ]
    },
    {
     "name": "stderr",
     "output_type": "stream",
     "text": []
    },
    {
     "name": "stdout",
     "output_type": "stream",
     "text": [
      "Cloud Engineer (Python-Focused) > First Timer\n",
      "General coding help - Rewrite code using better formatting / best practises\n"
     ]
    },
    {
     "name": "stderr",
     "output_type": "stream",
     "text": []
    },
    {
     "name": "stdout",
     "output_type": "stream",
     "text": [
      "Cloud Engineer (Python-Focused) > First Timer\n",
      "General coding help - Refactor code\n"
     ]
    },
    {
     "name": "stderr",
     "output_type": "stream",
     "text": []
    },
    {
     "name": "stdout",
     "output_type": "stream",
     "text": [
      "Cloud Engineer (Python-Focused) > First Timer\n",
      "General coding help - Explain complex code snippets\n"
     ]
    },
    {
     "name": "stderr",
     "output_type": "stream",
     "text": []
    },
    {
     "name": "stdout",
     "output_type": "stream",
     "text": [
      "Cloud Engineer (Python-Focused) > First Timer\n",
      "General coding help - Do a code review\n"
     ]
    },
    {
     "name": "stderr",
     "output_type": "stream",
     "text": []
    },
    {
     "name": "stdout",
     "output_type": "stream",
     "text": [
      "Cloud Engineer (Python-Focused) > First Timer\n",
      "Write unit test\n"
     ]
    },
    {
     "name": "stderr",
     "output_type": "stream",
     "text": []
    },
    {
     "name": "stdout",
     "output_type": "stream",
     "text": [
      "Cloud Engineer (Python-Focused) > First Timer\n",
      "Interview preparation - Explain areas where people usually make mistakes\n"
     ]
    },
    {
     "name": "stderr",
     "output_type": "stream",
     "text": []
    },
    {
     "name": "stdout",
     "output_type": "stream",
     "text": [
      "Cloud Engineer (Python-Focused) > First Timer\n",
      "Interview preparation - Explain alternative solutions and trade offs\n"
     ]
    },
    {
     "name": "stderr",
     "output_type": "stream",
     "text": []
    },
    {
     "name": "stdout",
     "output_type": "stream",
     "text": [
      "Cloud Engineer (Python-Focused) > First Timer\n",
      "Debug and fix code\n"
     ]
    },
    {
     "name": "stderr",
     "output_type": "stream",
     "text": []
    },
    {
     "name": "stdout",
     "output_type": "stream",
     "text": [
      "Cloud Engineer (Python-Focused) > First Timer\n",
      "Interview preparation - System Design rounds\n"
     ]
    },
    {
     "name": "stderr",
     "output_type": "stream",
     "text": []
    },
    {
     "name": "stdout",
     "output_type": "stream",
     "text": [
      "Cloud Engineer (Python-Focused) > First Timer\n",
      "Interview preparation\n"
     ]
    },
    {
     "name": "stderr",
     "output_type": "stream",
     "text": []
    },
    {
     "name": "stdout",
     "output_type": "stream",
     "text": [
      "Cloud Engineer (Python-Focused) > First Timer\n",
      "Debugging and Troubleshooting - Debug error trace\n"
     ]
    },
    {
     "name": "stderr",
     "output_type": "stream",
     "text": []
    },
    {
     "name": "stdout",
     "output_type": "stream",
     "text": [
      "Cloud Engineer (Python-Focused) > First Timer\n",
      "Learning - Learn to program\n"
     ]
    },
    {
     "name": "stderr",
     "output_type": "stream",
     "text": []
    },
    {
     "name": "stdout",
     "output_type": "stream",
     "text": [
      "Cloud Engineer (Python-Focused) > First Timer\n",
      "Learning - Learn to use some tool / infra\n"
     ]
    },
    {
     "name": "stderr",
     "output_type": "stream",
     "text": []
    },
    {
     "name": "stdout",
     "output_type": "stream",
     "text": [
      "Cloud Engineer (Python-Focused) > Beginner\n",
      "General coding help - Rewrite code using better formatting / best practises\n"
     ]
    },
    {
     "name": "stderr",
     "output_type": "stream",
     "text": []
    },
    {
     "name": "stdout",
     "output_type": "stream",
     "text": [
      "Cloud Engineer (Python-Focused) > Beginner\n",
      "General coding help - Do a code review\n"
     ]
    },
    {
     "name": "stderr",
     "output_type": "stream",
     "text": []
    },
    {
     "name": "stdout",
     "output_type": "stream",
     "text": [
      "Cloud Engineer (Python-Focused) > Beginner\n",
      "Write unit test\n"
     ]
    },
    {
     "name": "stderr",
     "output_type": "stream",
     "text": []
    },
    {
     "name": "stdout",
     "output_type": "stream",
     "text": [
      "Cloud Engineer (Python-Focused) > Beginner\n",
      "Debug and fix code\n"
     ]
    },
    {
     "name": "stderr",
     "output_type": "stream",
     "text": []
    },
    {
     "name": "stdout",
     "output_type": "stream",
     "text": [
      "Cloud Engineer (Python-Focused) > Beginner\n",
      "Debugging and Troubleshooting - Debug error trace\n"
     ]
    },
    {
     "name": "stderr",
     "output_type": "stream",
     "text": []
    },
    {
     "name": "stdout",
     "output_type": "stream",
     "text": [
      "Cloud Engineer (Python-Focused) > Beginner\n",
      "Learning - Learn to program\n"
     ]
    },
    {
     "name": "stderr",
     "output_type": "stream",
     "text": []
    },
    {
     "name": "stdout",
     "output_type": "stream",
     "text": [
      "Cloud Engineer (Python-Focused) > Beginner\n",
      "Learning - Learn to use some tool / infra\n"
     ]
    },
    {
     "name": "stderr",
     "output_type": "stream",
     "text": []
    },
    {
     "name": "stdout",
     "output_type": "stream",
     "text": [
      "Cloud Engineer (Python-Focused) > Intermediate\n",
      "General coding help - Rewrite code using better formatting / best practises\n"
     ]
    },
    {
     "name": "stderr",
     "output_type": "stream",
     "text": []
    },
    {
     "name": "stdout",
     "output_type": "stream",
     "text": [
      "Cloud Engineer (Python-Focused) > Intermediate\n",
      "General coding help - Refactor code\n"
     ]
    },
    {
     "name": "stderr",
     "output_type": "stream",
     "text": []
    },
    {
     "name": "stdout",
     "output_type": "stream",
     "text": [
      "Cloud Engineer (Python-Focused) > Intermediate\n",
      "General coding help - Do a code review\n"
     ]
    },
    {
     "name": "stderr",
     "output_type": "stream",
     "text": []
    },
    {
     "name": "stdout",
     "output_type": "stream",
     "text": [
      "Cloud Engineer (Python-Focused) > Intermediate\n",
      "Write unit test\n"
     ]
    },
    {
     "name": "stderr",
     "output_type": "stream",
     "text": []
    },
    {
     "name": "stdout",
     "output_type": "stream",
     "text": [
      "Cloud Engineer (Python-Focused) > Intermediate\n",
      "Skip\n"
     ]
    },
    {
     "name": "stderr",
     "output_type": "stream",
     "text": []
    },
    {
     "name": "stdout",
     "output_type": "stream",
     "text": [
      "Cloud Engineer (Python-Focused) > Intermediate\n",
      "Debug and fix code\n"
     ]
    },
    {
     "name": "stderr",
     "output_type": "stream",
     "text": []
    },
    {
     "name": "stdout",
     "output_type": "stream",
     "text": [
      "Cloud Engineer (Python-Focused) > Intermediate\n",
      "Skip\n"
     ]
    },
    {
     "name": "stderr",
     "output_type": "stream",
     "text": []
    },
    {
     "name": "stdout",
     "output_type": "stream",
     "text": [
      "Cloud Engineer (Python-Focused) > Intermediate\n",
      "Debugging and Troubleshooting - Debug error trace\n"
     ]
    },
    {
     "name": "stderr",
     "output_type": "stream",
     "text": []
    },
    {
     "name": "stdout",
     "output_type": "stream",
     "text": [
      "Cloud Engineer (Python-Focused) > Intermediate\n",
      "Learning - Learn to use some tool / infra\n"
     ]
    },
    {
     "name": "stderr",
     "output_type": "stream",
     "text": []
    },
    {
     "name": "stdout",
     "output_type": "stream",
     "text": [
      "Cloud Engineer (Python-Focused) > Advanced\n",
      "General coding help - Rewrite code using better formatting / best practises\n"
     ]
    },
    {
     "name": "stderr",
     "output_type": "stream",
     "text": []
    },
    {
     "name": "stdout",
     "output_type": "stream",
     "text": [
      "Cloud Engineer (Python-Focused) > Advanced\n",
      "Do a code review\n"
     ]
    },
    {
     "name": "stderr",
     "output_type": "stream",
     "text": []
    },
    {
     "name": "stdout",
     "output_type": "stream",
     "text": [
      "Cloud Engineer (Python-Focused) > Advanced\n",
      "Write unit test\n"
     ]
    },
    {
     "name": "stderr",
     "output_type": "stream",
     "text": []
    },
    {
     "name": "stdout",
     "output_type": "stream",
     "text": [
      "Cloud Engineer (Python-Focused) > Advanced\n",
      "Skip\n"
     ]
    },
    {
     "name": "stderr",
     "output_type": "stream",
     "text": []
    },
    {
     "name": "stdout",
     "output_type": "stream",
     "text": [
      "Cloud Engineer (Python-Focused) > Advanced\n",
      "Debug and fix code\n"
     ]
    },
    {
     "name": "stderr",
     "output_type": "stream",
     "text": []
    },
    {
     "name": "stdout",
     "output_type": "stream",
     "text": [
      "Cloud Engineer (Python-Focused) > Advanced\n",
      "Debugging and Troubleshooting - Debug error trace\n"
     ]
    },
    {
     "name": "stderr",
     "output_type": "stream",
     "text": []
    },
    {
     "name": "stdout",
     "output_type": "stream",
     "text": [
      "Cloud Engineer (Python-Focused) > Advanced\n",
      "Learning - Learn to use some tool / infra\n"
     ]
    },
    {
     "name": "stderr",
     "output_type": "stream",
     "text": []
    },
    {
     "name": "stdout",
     "output_type": "stream",
     "text": [
      "Cloud Engineer (Python-Focused) > Expert\n",
      "General coding help - Rewrite code using better formatting / best practises\n"
     ]
    },
    {
     "name": "stderr",
     "output_type": "stream",
     "text": []
    },
    {
     "name": "stdout",
     "output_type": "stream",
     "text": [
      "Cloud Engineer (Python-Focused) > Expert\n",
      "Refactor code\n"
     ]
    },
    {
     "name": "stderr",
     "output_type": "stream",
     "text": []
    },
    {
     "name": "stdout",
     "output_type": "stream",
     "text": [
      "Cloud Engineer (Python-Focused) > Expert\n",
      "Do a code review\n"
     ]
    },
    {
     "name": "stderr",
     "output_type": "stream",
     "text": []
    },
    {
     "name": "stdout",
     "output_type": "stream",
     "text": [
      "Cloud Engineer (Python-Focused) > Expert\n",
      "Write unit test\n"
     ]
    },
    {
     "name": "stderr",
     "output_type": "stream",
     "text": []
    },
    {
     "name": "stdout",
     "output_type": "stream",
     "text": [
      "Cloud Engineer (Python-Focused) > Expert\n",
      "Debug and fix code\n"
     ]
    },
    {
     "name": "stderr",
     "output_type": "stream",
     "text": []
    },
    {
     "name": "stdout",
     "output_type": "stream",
     "text": [
      "Cloud Engineer (Python-Focused) > Expert\n",
      "Skip\n"
     ]
    },
    {
     "name": "stderr",
     "output_type": "stream",
     "text": []
    },
    {
     "name": "stdout",
     "output_type": "stream",
     "text": [
      "Cloud Engineer (Python-Focused) > Expert\n",
      "Debugging and Troubleshooting - Debug error trace\n"
     ]
    },
    {
     "name": "stderr",
     "output_type": "stream",
     "text": []
    },
    {
     "name": "stdout",
     "output_type": "stream",
     "text": [
      "Cloud Engineer (Python-Focused) > Expert\n",
      "Learning - Learn to use some tool / infra\n"
     ]
    },
    {
     "name": "stderr",
     "output_type": "stream",
     "text": []
    },
    {
     "name": "stdout",
     "output_type": "stream",
     "text": [
      "Data Engineer > First Timer\n",
      "Basic scripting - Write simple code in Javascript\n"
     ]
    },
    {
     "name": "stderr",
     "output_type": "stream",
     "text": []
    },
    {
     "name": "stdout",
     "output_type": "stream",
     "text": [
      "Data Engineer > First Timer\n",
      "General coding help - Rewrite code using better formatting / best practises\n"
     ]
    },
    {
     "name": "stderr",
     "output_type": "stream",
     "text": []
    },
    {
     "name": "stdout",
     "output_type": "stream",
     "text": [
      "Data Engineer > First Timer\n",
      "General coding help\n"
     ]
    },
    {
     "name": "stderr",
     "output_type": "stream",
     "text": []
    },
    {
     "name": "stdout",
     "output_type": "stream",
     "text": [
      "Data Engineer > First Timer\n",
      "General coding help\n"
     ]
    },
    {
     "name": "stderr",
     "output_type": "stream",
     "text": []
    },
    {
     "name": "stdout",
     "output_type": "stream",
     "text": [
      "Data Engineer > First Timer\n",
      "Write unit test\n"
     ]
    },
    {
     "name": "stderr",
     "output_type": "stream",
     "text": []
    },
    {
     "name": "stdout",
     "output_type": "stream",
     "text": [
      "Data Engineer > First Timer\n",
      "Interview preparation\n"
     ]
    },
    {
     "name": "stderr",
     "output_type": "stream",
     "text": []
    },
    {
     "name": "stdout",
     "output_type": "stream",
     "text": [
      "Data Engineer > First Timer\n",
      "Skip\n"
     ]
    },
    {
     "name": "stderr",
     "output_type": "stream",
     "text": []
    },
    {
     "name": "stdout",
     "output_type": "stream",
     "text": [
      "Data Engineer > First Timer\n",
      "Interview preparation\n"
     ]
    },
    {
     "name": "stderr",
     "output_type": "stream",
     "text": []
    },
    {
     "name": "stdout",
     "output_type": "stream",
     "text": [
      "Data Engineer > First Timer\n",
      "Interview preparation\n"
     ]
    },
    {
     "name": "stderr",
     "output_type": "stream",
     "text": []
    },
    {
     "name": "stdout",
     "output_type": "stream",
     "text": [
      "Data Engineer > First Timer\n",
      "Interview preparation\n"
     ]
    },
    {
     "name": "stderr",
     "output_type": "stream",
     "text": []
    },
    {
     "name": "stdout",
     "output_type": "stream",
     "text": [
      "Data Engineer > First Timer\n",
      "Interview preparation\n"
     ]
    },
    {
     "name": "stderr",
     "output_type": "stream",
     "text": []
    },
    {
     "name": "stdout",
     "output_type": "stream",
     "text": [
      "Data Engineer > First Timer\n",
      "Debugging and Troubleshooting - Debug error trace\n"
     ]
    },
    {
     "name": "stderr",
     "output_type": "stream",
     "text": []
    },
    {
     "name": "stdout",
     "output_type": "stream",
     "text": [
      "Data Engineer > First Timer\n",
      "Learning - Learn to program\n"
     ]
    },
    {
     "name": "stderr",
     "output_type": "stream",
     "text": []
    },
    {
     "name": "stdout",
     "output_type": "stream",
     "text": [
      "Data Engineer > First Timer\n",
      "Learning - Learn to use some tool / infra\n"
     ]
    },
    {
     "name": "stderr",
     "output_type": "stream",
     "text": []
    },
    {
     "name": "stdout",
     "output_type": "stream",
     "text": [
      "Data Engineer > Beginner\n",
      "Basic scripting - Write simple code in Javascript\n"
     ]
    },
    {
     "name": "stderr",
     "output_type": "stream",
     "text": []
    },
    {
     "name": "stdout",
     "output_type": "stream",
     "text": [
      "Data Engineer > Beginner\n",
      "General coding help - Rewrite code using better formatting / best practises\n"
     ]
    },
    {
     "name": "stderr",
     "output_type": "stream",
     "text": []
    },
    {
     "name": "stdout",
     "output_type": "stream",
     "text": [
      "Data Engineer > Beginner\n",
      "General coding help\n"
     ]
    },
    {
     "name": "stderr",
     "output_type": "stream",
     "text": []
    },
    {
     "name": "stdout",
     "output_type": "stream",
     "text": [
      "Data Engineer > Beginner\n",
      "Write unit test\n"
     ]
    },
    {
     "name": "stderr",
     "output_type": "stream",
     "text": []
    },
    {
     "name": "stdout",
     "output_type": "stream",
     "text": [
      "Data Engineer > Beginner\n",
      "Debugging and Troubleshooting - Debug error trace\n"
     ]
    },
    {
     "name": "stderr",
     "output_type": "stream",
     "text": []
    },
    {
     "name": "stdout",
     "output_type": "stream",
     "text": [
      "Data Engineer > Beginner\n",
      "Learning - Learn to program\n"
     ]
    },
    {
     "name": "stderr",
     "output_type": "stream",
     "text": []
    },
    {
     "name": "stdout",
     "output_type": "stream",
     "text": [
      "Data Engineer > Beginner\n",
      "Learning - Learn to use some tool / infra\n"
     ]
    },
    {
     "name": "stderr",
     "output_type": "stream",
     "text": [
      "1074it [32:33,  1.82s/it]\n"
     ]
    },
    {
     "ename": "KeyboardInterrupt",
     "evalue": "",
     "output_type": "error",
     "traceback": [
      "\u001b[1;31m---------------------------------------------------------------------------\u001b[0m",
      "\u001b[1;31mKeyboardInterrupt\u001b[0m                         Traceback (most recent call last)",
      "Cell \u001b[1;32mIn[104], line 8\u001b[0m\n\u001b[0;32m      5\u001b[0m \u001b[38;5;28;01mfor\u001b[39;00m occupation_skill \u001b[38;5;129;01min\u001b[39;00m occupation_skills:\n\u001b[0;32m      6\u001b[0m     \u001b[38;5;28;01mfor\u001b[39;00m area_of_focus \u001b[38;5;129;01min\u001b[39;00m areas_of_focus:\n\u001b[1;32m----> 8\u001b[0m         matched_area \u001b[38;5;241m=\u001b[39m \u001b[43mcompatible_area_check\u001b[49m\u001b[43m(\u001b[49m\u001b[43moccupation_skill\u001b[49m\u001b[43m,\u001b[49m\u001b[43m \u001b[49m\u001b[43marea_of_focus\u001b[49m\u001b[43m,\u001b[49m\u001b[43m \u001b[49m\u001b[43mn\u001b[49m\u001b[38;5;241;43m=\u001b[39;49m\u001b[38;5;241;43m1\u001b[39;49m\u001b[43m)\u001b[49m\n\u001b[0;32m     10\u001b[0m         \u001b[38;5;28;01mfor\u001b[39;00m question \u001b[38;5;129;01min\u001b[39;00m matched_area[\u001b[38;5;124m\"\u001b[39m\u001b[38;5;124mquestions\u001b[39m\u001b[38;5;124m\"\u001b[39m]:\n\u001b[0;32m     11\u001b[0m             \u001b[38;5;28mprint\u001b[39m(question)\n",
      "Cell \u001b[1;32mIn[103], line 26\u001b[0m, in \u001b[0;36mcompatible_area_check\u001b[1;34m(occupation_skill, area_of_focus, n, existing_questions)\u001b[0m\n\u001b[0;32m      2\u001b[0m     SYSTEM_PROMPT \u001b[38;5;241m=\u001b[39m \u001b[38;5;124mf\u001b[39m\u001b[38;5;124m\"\"\"\u001b[39m\u001b[38;5;124mIDENTITY:\u001b[39m\n\u001b[0;32m      3\u001b[0m \u001b[38;5;124mYou are an AI capable of identifying compatible areas of focus based on individuals\u001b[39m\u001b[38;5;124m'\u001b[39m\u001b[38;5;124m occupation and skills from the given list of compatible area only and if not compatible with occupation and skill from the list of area of focus please skip and only include the ones compatible..\u001b[39m\n\u001b[0;32m      4\u001b[0m \n\u001b[1;32m   (...)\u001b[0m\n\u001b[0;32m     23\u001b[0m \u001b[38;5;124mA JSON-valid object that includes \u001b[39m\u001b[38;5;130;01m{{\u001b[39;00m\u001b[38;5;124m\"\u001b[39m\u001b[38;5;124mquestions\u001b[39m\u001b[38;5;124m\"\u001b[39m\u001b[38;5;124m: [\u001b[39m\u001b[38;5;124m'\u001b[39m\u001b[38;5;124mOccupation and skill\u001b[39m\u001b[38;5;124m'\u001b[39m\u001b[38;5;124m,\u001b[39m\u001b[38;5;124m'\u001b[39m\u001b[38;5;124marea_of_focus1\u001b[39m\u001b[38;5;124m'\u001b[39m\u001b[38;5;124m, \u001b[39m\u001b[38;5;124m'\u001b[39m\u001b[38;5;124mOccupation and skill\u001b[39m\u001b[38;5;124m'\u001b[39m\u001b[38;5;124m,\u001b[39m\u001b[38;5;124m'\u001b[39m\u001b[38;5;124marea_of_focus2\u001b[39m\u001b[38;5;124m'\u001b[39m\u001b[38;5;124m, ...] \u001b[39m\u001b[38;5;130;01m}}\u001b[39;00m\u001b[38;5;124m.\u001b[39m\n\u001b[0;32m     24\u001b[0m \u001b[38;5;124m\"\"\"\u001b[39m\n\u001b[0;32m     25\u001b[0m     \u001b[38;5;28;01mtry\u001b[39;00m:\n\u001b[1;32m---> 26\u001b[0m         response \u001b[38;5;241m=\u001b[39m \u001b[43mclient\u001b[49m\u001b[38;5;241;43m.\u001b[39;49m\u001b[43mchat\u001b[49m\u001b[38;5;241;43m.\u001b[39;49m\u001b[43mcompletions\u001b[49m\u001b[38;5;241;43m.\u001b[39;49m\u001b[43mcreate\u001b[49m\u001b[43m(\u001b[49m\n\u001b[0;32m     27\u001b[0m \u001b[43m            \u001b[49m\u001b[43mmodel\u001b[49m\u001b[38;5;241;43m=\u001b[39;49m\u001b[38;5;124;43m\"\u001b[39;49m\u001b[38;5;124;43mgpt-4-1106-preview\u001b[39;49m\u001b[38;5;124;43m\"\u001b[39;49m\u001b[43m,\u001b[49m\n\u001b[0;32m     28\u001b[0m \u001b[43m            \u001b[49m\u001b[43mmessages\u001b[49m\u001b[38;5;241;43m=\u001b[39;49m\u001b[43m[\u001b[49m\n\u001b[0;32m     29\u001b[0m \u001b[43m                \u001b[49m\u001b[43m{\u001b[49m\u001b[38;5;124;43m\"\u001b[39;49m\u001b[38;5;124;43mrole\u001b[39;49m\u001b[38;5;124;43m\"\u001b[39;49m\u001b[43m:\u001b[49m\u001b[43m \u001b[49m\u001b[38;5;124;43m\"\u001b[39;49m\u001b[38;5;124;43msystem\u001b[39;49m\u001b[38;5;124;43m\"\u001b[39;49m\u001b[43m,\u001b[49m\u001b[43m \u001b[49m\u001b[38;5;124;43m\"\u001b[39;49m\u001b[38;5;124;43mcontent\u001b[39;49m\u001b[38;5;124;43m\"\u001b[39;49m\u001b[43m:\u001b[49m\u001b[43m \u001b[49m\u001b[43mSYSTEM_PROMPT\u001b[49m\u001b[43m}\u001b[49m\u001b[43m,\u001b[49m\n\u001b[0;32m     30\u001b[0m \u001b[43m                \u001b[49m\u001b[43m{\u001b[49m\u001b[38;5;124;43m\"\u001b[39;49m\u001b[38;5;124;43mrole\u001b[39;49m\u001b[38;5;124;43m\"\u001b[39;49m\u001b[43m:\u001b[49m\u001b[43m \u001b[49m\u001b[38;5;124;43m\"\u001b[39;49m\u001b[38;5;124;43muser\u001b[39;49m\u001b[38;5;124;43m\"\u001b[39;49m\u001b[43m,\u001b[49m\u001b[43m \u001b[49m\u001b[38;5;124;43m\"\u001b[39;49m\u001b[38;5;124;43mcontent\u001b[39;49m\u001b[38;5;124;43m\"\u001b[39;49m\u001b[43m:\u001b[49m\u001b[43m \u001b[49m\u001b[38;5;124;43mf\u001b[39;49m\u001b[38;5;124;43m\"\u001b[39;49m\u001b[38;5;124;43mOccupation and skill: \u001b[39;49m\u001b[38;5;132;43;01m{\u001b[39;49;00m\u001b[43moccupation_skill\u001b[49m\u001b[38;5;132;43;01m}\u001b[39;49;00m\u001b[38;5;124;43m \u001b[39;49m\u001b[38;5;130;43;01m\\n\u001b[39;49;00m\u001b[38;5;124;43mCompatible areas of focus: \u001b[39;49m\u001b[38;5;132;43;01m{\u001b[39;49;00m\u001b[43marea_of_focus\u001b[49m\u001b[38;5;132;43;01m}\u001b[39;49;00m\u001b[38;5;124;43m\"\u001b[39;49m\u001b[43m}\u001b[49m\u001b[43m,\u001b[49m\n\u001b[0;32m     31\u001b[0m \u001b[43m            \u001b[49m\u001b[43m]\u001b[49m\u001b[43m,\u001b[49m\n\u001b[0;32m     32\u001b[0m \u001b[43m            \u001b[49m\u001b[43mtemperature\u001b[49m\u001b[38;5;241;43m=\u001b[39;49m\u001b[38;5;241;43m0.0\u001b[39;49m\u001b[43m,\u001b[49m\n\u001b[0;32m     33\u001b[0m \u001b[43m            \u001b[49m\u001b[43mmax_tokens\u001b[49m\u001b[38;5;241;43m=\u001b[39;49m\u001b[38;5;241;43m4096\u001b[39;49m\u001b[43m,\u001b[49m\n\u001b[0;32m     34\u001b[0m \u001b[43m            \u001b[49m\u001b[43mseed\u001b[49m\u001b[43m \u001b[49m\u001b[38;5;241;43m=\u001b[39;49m\u001b[43m \u001b[49m\u001b[38;5;241;43m42\u001b[39;49m\u001b[43m,\u001b[49m\n\u001b[0;32m     35\u001b[0m \u001b[43m            \u001b[49m\u001b[43mresponse_format\u001b[49m\u001b[38;5;241;43m=\u001b[39;49m\u001b[43m{\u001b[49m\u001b[43m \u001b[49m\n\u001b[0;32m     36\u001b[0m \u001b[43m                \u001b[49m\u001b[38;5;124;43m\"\u001b[39;49m\u001b[38;5;124;43mtype\u001b[39;49m\u001b[38;5;124;43m\"\u001b[39;49m\u001b[43m:\u001b[49m\u001b[43m \u001b[49m\u001b[38;5;124;43m\"\u001b[39;49m\u001b[38;5;124;43mjson_object\u001b[39;49m\u001b[38;5;124;43m\"\u001b[39;49m\u001b[43m \u001b[49m\n\u001b[0;32m     37\u001b[0m \u001b[43m            \u001b[49m\u001b[43m}\u001b[49m\u001b[43m,\u001b[49m\n\u001b[0;32m     38\u001b[0m \u001b[43m        \u001b[49m\u001b[43m)\u001b[49m\n\u001b[0;32m     39\u001b[0m         questions \u001b[38;5;241m=\u001b[39m json\u001b[38;5;241m.\u001b[39mloads(response\u001b[38;5;241m.\u001b[39mchoices[\u001b[38;5;241m0\u001b[39m]\u001b[38;5;241m.\u001b[39mmessage\u001b[38;5;241m.\u001b[39mcontent)\n\u001b[0;32m     40\u001b[0m         \u001b[38;5;28;01mreturn\u001b[39;00m questions\n",
      "File \u001b[1;32mc:\\Users\\hp\\AppData\\Local\\Programs\\Python\\Python310\\lib\\site-packages\\openai\\_utils\\_utils.py:303\u001b[0m, in \u001b[0;36mrequired_args.<locals>.inner.<locals>.wrapper\u001b[1;34m(*args, **kwargs)\u001b[0m\n\u001b[0;32m    301\u001b[0m             msg \u001b[38;5;241m=\u001b[39m \u001b[38;5;124mf\u001b[39m\u001b[38;5;124m\"\u001b[39m\u001b[38;5;124mMissing required argument: \u001b[39m\u001b[38;5;132;01m{\u001b[39;00mquote(missing[\u001b[38;5;241m0\u001b[39m])\u001b[38;5;132;01m}\u001b[39;00m\u001b[38;5;124m\"\u001b[39m\n\u001b[0;32m    302\u001b[0m     \u001b[38;5;28;01mraise\u001b[39;00m \u001b[38;5;167;01mTypeError\u001b[39;00m(msg)\n\u001b[1;32m--> 303\u001b[0m \u001b[38;5;28;01mreturn\u001b[39;00m func(\u001b[38;5;241m*\u001b[39margs, \u001b[38;5;241m*\u001b[39m\u001b[38;5;241m*\u001b[39mkwargs)\n",
      "File \u001b[1;32mc:\\Users\\hp\\AppData\\Local\\Programs\\Python\\Python310\\lib\\site-packages\\openai\\resources\\chat\\completions.py:645\u001b[0m, in \u001b[0;36mCompletions.create\u001b[1;34m(self, messages, model, frequency_penalty, function_call, functions, logit_bias, logprobs, max_tokens, n, presence_penalty, response_format, seed, stop, stream, temperature, tool_choice, tools, top_logprobs, top_p, user, extra_headers, extra_query, extra_body, timeout)\u001b[0m\n\u001b[0;32m    596\u001b[0m \u001b[38;5;129m@required_args\u001b[39m([\u001b[38;5;124m\"\u001b[39m\u001b[38;5;124mmessages\u001b[39m\u001b[38;5;124m\"\u001b[39m, \u001b[38;5;124m\"\u001b[39m\u001b[38;5;124mmodel\u001b[39m\u001b[38;5;124m\"\u001b[39m], [\u001b[38;5;124m\"\u001b[39m\u001b[38;5;124mmessages\u001b[39m\u001b[38;5;124m\"\u001b[39m, \u001b[38;5;124m\"\u001b[39m\u001b[38;5;124mmodel\u001b[39m\u001b[38;5;124m\"\u001b[39m, \u001b[38;5;124m\"\u001b[39m\u001b[38;5;124mstream\u001b[39m\u001b[38;5;124m\"\u001b[39m])\n\u001b[0;32m    597\u001b[0m \u001b[38;5;28;01mdef\u001b[39;00m \u001b[38;5;21mcreate\u001b[39m(\n\u001b[0;32m    598\u001b[0m     \u001b[38;5;28mself\u001b[39m,\n\u001b[1;32m   (...)\u001b[0m\n\u001b[0;32m    643\u001b[0m     timeout: \u001b[38;5;28mfloat\u001b[39m \u001b[38;5;241m|\u001b[39m httpx\u001b[38;5;241m.\u001b[39mTimeout \u001b[38;5;241m|\u001b[39m \u001b[38;5;28;01mNone\u001b[39;00m \u001b[38;5;241m|\u001b[39m NotGiven \u001b[38;5;241m=\u001b[39m NOT_GIVEN,\n\u001b[0;32m    644\u001b[0m ) \u001b[38;5;241m-\u001b[39m\u001b[38;5;241m>\u001b[39m ChatCompletion \u001b[38;5;241m|\u001b[39m Stream[ChatCompletionChunk]:\n\u001b[1;32m--> 645\u001b[0m     \u001b[38;5;28;01mreturn\u001b[39;00m \u001b[38;5;28;43mself\u001b[39;49m\u001b[38;5;241;43m.\u001b[39;49m\u001b[43m_post\u001b[49m\u001b[43m(\u001b[49m\n\u001b[0;32m    646\u001b[0m \u001b[43m        \u001b[49m\u001b[38;5;124;43m\"\u001b[39;49m\u001b[38;5;124;43m/chat/completions\u001b[39;49m\u001b[38;5;124;43m\"\u001b[39;49m\u001b[43m,\u001b[49m\n\u001b[0;32m    647\u001b[0m \u001b[43m        \u001b[49m\u001b[43mbody\u001b[49m\u001b[38;5;241;43m=\u001b[39;49m\u001b[43mmaybe_transform\u001b[49m\u001b[43m(\u001b[49m\n\u001b[0;32m    648\u001b[0m \u001b[43m            \u001b[49m\u001b[43m{\u001b[49m\n\u001b[0;32m    649\u001b[0m \u001b[43m                \u001b[49m\u001b[38;5;124;43m\"\u001b[39;49m\u001b[38;5;124;43mmessages\u001b[39;49m\u001b[38;5;124;43m\"\u001b[39;49m\u001b[43m:\u001b[49m\u001b[43m \u001b[49m\u001b[43mmessages\u001b[49m\u001b[43m,\u001b[49m\n\u001b[0;32m    650\u001b[0m \u001b[43m                \u001b[49m\u001b[38;5;124;43m\"\u001b[39;49m\u001b[38;5;124;43mmodel\u001b[39;49m\u001b[38;5;124;43m\"\u001b[39;49m\u001b[43m:\u001b[49m\u001b[43m \u001b[49m\u001b[43mmodel\u001b[49m\u001b[43m,\u001b[49m\n\u001b[0;32m    651\u001b[0m \u001b[43m                \u001b[49m\u001b[38;5;124;43m\"\u001b[39;49m\u001b[38;5;124;43mfrequency_penalty\u001b[39;49m\u001b[38;5;124;43m\"\u001b[39;49m\u001b[43m:\u001b[49m\u001b[43m \u001b[49m\u001b[43mfrequency_penalty\u001b[49m\u001b[43m,\u001b[49m\n\u001b[0;32m    652\u001b[0m \u001b[43m                \u001b[49m\u001b[38;5;124;43m\"\u001b[39;49m\u001b[38;5;124;43mfunction_call\u001b[39;49m\u001b[38;5;124;43m\"\u001b[39;49m\u001b[43m:\u001b[49m\u001b[43m \u001b[49m\u001b[43mfunction_call\u001b[49m\u001b[43m,\u001b[49m\n\u001b[0;32m    653\u001b[0m \u001b[43m                \u001b[49m\u001b[38;5;124;43m\"\u001b[39;49m\u001b[38;5;124;43mfunctions\u001b[39;49m\u001b[38;5;124;43m\"\u001b[39;49m\u001b[43m:\u001b[49m\u001b[43m \u001b[49m\u001b[43mfunctions\u001b[49m\u001b[43m,\u001b[49m\n\u001b[0;32m    654\u001b[0m \u001b[43m                \u001b[49m\u001b[38;5;124;43m\"\u001b[39;49m\u001b[38;5;124;43mlogit_bias\u001b[39;49m\u001b[38;5;124;43m\"\u001b[39;49m\u001b[43m:\u001b[49m\u001b[43m \u001b[49m\u001b[43mlogit_bias\u001b[49m\u001b[43m,\u001b[49m\n\u001b[0;32m    655\u001b[0m \u001b[43m                \u001b[49m\u001b[38;5;124;43m\"\u001b[39;49m\u001b[38;5;124;43mlogprobs\u001b[39;49m\u001b[38;5;124;43m\"\u001b[39;49m\u001b[43m:\u001b[49m\u001b[43m \u001b[49m\u001b[43mlogprobs\u001b[49m\u001b[43m,\u001b[49m\n\u001b[0;32m    656\u001b[0m \u001b[43m                \u001b[49m\u001b[38;5;124;43m\"\u001b[39;49m\u001b[38;5;124;43mmax_tokens\u001b[39;49m\u001b[38;5;124;43m\"\u001b[39;49m\u001b[43m:\u001b[49m\u001b[43m \u001b[49m\u001b[43mmax_tokens\u001b[49m\u001b[43m,\u001b[49m\n\u001b[0;32m    657\u001b[0m \u001b[43m                \u001b[49m\u001b[38;5;124;43m\"\u001b[39;49m\u001b[38;5;124;43mn\u001b[39;49m\u001b[38;5;124;43m\"\u001b[39;49m\u001b[43m:\u001b[49m\u001b[43m \u001b[49m\u001b[43mn\u001b[49m\u001b[43m,\u001b[49m\n\u001b[0;32m    658\u001b[0m \u001b[43m                \u001b[49m\u001b[38;5;124;43m\"\u001b[39;49m\u001b[38;5;124;43mpresence_penalty\u001b[39;49m\u001b[38;5;124;43m\"\u001b[39;49m\u001b[43m:\u001b[49m\u001b[43m \u001b[49m\u001b[43mpresence_penalty\u001b[49m\u001b[43m,\u001b[49m\n\u001b[0;32m    659\u001b[0m \u001b[43m                \u001b[49m\u001b[38;5;124;43m\"\u001b[39;49m\u001b[38;5;124;43mresponse_format\u001b[39;49m\u001b[38;5;124;43m\"\u001b[39;49m\u001b[43m:\u001b[49m\u001b[43m \u001b[49m\u001b[43mresponse_format\u001b[49m\u001b[43m,\u001b[49m\n\u001b[0;32m    660\u001b[0m \u001b[43m                \u001b[49m\u001b[38;5;124;43m\"\u001b[39;49m\u001b[38;5;124;43mseed\u001b[39;49m\u001b[38;5;124;43m\"\u001b[39;49m\u001b[43m:\u001b[49m\u001b[43m \u001b[49m\u001b[43mseed\u001b[49m\u001b[43m,\u001b[49m\n\u001b[0;32m    661\u001b[0m \u001b[43m                \u001b[49m\u001b[38;5;124;43m\"\u001b[39;49m\u001b[38;5;124;43mstop\u001b[39;49m\u001b[38;5;124;43m\"\u001b[39;49m\u001b[43m:\u001b[49m\u001b[43m \u001b[49m\u001b[43mstop\u001b[49m\u001b[43m,\u001b[49m\n\u001b[0;32m    662\u001b[0m \u001b[43m                \u001b[49m\u001b[38;5;124;43m\"\u001b[39;49m\u001b[38;5;124;43mstream\u001b[39;49m\u001b[38;5;124;43m\"\u001b[39;49m\u001b[43m:\u001b[49m\u001b[43m \u001b[49m\u001b[43mstream\u001b[49m\u001b[43m,\u001b[49m\n\u001b[0;32m    663\u001b[0m \u001b[43m                \u001b[49m\u001b[38;5;124;43m\"\u001b[39;49m\u001b[38;5;124;43mtemperature\u001b[39;49m\u001b[38;5;124;43m\"\u001b[39;49m\u001b[43m:\u001b[49m\u001b[43m \u001b[49m\u001b[43mtemperature\u001b[49m\u001b[43m,\u001b[49m\n\u001b[0;32m    664\u001b[0m \u001b[43m                \u001b[49m\u001b[38;5;124;43m\"\u001b[39;49m\u001b[38;5;124;43mtool_choice\u001b[39;49m\u001b[38;5;124;43m\"\u001b[39;49m\u001b[43m:\u001b[49m\u001b[43m \u001b[49m\u001b[43mtool_choice\u001b[49m\u001b[43m,\u001b[49m\n\u001b[0;32m    665\u001b[0m \u001b[43m                \u001b[49m\u001b[38;5;124;43m\"\u001b[39;49m\u001b[38;5;124;43mtools\u001b[39;49m\u001b[38;5;124;43m\"\u001b[39;49m\u001b[43m:\u001b[49m\u001b[43m \u001b[49m\u001b[43mtools\u001b[49m\u001b[43m,\u001b[49m\n\u001b[0;32m    666\u001b[0m \u001b[43m                \u001b[49m\u001b[38;5;124;43m\"\u001b[39;49m\u001b[38;5;124;43mtop_logprobs\u001b[39;49m\u001b[38;5;124;43m\"\u001b[39;49m\u001b[43m:\u001b[49m\u001b[43m \u001b[49m\u001b[43mtop_logprobs\u001b[49m\u001b[43m,\u001b[49m\n\u001b[0;32m    667\u001b[0m \u001b[43m                \u001b[49m\u001b[38;5;124;43m\"\u001b[39;49m\u001b[38;5;124;43mtop_p\u001b[39;49m\u001b[38;5;124;43m\"\u001b[39;49m\u001b[43m:\u001b[49m\u001b[43m \u001b[49m\u001b[43mtop_p\u001b[49m\u001b[43m,\u001b[49m\n\u001b[0;32m    668\u001b[0m \u001b[43m                \u001b[49m\u001b[38;5;124;43m\"\u001b[39;49m\u001b[38;5;124;43muser\u001b[39;49m\u001b[38;5;124;43m\"\u001b[39;49m\u001b[43m:\u001b[49m\u001b[43m \u001b[49m\u001b[43muser\u001b[49m\u001b[43m,\u001b[49m\n\u001b[0;32m    669\u001b[0m \u001b[43m            \u001b[49m\u001b[43m}\u001b[49m\u001b[43m,\u001b[49m\n\u001b[0;32m    670\u001b[0m \u001b[43m            \u001b[49m\u001b[43mcompletion_create_params\u001b[49m\u001b[38;5;241;43m.\u001b[39;49m\u001b[43mCompletionCreateParams\u001b[49m\u001b[43m,\u001b[49m\n\u001b[0;32m    671\u001b[0m \u001b[43m        \u001b[49m\u001b[43m)\u001b[49m\u001b[43m,\u001b[49m\n\u001b[0;32m    672\u001b[0m \u001b[43m        \u001b[49m\u001b[43moptions\u001b[49m\u001b[38;5;241;43m=\u001b[39;49m\u001b[43mmake_request_options\u001b[49m\u001b[43m(\u001b[49m\n\u001b[0;32m    673\u001b[0m \u001b[43m            \u001b[49m\u001b[43mextra_headers\u001b[49m\u001b[38;5;241;43m=\u001b[39;49m\u001b[43mextra_headers\u001b[49m\u001b[43m,\u001b[49m\u001b[43m \u001b[49m\u001b[43mextra_query\u001b[49m\u001b[38;5;241;43m=\u001b[39;49m\u001b[43mextra_query\u001b[49m\u001b[43m,\u001b[49m\u001b[43m \u001b[49m\u001b[43mextra_body\u001b[49m\u001b[38;5;241;43m=\u001b[39;49m\u001b[43mextra_body\u001b[49m\u001b[43m,\u001b[49m\u001b[43m \u001b[49m\u001b[43mtimeout\u001b[49m\u001b[38;5;241;43m=\u001b[39;49m\u001b[43mtimeout\u001b[49m\n\u001b[0;32m    674\u001b[0m \u001b[43m        \u001b[49m\u001b[43m)\u001b[49m\u001b[43m,\u001b[49m\n\u001b[0;32m    675\u001b[0m \u001b[43m        \u001b[49m\u001b[43mcast_to\u001b[49m\u001b[38;5;241;43m=\u001b[39;49m\u001b[43mChatCompletion\u001b[49m\u001b[43m,\u001b[49m\n\u001b[0;32m    676\u001b[0m \u001b[43m        \u001b[49m\u001b[43mstream\u001b[49m\u001b[38;5;241;43m=\u001b[39;49m\u001b[43mstream\u001b[49m\u001b[43m \u001b[49m\u001b[38;5;129;43;01mor\u001b[39;49;00m\u001b[43m \u001b[49m\u001b[38;5;28;43;01mFalse\u001b[39;49;00m\u001b[43m,\u001b[49m\n\u001b[0;32m    677\u001b[0m \u001b[43m        \u001b[49m\u001b[43mstream_cls\u001b[49m\u001b[38;5;241;43m=\u001b[39;49m\u001b[43mStream\u001b[49m\u001b[43m[\u001b[49m\u001b[43mChatCompletionChunk\u001b[49m\u001b[43m]\u001b[49m\u001b[43m,\u001b[49m\n\u001b[0;32m    678\u001b[0m \u001b[43m    \u001b[49m\u001b[43m)\u001b[49m\n",
      "File \u001b[1;32mc:\\Users\\hp\\AppData\\Local\\Programs\\Python\\Python310\\lib\\site-packages\\openai\\_base_client.py:1088\u001b[0m, in \u001b[0;36mSyncAPIClient.post\u001b[1;34m(self, path, cast_to, body, options, files, stream, stream_cls)\u001b[0m\n\u001b[0;32m   1074\u001b[0m \u001b[38;5;28;01mdef\u001b[39;00m \u001b[38;5;21mpost\u001b[39m(\n\u001b[0;32m   1075\u001b[0m     \u001b[38;5;28mself\u001b[39m,\n\u001b[0;32m   1076\u001b[0m     path: \u001b[38;5;28mstr\u001b[39m,\n\u001b[1;32m   (...)\u001b[0m\n\u001b[0;32m   1083\u001b[0m     stream_cls: \u001b[38;5;28mtype\u001b[39m[_StreamT] \u001b[38;5;241m|\u001b[39m \u001b[38;5;28;01mNone\u001b[39;00m \u001b[38;5;241m=\u001b[39m \u001b[38;5;28;01mNone\u001b[39;00m,\n\u001b[0;32m   1084\u001b[0m ) \u001b[38;5;241m-\u001b[39m\u001b[38;5;241m>\u001b[39m ResponseT \u001b[38;5;241m|\u001b[39m _StreamT:\n\u001b[0;32m   1085\u001b[0m     opts \u001b[38;5;241m=\u001b[39m FinalRequestOptions\u001b[38;5;241m.\u001b[39mconstruct(\n\u001b[0;32m   1086\u001b[0m         method\u001b[38;5;241m=\u001b[39m\u001b[38;5;124m\"\u001b[39m\u001b[38;5;124mpost\u001b[39m\u001b[38;5;124m\"\u001b[39m, url\u001b[38;5;241m=\u001b[39mpath, json_data\u001b[38;5;241m=\u001b[39mbody, files\u001b[38;5;241m=\u001b[39mto_httpx_files(files), \u001b[38;5;241m*\u001b[39m\u001b[38;5;241m*\u001b[39moptions\n\u001b[0;32m   1087\u001b[0m     )\n\u001b[1;32m-> 1088\u001b[0m     \u001b[38;5;28;01mreturn\u001b[39;00m cast(ResponseT, \u001b[38;5;28;43mself\u001b[39;49m\u001b[38;5;241;43m.\u001b[39;49m\u001b[43mrequest\u001b[49m\u001b[43m(\u001b[49m\u001b[43mcast_to\u001b[49m\u001b[43m,\u001b[49m\u001b[43m \u001b[49m\u001b[43mopts\u001b[49m\u001b[43m,\u001b[49m\u001b[43m \u001b[49m\u001b[43mstream\u001b[49m\u001b[38;5;241;43m=\u001b[39;49m\u001b[43mstream\u001b[49m\u001b[43m,\u001b[49m\u001b[43m \u001b[49m\u001b[43mstream_cls\u001b[49m\u001b[38;5;241;43m=\u001b[39;49m\u001b[43mstream_cls\u001b[49m\u001b[43m)\u001b[49m)\n",
      "File \u001b[1;32mc:\\Users\\hp\\AppData\\Local\\Programs\\Python\\Python310\\lib\\site-packages\\openai\\_base_client.py:853\u001b[0m, in \u001b[0;36mSyncAPIClient.request\u001b[1;34m(self, cast_to, options, remaining_retries, stream, stream_cls)\u001b[0m\n\u001b[0;32m    844\u001b[0m \u001b[38;5;28;01mdef\u001b[39;00m \u001b[38;5;21mrequest\u001b[39m(\n\u001b[0;32m    845\u001b[0m     \u001b[38;5;28mself\u001b[39m,\n\u001b[0;32m    846\u001b[0m     cast_to: Type[ResponseT],\n\u001b[1;32m   (...)\u001b[0m\n\u001b[0;32m    851\u001b[0m     stream_cls: \u001b[38;5;28mtype\u001b[39m[_StreamT] \u001b[38;5;241m|\u001b[39m \u001b[38;5;28;01mNone\u001b[39;00m \u001b[38;5;241m=\u001b[39m \u001b[38;5;28;01mNone\u001b[39;00m,\n\u001b[0;32m    852\u001b[0m ) \u001b[38;5;241m-\u001b[39m\u001b[38;5;241m>\u001b[39m ResponseT \u001b[38;5;241m|\u001b[39m _StreamT:\n\u001b[1;32m--> 853\u001b[0m     \u001b[38;5;28;01mreturn\u001b[39;00m \u001b[38;5;28;43mself\u001b[39;49m\u001b[38;5;241;43m.\u001b[39;49m\u001b[43m_request\u001b[49m\u001b[43m(\u001b[49m\n\u001b[0;32m    854\u001b[0m \u001b[43m        \u001b[49m\u001b[43mcast_to\u001b[49m\u001b[38;5;241;43m=\u001b[39;49m\u001b[43mcast_to\u001b[49m\u001b[43m,\u001b[49m\n\u001b[0;32m    855\u001b[0m \u001b[43m        \u001b[49m\u001b[43moptions\u001b[49m\u001b[38;5;241;43m=\u001b[39;49m\u001b[43moptions\u001b[49m\u001b[43m,\u001b[49m\n\u001b[0;32m    856\u001b[0m \u001b[43m        \u001b[49m\u001b[43mstream\u001b[49m\u001b[38;5;241;43m=\u001b[39;49m\u001b[43mstream\u001b[49m\u001b[43m,\u001b[49m\n\u001b[0;32m    857\u001b[0m \u001b[43m        \u001b[49m\u001b[43mstream_cls\u001b[49m\u001b[38;5;241;43m=\u001b[39;49m\u001b[43mstream_cls\u001b[49m\u001b[43m,\u001b[49m\n\u001b[0;32m    858\u001b[0m \u001b[43m        \u001b[49m\u001b[43mremaining_retries\u001b[49m\u001b[38;5;241;43m=\u001b[39;49m\u001b[43mremaining_retries\u001b[49m\u001b[43m,\u001b[49m\n\u001b[0;32m    859\u001b[0m \u001b[43m    \u001b[49m\u001b[43m)\u001b[49m\n",
      "File \u001b[1;32mc:\\Users\\hp\\AppData\\Local\\Programs\\Python\\Python310\\lib\\site-packages\\openai\\_base_client.py:877\u001b[0m, in \u001b[0;36mSyncAPIClient._request\u001b[1;34m(self, cast_to, options, remaining_retries, stream, stream_cls)\u001b[0m\n\u001b[0;32m    874\u001b[0m \u001b[38;5;28mself\u001b[39m\u001b[38;5;241m.\u001b[39m_prepare_request(request)\n\u001b[0;32m    876\u001b[0m \u001b[38;5;28;01mtry\u001b[39;00m:\n\u001b[1;32m--> 877\u001b[0m     response \u001b[38;5;241m=\u001b[39m \u001b[38;5;28;43mself\u001b[39;49m\u001b[38;5;241;43m.\u001b[39;49m\u001b[43m_client\u001b[49m\u001b[38;5;241;43m.\u001b[39;49m\u001b[43msend\u001b[49m\u001b[43m(\u001b[49m\n\u001b[0;32m    878\u001b[0m \u001b[43m        \u001b[49m\u001b[43mrequest\u001b[49m\u001b[43m,\u001b[49m\n\u001b[0;32m    879\u001b[0m \u001b[43m        \u001b[49m\u001b[43mauth\u001b[49m\u001b[38;5;241;43m=\u001b[39;49m\u001b[38;5;28;43mself\u001b[39;49m\u001b[38;5;241;43m.\u001b[39;49m\u001b[43mcustom_auth\u001b[49m\u001b[43m,\u001b[49m\n\u001b[0;32m    880\u001b[0m \u001b[43m        \u001b[49m\u001b[43mstream\u001b[49m\u001b[38;5;241;43m=\u001b[39;49m\u001b[43mstream\u001b[49m\u001b[43m \u001b[49m\u001b[38;5;129;43;01mor\u001b[39;49;00m\u001b[43m \u001b[49m\u001b[38;5;28;43mself\u001b[39;49m\u001b[38;5;241;43m.\u001b[39;49m\u001b[43m_should_stream_response_body\u001b[49m\u001b[43m(\u001b[49m\u001b[43mrequest\u001b[49m\u001b[38;5;241;43m=\u001b[39;49m\u001b[43mrequest\u001b[49m\u001b[43m)\u001b[49m\u001b[43m,\u001b[49m\n\u001b[0;32m    881\u001b[0m \u001b[43m    \u001b[49m\u001b[43m)\u001b[49m\n\u001b[0;32m    882\u001b[0m \u001b[38;5;28;01mexcept\u001b[39;00m httpx\u001b[38;5;241m.\u001b[39mTimeoutException \u001b[38;5;28;01mas\u001b[39;00m err:\n\u001b[0;32m    883\u001b[0m     \u001b[38;5;28;01mif\u001b[39;00m retries \u001b[38;5;241m>\u001b[39m \u001b[38;5;241m0\u001b[39m:\n",
      "File \u001b[1;32m~\\AppData\\Roaming\\Python\\Python310\\site-packages\\httpx\\_client.py:901\u001b[0m, in \u001b[0;36mClient.send\u001b[1;34m(self, request, stream, auth, follow_redirects)\u001b[0m\n\u001b[0;32m    893\u001b[0m follow_redirects \u001b[38;5;241m=\u001b[39m (\n\u001b[0;32m    894\u001b[0m     \u001b[38;5;28mself\u001b[39m\u001b[38;5;241m.\u001b[39mfollow_redirects\n\u001b[0;32m    895\u001b[0m     \u001b[38;5;28;01mif\u001b[39;00m \u001b[38;5;28misinstance\u001b[39m(follow_redirects, UseClientDefault)\n\u001b[0;32m    896\u001b[0m     \u001b[38;5;28;01melse\u001b[39;00m follow_redirects\n\u001b[0;32m    897\u001b[0m )\n\u001b[0;32m    899\u001b[0m auth \u001b[38;5;241m=\u001b[39m \u001b[38;5;28mself\u001b[39m\u001b[38;5;241m.\u001b[39m_build_request_auth(request, auth)\n\u001b[1;32m--> 901\u001b[0m response \u001b[38;5;241m=\u001b[39m \u001b[38;5;28;43mself\u001b[39;49m\u001b[38;5;241;43m.\u001b[39;49m\u001b[43m_send_handling_auth\u001b[49m\u001b[43m(\u001b[49m\n\u001b[0;32m    902\u001b[0m \u001b[43m    \u001b[49m\u001b[43mrequest\u001b[49m\u001b[43m,\u001b[49m\n\u001b[0;32m    903\u001b[0m \u001b[43m    \u001b[49m\u001b[43mauth\u001b[49m\u001b[38;5;241;43m=\u001b[39;49m\u001b[43mauth\u001b[49m\u001b[43m,\u001b[49m\n\u001b[0;32m    904\u001b[0m \u001b[43m    \u001b[49m\u001b[43mfollow_redirects\u001b[49m\u001b[38;5;241;43m=\u001b[39;49m\u001b[43mfollow_redirects\u001b[49m\u001b[43m,\u001b[49m\n\u001b[0;32m    905\u001b[0m \u001b[43m    \u001b[49m\u001b[43mhistory\u001b[49m\u001b[38;5;241;43m=\u001b[39;49m\u001b[43m[\u001b[49m\u001b[43m]\u001b[49m\u001b[43m,\u001b[49m\n\u001b[0;32m    906\u001b[0m \u001b[43m\u001b[49m\u001b[43m)\u001b[49m\n\u001b[0;32m    907\u001b[0m \u001b[38;5;28;01mtry\u001b[39;00m:\n\u001b[0;32m    908\u001b[0m     \u001b[38;5;28;01mif\u001b[39;00m \u001b[38;5;129;01mnot\u001b[39;00m stream:\n",
      "File \u001b[1;32m~\\AppData\\Roaming\\Python\\Python310\\site-packages\\httpx\\_client.py:929\u001b[0m, in \u001b[0;36mClient._send_handling_auth\u001b[1;34m(self, request, auth, follow_redirects, history)\u001b[0m\n\u001b[0;32m    926\u001b[0m request \u001b[38;5;241m=\u001b[39m \u001b[38;5;28mnext\u001b[39m(auth_flow)\n\u001b[0;32m    928\u001b[0m \u001b[38;5;28;01mwhile\u001b[39;00m \u001b[38;5;28;01mTrue\u001b[39;00m:\n\u001b[1;32m--> 929\u001b[0m     response \u001b[38;5;241m=\u001b[39m \u001b[38;5;28;43mself\u001b[39;49m\u001b[38;5;241;43m.\u001b[39;49m\u001b[43m_send_handling_redirects\u001b[49m\u001b[43m(\u001b[49m\n\u001b[0;32m    930\u001b[0m \u001b[43m        \u001b[49m\u001b[43mrequest\u001b[49m\u001b[43m,\u001b[49m\n\u001b[0;32m    931\u001b[0m \u001b[43m        \u001b[49m\u001b[43mfollow_redirects\u001b[49m\u001b[38;5;241;43m=\u001b[39;49m\u001b[43mfollow_redirects\u001b[49m\u001b[43m,\u001b[49m\n\u001b[0;32m    932\u001b[0m \u001b[43m        \u001b[49m\u001b[43mhistory\u001b[49m\u001b[38;5;241;43m=\u001b[39;49m\u001b[43mhistory\u001b[49m\u001b[43m,\u001b[49m\n\u001b[0;32m    933\u001b[0m \u001b[43m    \u001b[49m\u001b[43m)\u001b[49m\n\u001b[0;32m    934\u001b[0m     \u001b[38;5;28;01mtry\u001b[39;00m:\n\u001b[0;32m    935\u001b[0m         \u001b[38;5;28;01mtry\u001b[39;00m:\n",
      "File \u001b[1;32m~\\AppData\\Roaming\\Python\\Python310\\site-packages\\httpx\\_client.py:966\u001b[0m, in \u001b[0;36mClient._send_handling_redirects\u001b[1;34m(self, request, follow_redirects, history)\u001b[0m\n\u001b[0;32m    963\u001b[0m \u001b[38;5;28;01mfor\u001b[39;00m hook \u001b[38;5;129;01min\u001b[39;00m \u001b[38;5;28mself\u001b[39m\u001b[38;5;241m.\u001b[39m_event_hooks[\u001b[38;5;124m\"\u001b[39m\u001b[38;5;124mrequest\u001b[39m\u001b[38;5;124m\"\u001b[39m]:\n\u001b[0;32m    964\u001b[0m     hook(request)\n\u001b[1;32m--> 966\u001b[0m response \u001b[38;5;241m=\u001b[39m \u001b[38;5;28;43mself\u001b[39;49m\u001b[38;5;241;43m.\u001b[39;49m\u001b[43m_send_single_request\u001b[49m\u001b[43m(\u001b[49m\u001b[43mrequest\u001b[49m\u001b[43m)\u001b[49m\n\u001b[0;32m    967\u001b[0m \u001b[38;5;28;01mtry\u001b[39;00m:\n\u001b[0;32m    968\u001b[0m     \u001b[38;5;28;01mfor\u001b[39;00m hook \u001b[38;5;129;01min\u001b[39;00m \u001b[38;5;28mself\u001b[39m\u001b[38;5;241m.\u001b[39m_event_hooks[\u001b[38;5;124m\"\u001b[39m\u001b[38;5;124mresponse\u001b[39m\u001b[38;5;124m\"\u001b[39m]:\n",
      "File \u001b[1;32m~\\AppData\\Roaming\\Python\\Python310\\site-packages\\httpx\\_client.py:1002\u001b[0m, in \u001b[0;36mClient._send_single_request\u001b[1;34m(self, request)\u001b[0m\n\u001b[0;32m    997\u001b[0m     \u001b[38;5;28;01mraise\u001b[39;00m \u001b[38;5;167;01mRuntimeError\u001b[39;00m(\n\u001b[0;32m    998\u001b[0m         \u001b[38;5;124m\"\u001b[39m\u001b[38;5;124mAttempted to send an async request with a sync Client instance.\u001b[39m\u001b[38;5;124m\"\u001b[39m\n\u001b[0;32m    999\u001b[0m     )\n\u001b[0;32m   1001\u001b[0m \u001b[38;5;28;01mwith\u001b[39;00m request_context(request\u001b[38;5;241m=\u001b[39mrequest):\n\u001b[1;32m-> 1002\u001b[0m     response \u001b[38;5;241m=\u001b[39m \u001b[43mtransport\u001b[49m\u001b[38;5;241;43m.\u001b[39;49m\u001b[43mhandle_request\u001b[49m\u001b[43m(\u001b[49m\u001b[43mrequest\u001b[49m\u001b[43m)\u001b[49m\n\u001b[0;32m   1004\u001b[0m \u001b[38;5;28;01massert\u001b[39;00m \u001b[38;5;28misinstance\u001b[39m(response\u001b[38;5;241m.\u001b[39mstream, SyncByteStream)\n\u001b[0;32m   1006\u001b[0m response\u001b[38;5;241m.\u001b[39mrequest \u001b[38;5;241m=\u001b[39m request\n",
      "File \u001b[1;32m~\\AppData\\Roaming\\Python\\Python310\\site-packages\\httpx\\_transports\\default.py:218\u001b[0m, in \u001b[0;36mHTTPTransport.handle_request\u001b[1;34m(self, request)\u001b[0m\n\u001b[0;32m    205\u001b[0m req \u001b[38;5;241m=\u001b[39m httpcore\u001b[38;5;241m.\u001b[39mRequest(\n\u001b[0;32m    206\u001b[0m     method\u001b[38;5;241m=\u001b[39mrequest\u001b[38;5;241m.\u001b[39mmethod,\n\u001b[0;32m    207\u001b[0m     url\u001b[38;5;241m=\u001b[39mhttpcore\u001b[38;5;241m.\u001b[39mURL(\n\u001b[1;32m   (...)\u001b[0m\n\u001b[0;32m    215\u001b[0m     extensions\u001b[38;5;241m=\u001b[39mrequest\u001b[38;5;241m.\u001b[39mextensions,\n\u001b[0;32m    216\u001b[0m )\n\u001b[0;32m    217\u001b[0m \u001b[38;5;28;01mwith\u001b[39;00m map_httpcore_exceptions():\n\u001b[1;32m--> 218\u001b[0m     resp \u001b[38;5;241m=\u001b[39m \u001b[38;5;28;43mself\u001b[39;49m\u001b[38;5;241;43m.\u001b[39;49m\u001b[43m_pool\u001b[49m\u001b[38;5;241;43m.\u001b[39;49m\u001b[43mhandle_request\u001b[49m\u001b[43m(\u001b[49m\u001b[43mreq\u001b[49m\u001b[43m)\u001b[49m\n\u001b[0;32m    220\u001b[0m \u001b[38;5;28;01massert\u001b[39;00m \u001b[38;5;28misinstance\u001b[39m(resp\u001b[38;5;241m.\u001b[39mstream, typing\u001b[38;5;241m.\u001b[39mIterable)\n\u001b[0;32m    222\u001b[0m \u001b[38;5;28;01mreturn\u001b[39;00m Response(\n\u001b[0;32m    223\u001b[0m     status_code\u001b[38;5;241m=\u001b[39mresp\u001b[38;5;241m.\u001b[39mstatus,\n\u001b[0;32m    224\u001b[0m     headers\u001b[38;5;241m=\u001b[39mresp\u001b[38;5;241m.\u001b[39mheaders,\n\u001b[0;32m    225\u001b[0m     stream\u001b[38;5;241m=\u001b[39mResponseStream(resp\u001b[38;5;241m.\u001b[39mstream),\n\u001b[0;32m    226\u001b[0m     extensions\u001b[38;5;241m=\u001b[39mresp\u001b[38;5;241m.\u001b[39mextensions,\n\u001b[0;32m    227\u001b[0m )\n",
      "File \u001b[1;32m~\\AppData\\Roaming\\Python\\Python310\\site-packages\\httpcore\\_sync\\connection_pool.py:262\u001b[0m, in \u001b[0;36mConnectionPool.handle_request\u001b[1;34m(self, request)\u001b[0m\n\u001b[0;32m    260\u001b[0m     \u001b[38;5;28;01mwith\u001b[39;00m ShieldCancellation():\n\u001b[0;32m    261\u001b[0m         \u001b[38;5;28mself\u001b[39m\u001b[38;5;241m.\u001b[39mresponse_closed(status)\n\u001b[1;32m--> 262\u001b[0m     \u001b[38;5;28;01mraise\u001b[39;00m exc\n\u001b[0;32m    263\u001b[0m \u001b[38;5;28;01melse\u001b[39;00m:\n\u001b[0;32m    264\u001b[0m     \u001b[38;5;28;01mbreak\u001b[39;00m\n",
      "File \u001b[1;32m~\\AppData\\Roaming\\Python\\Python310\\site-packages\\httpcore\\_sync\\connection_pool.py:245\u001b[0m, in \u001b[0;36mConnectionPool.handle_request\u001b[1;34m(self, request)\u001b[0m\n\u001b[0;32m    242\u001b[0m         \u001b[38;5;28;01mraise\u001b[39;00m exc\n\u001b[0;32m    244\u001b[0m \u001b[38;5;28;01mtry\u001b[39;00m:\n\u001b[1;32m--> 245\u001b[0m     response \u001b[38;5;241m=\u001b[39m \u001b[43mconnection\u001b[49m\u001b[38;5;241;43m.\u001b[39;49m\u001b[43mhandle_request\u001b[49m\u001b[43m(\u001b[49m\u001b[43mrequest\u001b[49m\u001b[43m)\u001b[49m\n\u001b[0;32m    246\u001b[0m \u001b[38;5;28;01mexcept\u001b[39;00m ConnectionNotAvailable:\n\u001b[0;32m    247\u001b[0m     \u001b[38;5;66;03m# The ConnectionNotAvailable exception is a special case, that\u001b[39;00m\n\u001b[0;32m    248\u001b[0m     \u001b[38;5;66;03m# indicates we need to retry the request on a new connection.\u001b[39;00m\n\u001b[1;32m   (...)\u001b[0m\n\u001b[0;32m    252\u001b[0m     \u001b[38;5;66;03m# might end up as an HTTP/2 connection, but which actually ends\u001b[39;00m\n\u001b[0;32m    253\u001b[0m     \u001b[38;5;66;03m# up as HTTP/1.1.\u001b[39;00m\n\u001b[0;32m    254\u001b[0m     \u001b[38;5;28;01mwith\u001b[39;00m \u001b[38;5;28mself\u001b[39m\u001b[38;5;241m.\u001b[39m_pool_lock:\n\u001b[0;32m    255\u001b[0m         \u001b[38;5;66;03m# Maintain our position in the request queue, but reset the\u001b[39;00m\n\u001b[0;32m    256\u001b[0m         \u001b[38;5;66;03m# status so that the request becomes queued again.\u001b[39;00m\n",
      "File \u001b[1;32m~\\AppData\\Roaming\\Python\\Python310\\site-packages\\httpcore\\_sync\\connection.py:96\u001b[0m, in \u001b[0;36mHTTPConnection.handle_request\u001b[1;34m(self, request)\u001b[0m\n\u001b[0;32m     93\u001b[0m     \u001b[38;5;28;01melif\u001b[39;00m \u001b[38;5;129;01mnot\u001b[39;00m \u001b[38;5;28mself\u001b[39m\u001b[38;5;241m.\u001b[39m_connection\u001b[38;5;241m.\u001b[39mis_available():\n\u001b[0;32m     94\u001b[0m         \u001b[38;5;28;01mraise\u001b[39;00m ConnectionNotAvailable()\n\u001b[1;32m---> 96\u001b[0m \u001b[38;5;28;01mreturn\u001b[39;00m \u001b[38;5;28;43mself\u001b[39;49m\u001b[38;5;241;43m.\u001b[39;49m\u001b[43m_connection\u001b[49m\u001b[38;5;241;43m.\u001b[39;49m\u001b[43mhandle_request\u001b[49m\u001b[43m(\u001b[49m\u001b[43mrequest\u001b[49m\u001b[43m)\u001b[49m\n",
      "File \u001b[1;32m~\\AppData\\Roaming\\Python\\Python310\\site-packages\\httpcore\\_sync\\http11.py:121\u001b[0m, in \u001b[0;36mHTTP11Connection.handle_request\u001b[1;34m(self, request)\u001b[0m\n\u001b[0;32m    119\u001b[0m     \u001b[38;5;28;01mwith\u001b[39;00m Trace(\u001b[38;5;124m\"\u001b[39m\u001b[38;5;124mresponse_closed\u001b[39m\u001b[38;5;124m\"\u001b[39m, logger, request) \u001b[38;5;28;01mas\u001b[39;00m trace:\n\u001b[0;32m    120\u001b[0m         \u001b[38;5;28mself\u001b[39m\u001b[38;5;241m.\u001b[39m_response_closed()\n\u001b[1;32m--> 121\u001b[0m \u001b[38;5;28;01mraise\u001b[39;00m exc\n",
      "File \u001b[1;32m~\\AppData\\Roaming\\Python\\Python310\\site-packages\\httpcore\\_sync\\http11.py:99\u001b[0m, in \u001b[0;36mHTTP11Connection.handle_request\u001b[1;34m(self, request)\u001b[0m\n\u001b[0;32m     90\u001b[0m     \u001b[38;5;28mself\u001b[39m\u001b[38;5;241m.\u001b[39m_send_request_body(\u001b[38;5;241m*\u001b[39m\u001b[38;5;241m*\u001b[39mkwargs)\n\u001b[0;32m     91\u001b[0m \u001b[38;5;28;01mwith\u001b[39;00m Trace(\n\u001b[0;32m     92\u001b[0m     \u001b[38;5;124m\"\u001b[39m\u001b[38;5;124mreceive_response_headers\u001b[39m\u001b[38;5;124m\"\u001b[39m, logger, request, kwargs\n\u001b[0;32m     93\u001b[0m ) \u001b[38;5;28;01mas\u001b[39;00m trace:\n\u001b[0;32m     94\u001b[0m     (\n\u001b[0;32m     95\u001b[0m         http_version,\n\u001b[0;32m     96\u001b[0m         status,\n\u001b[0;32m     97\u001b[0m         reason_phrase,\n\u001b[0;32m     98\u001b[0m         headers,\n\u001b[1;32m---> 99\u001b[0m     ) \u001b[38;5;241m=\u001b[39m \u001b[38;5;28mself\u001b[39m\u001b[38;5;241m.\u001b[39m_receive_response_headers(\u001b[38;5;241m*\u001b[39m\u001b[38;5;241m*\u001b[39mkwargs)\n\u001b[0;32m    100\u001b[0m     trace\u001b[38;5;241m.\u001b[39mreturn_value \u001b[38;5;241m=\u001b[39m (\n\u001b[0;32m    101\u001b[0m         http_version,\n\u001b[0;32m    102\u001b[0m         status,\n\u001b[0;32m    103\u001b[0m         reason_phrase,\n\u001b[0;32m    104\u001b[0m         headers,\n\u001b[0;32m    105\u001b[0m     )\n\u001b[0;32m    107\u001b[0m \u001b[38;5;28;01mreturn\u001b[39;00m Response(\n\u001b[0;32m    108\u001b[0m     status\u001b[38;5;241m=\u001b[39mstatus,\n\u001b[0;32m    109\u001b[0m     headers\u001b[38;5;241m=\u001b[39mheaders,\n\u001b[1;32m   (...)\u001b[0m\n\u001b[0;32m    115\u001b[0m     },\n\u001b[0;32m    116\u001b[0m )\n",
      "File \u001b[1;32m~\\AppData\\Roaming\\Python\\Python310\\site-packages\\httpcore\\_sync\\http11.py:164\u001b[0m, in \u001b[0;36mHTTP11Connection._receive_response_headers\u001b[1;34m(self, request)\u001b[0m\n\u001b[0;32m    161\u001b[0m timeout \u001b[38;5;241m=\u001b[39m timeouts\u001b[38;5;241m.\u001b[39mget(\u001b[38;5;124m\"\u001b[39m\u001b[38;5;124mread\u001b[39m\u001b[38;5;124m\"\u001b[39m, \u001b[38;5;28;01mNone\u001b[39;00m)\n\u001b[0;32m    163\u001b[0m \u001b[38;5;28;01mwhile\u001b[39;00m \u001b[38;5;28;01mTrue\u001b[39;00m:\n\u001b[1;32m--> 164\u001b[0m     event \u001b[38;5;241m=\u001b[39m \u001b[38;5;28;43mself\u001b[39;49m\u001b[38;5;241;43m.\u001b[39;49m\u001b[43m_receive_event\u001b[49m\u001b[43m(\u001b[49m\u001b[43mtimeout\u001b[49m\u001b[38;5;241;43m=\u001b[39;49m\u001b[43mtimeout\u001b[49m\u001b[43m)\u001b[49m\n\u001b[0;32m    165\u001b[0m     \u001b[38;5;28;01mif\u001b[39;00m \u001b[38;5;28misinstance\u001b[39m(event, h11\u001b[38;5;241m.\u001b[39mResponse):\n\u001b[0;32m    166\u001b[0m         \u001b[38;5;28;01mbreak\u001b[39;00m\n",
      "File \u001b[1;32m~\\AppData\\Roaming\\Python\\Python310\\site-packages\\httpcore\\_sync\\http11.py:200\u001b[0m, in \u001b[0;36mHTTP11Connection._receive_event\u001b[1;34m(self, timeout)\u001b[0m\n\u001b[0;32m    197\u001b[0m     event \u001b[38;5;241m=\u001b[39m \u001b[38;5;28mself\u001b[39m\u001b[38;5;241m.\u001b[39m_h11_state\u001b[38;5;241m.\u001b[39mnext_event()\n\u001b[0;32m    199\u001b[0m \u001b[38;5;28;01mif\u001b[39;00m event \u001b[38;5;129;01mis\u001b[39;00m h11\u001b[38;5;241m.\u001b[39mNEED_DATA:\n\u001b[1;32m--> 200\u001b[0m     data \u001b[38;5;241m=\u001b[39m \u001b[38;5;28;43mself\u001b[39;49m\u001b[38;5;241;43m.\u001b[39;49m\u001b[43m_network_stream\u001b[49m\u001b[38;5;241;43m.\u001b[39;49m\u001b[43mread\u001b[49m\u001b[43m(\u001b[49m\n\u001b[0;32m    201\u001b[0m \u001b[43m        \u001b[49m\u001b[38;5;28;43mself\u001b[39;49m\u001b[38;5;241;43m.\u001b[39;49m\u001b[43mREAD_NUM_BYTES\u001b[49m\u001b[43m,\u001b[49m\u001b[43m \u001b[49m\u001b[43mtimeout\u001b[49m\u001b[38;5;241;43m=\u001b[39;49m\u001b[43mtimeout\u001b[49m\n\u001b[0;32m    202\u001b[0m \u001b[43m    \u001b[49m\u001b[43m)\u001b[49m\n\u001b[0;32m    204\u001b[0m     \u001b[38;5;66;03m# If we feed this case through h11 we'll raise an exception like:\u001b[39;00m\n\u001b[0;32m    205\u001b[0m     \u001b[38;5;66;03m#\u001b[39;00m\n\u001b[0;32m    206\u001b[0m     \u001b[38;5;66;03m#     httpcore.RemoteProtocolError: can't handle event type\u001b[39;00m\n\u001b[1;32m   (...)\u001b[0m\n\u001b[0;32m    210\u001b[0m     \u001b[38;5;66;03m# perspective. Instead we handle this case distinctly and treat\u001b[39;00m\n\u001b[0;32m    211\u001b[0m     \u001b[38;5;66;03m# it as a ConnectError.\u001b[39;00m\n\u001b[0;32m    212\u001b[0m     \u001b[38;5;28;01mif\u001b[39;00m data \u001b[38;5;241m==\u001b[39m \u001b[38;5;124mb\u001b[39m\u001b[38;5;124m\"\u001b[39m\u001b[38;5;124m\"\u001b[39m \u001b[38;5;129;01mand\u001b[39;00m \u001b[38;5;28mself\u001b[39m\u001b[38;5;241m.\u001b[39m_h11_state\u001b[38;5;241m.\u001b[39mtheir_state \u001b[38;5;241m==\u001b[39m h11\u001b[38;5;241m.\u001b[39mSEND_RESPONSE:\n",
      "File \u001b[1;32m~\\AppData\\Roaming\\Python\\Python310\\site-packages\\httpcore\\_backends\\sync.py:28\u001b[0m, in \u001b[0;36mSyncStream.read\u001b[1;34m(self, max_bytes, timeout)\u001b[0m\n\u001b[0;32m     26\u001b[0m \u001b[38;5;28;01mwith\u001b[39;00m map_exceptions(exc_map):\n\u001b[0;32m     27\u001b[0m     \u001b[38;5;28mself\u001b[39m\u001b[38;5;241m.\u001b[39m_sock\u001b[38;5;241m.\u001b[39msettimeout(timeout)\n\u001b[1;32m---> 28\u001b[0m     \u001b[38;5;28;01mreturn\u001b[39;00m \u001b[38;5;28;43mself\u001b[39;49m\u001b[38;5;241;43m.\u001b[39;49m\u001b[43m_sock\u001b[49m\u001b[38;5;241;43m.\u001b[39;49m\u001b[43mrecv\u001b[49m\u001b[43m(\u001b[49m\u001b[43mmax_bytes\u001b[49m\u001b[43m)\u001b[49m\n",
      "File \u001b[1;32mc:\\Users\\hp\\AppData\\Local\\Programs\\Python\\Python310\\lib\\ssl.py:1259\u001b[0m, in \u001b[0;36mSSLSocket.recv\u001b[1;34m(self, buflen, flags)\u001b[0m\n\u001b[0;32m   1255\u001b[0m     \u001b[38;5;28;01mif\u001b[39;00m flags \u001b[38;5;241m!=\u001b[39m \u001b[38;5;241m0\u001b[39m:\n\u001b[0;32m   1256\u001b[0m         \u001b[38;5;28;01mraise\u001b[39;00m \u001b[38;5;167;01mValueError\u001b[39;00m(\n\u001b[0;32m   1257\u001b[0m             \u001b[38;5;124m\"\u001b[39m\u001b[38;5;124mnon-zero flags not allowed in calls to recv() on \u001b[39m\u001b[38;5;132;01m%s\u001b[39;00m\u001b[38;5;124m\"\u001b[39m \u001b[38;5;241m%\u001b[39m\n\u001b[0;32m   1258\u001b[0m             \u001b[38;5;28mself\u001b[39m\u001b[38;5;241m.\u001b[39m\u001b[38;5;18m__class__\u001b[39m)\n\u001b[1;32m-> 1259\u001b[0m     \u001b[38;5;28;01mreturn\u001b[39;00m \u001b[38;5;28;43mself\u001b[39;49m\u001b[38;5;241;43m.\u001b[39;49m\u001b[43mread\u001b[49m\u001b[43m(\u001b[49m\u001b[43mbuflen\u001b[49m\u001b[43m)\u001b[49m\n\u001b[0;32m   1260\u001b[0m \u001b[38;5;28;01melse\u001b[39;00m:\n\u001b[0;32m   1261\u001b[0m     \u001b[38;5;28;01mreturn\u001b[39;00m \u001b[38;5;28msuper\u001b[39m()\u001b[38;5;241m.\u001b[39mrecv(buflen, flags)\n",
      "File \u001b[1;32mc:\\Users\\hp\\AppData\\Local\\Programs\\Python\\Python310\\lib\\ssl.py:1132\u001b[0m, in \u001b[0;36mSSLSocket.read\u001b[1;34m(self, len, buffer)\u001b[0m\n\u001b[0;32m   1130\u001b[0m         \u001b[38;5;28;01mreturn\u001b[39;00m \u001b[38;5;28mself\u001b[39m\u001b[38;5;241m.\u001b[39m_sslobj\u001b[38;5;241m.\u001b[39mread(\u001b[38;5;28mlen\u001b[39m, buffer)\n\u001b[0;32m   1131\u001b[0m     \u001b[38;5;28;01melse\u001b[39;00m:\n\u001b[1;32m-> 1132\u001b[0m         \u001b[38;5;28;01mreturn\u001b[39;00m \u001b[38;5;28;43mself\u001b[39;49m\u001b[38;5;241;43m.\u001b[39;49m\u001b[43m_sslobj\u001b[49m\u001b[38;5;241;43m.\u001b[39;49m\u001b[43mread\u001b[49m\u001b[43m(\u001b[49m\u001b[38;5;28;43mlen\u001b[39;49m\u001b[43m)\u001b[49m\n\u001b[0;32m   1133\u001b[0m \u001b[38;5;28;01mexcept\u001b[39;00m SSLError \u001b[38;5;28;01mas\u001b[39;00m x:\n\u001b[0;32m   1134\u001b[0m     \u001b[38;5;28;01mif\u001b[39;00m x\u001b[38;5;241m.\u001b[39margs[\u001b[38;5;241m0\u001b[39m] \u001b[38;5;241m==\u001b[39m SSL_ERROR_EOF \u001b[38;5;129;01mand\u001b[39;00m \u001b[38;5;28mself\u001b[39m\u001b[38;5;241m.\u001b[39msuppress_ragged_eofs:\n",
      "\u001b[1;31mKeyboardInterrupt\u001b[0m: "
     ]
    }
   ],
   "source": [
    "problems = []\n",
    "\n",
    "\n",
    "with tqdm(total=len(occupation_skills)) as pbar:\n",
    "    for occupation_skill in occupation_skills:\n",
    "        for area_of_focus in areas_of_focus:\n",
    "\n",
    "            matched_area = compatible_area_check(occupation_skill, area_of_focus, n=1)\n",
    "\n",
    "            for question in matched_area[\"questions\"]:\n",
    "                print(question)\n",
    "                problems.append({\n",
    "                    \"metadata\": {\n",
    "                        \"occupation_skill\": occupation_skill,\n",
    "                        \"compatible_area_of_focus\": area_of_focus,\n",
    "                        \"type\": \"query\",\n",
    "                        \"difficulty\": \"Easy\",\n",
    "                        \"target_length\": 1\n",
    "                    },\n",
    "                    \"messages\": [\n",
    "                        {\"role\": \"user\", \"content\": question},\n",
    "                    ]\n",
    "                })\n",
    "                pbar.update(1)"
   ]
  },
  {
   "cell_type": "code",
   "execution_count": 90,
   "metadata": {},
   "outputs": [
    {
     "data": {
      "text/plain": [
       "[{'metadata': {'occupation_skill_pair': 'Python Developer > First Timer',\n",
       "   'compatible_area_of_focus': 'Basic scripting - Write simple code in Javascript',\n",
       "   'type': 'query',\n",
       "   'difficulty': 'Easy',\n",
       "   'target_length': 1},\n",
       "  'messages': [{'role': 'user', 'content': 'P'}]},\n",
       " {'metadata': {'occupation_skill_pair': 'Python Developer > First Timer',\n",
       "   'compatible_area_of_focus': 'Basic scripting - Write simple code in Javascript',\n",
       "   'type': 'query',\n",
       "   'difficulty': 'Easy',\n",
       "   'target_length': 1},\n",
       "  'messages': [{'role': 'user', 'content': 'y'}]},\n",
       " {'metadata': {'occupation_skill_pair': 'Python Developer > First Timer',\n",
       "   'compatible_area_of_focus': 'Basic scripting - Write simple code in Javascript',\n",
       "   'type': 'query',\n",
       "   'difficulty': 'Easy',\n",
       "   'target_length': 1},\n",
       "  'messages': [{'role': 'user', 'content': 't'}]},\n",
       " {'metadata': {'occupation_skill_pair': 'Python Developer > First Timer',\n",
       "   'compatible_area_of_focus': 'Basic scripting - Write simple code in Javascript',\n",
       "   'type': 'query',\n",
       "   'difficulty': 'Easy',\n",
       "   'target_length': 1},\n",
       "  'messages': [{'role': 'user', 'content': 'h'}]},\n",
       " {'metadata': {'occupation_skill_pair': 'Python Developer > First Timer',\n",
       "   'compatible_area_of_focus': 'Basic scripting - Write simple code in Javascript',\n",
       "   'type': 'query',\n",
       "   'difficulty': 'Easy',\n",
       "   'target_length': 1},\n",
       "  'messages': [{'role': 'user', 'content': 'o'}]},\n",
       " {'metadata': {'occupation_skill_pair': 'Python Developer > First Timer',\n",
       "   'compatible_area_of_focus': 'Basic scripting - Write simple code in Javascript',\n",
       "   'type': 'query',\n",
       "   'difficulty': 'Easy',\n",
       "   'target_length': 1},\n",
       "  'messages': [{'role': 'user', 'content': 'n'}]},\n",
       " {'metadata': {'occupation_skill_pair': 'Python Developer > First Timer',\n",
       "   'compatible_area_of_focus': 'Basic scripting - Write simple code in Javascript',\n",
       "   'type': 'query',\n",
       "   'difficulty': 'Easy',\n",
       "   'target_length': 1},\n",
       "  'messages': [{'role': 'user', 'content': ' '}]},\n",
       " {'metadata': {'occupation_skill_pair': 'Python Developer > First Timer',\n",
       "   'compatible_area_of_focus': 'Basic scripting - Write simple code in Javascript',\n",
       "   'type': 'query',\n",
       "   'difficulty': 'Easy',\n",
       "   'target_length': 1},\n",
       "  'messages': [{'role': 'user', 'content': 'D'}]},\n",
       " {'metadata': {'occupation_skill_pair': 'Python Developer > First Timer',\n",
       "   'compatible_area_of_focus': 'Basic scripting - Write simple code in Javascript',\n",
       "   'type': 'query',\n",
       "   'difficulty': 'Easy',\n",
       "   'target_length': 1},\n",
       "  'messages': [{'role': 'user', 'content': 'e'}]},\n",
       " {'metadata': {'occupation_skill_pair': 'Python Developer > First Timer',\n",
       "   'compatible_area_of_focus': 'Basic scripting - Write simple code in Javascript',\n",
       "   'type': 'query',\n",
       "   'difficulty': 'Easy',\n",
       "   'target_length': 1},\n",
       "  'messages': [{'role': 'user', 'content': 'v'}]},\n",
       " {'metadata': {'occupation_skill_pair': 'Python Developer > First Timer',\n",
       "   'compatible_area_of_focus': 'Basic scripting - Write simple code in Javascript',\n",
       "   'type': 'query',\n",
       "   'difficulty': 'Easy',\n",
       "   'target_length': 1},\n",
       "  'messages': [{'role': 'user', 'content': 'e'}]},\n",
       " {'metadata': {'occupation_skill_pair': 'Python Developer > First Timer',\n",
       "   'compatible_area_of_focus': 'Basic scripting - Write simple code in Javascript',\n",
       "   'type': 'query',\n",
       "   'difficulty': 'Easy',\n",
       "   'target_length': 1},\n",
       "  'messages': [{'role': 'user', 'content': 'l'}]},\n",
       " {'metadata': {'occupation_skill_pair': 'Python Developer > First Timer',\n",
       "   'compatible_area_of_focus': 'Basic scripting - Write simple code in Javascript',\n",
       "   'type': 'query',\n",
       "   'difficulty': 'Easy',\n",
       "   'target_length': 1},\n",
       "  'messages': [{'role': 'user', 'content': 'o'}]},\n",
       " {'metadata': {'occupation_skill_pair': 'Python Developer > First Timer',\n",
       "   'compatible_area_of_focus': 'Basic scripting - Write simple code in Javascript',\n",
       "   'type': 'query',\n",
       "   'difficulty': 'Easy',\n",
       "   'target_length': 1},\n",
       "  'messages': [{'role': 'user', 'content': 'p'}]},\n",
       " {'metadata': {'occupation_skill_pair': 'Python Developer > First Timer',\n",
       "   'compatible_area_of_focus': 'Basic scripting - Write simple code in Javascript',\n",
       "   'type': 'query',\n",
       "   'difficulty': 'Easy',\n",
       "   'target_length': 1},\n",
       "  'messages': [{'role': 'user', 'content': 'e'}]},\n",
       " {'metadata': {'occupation_skill_pair': 'Python Developer > First Timer',\n",
       "   'compatible_area_of_focus': 'Basic scripting - Write simple code in Javascript',\n",
       "   'type': 'query',\n",
       "   'difficulty': 'Easy',\n",
       "   'target_length': 1},\n",
       "  'messages': [{'role': 'user', 'content': 'r'}]},\n",
       " {'metadata': {'occupation_skill_pair': 'Python Developer > First Timer',\n",
       "   'compatible_area_of_focus': 'Basic scripting - Write simple code in Javascript',\n",
       "   'type': 'query',\n",
       "   'difficulty': 'Easy',\n",
       "   'target_length': 1},\n",
       "  'messages': [{'role': 'user', 'content': ' '}]},\n",
       " {'metadata': {'occupation_skill_pair': 'Python Developer > First Timer',\n",
       "   'compatible_area_of_focus': 'Basic scripting - Write simple code in Javascript',\n",
       "   'type': 'query',\n",
       "   'difficulty': 'Easy',\n",
       "   'target_length': 1},\n",
       "  'messages': [{'role': 'user', 'content': '>'}]},\n",
       " {'metadata': {'occupation_skill_pair': 'Python Developer > First Timer',\n",
       "   'compatible_area_of_focus': 'Basic scripting - Write simple code in Javascript',\n",
       "   'type': 'query',\n",
       "   'difficulty': 'Easy',\n",
       "   'target_length': 1},\n",
       "  'messages': [{'role': 'user', 'content': ' '}]},\n",
       " {'metadata': {'occupation_skill_pair': 'Python Developer > First Timer',\n",
       "   'compatible_area_of_focus': 'Basic scripting - Write simple code in Javascript',\n",
       "   'type': 'query',\n",
       "   'difficulty': 'Easy',\n",
       "   'target_length': 1},\n",
       "  'messages': [{'role': 'user', 'content': 'F'}]},\n",
       " {'metadata': {'occupation_skill_pair': 'Python Developer > First Timer',\n",
       "   'compatible_area_of_focus': 'Basic scripting - Write simple code in Javascript',\n",
       "   'type': 'query',\n",
       "   'difficulty': 'Easy',\n",
       "   'target_length': 1},\n",
       "  'messages': [{'role': 'user', 'content': 'i'}]},\n",
       " {'metadata': {'occupation_skill_pair': 'Python Developer > First Timer',\n",
       "   'compatible_area_of_focus': 'Basic scripting - Write simple code in Javascript',\n",
       "   'type': 'query',\n",
       "   'difficulty': 'Easy',\n",
       "   'target_length': 1},\n",
       "  'messages': [{'role': 'user', 'content': 'r'}]},\n",
       " {'metadata': {'occupation_skill_pair': 'Python Developer > First Timer',\n",
       "   'compatible_area_of_focus': 'Basic scripting - Write simple code in Javascript',\n",
       "   'type': 'query',\n",
       "   'difficulty': 'Easy',\n",
       "   'target_length': 1},\n",
       "  'messages': [{'role': 'user', 'content': 's'}]},\n",
       " {'metadata': {'occupation_skill_pair': 'Python Developer > First Timer',\n",
       "   'compatible_area_of_focus': 'Basic scripting - Write simple code in Javascript',\n",
       "   'type': 'query',\n",
       "   'difficulty': 'Easy',\n",
       "   'target_length': 1},\n",
       "  'messages': [{'role': 'user', 'content': 't'}]},\n",
       " {'metadata': {'occupation_skill_pair': 'Python Developer > First Timer',\n",
       "   'compatible_area_of_focus': 'Basic scripting - Write simple code in Javascript',\n",
       "   'type': 'query',\n",
       "   'difficulty': 'Easy',\n",
       "   'target_length': 1},\n",
       "  'messages': [{'role': 'user', 'content': ' '}]},\n",
       " {'metadata': {'occupation_skill_pair': 'Python Developer > First Timer',\n",
       "   'compatible_area_of_focus': 'Basic scripting - Write simple code in Javascript',\n",
       "   'type': 'query',\n",
       "   'difficulty': 'Easy',\n",
       "   'target_length': 1},\n",
       "  'messages': [{'role': 'user', 'content': 'T'}]},\n",
       " {'metadata': {'occupation_skill_pair': 'Python Developer > First Timer',\n",
       "   'compatible_area_of_focus': 'Basic scripting - Write simple code in Javascript',\n",
       "   'type': 'query',\n",
       "   'difficulty': 'Easy',\n",
       "   'target_length': 1},\n",
       "  'messages': [{'role': 'user', 'content': 'i'}]},\n",
       " {'metadata': {'occupation_skill_pair': 'Python Developer > First Timer',\n",
       "   'compatible_area_of_focus': 'Basic scripting - Write simple code in Javascript',\n",
       "   'type': 'query',\n",
       "   'difficulty': 'Easy',\n",
       "   'target_length': 1},\n",
       "  'messages': [{'role': 'user', 'content': 'm'}]},\n",
       " {'metadata': {'occupation_skill_pair': 'Python Developer > First Timer',\n",
       "   'compatible_area_of_focus': 'Basic scripting - Write simple code in Javascript',\n",
       "   'type': 'query',\n",
       "   'difficulty': 'Easy',\n",
       "   'target_length': 1},\n",
       "  'messages': [{'role': 'user', 'content': 'e'}]},\n",
       " {'metadata': {'occupation_skill_pair': 'Python Developer > First Timer',\n",
       "   'compatible_area_of_focus': 'Basic scripting - Write simple code in Javascript',\n",
       "   'type': 'query',\n",
       "   'difficulty': 'Easy',\n",
       "   'target_length': 1},\n",
       "  'messages': [{'role': 'user', 'content': 'r'}]},\n",
       " {'metadata': {'occupation_skill_pair': 'Python Developer > First Timer',\n",
       "   'compatible_area_of_focus': 'General coding help - Rewrite code using better formatting / best practises',\n",
       "   'type': 'query',\n",
       "   'difficulty': 'Easy',\n",
       "   'target_length': 1},\n",
       "  'messages': [{'role': 'user', 'content': 'P'}]},\n",
       " {'metadata': {'occupation_skill_pair': 'Python Developer > First Timer',\n",
       "   'compatible_area_of_focus': 'General coding help - Rewrite code using better formatting / best practises',\n",
       "   'type': 'query',\n",
       "   'difficulty': 'Easy',\n",
       "   'target_length': 1},\n",
       "  'messages': [{'role': 'user', 'content': 'y'}]},\n",
       " {'metadata': {'occupation_skill_pair': 'Python Developer > First Timer',\n",
       "   'compatible_area_of_focus': 'General coding help - Rewrite code using better formatting / best practises',\n",
       "   'type': 'query',\n",
       "   'difficulty': 'Easy',\n",
       "   'target_length': 1},\n",
       "  'messages': [{'role': 'user', 'content': 't'}]},\n",
       " {'metadata': {'occupation_skill_pair': 'Python Developer > First Timer',\n",
       "   'compatible_area_of_focus': 'General coding help - Rewrite code using better formatting / best practises',\n",
       "   'type': 'query',\n",
       "   'difficulty': 'Easy',\n",
       "   'target_length': 1},\n",
       "  'messages': [{'role': 'user', 'content': 'h'}]},\n",
       " {'metadata': {'occupation_skill_pair': 'Python Developer > First Timer',\n",
       "   'compatible_area_of_focus': 'General coding help - Rewrite code using better formatting / best practises',\n",
       "   'type': 'query',\n",
       "   'difficulty': 'Easy',\n",
       "   'target_length': 1},\n",
       "  'messages': [{'role': 'user', 'content': 'o'}]},\n",
       " {'metadata': {'occupation_skill_pair': 'Python Developer > First Timer',\n",
       "   'compatible_area_of_focus': 'General coding help - Rewrite code using better formatting / best practises',\n",
       "   'type': 'query',\n",
       "   'difficulty': 'Easy',\n",
       "   'target_length': 1},\n",
       "  'messages': [{'role': 'user', 'content': 'n'}]},\n",
       " {'metadata': {'occupation_skill_pair': 'Python Developer > First Timer',\n",
       "   'compatible_area_of_focus': 'General coding help - Rewrite code using better formatting / best practises',\n",
       "   'type': 'query',\n",
       "   'difficulty': 'Easy',\n",
       "   'target_length': 1},\n",
       "  'messages': [{'role': 'user', 'content': ' '}]},\n",
       " {'metadata': {'occupation_skill_pair': 'Python Developer > First Timer',\n",
       "   'compatible_area_of_focus': 'General coding help - Rewrite code using better formatting / best practises',\n",
       "   'type': 'query',\n",
       "   'difficulty': 'Easy',\n",
       "   'target_length': 1},\n",
       "  'messages': [{'role': 'user', 'content': 'D'}]},\n",
       " {'metadata': {'occupation_skill_pair': 'Python Developer > First Timer',\n",
       "   'compatible_area_of_focus': 'General coding help - Rewrite code using better formatting / best practises',\n",
       "   'type': 'query',\n",
       "   'difficulty': 'Easy',\n",
       "   'target_length': 1},\n",
       "  'messages': [{'role': 'user', 'content': 'e'}]},\n",
       " {'metadata': {'occupation_skill_pair': 'Python Developer > First Timer',\n",
       "   'compatible_area_of_focus': 'General coding help - Rewrite code using better formatting / best practises',\n",
       "   'type': 'query',\n",
       "   'difficulty': 'Easy',\n",
       "   'target_length': 1},\n",
       "  'messages': [{'role': 'user', 'content': 'v'}]},\n",
       " {'metadata': {'occupation_skill_pair': 'Python Developer > First Timer',\n",
       "   'compatible_area_of_focus': 'General coding help - Rewrite code using better formatting / best practises',\n",
       "   'type': 'query',\n",
       "   'difficulty': 'Easy',\n",
       "   'target_length': 1},\n",
       "  'messages': [{'role': 'user', 'content': 'e'}]},\n",
       " {'metadata': {'occupation_skill_pair': 'Python Developer > First Timer',\n",
       "   'compatible_area_of_focus': 'General coding help - Rewrite code using better formatting / best practises',\n",
       "   'type': 'query',\n",
       "   'difficulty': 'Easy',\n",
       "   'target_length': 1},\n",
       "  'messages': [{'role': 'user', 'content': 'l'}]},\n",
       " {'metadata': {'occupation_skill_pair': 'Python Developer > First Timer',\n",
       "   'compatible_area_of_focus': 'General coding help - Rewrite code using better formatting / best practises',\n",
       "   'type': 'query',\n",
       "   'difficulty': 'Easy',\n",
       "   'target_length': 1},\n",
       "  'messages': [{'role': 'user', 'content': 'o'}]},\n",
       " {'metadata': {'occupation_skill_pair': 'Python Developer > First Timer',\n",
       "   'compatible_area_of_focus': 'General coding help - Rewrite code using better formatting / best practises',\n",
       "   'type': 'query',\n",
       "   'difficulty': 'Easy',\n",
       "   'target_length': 1},\n",
       "  'messages': [{'role': 'user', 'content': 'p'}]},\n",
       " {'metadata': {'occupation_skill_pair': 'Python Developer > First Timer',\n",
       "   'compatible_area_of_focus': 'General coding help - Rewrite code using better formatting / best practises',\n",
       "   'type': 'query',\n",
       "   'difficulty': 'Easy',\n",
       "   'target_length': 1},\n",
       "  'messages': [{'role': 'user', 'content': 'e'}]},\n",
       " {'metadata': {'occupation_skill_pair': 'Python Developer > First Timer',\n",
       "   'compatible_area_of_focus': 'General coding help - Rewrite code using better formatting / best practises',\n",
       "   'type': 'query',\n",
       "   'difficulty': 'Easy',\n",
       "   'target_length': 1},\n",
       "  'messages': [{'role': 'user', 'content': 'r'}]},\n",
       " {'metadata': {'occupation_skill_pair': 'Python Developer > First Timer',\n",
       "   'compatible_area_of_focus': 'General coding help - Rewrite code using better formatting / best practises',\n",
       "   'type': 'query',\n",
       "   'difficulty': 'Easy',\n",
       "   'target_length': 1},\n",
       "  'messages': [{'role': 'user', 'content': ' '}]},\n",
       " {'metadata': {'occupation_skill_pair': 'Python Developer > First Timer',\n",
       "   'compatible_area_of_focus': 'General coding help - Rewrite code using better formatting / best practises',\n",
       "   'type': 'query',\n",
       "   'difficulty': 'Easy',\n",
       "   'target_length': 1},\n",
       "  'messages': [{'role': 'user', 'content': '>'}]},\n",
       " {'metadata': {'occupation_skill_pair': 'Python Developer > First Timer',\n",
       "   'compatible_area_of_focus': 'General coding help - Rewrite code using better formatting / best practises',\n",
       "   'type': 'query',\n",
       "   'difficulty': 'Easy',\n",
       "   'target_length': 1},\n",
       "  'messages': [{'role': 'user', 'content': ' '}]},\n",
       " {'metadata': {'occupation_skill_pair': 'Python Developer > First Timer',\n",
       "   'compatible_area_of_focus': 'General coding help - Rewrite code using better formatting / best practises',\n",
       "   'type': 'query',\n",
       "   'difficulty': 'Easy',\n",
       "   'target_length': 1},\n",
       "  'messages': [{'role': 'user', 'content': 'F'}]},\n",
       " {'metadata': {'occupation_skill_pair': 'Python Developer > First Timer',\n",
       "   'compatible_area_of_focus': 'General coding help - Rewrite code using better formatting / best practises',\n",
       "   'type': 'query',\n",
       "   'difficulty': 'Easy',\n",
       "   'target_length': 1},\n",
       "  'messages': [{'role': 'user', 'content': 'i'}]},\n",
       " {'metadata': {'occupation_skill_pair': 'Python Developer > First Timer',\n",
       "   'compatible_area_of_focus': 'General coding help - Rewrite code using better formatting / best practises',\n",
       "   'type': 'query',\n",
       "   'difficulty': 'Easy',\n",
       "   'target_length': 1},\n",
       "  'messages': [{'role': 'user', 'content': 'r'}]},\n",
       " {'metadata': {'occupation_skill_pair': 'Python Developer > First Timer',\n",
       "   'compatible_area_of_focus': 'General coding help - Rewrite code using better formatting / best practises',\n",
       "   'type': 'query',\n",
       "   'difficulty': 'Easy',\n",
       "   'target_length': 1},\n",
       "  'messages': [{'role': 'user', 'content': 's'}]},\n",
       " {'metadata': {'occupation_skill_pair': 'Python Developer > First Timer',\n",
       "   'compatible_area_of_focus': 'General coding help - Rewrite code using better formatting / best practises',\n",
       "   'type': 'query',\n",
       "   'difficulty': 'Easy',\n",
       "   'target_length': 1},\n",
       "  'messages': [{'role': 'user', 'content': 't'}]},\n",
       " {'metadata': {'occupation_skill_pair': 'Python Developer > First Timer',\n",
       "   'compatible_area_of_focus': 'General coding help - Rewrite code using better formatting / best practises',\n",
       "   'type': 'query',\n",
       "   'difficulty': 'Easy',\n",
       "   'target_length': 1},\n",
       "  'messages': [{'role': 'user', 'content': ' '}]},\n",
       " {'metadata': {'occupation_skill_pair': 'Python Developer > First Timer',\n",
       "   'compatible_area_of_focus': 'General coding help - Rewrite code using better formatting / best practises',\n",
       "   'type': 'query',\n",
       "   'difficulty': 'Easy',\n",
       "   'target_length': 1},\n",
       "  'messages': [{'role': 'user', 'content': 'T'}]},\n",
       " {'metadata': {'occupation_skill_pair': 'Python Developer > First Timer',\n",
       "   'compatible_area_of_focus': 'General coding help - Rewrite code using better formatting / best practises',\n",
       "   'type': 'query',\n",
       "   'difficulty': 'Easy',\n",
       "   'target_length': 1},\n",
       "  'messages': [{'role': 'user', 'content': 'i'}]},\n",
       " {'metadata': {'occupation_skill_pair': 'Python Developer > First Timer',\n",
       "   'compatible_area_of_focus': 'General coding help - Rewrite code using better formatting / best practises',\n",
       "   'type': 'query',\n",
       "   'difficulty': 'Easy',\n",
       "   'target_length': 1},\n",
       "  'messages': [{'role': 'user', 'content': 'm'}]},\n",
       " {'metadata': {'occupation_skill_pair': 'Python Developer > First Timer',\n",
       "   'compatible_area_of_focus': 'General coding help - Rewrite code using better formatting / best practises',\n",
       "   'type': 'query',\n",
       "   'difficulty': 'Easy',\n",
       "   'target_length': 1},\n",
       "  'messages': [{'role': 'user', 'content': 'e'}]},\n",
       " {'metadata': {'occupation_skill_pair': 'Python Developer > First Timer',\n",
       "   'compatible_area_of_focus': 'General coding help - Rewrite code using better formatting / best practises',\n",
       "   'type': 'query',\n",
       "   'difficulty': 'Easy',\n",
       "   'target_length': 1},\n",
       "  'messages': [{'role': 'user', 'content': 'r'}]},\n",
       " {'metadata': {'occupation_skill_pair': 'Python Developer > First Timer',\n",
       "   'compatible_area_of_focus': 'General coding help - Refactor code',\n",
       "   'type': 'query',\n",
       "   'difficulty': 'Easy',\n",
       "   'target_length': 1},\n",
       "  'messages': [{'role': 'user', 'content': 'P'}]},\n",
       " {'metadata': {'occupation_skill_pair': 'Python Developer > First Timer',\n",
       "   'compatible_area_of_focus': 'General coding help - Refactor code',\n",
       "   'type': 'query',\n",
       "   'difficulty': 'Easy',\n",
       "   'target_length': 1},\n",
       "  'messages': [{'role': 'user', 'content': 'y'}]},\n",
       " {'metadata': {'occupation_skill_pair': 'Python Developer > First Timer',\n",
       "   'compatible_area_of_focus': 'General coding help - Refactor code',\n",
       "   'type': 'query',\n",
       "   'difficulty': 'Easy',\n",
       "   'target_length': 1},\n",
       "  'messages': [{'role': 'user', 'content': 't'}]},\n",
       " {'metadata': {'occupation_skill_pair': 'Python Developer > First Timer',\n",
       "   'compatible_area_of_focus': 'General coding help - Refactor code',\n",
       "   'type': 'query',\n",
       "   'difficulty': 'Easy',\n",
       "   'target_length': 1},\n",
       "  'messages': [{'role': 'user', 'content': 'h'}]},\n",
       " {'metadata': {'occupation_skill_pair': 'Python Developer > First Timer',\n",
       "   'compatible_area_of_focus': 'General coding help - Refactor code',\n",
       "   'type': 'query',\n",
       "   'difficulty': 'Easy',\n",
       "   'target_length': 1},\n",
       "  'messages': [{'role': 'user', 'content': 'o'}]},\n",
       " {'metadata': {'occupation_skill_pair': 'Python Developer > First Timer',\n",
       "   'compatible_area_of_focus': 'General coding help - Refactor code',\n",
       "   'type': 'query',\n",
       "   'difficulty': 'Easy',\n",
       "   'target_length': 1},\n",
       "  'messages': [{'role': 'user', 'content': 'n'}]},\n",
       " {'metadata': {'occupation_skill_pair': 'Python Developer > First Timer',\n",
       "   'compatible_area_of_focus': 'General coding help - Refactor code',\n",
       "   'type': 'query',\n",
       "   'difficulty': 'Easy',\n",
       "   'target_length': 1},\n",
       "  'messages': [{'role': 'user', 'content': ' '}]},\n",
       " {'metadata': {'occupation_skill_pair': 'Python Developer > First Timer',\n",
       "   'compatible_area_of_focus': 'General coding help - Refactor code',\n",
       "   'type': 'query',\n",
       "   'difficulty': 'Easy',\n",
       "   'target_length': 1},\n",
       "  'messages': [{'role': 'user', 'content': 'D'}]},\n",
       " {'metadata': {'occupation_skill_pair': 'Python Developer > First Timer',\n",
       "   'compatible_area_of_focus': 'General coding help - Refactor code',\n",
       "   'type': 'query',\n",
       "   'difficulty': 'Easy',\n",
       "   'target_length': 1},\n",
       "  'messages': [{'role': 'user', 'content': 'e'}]},\n",
       " {'metadata': {'occupation_skill_pair': 'Python Developer > First Timer',\n",
       "   'compatible_area_of_focus': 'General coding help - Refactor code',\n",
       "   'type': 'query',\n",
       "   'difficulty': 'Easy',\n",
       "   'target_length': 1},\n",
       "  'messages': [{'role': 'user', 'content': 'v'}]},\n",
       " {'metadata': {'occupation_skill_pair': 'Python Developer > First Timer',\n",
       "   'compatible_area_of_focus': 'General coding help - Refactor code',\n",
       "   'type': 'query',\n",
       "   'difficulty': 'Easy',\n",
       "   'target_length': 1},\n",
       "  'messages': [{'role': 'user', 'content': 'e'}]},\n",
       " {'metadata': {'occupation_skill_pair': 'Python Developer > First Timer',\n",
       "   'compatible_area_of_focus': 'General coding help - Refactor code',\n",
       "   'type': 'query',\n",
       "   'difficulty': 'Easy',\n",
       "   'target_length': 1},\n",
       "  'messages': [{'role': 'user', 'content': 'l'}]},\n",
       " {'metadata': {'occupation_skill_pair': 'Python Developer > First Timer',\n",
       "   'compatible_area_of_focus': 'General coding help - Refactor code',\n",
       "   'type': 'query',\n",
       "   'difficulty': 'Easy',\n",
       "   'target_length': 1},\n",
       "  'messages': [{'role': 'user', 'content': 'o'}]},\n",
       " {'metadata': {'occupation_skill_pair': 'Python Developer > First Timer',\n",
       "   'compatible_area_of_focus': 'General coding help - Refactor code',\n",
       "   'type': 'query',\n",
       "   'difficulty': 'Easy',\n",
       "   'target_length': 1},\n",
       "  'messages': [{'role': 'user', 'content': 'p'}]},\n",
       " {'metadata': {'occupation_skill_pair': 'Python Developer > First Timer',\n",
       "   'compatible_area_of_focus': 'General coding help - Refactor code',\n",
       "   'type': 'query',\n",
       "   'difficulty': 'Easy',\n",
       "   'target_length': 1},\n",
       "  'messages': [{'role': 'user', 'content': 'e'}]},\n",
       " {'metadata': {'occupation_skill_pair': 'Python Developer > First Timer',\n",
       "   'compatible_area_of_focus': 'General coding help - Refactor code',\n",
       "   'type': 'query',\n",
       "   'difficulty': 'Easy',\n",
       "   'target_length': 1},\n",
       "  'messages': [{'role': 'user', 'content': 'r'}]},\n",
       " {'metadata': {'occupation_skill_pair': 'Python Developer > First Timer',\n",
       "   'compatible_area_of_focus': 'General coding help - Refactor code',\n",
       "   'type': 'query',\n",
       "   'difficulty': 'Easy',\n",
       "   'target_length': 1},\n",
       "  'messages': [{'role': 'user', 'content': ' '}]},\n",
       " {'metadata': {'occupation_skill_pair': 'Python Developer > First Timer',\n",
       "   'compatible_area_of_focus': 'General coding help - Refactor code',\n",
       "   'type': 'query',\n",
       "   'difficulty': 'Easy',\n",
       "   'target_length': 1},\n",
       "  'messages': [{'role': 'user', 'content': '>'}]},\n",
       " {'metadata': {'occupation_skill_pair': 'Python Developer > First Timer',\n",
       "   'compatible_area_of_focus': 'General coding help - Refactor code',\n",
       "   'type': 'query',\n",
       "   'difficulty': 'Easy',\n",
       "   'target_length': 1},\n",
       "  'messages': [{'role': 'user', 'content': ' '}]},\n",
       " {'metadata': {'occupation_skill_pair': 'Python Developer > First Timer',\n",
       "   'compatible_area_of_focus': 'General coding help - Refactor code',\n",
       "   'type': 'query',\n",
       "   'difficulty': 'Easy',\n",
       "   'target_length': 1},\n",
       "  'messages': [{'role': 'user', 'content': 'F'}]},\n",
       " {'metadata': {'occupation_skill_pair': 'Python Developer > First Timer',\n",
       "   'compatible_area_of_focus': 'General coding help - Refactor code',\n",
       "   'type': 'query',\n",
       "   'difficulty': 'Easy',\n",
       "   'target_length': 1},\n",
       "  'messages': [{'role': 'user', 'content': 'i'}]},\n",
       " {'metadata': {'occupation_skill_pair': 'Python Developer > First Timer',\n",
       "   'compatible_area_of_focus': 'General coding help - Refactor code',\n",
       "   'type': 'query',\n",
       "   'difficulty': 'Easy',\n",
       "   'target_length': 1},\n",
       "  'messages': [{'role': 'user', 'content': 'r'}]},\n",
       " {'metadata': {'occupation_skill_pair': 'Python Developer > First Timer',\n",
       "   'compatible_area_of_focus': 'General coding help - Refactor code',\n",
       "   'type': 'query',\n",
       "   'difficulty': 'Easy',\n",
       "   'target_length': 1},\n",
       "  'messages': [{'role': 'user', 'content': 's'}]},\n",
       " {'metadata': {'occupation_skill_pair': 'Python Developer > First Timer',\n",
       "   'compatible_area_of_focus': 'General coding help - Refactor code',\n",
       "   'type': 'query',\n",
       "   'difficulty': 'Easy',\n",
       "   'target_length': 1},\n",
       "  'messages': [{'role': 'user', 'content': 't'}]},\n",
       " {'metadata': {'occupation_skill_pair': 'Python Developer > First Timer',\n",
       "   'compatible_area_of_focus': 'General coding help - Refactor code',\n",
       "   'type': 'query',\n",
       "   'difficulty': 'Easy',\n",
       "   'target_length': 1},\n",
       "  'messages': [{'role': 'user', 'content': ' '}]},\n",
       " {'metadata': {'occupation_skill_pair': 'Python Developer > First Timer',\n",
       "   'compatible_area_of_focus': 'General coding help - Refactor code',\n",
       "   'type': 'query',\n",
       "   'difficulty': 'Easy',\n",
       "   'target_length': 1},\n",
       "  'messages': [{'role': 'user', 'content': 'T'}]},\n",
       " {'metadata': {'occupation_skill_pair': 'Python Developer > First Timer',\n",
       "   'compatible_area_of_focus': 'General coding help - Refactor code',\n",
       "   'type': 'query',\n",
       "   'difficulty': 'Easy',\n",
       "   'target_length': 1},\n",
       "  'messages': [{'role': 'user', 'content': 'i'}]},\n",
       " {'metadata': {'occupation_skill_pair': 'Python Developer > First Timer',\n",
       "   'compatible_area_of_focus': 'General coding help - Refactor code',\n",
       "   'type': 'query',\n",
       "   'difficulty': 'Easy',\n",
       "   'target_length': 1},\n",
       "  'messages': [{'role': 'user', 'content': 'm'}]},\n",
       " {'metadata': {'occupation_skill_pair': 'Python Developer > First Timer',\n",
       "   'compatible_area_of_focus': 'General coding help - Refactor code',\n",
       "   'type': 'query',\n",
       "   'difficulty': 'Easy',\n",
       "   'target_length': 1},\n",
       "  'messages': [{'role': 'user', 'content': 'e'}]},\n",
       " {'metadata': {'occupation_skill_pair': 'Python Developer > First Timer',\n",
       "   'compatible_area_of_focus': 'General coding help - Refactor code',\n",
       "   'type': 'query',\n",
       "   'difficulty': 'Easy',\n",
       "   'target_length': 1},\n",
       "  'messages': [{'role': 'user', 'content': 'r'}]},\n",
       " {'metadata': {'occupation_skill_pair': 'Python Developer > First Timer',\n",
       "   'compatible_area_of_focus': 'General coding help - Explain complex code snippets',\n",
       "   'type': 'query',\n",
       "   'difficulty': 'Easy',\n",
       "   'target_length': 1},\n",
       "  'messages': [{'role': 'user', 'content': 'P'}]},\n",
       " {'metadata': {'occupation_skill_pair': 'Python Developer > First Timer',\n",
       "   'compatible_area_of_focus': 'General coding help - Explain complex code snippets',\n",
       "   'type': 'query',\n",
       "   'difficulty': 'Easy',\n",
       "   'target_length': 1},\n",
       "  'messages': [{'role': 'user', 'content': 'y'}]},\n",
       " {'metadata': {'occupation_skill_pair': 'Python Developer > First Timer',\n",
       "   'compatible_area_of_focus': 'General coding help - Explain complex code snippets',\n",
       "   'type': 'query',\n",
       "   'difficulty': 'Easy',\n",
       "   'target_length': 1},\n",
       "  'messages': [{'role': 'user', 'content': 't'}]},\n",
       " {'metadata': {'occupation_skill_pair': 'Python Developer > First Timer',\n",
       "   'compatible_area_of_focus': 'General coding help - Explain complex code snippets',\n",
       "   'type': 'query',\n",
       "   'difficulty': 'Easy',\n",
       "   'target_length': 1},\n",
       "  'messages': [{'role': 'user', 'content': 'h'}]},\n",
       " {'metadata': {'occupation_skill_pair': 'Python Developer > First Timer',\n",
       "   'compatible_area_of_focus': 'General coding help - Explain complex code snippets',\n",
       "   'type': 'query',\n",
       "   'difficulty': 'Easy',\n",
       "   'target_length': 1},\n",
       "  'messages': [{'role': 'user', 'content': 'o'}]},\n",
       " {'metadata': {'occupation_skill_pair': 'Python Developer > First Timer',\n",
       "   'compatible_area_of_focus': 'General coding help - Explain complex code snippets',\n",
       "   'type': 'query',\n",
       "   'difficulty': 'Easy',\n",
       "   'target_length': 1},\n",
       "  'messages': [{'role': 'user', 'content': 'n'}]},\n",
       " {'metadata': {'occupation_skill_pair': 'Python Developer > First Timer',\n",
       "   'compatible_area_of_focus': 'General coding help - Explain complex code snippets',\n",
       "   'type': 'query',\n",
       "   'difficulty': 'Easy',\n",
       "   'target_length': 1},\n",
       "  'messages': [{'role': 'user', 'content': ' '}]},\n",
       " {'metadata': {'occupation_skill_pair': 'Python Developer > First Timer',\n",
       "   'compatible_area_of_focus': 'General coding help - Explain complex code snippets',\n",
       "   'type': 'query',\n",
       "   'difficulty': 'Easy',\n",
       "   'target_length': 1},\n",
       "  'messages': [{'role': 'user', 'content': 'D'}]},\n",
       " {'metadata': {'occupation_skill_pair': 'Python Developer > First Timer',\n",
       "   'compatible_area_of_focus': 'General coding help - Explain complex code snippets',\n",
       "   'type': 'query',\n",
       "   'difficulty': 'Easy',\n",
       "   'target_length': 1},\n",
       "  'messages': [{'role': 'user', 'content': 'e'}]},\n",
       " {'metadata': {'occupation_skill_pair': 'Python Developer > First Timer',\n",
       "   'compatible_area_of_focus': 'General coding help - Explain complex code snippets',\n",
       "   'type': 'query',\n",
       "   'difficulty': 'Easy',\n",
       "   'target_length': 1},\n",
       "  'messages': [{'role': 'user', 'content': 'v'}]},\n",
       " {'metadata': {'occupation_skill_pair': 'Python Developer > First Timer',\n",
       "   'compatible_area_of_focus': 'General coding help - Explain complex code snippets',\n",
       "   'type': 'query',\n",
       "   'difficulty': 'Easy',\n",
       "   'target_length': 1},\n",
       "  'messages': [{'role': 'user', 'content': 'e'}]},\n",
       " {'metadata': {'occupation_skill_pair': 'Python Developer > First Timer',\n",
       "   'compatible_area_of_focus': 'General coding help - Explain complex code snippets',\n",
       "   'type': 'query',\n",
       "   'difficulty': 'Easy',\n",
       "   'target_length': 1},\n",
       "  'messages': [{'role': 'user', 'content': 'l'}]},\n",
       " {'metadata': {'occupation_skill_pair': 'Python Developer > First Timer',\n",
       "   'compatible_area_of_focus': 'General coding help - Explain complex code snippets',\n",
       "   'type': 'query',\n",
       "   'difficulty': 'Easy',\n",
       "   'target_length': 1},\n",
       "  'messages': [{'role': 'user', 'content': 'o'}]},\n",
       " {'metadata': {'occupation_skill_pair': 'Python Developer > First Timer',\n",
       "   'compatible_area_of_focus': 'General coding help - Explain complex code snippets',\n",
       "   'type': 'query',\n",
       "   'difficulty': 'Easy',\n",
       "   'target_length': 1},\n",
       "  'messages': [{'role': 'user', 'content': 'p'}]},\n",
       " {'metadata': {'occupation_skill_pair': 'Python Developer > First Timer',\n",
       "   'compatible_area_of_focus': 'General coding help - Explain complex code snippets',\n",
       "   'type': 'query',\n",
       "   'difficulty': 'Easy',\n",
       "   'target_length': 1},\n",
       "  'messages': [{'role': 'user', 'content': 'e'}]},\n",
       " {'metadata': {'occupation_skill_pair': 'Python Developer > First Timer',\n",
       "   'compatible_area_of_focus': 'General coding help - Explain complex code snippets',\n",
       "   'type': 'query',\n",
       "   'difficulty': 'Easy',\n",
       "   'target_length': 1},\n",
       "  'messages': [{'role': 'user', 'content': 'r'}]},\n",
       " {'metadata': {'occupation_skill_pair': 'Python Developer > First Timer',\n",
       "   'compatible_area_of_focus': 'General coding help - Explain complex code snippets',\n",
       "   'type': 'query',\n",
       "   'difficulty': 'Easy',\n",
       "   'target_length': 1},\n",
       "  'messages': [{'role': 'user', 'content': ' '}]},\n",
       " {'metadata': {'occupation_skill_pair': 'Python Developer > First Timer',\n",
       "   'compatible_area_of_focus': 'General coding help - Explain complex code snippets',\n",
       "   'type': 'query',\n",
       "   'difficulty': 'Easy',\n",
       "   'target_length': 1},\n",
       "  'messages': [{'role': 'user', 'content': '>'}]},\n",
       " {'metadata': {'occupation_skill_pair': 'Python Developer > First Timer',\n",
       "   'compatible_area_of_focus': 'General coding help - Explain complex code snippets',\n",
       "   'type': 'query',\n",
       "   'difficulty': 'Easy',\n",
       "   'target_length': 1},\n",
       "  'messages': [{'role': 'user', 'content': ' '}]},\n",
       " {'metadata': {'occupation_skill_pair': 'Python Developer > First Timer',\n",
       "   'compatible_area_of_focus': 'General coding help - Explain complex code snippets',\n",
       "   'type': 'query',\n",
       "   'difficulty': 'Easy',\n",
       "   'target_length': 1},\n",
       "  'messages': [{'role': 'user', 'content': 'F'}]},\n",
       " {'metadata': {'occupation_skill_pair': 'Python Developer > First Timer',\n",
       "   'compatible_area_of_focus': 'General coding help - Explain complex code snippets',\n",
       "   'type': 'query',\n",
       "   'difficulty': 'Easy',\n",
       "   'target_length': 1},\n",
       "  'messages': [{'role': 'user', 'content': 'i'}]},\n",
       " {'metadata': {'occupation_skill_pair': 'Python Developer > First Timer',\n",
       "   'compatible_area_of_focus': 'General coding help - Explain complex code snippets',\n",
       "   'type': 'query',\n",
       "   'difficulty': 'Easy',\n",
       "   'target_length': 1},\n",
       "  'messages': [{'role': 'user', 'content': 'r'}]},\n",
       " {'metadata': {'occupation_skill_pair': 'Python Developer > First Timer',\n",
       "   'compatible_area_of_focus': 'General coding help - Explain complex code snippets',\n",
       "   'type': 'query',\n",
       "   'difficulty': 'Easy',\n",
       "   'target_length': 1},\n",
       "  'messages': [{'role': 'user', 'content': 's'}]},\n",
       " {'metadata': {'occupation_skill_pair': 'Python Developer > First Timer',\n",
       "   'compatible_area_of_focus': 'General coding help - Explain complex code snippets',\n",
       "   'type': 'query',\n",
       "   'difficulty': 'Easy',\n",
       "   'target_length': 1},\n",
       "  'messages': [{'role': 'user', 'content': 't'}]},\n",
       " {'metadata': {'occupation_skill_pair': 'Python Developer > First Timer',\n",
       "   'compatible_area_of_focus': 'General coding help - Explain complex code snippets',\n",
       "   'type': 'query',\n",
       "   'difficulty': 'Easy',\n",
       "   'target_length': 1},\n",
       "  'messages': [{'role': 'user', 'content': ' '}]},\n",
       " {'metadata': {'occupation_skill_pair': 'Python Developer > First Timer',\n",
       "   'compatible_area_of_focus': 'General coding help - Explain complex code snippets',\n",
       "   'type': 'query',\n",
       "   'difficulty': 'Easy',\n",
       "   'target_length': 1},\n",
       "  'messages': [{'role': 'user', 'content': 'T'}]},\n",
       " {'metadata': {'occupation_skill_pair': 'Python Developer > First Timer',\n",
       "   'compatible_area_of_focus': 'General coding help - Explain complex code snippets',\n",
       "   'type': 'query',\n",
       "   'difficulty': 'Easy',\n",
       "   'target_length': 1},\n",
       "  'messages': [{'role': 'user', 'content': 'i'}]},\n",
       " {'metadata': {'occupation_skill_pair': 'Python Developer > First Timer',\n",
       "   'compatible_area_of_focus': 'General coding help - Explain complex code snippets',\n",
       "   'type': 'query',\n",
       "   'difficulty': 'Easy',\n",
       "   'target_length': 1},\n",
       "  'messages': [{'role': 'user', 'content': 'm'}]},\n",
       " {'metadata': {'occupation_skill_pair': 'Python Developer > First Timer',\n",
       "   'compatible_area_of_focus': 'General coding help - Explain complex code snippets',\n",
       "   'type': 'query',\n",
       "   'difficulty': 'Easy',\n",
       "   'target_length': 1},\n",
       "  'messages': [{'role': 'user', 'content': 'e'}]},\n",
       " {'metadata': {'occupation_skill_pair': 'Python Developer > First Timer',\n",
       "   'compatible_area_of_focus': 'General coding help - Explain complex code snippets',\n",
       "   'type': 'query',\n",
       "   'difficulty': 'Easy',\n",
       "   'target_length': 1},\n",
       "  'messages': [{'role': 'user', 'content': 'r'}]},\n",
       " {'metadata': {'occupation_skill_pair': 'Python Developer > First Timer',\n",
       "   'compatible_area_of_focus': 'General coding help - Add comments to code',\n",
       "   'type': 'query',\n",
       "   'difficulty': 'Easy',\n",
       "   'target_length': 1},\n",
       "  'messages': [{'role': 'user', 'content': 'P'}]},\n",
       " {'metadata': {'occupation_skill_pair': 'Python Developer > First Timer',\n",
       "   'compatible_area_of_focus': 'General coding help - Add comments to code',\n",
       "   'type': 'query',\n",
       "   'difficulty': 'Easy',\n",
       "   'target_length': 1},\n",
       "  'messages': [{'role': 'user', 'content': 'y'}]},\n",
       " {'metadata': {'occupation_skill_pair': 'Python Developer > First Timer',\n",
       "   'compatible_area_of_focus': 'General coding help - Add comments to code',\n",
       "   'type': 'query',\n",
       "   'difficulty': 'Easy',\n",
       "   'target_length': 1},\n",
       "  'messages': [{'role': 'user', 'content': 't'}]},\n",
       " {'metadata': {'occupation_skill_pair': 'Python Developer > First Timer',\n",
       "   'compatible_area_of_focus': 'General coding help - Add comments to code',\n",
       "   'type': 'query',\n",
       "   'difficulty': 'Easy',\n",
       "   'target_length': 1},\n",
       "  'messages': [{'role': 'user', 'content': 'h'}]},\n",
       " {'metadata': {'occupation_skill_pair': 'Python Developer > First Timer',\n",
       "   'compatible_area_of_focus': 'General coding help - Add comments to code',\n",
       "   'type': 'query',\n",
       "   'difficulty': 'Easy',\n",
       "   'target_length': 1},\n",
       "  'messages': [{'role': 'user', 'content': 'o'}]},\n",
       " {'metadata': {'occupation_skill_pair': 'Python Developer > First Timer',\n",
       "   'compatible_area_of_focus': 'General coding help - Add comments to code',\n",
       "   'type': 'query',\n",
       "   'difficulty': 'Easy',\n",
       "   'target_length': 1},\n",
       "  'messages': [{'role': 'user', 'content': 'n'}]},\n",
       " {'metadata': {'occupation_skill_pair': 'Python Developer > First Timer',\n",
       "   'compatible_area_of_focus': 'General coding help - Add comments to code',\n",
       "   'type': 'query',\n",
       "   'difficulty': 'Easy',\n",
       "   'target_length': 1},\n",
       "  'messages': [{'role': 'user', 'content': ' '}]},\n",
       " {'metadata': {'occupation_skill_pair': 'Python Developer > First Timer',\n",
       "   'compatible_area_of_focus': 'General coding help - Add comments to code',\n",
       "   'type': 'query',\n",
       "   'difficulty': 'Easy',\n",
       "   'target_length': 1},\n",
       "  'messages': [{'role': 'user', 'content': 'D'}]},\n",
       " {'metadata': {'occupation_skill_pair': 'Python Developer > First Timer',\n",
       "   'compatible_area_of_focus': 'General coding help - Add comments to code',\n",
       "   'type': 'query',\n",
       "   'difficulty': 'Easy',\n",
       "   'target_length': 1},\n",
       "  'messages': [{'role': 'user', 'content': 'e'}]},\n",
       " {'metadata': {'occupation_skill_pair': 'Python Developer > First Timer',\n",
       "   'compatible_area_of_focus': 'General coding help - Add comments to code',\n",
       "   'type': 'query',\n",
       "   'difficulty': 'Easy',\n",
       "   'target_length': 1},\n",
       "  'messages': [{'role': 'user', 'content': 'v'}]},\n",
       " {'metadata': {'occupation_skill_pair': 'Python Developer > First Timer',\n",
       "   'compatible_area_of_focus': 'General coding help - Add comments to code',\n",
       "   'type': 'query',\n",
       "   'difficulty': 'Easy',\n",
       "   'target_length': 1},\n",
       "  'messages': [{'role': 'user', 'content': 'e'}]},\n",
       " {'metadata': {'occupation_skill_pair': 'Python Developer > First Timer',\n",
       "   'compatible_area_of_focus': 'General coding help - Add comments to code',\n",
       "   'type': 'query',\n",
       "   'difficulty': 'Easy',\n",
       "   'target_length': 1},\n",
       "  'messages': [{'role': 'user', 'content': 'l'}]},\n",
       " {'metadata': {'occupation_skill_pair': 'Python Developer > First Timer',\n",
       "   'compatible_area_of_focus': 'General coding help - Add comments to code',\n",
       "   'type': 'query',\n",
       "   'difficulty': 'Easy',\n",
       "   'target_length': 1},\n",
       "  'messages': [{'role': 'user', 'content': 'o'}]},\n",
       " {'metadata': {'occupation_skill_pair': 'Python Developer > First Timer',\n",
       "   'compatible_area_of_focus': 'General coding help - Add comments to code',\n",
       "   'type': 'query',\n",
       "   'difficulty': 'Easy',\n",
       "   'target_length': 1},\n",
       "  'messages': [{'role': 'user', 'content': 'p'}]},\n",
       " {'metadata': {'occupation_skill_pair': 'Python Developer > First Timer',\n",
       "   'compatible_area_of_focus': 'General coding help - Add comments to code',\n",
       "   'type': 'query',\n",
       "   'difficulty': 'Easy',\n",
       "   'target_length': 1},\n",
       "  'messages': [{'role': 'user', 'content': 'e'}]},\n",
       " {'metadata': {'occupation_skill_pair': 'Python Developer > First Timer',\n",
       "   'compatible_area_of_focus': 'General coding help - Add comments to code',\n",
       "   'type': 'query',\n",
       "   'difficulty': 'Easy',\n",
       "   'target_length': 1},\n",
       "  'messages': [{'role': 'user', 'content': 'r'}]},\n",
       " {'metadata': {'occupation_skill_pair': 'Python Developer > First Timer',\n",
       "   'compatible_area_of_focus': 'General coding help - Add comments to code',\n",
       "   'type': 'query',\n",
       "   'difficulty': 'Easy',\n",
       "   'target_length': 1},\n",
       "  'messages': [{'role': 'user', 'content': ' '}]},\n",
       " {'metadata': {'occupation_skill_pair': 'Python Developer > First Timer',\n",
       "   'compatible_area_of_focus': 'General coding help - Add comments to code',\n",
       "   'type': 'query',\n",
       "   'difficulty': 'Easy',\n",
       "   'target_length': 1},\n",
       "  'messages': [{'role': 'user', 'content': '>'}]},\n",
       " {'metadata': {'occupation_skill_pair': 'Python Developer > First Timer',\n",
       "   'compatible_area_of_focus': 'General coding help - Add comments to code',\n",
       "   'type': 'query',\n",
       "   'difficulty': 'Easy',\n",
       "   'target_length': 1},\n",
       "  'messages': [{'role': 'user', 'content': ' '}]},\n",
       " {'metadata': {'occupation_skill_pair': 'Python Developer > First Timer',\n",
       "   'compatible_area_of_focus': 'General coding help - Add comments to code',\n",
       "   'type': 'query',\n",
       "   'difficulty': 'Easy',\n",
       "   'target_length': 1},\n",
       "  'messages': [{'role': 'user', 'content': 'F'}]},\n",
       " {'metadata': {'occupation_skill_pair': 'Python Developer > First Timer',\n",
       "   'compatible_area_of_focus': 'General coding help - Add comments to code',\n",
       "   'type': 'query',\n",
       "   'difficulty': 'Easy',\n",
       "   'target_length': 1},\n",
       "  'messages': [{'role': 'user', 'content': 'i'}]},\n",
       " {'metadata': {'occupation_skill_pair': 'Python Developer > First Timer',\n",
       "   'compatible_area_of_focus': 'General coding help - Add comments to code',\n",
       "   'type': 'query',\n",
       "   'difficulty': 'Easy',\n",
       "   'target_length': 1},\n",
       "  'messages': [{'role': 'user', 'content': 'r'}]},\n",
       " {'metadata': {'occupation_skill_pair': 'Python Developer > First Timer',\n",
       "   'compatible_area_of_focus': 'General coding help - Add comments to code',\n",
       "   'type': 'query',\n",
       "   'difficulty': 'Easy',\n",
       "   'target_length': 1},\n",
       "  'messages': [{'role': 'user', 'content': 's'}]},\n",
       " {'metadata': {'occupation_skill_pair': 'Python Developer > First Timer',\n",
       "   'compatible_area_of_focus': 'General coding help - Add comments to code',\n",
       "   'type': 'query',\n",
       "   'difficulty': 'Easy',\n",
       "   'target_length': 1},\n",
       "  'messages': [{'role': 'user', 'content': 't'}]},\n",
       " {'metadata': {'occupation_skill_pair': 'Python Developer > First Timer',\n",
       "   'compatible_area_of_focus': 'General coding help - Add comments to code',\n",
       "   'type': 'query',\n",
       "   'difficulty': 'Easy',\n",
       "   'target_length': 1},\n",
       "  'messages': [{'role': 'user', 'content': ' '}]},\n",
       " {'metadata': {'occupation_skill_pair': 'Python Developer > First Timer',\n",
       "   'compatible_area_of_focus': 'General coding help - Add comments to code',\n",
       "   'type': 'query',\n",
       "   'difficulty': 'Easy',\n",
       "   'target_length': 1},\n",
       "  'messages': [{'role': 'user', 'content': 'T'}]},\n",
       " {'metadata': {'occupation_skill_pair': 'Python Developer > First Timer',\n",
       "   'compatible_area_of_focus': 'General coding help - Add comments to code',\n",
       "   'type': 'query',\n",
       "   'difficulty': 'Easy',\n",
       "   'target_length': 1},\n",
       "  'messages': [{'role': 'user', 'content': 'i'}]},\n",
       " {'metadata': {'occupation_skill_pair': 'Python Developer > First Timer',\n",
       "   'compatible_area_of_focus': 'General coding help - Add comments to code',\n",
       "   'type': 'query',\n",
       "   'difficulty': 'Easy',\n",
       "   'target_length': 1},\n",
       "  'messages': [{'role': 'user', 'content': 'm'}]},\n",
       " {'metadata': {'occupation_skill_pair': 'Python Developer > First Timer',\n",
       "   'compatible_area_of_focus': 'General coding help - Add comments to code',\n",
       "   'type': 'query',\n",
       "   'difficulty': 'Easy',\n",
       "   'target_length': 1},\n",
       "  'messages': [{'role': 'user', 'content': 'e'}]},\n",
       " {'metadata': {'occupation_skill_pair': 'Python Developer > First Timer',\n",
       "   'compatible_area_of_focus': 'General coding help - Add comments to code',\n",
       "   'type': 'query',\n",
       "   'difficulty': 'Easy',\n",
       "   'target_length': 1},\n",
       "  'messages': [{'role': 'user', 'content': 'r'}]},\n",
       " {'metadata': {'occupation_skill_pair': 'Python Developer > First Timer',\n",
       "   'compatible_area_of_focus': 'General coding help - Do a code review',\n",
       "   'type': 'query',\n",
       "   'difficulty': 'Easy',\n",
       "   'target_length': 1},\n",
       "  'messages': [{'role': 'user', 'content': 'P'}]},\n",
       " {'metadata': {'occupation_skill_pair': 'Python Developer > First Timer',\n",
       "   'compatible_area_of_focus': 'General coding help - Do a code review',\n",
       "   'type': 'query',\n",
       "   'difficulty': 'Easy',\n",
       "   'target_length': 1},\n",
       "  'messages': [{'role': 'user', 'content': 'y'}]},\n",
       " {'metadata': {'occupation_skill_pair': 'Python Developer > First Timer',\n",
       "   'compatible_area_of_focus': 'General coding help - Do a code review',\n",
       "   'type': 'query',\n",
       "   'difficulty': 'Easy',\n",
       "   'target_length': 1},\n",
       "  'messages': [{'role': 'user', 'content': 't'}]},\n",
       " {'metadata': {'occupation_skill_pair': 'Python Developer > First Timer',\n",
       "   'compatible_area_of_focus': 'General coding help - Do a code review',\n",
       "   'type': 'query',\n",
       "   'difficulty': 'Easy',\n",
       "   'target_length': 1},\n",
       "  'messages': [{'role': 'user', 'content': 'h'}]},\n",
       " {'metadata': {'occupation_skill_pair': 'Python Developer > First Timer',\n",
       "   'compatible_area_of_focus': 'General coding help - Do a code review',\n",
       "   'type': 'query',\n",
       "   'difficulty': 'Easy',\n",
       "   'target_length': 1},\n",
       "  'messages': [{'role': 'user', 'content': 'o'}]},\n",
       " {'metadata': {'occupation_skill_pair': 'Python Developer > First Timer',\n",
       "   'compatible_area_of_focus': 'General coding help - Do a code review',\n",
       "   'type': 'query',\n",
       "   'difficulty': 'Easy',\n",
       "   'target_length': 1},\n",
       "  'messages': [{'role': 'user', 'content': 'n'}]},\n",
       " {'metadata': {'occupation_skill_pair': 'Python Developer > First Timer',\n",
       "   'compatible_area_of_focus': 'General coding help - Do a code review',\n",
       "   'type': 'query',\n",
       "   'difficulty': 'Easy',\n",
       "   'target_length': 1},\n",
       "  'messages': [{'role': 'user', 'content': ' '}]},\n",
       " {'metadata': {'occupation_skill_pair': 'Python Developer > First Timer',\n",
       "   'compatible_area_of_focus': 'General coding help - Do a code review',\n",
       "   'type': 'query',\n",
       "   'difficulty': 'Easy',\n",
       "   'target_length': 1},\n",
       "  'messages': [{'role': 'user', 'content': 'D'}]},\n",
       " {'metadata': {'occupation_skill_pair': 'Python Developer > First Timer',\n",
       "   'compatible_area_of_focus': 'General coding help - Do a code review',\n",
       "   'type': 'query',\n",
       "   'difficulty': 'Easy',\n",
       "   'target_length': 1},\n",
       "  'messages': [{'role': 'user', 'content': 'e'}]},\n",
       " {'metadata': {'occupation_skill_pair': 'Python Developer > First Timer',\n",
       "   'compatible_area_of_focus': 'General coding help - Do a code review',\n",
       "   'type': 'query',\n",
       "   'difficulty': 'Easy',\n",
       "   'target_length': 1},\n",
       "  'messages': [{'role': 'user', 'content': 'v'}]},\n",
       " {'metadata': {'occupation_skill_pair': 'Python Developer > First Timer',\n",
       "   'compatible_area_of_focus': 'General coding help - Do a code review',\n",
       "   'type': 'query',\n",
       "   'difficulty': 'Easy',\n",
       "   'target_length': 1},\n",
       "  'messages': [{'role': 'user', 'content': 'e'}]},\n",
       " {'metadata': {'occupation_skill_pair': 'Python Developer > First Timer',\n",
       "   'compatible_area_of_focus': 'General coding help - Do a code review',\n",
       "   'type': 'query',\n",
       "   'difficulty': 'Easy',\n",
       "   'target_length': 1},\n",
       "  'messages': [{'role': 'user', 'content': 'l'}]},\n",
       " {'metadata': {'occupation_skill_pair': 'Python Developer > First Timer',\n",
       "   'compatible_area_of_focus': 'General coding help - Do a code review',\n",
       "   'type': 'query',\n",
       "   'difficulty': 'Easy',\n",
       "   'target_length': 1},\n",
       "  'messages': [{'role': 'user', 'content': 'o'}]},\n",
       " {'metadata': {'occupation_skill_pair': 'Python Developer > First Timer',\n",
       "   'compatible_area_of_focus': 'General coding help - Do a code review',\n",
       "   'type': 'query',\n",
       "   'difficulty': 'Easy',\n",
       "   'target_length': 1},\n",
       "  'messages': [{'role': 'user', 'content': 'p'}]},\n",
       " {'metadata': {'occupation_skill_pair': 'Python Developer > First Timer',\n",
       "   'compatible_area_of_focus': 'General coding help - Do a code review',\n",
       "   'type': 'query',\n",
       "   'difficulty': 'Easy',\n",
       "   'target_length': 1},\n",
       "  'messages': [{'role': 'user', 'content': 'e'}]},\n",
       " {'metadata': {'occupation_skill_pair': 'Python Developer > First Timer',\n",
       "   'compatible_area_of_focus': 'General coding help - Do a code review',\n",
       "   'type': 'query',\n",
       "   'difficulty': 'Easy',\n",
       "   'target_length': 1},\n",
       "  'messages': [{'role': 'user', 'content': 'r'}]},\n",
       " {'metadata': {'occupation_skill_pair': 'Python Developer > First Timer',\n",
       "   'compatible_area_of_focus': 'General coding help - Do a code review',\n",
       "   'type': 'query',\n",
       "   'difficulty': 'Easy',\n",
       "   'target_length': 1},\n",
       "  'messages': [{'role': 'user', 'content': ' '}]},\n",
       " {'metadata': {'occupation_skill_pair': 'Python Developer > First Timer',\n",
       "   'compatible_area_of_focus': 'General coding help - Do a code review',\n",
       "   'type': 'query',\n",
       "   'difficulty': 'Easy',\n",
       "   'target_length': 1},\n",
       "  'messages': [{'role': 'user', 'content': '>'}]},\n",
       " {'metadata': {'occupation_skill_pair': 'Python Developer > First Timer',\n",
       "   'compatible_area_of_focus': 'General coding help - Do a code review',\n",
       "   'type': 'query',\n",
       "   'difficulty': 'Easy',\n",
       "   'target_length': 1},\n",
       "  'messages': [{'role': 'user', 'content': ' '}]},\n",
       " {'metadata': {'occupation_skill_pair': 'Python Developer > First Timer',\n",
       "   'compatible_area_of_focus': 'General coding help - Do a code review',\n",
       "   'type': 'query',\n",
       "   'difficulty': 'Easy',\n",
       "   'target_length': 1},\n",
       "  'messages': [{'role': 'user', 'content': 'F'}]},\n",
       " {'metadata': {'occupation_skill_pair': 'Python Developer > First Timer',\n",
       "   'compatible_area_of_focus': 'General coding help - Do a code review',\n",
       "   'type': 'query',\n",
       "   'difficulty': 'Easy',\n",
       "   'target_length': 1},\n",
       "  'messages': [{'role': 'user', 'content': 'i'}]},\n",
       " {'metadata': {'occupation_skill_pair': 'Python Developer > First Timer',\n",
       "   'compatible_area_of_focus': 'General coding help - Do a code review',\n",
       "   'type': 'query',\n",
       "   'difficulty': 'Easy',\n",
       "   'target_length': 1},\n",
       "  'messages': [{'role': 'user', 'content': 'r'}]},\n",
       " {'metadata': {'occupation_skill_pair': 'Python Developer > First Timer',\n",
       "   'compatible_area_of_focus': 'General coding help - Do a code review',\n",
       "   'type': 'query',\n",
       "   'difficulty': 'Easy',\n",
       "   'target_length': 1},\n",
       "  'messages': [{'role': 'user', 'content': 's'}]},\n",
       " {'metadata': {'occupation_skill_pair': 'Python Developer > First Timer',\n",
       "   'compatible_area_of_focus': 'General coding help - Do a code review',\n",
       "   'type': 'query',\n",
       "   'difficulty': 'Easy',\n",
       "   'target_length': 1},\n",
       "  'messages': [{'role': 'user', 'content': 't'}]},\n",
       " {'metadata': {'occupation_skill_pair': 'Python Developer > First Timer',\n",
       "   'compatible_area_of_focus': 'General coding help - Do a code review',\n",
       "   'type': 'query',\n",
       "   'difficulty': 'Easy',\n",
       "   'target_length': 1},\n",
       "  'messages': [{'role': 'user', 'content': ' '}]},\n",
       " {'metadata': {'occupation_skill_pair': 'Python Developer > First Timer',\n",
       "   'compatible_area_of_focus': 'General coding help - Do a code review',\n",
       "   'type': 'query',\n",
       "   'difficulty': 'Easy',\n",
       "   'target_length': 1},\n",
       "  'messages': [{'role': 'user', 'content': 'T'}]},\n",
       " {'metadata': {'occupation_skill_pair': 'Python Developer > First Timer',\n",
       "   'compatible_area_of_focus': 'General coding help - Do a code review',\n",
       "   'type': 'query',\n",
       "   'difficulty': 'Easy',\n",
       "   'target_length': 1},\n",
       "  'messages': [{'role': 'user', 'content': 'i'}]},\n",
       " {'metadata': {'occupation_skill_pair': 'Python Developer > First Timer',\n",
       "   'compatible_area_of_focus': 'General coding help - Do a code review',\n",
       "   'type': 'query',\n",
       "   'difficulty': 'Easy',\n",
       "   'target_length': 1},\n",
       "  'messages': [{'role': 'user', 'content': 'm'}]},\n",
       " {'metadata': {'occupation_skill_pair': 'Python Developer > First Timer',\n",
       "   'compatible_area_of_focus': 'General coding help - Do a code review',\n",
       "   'type': 'query',\n",
       "   'difficulty': 'Easy',\n",
       "   'target_length': 1},\n",
       "  'messages': [{'role': 'user', 'content': 'e'}]},\n",
       " {'metadata': {'occupation_skill_pair': 'Python Developer > First Timer',\n",
       "   'compatible_area_of_focus': 'General coding help - Do a code review',\n",
       "   'type': 'query',\n",
       "   'difficulty': 'Easy',\n",
       "   'target_length': 1},\n",
       "  'messages': [{'role': 'user', 'content': 'r'}]},\n",
       " {'metadata': {'occupation_skill_pair': 'Python Developer > First Timer',\n",
       "   'compatible_area_of_focus': 'Write unit test - Explain code with comments',\n",
       "   'type': 'query',\n",
       "   'difficulty': 'Easy',\n",
       "   'target_length': 1},\n",
       "  'messages': [{'role': 'user', 'content': 'P'}]},\n",
       " {'metadata': {'occupation_skill_pair': 'Python Developer > First Timer',\n",
       "   'compatible_area_of_focus': 'Write unit test - Explain code with comments',\n",
       "   'type': 'query',\n",
       "   'difficulty': 'Easy',\n",
       "   'target_length': 1},\n",
       "  'messages': [{'role': 'user', 'content': 'y'}]},\n",
       " {'metadata': {'occupation_skill_pair': 'Python Developer > First Timer',\n",
       "   'compatible_area_of_focus': 'Write unit test - Explain code with comments',\n",
       "   'type': 'query',\n",
       "   'difficulty': 'Easy',\n",
       "   'target_length': 1},\n",
       "  'messages': [{'role': 'user', 'content': 't'}]},\n",
       " {'metadata': {'occupation_skill_pair': 'Python Developer > First Timer',\n",
       "   'compatible_area_of_focus': 'Write unit test - Explain code with comments',\n",
       "   'type': 'query',\n",
       "   'difficulty': 'Easy',\n",
       "   'target_length': 1},\n",
       "  'messages': [{'role': 'user', 'content': 'h'}]},\n",
       " {'metadata': {'occupation_skill_pair': 'Python Developer > First Timer',\n",
       "   'compatible_area_of_focus': 'Write unit test - Explain code with comments',\n",
       "   'type': 'query',\n",
       "   'difficulty': 'Easy',\n",
       "   'target_length': 1},\n",
       "  'messages': [{'role': 'user', 'content': 'o'}]},\n",
       " {'metadata': {'occupation_skill_pair': 'Python Developer > First Timer',\n",
       "   'compatible_area_of_focus': 'Write unit test - Explain code with comments',\n",
       "   'type': 'query',\n",
       "   'difficulty': 'Easy',\n",
       "   'target_length': 1},\n",
       "  'messages': [{'role': 'user', 'content': 'n'}]},\n",
       " {'metadata': {'occupation_skill_pair': 'Python Developer > First Timer',\n",
       "   'compatible_area_of_focus': 'Write unit test - Explain code with comments',\n",
       "   'type': 'query',\n",
       "   'difficulty': 'Easy',\n",
       "   'target_length': 1},\n",
       "  'messages': [{'role': 'user', 'content': ' '}]},\n",
       " {'metadata': {'occupation_skill_pair': 'Python Developer > First Timer',\n",
       "   'compatible_area_of_focus': 'Write unit test - Explain code with comments',\n",
       "   'type': 'query',\n",
       "   'difficulty': 'Easy',\n",
       "   'target_length': 1},\n",
       "  'messages': [{'role': 'user', 'content': 'D'}]},\n",
       " {'metadata': {'occupation_skill_pair': 'Python Developer > First Timer',\n",
       "   'compatible_area_of_focus': 'Write unit test - Explain code with comments',\n",
       "   'type': 'query',\n",
       "   'difficulty': 'Easy',\n",
       "   'target_length': 1},\n",
       "  'messages': [{'role': 'user', 'content': 'e'}]},\n",
       " {'metadata': {'occupation_skill_pair': 'Python Developer > First Timer',\n",
       "   'compatible_area_of_focus': 'Write unit test - Explain code with comments',\n",
       "   'type': 'query',\n",
       "   'difficulty': 'Easy',\n",
       "   'target_length': 1},\n",
       "  'messages': [{'role': 'user', 'content': 'v'}]},\n",
       " {'metadata': {'occupation_skill_pair': 'Python Developer > First Timer',\n",
       "   'compatible_area_of_focus': 'Write unit test - Explain code with comments',\n",
       "   'type': 'query',\n",
       "   'difficulty': 'Easy',\n",
       "   'target_length': 1},\n",
       "  'messages': [{'role': 'user', 'content': 'e'}]},\n",
       " {'metadata': {'occupation_skill_pair': 'Python Developer > First Timer',\n",
       "   'compatible_area_of_focus': 'Write unit test - Explain code with comments',\n",
       "   'type': 'query',\n",
       "   'difficulty': 'Easy',\n",
       "   'target_length': 1},\n",
       "  'messages': [{'role': 'user', 'content': 'l'}]},\n",
       " {'metadata': {'occupation_skill_pair': 'Python Developer > First Timer',\n",
       "   'compatible_area_of_focus': 'Write unit test - Explain code with comments',\n",
       "   'type': 'query',\n",
       "   'difficulty': 'Easy',\n",
       "   'target_length': 1},\n",
       "  'messages': [{'role': 'user', 'content': 'o'}]},\n",
       " {'metadata': {'occupation_skill_pair': 'Python Developer > First Timer',\n",
       "   'compatible_area_of_focus': 'Write unit test - Explain code with comments',\n",
       "   'type': 'query',\n",
       "   'difficulty': 'Easy',\n",
       "   'target_length': 1},\n",
       "  'messages': [{'role': 'user', 'content': 'p'}]},\n",
       " {'metadata': {'occupation_skill_pair': 'Python Developer > First Timer',\n",
       "   'compatible_area_of_focus': 'Write unit test - Explain code with comments',\n",
       "   'type': 'query',\n",
       "   'difficulty': 'Easy',\n",
       "   'target_length': 1},\n",
       "  'messages': [{'role': 'user', 'content': 'e'}]},\n",
       " {'metadata': {'occupation_skill_pair': 'Python Developer > First Timer',\n",
       "   'compatible_area_of_focus': 'Write unit test - Explain code with comments',\n",
       "   'type': 'query',\n",
       "   'difficulty': 'Easy',\n",
       "   'target_length': 1},\n",
       "  'messages': [{'role': 'user', 'content': 'r'}]},\n",
       " {'metadata': {'occupation_skill_pair': 'Python Developer > First Timer',\n",
       "   'compatible_area_of_focus': 'Write unit test - Explain code with comments',\n",
       "   'type': 'query',\n",
       "   'difficulty': 'Easy',\n",
       "   'target_length': 1},\n",
       "  'messages': [{'role': 'user', 'content': ' '}]},\n",
       " {'metadata': {'occupation_skill_pair': 'Python Developer > First Timer',\n",
       "   'compatible_area_of_focus': 'Write unit test - Explain code with comments',\n",
       "   'type': 'query',\n",
       "   'difficulty': 'Easy',\n",
       "   'target_length': 1},\n",
       "  'messages': [{'role': 'user', 'content': '>'}]},\n",
       " {'metadata': {'occupation_skill_pair': 'Python Developer > First Timer',\n",
       "   'compatible_area_of_focus': 'Write unit test - Explain code with comments',\n",
       "   'type': 'query',\n",
       "   'difficulty': 'Easy',\n",
       "   'target_length': 1},\n",
       "  'messages': [{'role': 'user', 'content': ' '}]},\n",
       " {'metadata': {'occupation_skill_pair': 'Python Developer > First Timer',\n",
       "   'compatible_area_of_focus': 'Write unit test - Explain code with comments',\n",
       "   'type': 'query',\n",
       "   'difficulty': 'Easy',\n",
       "   'target_length': 1},\n",
       "  'messages': [{'role': 'user', 'content': 'F'}]},\n",
       " {'metadata': {'occupation_skill_pair': 'Python Developer > First Timer',\n",
       "   'compatible_area_of_focus': 'Write unit test - Explain code with comments',\n",
       "   'type': 'query',\n",
       "   'difficulty': 'Easy',\n",
       "   'target_length': 1},\n",
       "  'messages': [{'role': 'user', 'content': 'i'}]},\n",
       " {'metadata': {'occupation_skill_pair': 'Python Developer > First Timer',\n",
       "   'compatible_area_of_focus': 'Write unit test - Explain code with comments',\n",
       "   'type': 'query',\n",
       "   'difficulty': 'Easy',\n",
       "   'target_length': 1},\n",
       "  'messages': [{'role': 'user', 'content': 'r'}]},\n",
       " {'metadata': {'occupation_skill_pair': 'Python Developer > First Timer',\n",
       "   'compatible_area_of_focus': 'Write unit test - Explain code with comments',\n",
       "   'type': 'query',\n",
       "   'difficulty': 'Easy',\n",
       "   'target_length': 1},\n",
       "  'messages': [{'role': 'user', 'content': 's'}]},\n",
       " {'metadata': {'occupation_skill_pair': 'Python Developer > First Timer',\n",
       "   'compatible_area_of_focus': 'Write unit test - Explain code with comments',\n",
       "   'type': 'query',\n",
       "   'difficulty': 'Easy',\n",
       "   'target_length': 1},\n",
       "  'messages': [{'role': 'user', 'content': 't'}]},\n",
       " {'metadata': {'occupation_skill_pair': 'Python Developer > First Timer',\n",
       "   'compatible_area_of_focus': 'Write unit test - Explain code with comments',\n",
       "   'type': 'query',\n",
       "   'difficulty': 'Easy',\n",
       "   'target_length': 1},\n",
       "  'messages': [{'role': 'user', 'content': ' '}]},\n",
       " {'metadata': {'occupation_skill_pair': 'Python Developer > First Timer',\n",
       "   'compatible_area_of_focus': 'Write unit test - Explain code with comments',\n",
       "   'type': 'query',\n",
       "   'difficulty': 'Easy',\n",
       "   'target_length': 1},\n",
       "  'messages': [{'role': 'user', 'content': 'T'}]},\n",
       " {'metadata': {'occupation_skill_pair': 'Python Developer > First Timer',\n",
       "   'compatible_area_of_focus': 'Write unit test - Explain code with comments',\n",
       "   'type': 'query',\n",
       "   'difficulty': 'Easy',\n",
       "   'target_length': 1},\n",
       "  'messages': [{'role': 'user', 'content': 'i'}]},\n",
       " {'metadata': {'occupation_skill_pair': 'Python Developer > First Timer',\n",
       "   'compatible_area_of_focus': 'Write unit test - Explain code with comments',\n",
       "   'type': 'query',\n",
       "   'difficulty': 'Easy',\n",
       "   'target_length': 1},\n",
       "  'messages': [{'role': 'user', 'content': 'm'}]},\n",
       " {'metadata': {'occupation_skill_pair': 'Python Developer > First Timer',\n",
       "   'compatible_area_of_focus': 'Write unit test - Explain code with comments',\n",
       "   'type': 'query',\n",
       "   'difficulty': 'Easy',\n",
       "   'target_length': 1},\n",
       "  'messages': [{'role': 'user', 'content': 'e'}]},\n",
       " {'metadata': {'occupation_skill_pair': 'Python Developer > First Timer',\n",
       "   'compatible_area_of_focus': 'Write unit test - Explain code with comments',\n",
       "   'type': 'query',\n",
       "   'difficulty': 'Easy',\n",
       "   'target_length': 1},\n",
       "  'messages': [{'role': 'user', 'content': 'r'}]},\n",
       " {'metadata': {'occupation_skill_pair': 'Python Developer > First Timer',\n",
       "   'compatible_area_of_focus': 'Interview preparation - Explain the problem step by step',\n",
       "   'type': 'query',\n",
       "   'difficulty': 'Easy',\n",
       "   'target_length': 1},\n",
       "  'messages': [{'role': 'user', 'content': 'P'}]},\n",
       " {'metadata': {'occupation_skill_pair': 'Python Developer > First Timer',\n",
       "   'compatible_area_of_focus': 'Interview preparation - Explain the problem step by step',\n",
       "   'type': 'query',\n",
       "   'difficulty': 'Easy',\n",
       "   'target_length': 1},\n",
       "  'messages': [{'role': 'user', 'content': 'y'}]},\n",
       " {'metadata': {'occupation_skill_pair': 'Python Developer > First Timer',\n",
       "   'compatible_area_of_focus': 'Interview preparation - Explain the problem step by step',\n",
       "   'type': 'query',\n",
       "   'difficulty': 'Easy',\n",
       "   'target_length': 1},\n",
       "  'messages': [{'role': 'user', 'content': 't'}]},\n",
       " {'metadata': {'occupation_skill_pair': 'Python Developer > First Timer',\n",
       "   'compatible_area_of_focus': 'Interview preparation - Explain the problem step by step',\n",
       "   'type': 'query',\n",
       "   'difficulty': 'Easy',\n",
       "   'target_length': 1},\n",
       "  'messages': [{'role': 'user', 'content': 'h'}]},\n",
       " {'metadata': {'occupation_skill_pair': 'Python Developer > First Timer',\n",
       "   'compatible_area_of_focus': 'Interview preparation - Explain the problem step by step',\n",
       "   'type': 'query',\n",
       "   'difficulty': 'Easy',\n",
       "   'target_length': 1},\n",
       "  'messages': [{'role': 'user', 'content': 'o'}]},\n",
       " {'metadata': {'occupation_skill_pair': 'Python Developer > First Timer',\n",
       "   'compatible_area_of_focus': 'Interview preparation - Explain the problem step by step',\n",
       "   'type': 'query',\n",
       "   'difficulty': 'Easy',\n",
       "   'target_length': 1},\n",
       "  'messages': [{'role': 'user', 'content': 'n'}]},\n",
       " {'metadata': {'occupation_skill_pair': 'Python Developer > First Timer',\n",
       "   'compatible_area_of_focus': 'Interview preparation - Explain the problem step by step',\n",
       "   'type': 'query',\n",
       "   'difficulty': 'Easy',\n",
       "   'target_length': 1},\n",
       "  'messages': [{'role': 'user', 'content': ' '}]},\n",
       " {'metadata': {'occupation_skill_pair': 'Python Developer > First Timer',\n",
       "   'compatible_area_of_focus': 'Interview preparation - Explain the problem step by step',\n",
       "   'type': 'query',\n",
       "   'difficulty': 'Easy',\n",
       "   'target_length': 1},\n",
       "  'messages': [{'role': 'user', 'content': 'D'}]},\n",
       " {'metadata': {'occupation_skill_pair': 'Python Developer > First Timer',\n",
       "   'compatible_area_of_focus': 'Interview preparation - Explain the problem step by step',\n",
       "   'type': 'query',\n",
       "   'difficulty': 'Easy',\n",
       "   'target_length': 1},\n",
       "  'messages': [{'role': 'user', 'content': 'e'}]},\n",
       " {'metadata': {'occupation_skill_pair': 'Python Developer > First Timer',\n",
       "   'compatible_area_of_focus': 'Interview preparation - Explain the problem step by step',\n",
       "   'type': 'query',\n",
       "   'difficulty': 'Easy',\n",
       "   'target_length': 1},\n",
       "  'messages': [{'role': 'user', 'content': 'v'}]},\n",
       " {'metadata': {'occupation_skill_pair': 'Python Developer > First Timer',\n",
       "   'compatible_area_of_focus': 'Interview preparation - Explain the problem step by step',\n",
       "   'type': 'query',\n",
       "   'difficulty': 'Easy',\n",
       "   'target_length': 1},\n",
       "  'messages': [{'role': 'user', 'content': 'e'}]},\n",
       " {'metadata': {'occupation_skill_pair': 'Python Developer > First Timer',\n",
       "   'compatible_area_of_focus': 'Interview preparation - Explain the problem step by step',\n",
       "   'type': 'query',\n",
       "   'difficulty': 'Easy',\n",
       "   'target_length': 1},\n",
       "  'messages': [{'role': 'user', 'content': 'l'}]},\n",
       " {'metadata': {'occupation_skill_pair': 'Python Developer > First Timer',\n",
       "   'compatible_area_of_focus': 'Interview preparation - Explain the problem step by step',\n",
       "   'type': 'query',\n",
       "   'difficulty': 'Easy',\n",
       "   'target_length': 1},\n",
       "  'messages': [{'role': 'user', 'content': 'o'}]},\n",
       " {'metadata': {'occupation_skill_pair': 'Python Developer > First Timer',\n",
       "   'compatible_area_of_focus': 'Interview preparation - Explain the problem step by step',\n",
       "   'type': 'query',\n",
       "   'difficulty': 'Easy',\n",
       "   'target_length': 1},\n",
       "  'messages': [{'role': 'user', 'content': 'p'}]},\n",
       " {'metadata': {'occupation_skill_pair': 'Python Developer > First Timer',\n",
       "   'compatible_area_of_focus': 'Interview preparation - Explain the problem step by step',\n",
       "   'type': 'query',\n",
       "   'difficulty': 'Easy',\n",
       "   'target_length': 1},\n",
       "  'messages': [{'role': 'user', 'content': 'e'}]},\n",
       " {'metadata': {'occupation_skill_pair': 'Python Developer > First Timer',\n",
       "   'compatible_area_of_focus': 'Interview preparation - Explain the problem step by step',\n",
       "   'type': 'query',\n",
       "   'difficulty': 'Easy',\n",
       "   'target_length': 1},\n",
       "  'messages': [{'role': 'user', 'content': 'r'}]},\n",
       " {'metadata': {'occupation_skill_pair': 'Python Developer > First Timer',\n",
       "   'compatible_area_of_focus': 'Interview preparation - Explain the problem step by step',\n",
       "   'type': 'query',\n",
       "   'difficulty': 'Easy',\n",
       "   'target_length': 1},\n",
       "  'messages': [{'role': 'user', 'content': ' '}]},\n",
       " {'metadata': {'occupation_skill_pair': 'Python Developer > First Timer',\n",
       "   'compatible_area_of_focus': 'Interview preparation - Explain the problem step by step',\n",
       "   'type': 'query',\n",
       "   'difficulty': 'Easy',\n",
       "   'target_length': 1},\n",
       "  'messages': [{'role': 'user', 'content': '>'}]},\n",
       " {'metadata': {'occupation_skill_pair': 'Python Developer > First Timer',\n",
       "   'compatible_area_of_focus': 'Interview preparation - Explain the problem step by step',\n",
       "   'type': 'query',\n",
       "   'difficulty': 'Easy',\n",
       "   'target_length': 1},\n",
       "  'messages': [{'role': 'user', 'content': ' '}]},\n",
       " {'metadata': {'occupation_skill_pair': 'Python Developer > First Timer',\n",
       "   'compatible_area_of_focus': 'Interview preparation - Explain the problem step by step',\n",
       "   'type': 'query',\n",
       "   'difficulty': 'Easy',\n",
       "   'target_length': 1},\n",
       "  'messages': [{'role': 'user', 'content': 'F'}]},\n",
       " {'metadata': {'occupation_skill_pair': 'Python Developer > First Timer',\n",
       "   'compatible_area_of_focus': 'Interview preparation - Explain the problem step by step',\n",
       "   'type': 'query',\n",
       "   'difficulty': 'Easy',\n",
       "   'target_length': 1},\n",
       "  'messages': [{'role': 'user', 'content': 'i'}]},\n",
       " {'metadata': {'occupation_skill_pair': 'Python Developer > First Timer',\n",
       "   'compatible_area_of_focus': 'Interview preparation - Explain the problem step by step',\n",
       "   'type': 'query',\n",
       "   'difficulty': 'Easy',\n",
       "   'target_length': 1},\n",
       "  'messages': [{'role': 'user', 'content': 'r'}]},\n",
       " {'metadata': {'occupation_skill_pair': 'Python Developer > First Timer',\n",
       "   'compatible_area_of_focus': 'Interview preparation - Explain the problem step by step',\n",
       "   'type': 'query',\n",
       "   'difficulty': 'Easy',\n",
       "   'target_length': 1},\n",
       "  'messages': [{'role': 'user', 'content': 's'}]},\n",
       " {'metadata': {'occupation_skill_pair': 'Python Developer > First Timer',\n",
       "   'compatible_area_of_focus': 'Interview preparation - Explain the problem step by step',\n",
       "   'type': 'query',\n",
       "   'difficulty': 'Easy',\n",
       "   'target_length': 1},\n",
       "  'messages': [{'role': 'user', 'content': 't'}]},\n",
       " {'metadata': {'occupation_skill_pair': 'Python Developer > First Timer',\n",
       "   'compatible_area_of_focus': 'Interview preparation - Explain the problem step by step',\n",
       "   'type': 'query',\n",
       "   'difficulty': 'Easy',\n",
       "   'target_length': 1},\n",
       "  'messages': [{'role': 'user', 'content': ' '}]},\n",
       " {'metadata': {'occupation_skill_pair': 'Python Developer > First Timer',\n",
       "   'compatible_area_of_focus': 'Interview preparation - Explain the problem step by step',\n",
       "   'type': 'query',\n",
       "   'difficulty': 'Easy',\n",
       "   'target_length': 1},\n",
       "  'messages': [{'role': 'user', 'content': 'T'}]},\n",
       " {'metadata': {'occupation_skill_pair': 'Python Developer > First Timer',\n",
       "   'compatible_area_of_focus': 'Interview preparation - Explain the problem step by step',\n",
       "   'type': 'query',\n",
       "   'difficulty': 'Easy',\n",
       "   'target_length': 1},\n",
       "  'messages': [{'role': 'user', 'content': 'i'}]},\n",
       " {'metadata': {'occupation_skill_pair': 'Python Developer > First Timer',\n",
       "   'compatible_area_of_focus': 'Interview preparation - Explain the problem step by step',\n",
       "   'type': 'query',\n",
       "   'difficulty': 'Easy',\n",
       "   'target_length': 1},\n",
       "  'messages': [{'role': 'user', 'content': 'm'}]},\n",
       " {'metadata': {'occupation_skill_pair': 'Python Developer > First Timer',\n",
       "   'compatible_area_of_focus': 'Interview preparation - Explain the problem step by step',\n",
       "   'type': 'query',\n",
       "   'difficulty': 'Easy',\n",
       "   'target_length': 1},\n",
       "  'messages': [{'role': 'user', 'content': 'e'}]},\n",
       " {'metadata': {'occupation_skill_pair': 'Python Developer > First Timer',\n",
       "   'compatible_area_of_focus': 'Interview preparation - Explain the problem step by step',\n",
       "   'type': 'query',\n",
       "   'difficulty': 'Easy',\n",
       "   'target_length': 1},\n",
       "  'messages': [{'role': 'user', 'content': 'r'}]},\n",
       " {'metadata': {'occupation_skill_pair': 'Python Developer > First Timer',\n",
       "   'compatible_area_of_focus': 'Interview preparation - Explain areas where people usually make mistakes',\n",
       "   'type': 'query',\n",
       "   'difficulty': 'Easy',\n",
       "   'target_length': 1},\n",
       "  'messages': [{'role': 'user', 'content': 'P'}]},\n",
       " {'metadata': {'occupation_skill_pair': 'Python Developer > First Timer',\n",
       "   'compatible_area_of_focus': 'Interview preparation - Explain areas where people usually make mistakes',\n",
       "   'type': 'query',\n",
       "   'difficulty': 'Easy',\n",
       "   'target_length': 1},\n",
       "  'messages': [{'role': 'user', 'content': 'y'}]},\n",
       " {'metadata': {'occupation_skill_pair': 'Python Developer > First Timer',\n",
       "   'compatible_area_of_focus': 'Interview preparation - Explain areas where people usually make mistakes',\n",
       "   'type': 'query',\n",
       "   'difficulty': 'Easy',\n",
       "   'target_length': 1},\n",
       "  'messages': [{'role': 'user', 'content': 't'}]},\n",
       " {'metadata': {'occupation_skill_pair': 'Python Developer > First Timer',\n",
       "   'compatible_area_of_focus': 'Interview preparation - Explain areas where people usually make mistakes',\n",
       "   'type': 'query',\n",
       "   'difficulty': 'Easy',\n",
       "   'target_length': 1},\n",
       "  'messages': [{'role': 'user', 'content': 'h'}]},\n",
       " {'metadata': {'occupation_skill_pair': 'Python Developer > First Timer',\n",
       "   'compatible_area_of_focus': 'Interview preparation - Explain areas where people usually make mistakes',\n",
       "   'type': 'query',\n",
       "   'difficulty': 'Easy',\n",
       "   'target_length': 1},\n",
       "  'messages': [{'role': 'user', 'content': 'o'}]},\n",
       " {'metadata': {'occupation_skill_pair': 'Python Developer > First Timer',\n",
       "   'compatible_area_of_focus': 'Interview preparation - Explain areas where people usually make mistakes',\n",
       "   'type': 'query',\n",
       "   'difficulty': 'Easy',\n",
       "   'target_length': 1},\n",
       "  'messages': [{'role': 'user', 'content': 'n'}]},\n",
       " {'metadata': {'occupation_skill_pair': 'Python Developer > First Timer',\n",
       "   'compatible_area_of_focus': 'Interview preparation - Explain areas where people usually make mistakes',\n",
       "   'type': 'query',\n",
       "   'difficulty': 'Easy',\n",
       "   'target_length': 1},\n",
       "  'messages': [{'role': 'user', 'content': ' '}]},\n",
       " {'metadata': {'occupation_skill_pair': 'Python Developer > First Timer',\n",
       "   'compatible_area_of_focus': 'Interview preparation - Explain areas where people usually make mistakes',\n",
       "   'type': 'query',\n",
       "   'difficulty': 'Easy',\n",
       "   'target_length': 1},\n",
       "  'messages': [{'role': 'user', 'content': 'D'}]},\n",
       " {'metadata': {'occupation_skill_pair': 'Python Developer > First Timer',\n",
       "   'compatible_area_of_focus': 'Interview preparation - Explain areas where people usually make mistakes',\n",
       "   'type': 'query',\n",
       "   'difficulty': 'Easy',\n",
       "   'target_length': 1},\n",
       "  'messages': [{'role': 'user', 'content': 'e'}]},\n",
       " {'metadata': {'occupation_skill_pair': 'Python Developer > First Timer',\n",
       "   'compatible_area_of_focus': 'Interview preparation - Explain areas where people usually make mistakes',\n",
       "   'type': 'query',\n",
       "   'difficulty': 'Easy',\n",
       "   'target_length': 1},\n",
       "  'messages': [{'role': 'user', 'content': 'v'}]},\n",
       " {'metadata': {'occupation_skill_pair': 'Python Developer > First Timer',\n",
       "   'compatible_area_of_focus': 'Interview preparation - Explain areas where people usually make mistakes',\n",
       "   'type': 'query',\n",
       "   'difficulty': 'Easy',\n",
       "   'target_length': 1},\n",
       "  'messages': [{'role': 'user', 'content': 'e'}]},\n",
       " {'metadata': {'occupation_skill_pair': 'Python Developer > First Timer',\n",
       "   'compatible_area_of_focus': 'Interview preparation - Explain areas where people usually make mistakes',\n",
       "   'type': 'query',\n",
       "   'difficulty': 'Easy',\n",
       "   'target_length': 1},\n",
       "  'messages': [{'role': 'user', 'content': 'l'}]},\n",
       " {'metadata': {'occupation_skill_pair': 'Python Developer > First Timer',\n",
       "   'compatible_area_of_focus': 'Interview preparation - Explain areas where people usually make mistakes',\n",
       "   'type': 'query',\n",
       "   'difficulty': 'Easy',\n",
       "   'target_length': 1},\n",
       "  'messages': [{'role': 'user', 'content': 'o'}]},\n",
       " {'metadata': {'occupation_skill_pair': 'Python Developer > First Timer',\n",
       "   'compatible_area_of_focus': 'Interview preparation - Explain areas where people usually make mistakes',\n",
       "   'type': 'query',\n",
       "   'difficulty': 'Easy',\n",
       "   'target_length': 1},\n",
       "  'messages': [{'role': 'user', 'content': 'p'}]},\n",
       " {'metadata': {'occupation_skill_pair': 'Python Developer > First Timer',\n",
       "   'compatible_area_of_focus': 'Interview preparation - Explain areas where people usually make mistakes',\n",
       "   'type': 'query',\n",
       "   'difficulty': 'Easy',\n",
       "   'target_length': 1},\n",
       "  'messages': [{'role': 'user', 'content': 'e'}]},\n",
       " {'metadata': {'occupation_skill_pair': 'Python Developer > First Timer',\n",
       "   'compatible_area_of_focus': 'Interview preparation - Explain areas where people usually make mistakes',\n",
       "   'type': 'query',\n",
       "   'difficulty': 'Easy',\n",
       "   'target_length': 1},\n",
       "  'messages': [{'role': 'user', 'content': 'r'}]},\n",
       " {'metadata': {'occupation_skill_pair': 'Python Developer > First Timer',\n",
       "   'compatible_area_of_focus': 'Interview preparation - Explain areas where people usually make mistakes',\n",
       "   'type': 'query',\n",
       "   'difficulty': 'Easy',\n",
       "   'target_length': 1},\n",
       "  'messages': [{'role': 'user', 'content': ' '}]},\n",
       " {'metadata': {'occupation_skill_pair': 'Python Developer > First Timer',\n",
       "   'compatible_area_of_focus': 'Interview preparation - Explain areas where people usually make mistakes',\n",
       "   'type': 'query',\n",
       "   'difficulty': 'Easy',\n",
       "   'target_length': 1},\n",
       "  'messages': [{'role': 'user', 'content': '>'}]},\n",
       " {'metadata': {'occupation_skill_pair': 'Python Developer > First Timer',\n",
       "   'compatible_area_of_focus': 'Interview preparation - Explain areas where people usually make mistakes',\n",
       "   'type': 'query',\n",
       "   'difficulty': 'Easy',\n",
       "   'target_length': 1},\n",
       "  'messages': [{'role': 'user', 'content': ' '}]},\n",
       " {'metadata': {'occupation_skill_pair': 'Python Developer > First Timer',\n",
       "   'compatible_area_of_focus': 'Interview preparation - Explain areas where people usually make mistakes',\n",
       "   'type': 'query',\n",
       "   'difficulty': 'Easy',\n",
       "   'target_length': 1},\n",
       "  'messages': [{'role': 'user', 'content': 'F'}]},\n",
       " {'metadata': {'occupation_skill_pair': 'Python Developer > First Timer',\n",
       "   'compatible_area_of_focus': 'Interview preparation - Explain areas where people usually make mistakes',\n",
       "   'type': 'query',\n",
       "   'difficulty': 'Easy',\n",
       "   'target_length': 1},\n",
       "  'messages': [{'role': 'user', 'content': 'i'}]},\n",
       " {'metadata': {'occupation_skill_pair': 'Python Developer > First Timer',\n",
       "   'compatible_area_of_focus': 'Interview preparation - Explain areas where people usually make mistakes',\n",
       "   'type': 'query',\n",
       "   'difficulty': 'Easy',\n",
       "   'target_length': 1},\n",
       "  'messages': [{'role': 'user', 'content': 'r'}]},\n",
       " {'metadata': {'occupation_skill_pair': 'Python Developer > First Timer',\n",
       "   'compatible_area_of_focus': 'Interview preparation - Explain areas where people usually make mistakes',\n",
       "   'type': 'query',\n",
       "   'difficulty': 'Easy',\n",
       "   'target_length': 1},\n",
       "  'messages': [{'role': 'user', 'content': 's'}]},\n",
       " {'metadata': {'occupation_skill_pair': 'Python Developer > First Timer',\n",
       "   'compatible_area_of_focus': 'Interview preparation - Explain areas where people usually make mistakes',\n",
       "   'type': 'query',\n",
       "   'difficulty': 'Easy',\n",
       "   'target_length': 1},\n",
       "  'messages': [{'role': 'user', 'content': 't'}]},\n",
       " {'metadata': {'occupation_skill_pair': 'Python Developer > First Timer',\n",
       "   'compatible_area_of_focus': 'Interview preparation - Explain areas where people usually make mistakes',\n",
       "   'type': 'query',\n",
       "   'difficulty': 'Easy',\n",
       "   'target_length': 1},\n",
       "  'messages': [{'role': 'user', 'content': ' '}]},\n",
       " {'metadata': {'occupation_skill_pair': 'Python Developer > First Timer',\n",
       "   'compatible_area_of_focus': 'Interview preparation - Explain areas where people usually make mistakes',\n",
       "   'type': 'query',\n",
       "   'difficulty': 'Easy',\n",
       "   'target_length': 1},\n",
       "  'messages': [{'role': 'user', 'content': 'T'}]},\n",
       " {'metadata': {'occupation_skill_pair': 'Python Developer > First Timer',\n",
       "   'compatible_area_of_focus': 'Interview preparation - Explain areas where people usually make mistakes',\n",
       "   'type': 'query',\n",
       "   'difficulty': 'Easy',\n",
       "   'target_length': 1},\n",
       "  'messages': [{'role': 'user', 'content': 'i'}]},\n",
       " {'metadata': {'occupation_skill_pair': 'Python Developer > First Timer',\n",
       "   'compatible_area_of_focus': 'Interview preparation - Explain areas where people usually make mistakes',\n",
       "   'type': 'query',\n",
       "   'difficulty': 'Easy',\n",
       "   'target_length': 1},\n",
       "  'messages': [{'role': 'user', 'content': 'm'}]},\n",
       " {'metadata': {'occupation_skill_pair': 'Python Developer > First Timer',\n",
       "   'compatible_area_of_focus': 'Interview preparation - Explain areas where people usually make mistakes',\n",
       "   'type': 'query',\n",
       "   'difficulty': 'Easy',\n",
       "   'target_length': 1},\n",
       "  'messages': [{'role': 'user', 'content': 'e'}]},\n",
       " {'metadata': {'occupation_skill_pair': 'Python Developer > First Timer',\n",
       "   'compatible_area_of_focus': 'Interview preparation - Explain areas where people usually make mistakes',\n",
       "   'type': 'query',\n",
       "   'difficulty': 'Easy',\n",
       "   'target_length': 1},\n",
       "  'messages': [{'role': 'user', 'content': 'r'}]},\n",
       " {'metadata': {'occupation_skill_pair': 'Python Developer > First Timer',\n",
       "   'compatible_area_of_focus': 'Interview preparation - Explain alternative solutions and trade offs',\n",
       "   'type': 'query',\n",
       "   'difficulty': 'Easy',\n",
       "   'target_length': 1},\n",
       "  'messages': [{'role': 'user', 'content': 'P'}]},\n",
       " {'metadata': {'occupation_skill_pair': 'Python Developer > First Timer',\n",
       "   'compatible_area_of_focus': 'Interview preparation - Explain alternative solutions and trade offs',\n",
       "   'type': 'query',\n",
       "   'difficulty': 'Easy',\n",
       "   'target_length': 1},\n",
       "  'messages': [{'role': 'user', 'content': 'y'}]},\n",
       " {'metadata': {'occupation_skill_pair': 'Python Developer > First Timer',\n",
       "   'compatible_area_of_focus': 'Interview preparation - Explain alternative solutions and trade offs',\n",
       "   'type': 'query',\n",
       "   'difficulty': 'Easy',\n",
       "   'target_length': 1},\n",
       "  'messages': [{'role': 'user', 'content': 't'}]},\n",
       " {'metadata': {'occupation_skill_pair': 'Python Developer > First Timer',\n",
       "   'compatible_area_of_focus': 'Interview preparation - Explain alternative solutions and trade offs',\n",
       "   'type': 'query',\n",
       "   'difficulty': 'Easy',\n",
       "   'target_length': 1},\n",
       "  'messages': [{'role': 'user', 'content': 'h'}]},\n",
       " {'metadata': {'occupation_skill_pair': 'Python Developer > First Timer',\n",
       "   'compatible_area_of_focus': 'Interview preparation - Explain alternative solutions and trade offs',\n",
       "   'type': 'query',\n",
       "   'difficulty': 'Easy',\n",
       "   'target_length': 1},\n",
       "  'messages': [{'role': 'user', 'content': 'o'}]},\n",
       " {'metadata': {'occupation_skill_pair': 'Python Developer > First Timer',\n",
       "   'compatible_area_of_focus': 'Interview preparation - Explain alternative solutions and trade offs',\n",
       "   'type': 'query',\n",
       "   'difficulty': 'Easy',\n",
       "   'target_length': 1},\n",
       "  'messages': [{'role': 'user', 'content': 'n'}]},\n",
       " {'metadata': {'occupation_skill_pair': 'Python Developer > First Timer',\n",
       "   'compatible_area_of_focus': 'Interview preparation - Explain alternative solutions and trade offs',\n",
       "   'type': 'query',\n",
       "   'difficulty': 'Easy',\n",
       "   'target_length': 1},\n",
       "  'messages': [{'role': 'user', 'content': ' '}]},\n",
       " {'metadata': {'occupation_skill_pair': 'Python Developer > First Timer',\n",
       "   'compatible_area_of_focus': 'Interview preparation - Explain alternative solutions and trade offs',\n",
       "   'type': 'query',\n",
       "   'difficulty': 'Easy',\n",
       "   'target_length': 1},\n",
       "  'messages': [{'role': 'user', 'content': 'D'}]},\n",
       " {'metadata': {'occupation_skill_pair': 'Python Developer > First Timer',\n",
       "   'compatible_area_of_focus': 'Interview preparation - Explain alternative solutions and trade offs',\n",
       "   'type': 'query',\n",
       "   'difficulty': 'Easy',\n",
       "   'target_length': 1},\n",
       "  'messages': [{'role': 'user', 'content': 'e'}]},\n",
       " {'metadata': {'occupation_skill_pair': 'Python Developer > First Timer',\n",
       "   'compatible_area_of_focus': 'Interview preparation - Explain alternative solutions and trade offs',\n",
       "   'type': 'query',\n",
       "   'difficulty': 'Easy',\n",
       "   'target_length': 1},\n",
       "  'messages': [{'role': 'user', 'content': 'v'}]},\n",
       " {'metadata': {'occupation_skill_pair': 'Python Developer > First Timer',\n",
       "   'compatible_area_of_focus': 'Interview preparation - Explain alternative solutions and trade offs',\n",
       "   'type': 'query',\n",
       "   'difficulty': 'Easy',\n",
       "   'target_length': 1},\n",
       "  'messages': [{'role': 'user', 'content': 'e'}]},\n",
       " {'metadata': {'occupation_skill_pair': 'Python Developer > First Timer',\n",
       "   'compatible_area_of_focus': 'Interview preparation - Explain alternative solutions and trade offs',\n",
       "   'type': 'query',\n",
       "   'difficulty': 'Easy',\n",
       "   'target_length': 1},\n",
       "  'messages': [{'role': 'user', 'content': 'l'}]},\n",
       " {'metadata': {'occupation_skill_pair': 'Python Developer > First Timer',\n",
       "   'compatible_area_of_focus': 'Interview preparation - Explain alternative solutions and trade offs',\n",
       "   'type': 'query',\n",
       "   'difficulty': 'Easy',\n",
       "   'target_length': 1},\n",
       "  'messages': [{'role': 'user', 'content': 'o'}]},\n",
       " {'metadata': {'occupation_skill_pair': 'Python Developer > First Timer',\n",
       "   'compatible_area_of_focus': 'Interview preparation - Explain alternative solutions and trade offs',\n",
       "   'type': 'query',\n",
       "   'difficulty': 'Easy',\n",
       "   'target_length': 1},\n",
       "  'messages': [{'role': 'user', 'content': 'p'}]},\n",
       " {'metadata': {'occupation_skill_pair': 'Python Developer > First Timer',\n",
       "   'compatible_area_of_focus': 'Interview preparation - Explain alternative solutions and trade offs',\n",
       "   'type': 'query',\n",
       "   'difficulty': 'Easy',\n",
       "   'target_length': 1},\n",
       "  'messages': [{'role': 'user', 'content': 'e'}]},\n",
       " {'metadata': {'occupation_skill_pair': 'Python Developer > First Timer',\n",
       "   'compatible_area_of_focus': 'Interview preparation - Explain alternative solutions and trade offs',\n",
       "   'type': 'query',\n",
       "   'difficulty': 'Easy',\n",
       "   'target_length': 1},\n",
       "  'messages': [{'role': 'user', 'content': 'r'}]},\n",
       " {'metadata': {'occupation_skill_pair': 'Python Developer > First Timer',\n",
       "   'compatible_area_of_focus': 'Interview preparation - Explain alternative solutions and trade offs',\n",
       "   'type': 'query',\n",
       "   'difficulty': 'Easy',\n",
       "   'target_length': 1},\n",
       "  'messages': [{'role': 'user', 'content': ' '}]},\n",
       " {'metadata': {'occupation_skill_pair': 'Python Developer > First Timer',\n",
       "   'compatible_area_of_focus': 'Interview preparation - Explain alternative solutions and trade offs',\n",
       "   'type': 'query',\n",
       "   'difficulty': 'Easy',\n",
       "   'target_length': 1},\n",
       "  'messages': [{'role': 'user', 'content': '>'}]},\n",
       " {'metadata': {'occupation_skill_pair': 'Python Developer > First Timer',\n",
       "   'compatible_area_of_focus': 'Interview preparation - Explain alternative solutions and trade offs',\n",
       "   'type': 'query',\n",
       "   'difficulty': 'Easy',\n",
       "   'target_length': 1},\n",
       "  'messages': [{'role': 'user', 'content': ' '}]},\n",
       " {'metadata': {'occupation_skill_pair': 'Python Developer > First Timer',\n",
       "   'compatible_area_of_focus': 'Interview preparation - Explain alternative solutions and trade offs',\n",
       "   'type': 'query',\n",
       "   'difficulty': 'Easy',\n",
       "   'target_length': 1},\n",
       "  'messages': [{'role': 'user', 'content': 'F'}]},\n",
       " {'metadata': {'occupation_skill_pair': 'Python Developer > First Timer',\n",
       "   'compatible_area_of_focus': 'Interview preparation - Explain alternative solutions and trade offs',\n",
       "   'type': 'query',\n",
       "   'difficulty': 'Easy',\n",
       "   'target_length': 1},\n",
       "  'messages': [{'role': 'user', 'content': 'i'}]},\n",
       " {'metadata': {'occupation_skill_pair': 'Python Developer > First Timer',\n",
       "   'compatible_area_of_focus': 'Interview preparation - Explain alternative solutions and trade offs',\n",
       "   'type': 'query',\n",
       "   'difficulty': 'Easy',\n",
       "   'target_length': 1},\n",
       "  'messages': [{'role': 'user', 'content': 'r'}]},\n",
       " {'metadata': {'occupation_skill_pair': 'Python Developer > First Timer',\n",
       "   'compatible_area_of_focus': 'Interview preparation - Explain alternative solutions and trade offs',\n",
       "   'type': 'query',\n",
       "   'difficulty': 'Easy',\n",
       "   'target_length': 1},\n",
       "  'messages': [{'role': 'user', 'content': 's'}]},\n",
       " {'metadata': {'occupation_skill_pair': 'Python Developer > First Timer',\n",
       "   'compatible_area_of_focus': 'Interview preparation - Explain alternative solutions and trade offs',\n",
       "   'type': 'query',\n",
       "   'difficulty': 'Easy',\n",
       "   'target_length': 1},\n",
       "  'messages': [{'role': 'user', 'content': 't'}]},\n",
       " {'metadata': {'occupation_skill_pair': 'Python Developer > First Timer',\n",
       "   'compatible_area_of_focus': 'Interview preparation - Explain alternative solutions and trade offs',\n",
       "   'type': 'query',\n",
       "   'difficulty': 'Easy',\n",
       "   'target_length': 1},\n",
       "  'messages': [{'role': 'user', 'content': ' '}]},\n",
       " {'metadata': {'occupation_skill_pair': 'Python Developer > First Timer',\n",
       "   'compatible_area_of_focus': 'Interview preparation - Explain alternative solutions and trade offs',\n",
       "   'type': 'query',\n",
       "   'difficulty': 'Easy',\n",
       "   'target_length': 1},\n",
       "  'messages': [{'role': 'user', 'content': 'T'}]},\n",
       " {'metadata': {'occupation_skill_pair': 'Python Developer > First Timer',\n",
       "   'compatible_area_of_focus': 'Interview preparation - Explain alternative solutions and trade offs',\n",
       "   'type': 'query',\n",
       "   'difficulty': 'Easy',\n",
       "   'target_length': 1},\n",
       "  'messages': [{'role': 'user', 'content': 'i'}]},\n",
       " {'metadata': {'occupation_skill_pair': 'Python Developer > First Timer',\n",
       "   'compatible_area_of_focus': 'Interview preparation - Explain alternative solutions and trade offs',\n",
       "   'type': 'query',\n",
       "   'difficulty': 'Easy',\n",
       "   'target_length': 1},\n",
       "  'messages': [{'role': 'user', 'content': 'm'}]},\n",
       " {'metadata': {'occupation_skill_pair': 'Python Developer > First Timer',\n",
       "   'compatible_area_of_focus': 'Interview preparation - Explain alternative solutions and trade offs',\n",
       "   'type': 'query',\n",
       "   'difficulty': 'Easy',\n",
       "   'target_length': 1},\n",
       "  'messages': [{'role': 'user', 'content': 'e'}]},\n",
       " {'metadata': {'occupation_skill_pair': 'Python Developer > First Timer',\n",
       "   'compatible_area_of_focus': 'Interview preparation - Explain alternative solutions and trade offs',\n",
       "   'type': 'query',\n",
       "   'difficulty': 'Easy',\n",
       "   'target_length': 1},\n",
       "  'messages': [{'role': 'user', 'content': 'r'}]},\n",
       " {'metadata': {'occupation_skill_pair': 'Python Developer > First Timer',\n",
       "   'compatible_area_of_focus': 'Interview preparation - Debug and fix code',\n",
       "   'type': 'query',\n",
       "   'difficulty': 'Easy',\n",
       "   'target_length': 1},\n",
       "  'messages': [{'role': 'user', 'content': 'P'}]},\n",
       " {'metadata': {'occupation_skill_pair': 'Python Developer > First Timer',\n",
       "   'compatible_area_of_focus': 'Interview preparation - Debug and fix code',\n",
       "   'type': 'query',\n",
       "   'difficulty': 'Easy',\n",
       "   'target_length': 1},\n",
       "  'messages': [{'role': 'user', 'content': 'y'}]},\n",
       " {'metadata': {'occupation_skill_pair': 'Python Developer > First Timer',\n",
       "   'compatible_area_of_focus': 'Interview preparation - Debug and fix code',\n",
       "   'type': 'query',\n",
       "   'difficulty': 'Easy',\n",
       "   'target_length': 1},\n",
       "  'messages': [{'role': 'user', 'content': 't'}]},\n",
       " {'metadata': {'occupation_skill_pair': 'Python Developer > First Timer',\n",
       "   'compatible_area_of_focus': 'Interview preparation - Debug and fix code',\n",
       "   'type': 'query',\n",
       "   'difficulty': 'Easy',\n",
       "   'target_length': 1},\n",
       "  'messages': [{'role': 'user', 'content': 'h'}]},\n",
       " {'metadata': {'occupation_skill_pair': 'Python Developer > First Timer',\n",
       "   'compatible_area_of_focus': 'Interview preparation - Debug and fix code',\n",
       "   'type': 'query',\n",
       "   'difficulty': 'Easy',\n",
       "   'target_length': 1},\n",
       "  'messages': [{'role': 'user', 'content': 'o'}]},\n",
       " {'metadata': {'occupation_skill_pair': 'Python Developer > First Timer',\n",
       "   'compatible_area_of_focus': 'Interview preparation - Debug and fix code',\n",
       "   'type': 'query',\n",
       "   'difficulty': 'Easy',\n",
       "   'target_length': 1},\n",
       "  'messages': [{'role': 'user', 'content': 'n'}]},\n",
       " {'metadata': {'occupation_skill_pair': 'Python Developer > First Timer',\n",
       "   'compatible_area_of_focus': 'Interview preparation - Debug and fix code',\n",
       "   'type': 'query',\n",
       "   'difficulty': 'Easy',\n",
       "   'target_length': 1},\n",
       "  'messages': [{'role': 'user', 'content': ' '}]},\n",
       " {'metadata': {'occupation_skill_pair': 'Python Developer > First Timer',\n",
       "   'compatible_area_of_focus': 'Interview preparation - Debug and fix code',\n",
       "   'type': 'query',\n",
       "   'difficulty': 'Easy',\n",
       "   'target_length': 1},\n",
       "  'messages': [{'role': 'user', 'content': 'D'}]},\n",
       " {'metadata': {'occupation_skill_pair': 'Python Developer > First Timer',\n",
       "   'compatible_area_of_focus': 'Interview preparation - Debug and fix code',\n",
       "   'type': 'query',\n",
       "   'difficulty': 'Easy',\n",
       "   'target_length': 1},\n",
       "  'messages': [{'role': 'user', 'content': 'e'}]},\n",
       " {'metadata': {'occupation_skill_pair': 'Python Developer > First Timer',\n",
       "   'compatible_area_of_focus': 'Interview preparation - Debug and fix code',\n",
       "   'type': 'query',\n",
       "   'difficulty': 'Easy',\n",
       "   'target_length': 1},\n",
       "  'messages': [{'role': 'user', 'content': 'v'}]},\n",
       " {'metadata': {'occupation_skill_pair': 'Python Developer > First Timer',\n",
       "   'compatible_area_of_focus': 'Interview preparation - Debug and fix code',\n",
       "   'type': 'query',\n",
       "   'difficulty': 'Easy',\n",
       "   'target_length': 1},\n",
       "  'messages': [{'role': 'user', 'content': 'e'}]},\n",
       " {'metadata': {'occupation_skill_pair': 'Python Developer > First Timer',\n",
       "   'compatible_area_of_focus': 'Interview preparation - Debug and fix code',\n",
       "   'type': 'query',\n",
       "   'difficulty': 'Easy',\n",
       "   'target_length': 1},\n",
       "  'messages': [{'role': 'user', 'content': 'l'}]},\n",
       " {'metadata': {'occupation_skill_pair': 'Python Developer > First Timer',\n",
       "   'compatible_area_of_focus': 'Interview preparation - Debug and fix code',\n",
       "   'type': 'query',\n",
       "   'difficulty': 'Easy',\n",
       "   'target_length': 1},\n",
       "  'messages': [{'role': 'user', 'content': 'o'}]},\n",
       " {'metadata': {'occupation_skill_pair': 'Python Developer > First Timer',\n",
       "   'compatible_area_of_focus': 'Interview preparation - Debug and fix code',\n",
       "   'type': 'query',\n",
       "   'difficulty': 'Easy',\n",
       "   'target_length': 1},\n",
       "  'messages': [{'role': 'user', 'content': 'p'}]},\n",
       " {'metadata': {'occupation_skill_pair': 'Python Developer > First Timer',\n",
       "   'compatible_area_of_focus': 'Interview preparation - Debug and fix code',\n",
       "   'type': 'query',\n",
       "   'difficulty': 'Easy',\n",
       "   'target_length': 1},\n",
       "  'messages': [{'role': 'user', 'content': 'e'}]},\n",
       " {'metadata': {'occupation_skill_pair': 'Python Developer > First Timer',\n",
       "   'compatible_area_of_focus': 'Interview preparation - Debug and fix code',\n",
       "   'type': 'query',\n",
       "   'difficulty': 'Easy',\n",
       "   'target_length': 1},\n",
       "  'messages': [{'role': 'user', 'content': 'r'}]},\n",
       " {'metadata': {'occupation_skill_pair': 'Python Developer > First Timer',\n",
       "   'compatible_area_of_focus': 'Interview preparation - Debug and fix code',\n",
       "   'type': 'query',\n",
       "   'difficulty': 'Easy',\n",
       "   'target_length': 1},\n",
       "  'messages': [{'role': 'user', 'content': ' '}]},\n",
       " {'metadata': {'occupation_skill_pair': 'Python Developer > First Timer',\n",
       "   'compatible_area_of_focus': 'Interview preparation - Debug and fix code',\n",
       "   'type': 'query',\n",
       "   'difficulty': 'Easy',\n",
       "   'target_length': 1},\n",
       "  'messages': [{'role': 'user', 'content': '>'}]},\n",
       " {'metadata': {'occupation_skill_pair': 'Python Developer > First Timer',\n",
       "   'compatible_area_of_focus': 'Interview preparation - Debug and fix code',\n",
       "   'type': 'query',\n",
       "   'difficulty': 'Easy',\n",
       "   'target_length': 1},\n",
       "  'messages': [{'role': 'user', 'content': ' '}]},\n",
       " {'metadata': {'occupation_skill_pair': 'Python Developer > First Timer',\n",
       "   'compatible_area_of_focus': 'Interview preparation - Debug and fix code',\n",
       "   'type': 'query',\n",
       "   'difficulty': 'Easy',\n",
       "   'target_length': 1},\n",
       "  'messages': [{'role': 'user', 'content': 'F'}]},\n",
       " {'metadata': {'occupation_skill_pair': 'Python Developer > First Timer',\n",
       "   'compatible_area_of_focus': 'Interview preparation - Debug and fix code',\n",
       "   'type': 'query',\n",
       "   'difficulty': 'Easy',\n",
       "   'target_length': 1},\n",
       "  'messages': [{'role': 'user', 'content': 'i'}]},\n",
       " {'metadata': {'occupation_skill_pair': 'Python Developer > First Timer',\n",
       "   'compatible_area_of_focus': 'Interview preparation - Debug and fix code',\n",
       "   'type': 'query',\n",
       "   'difficulty': 'Easy',\n",
       "   'target_length': 1},\n",
       "  'messages': [{'role': 'user', 'content': 'r'}]},\n",
       " {'metadata': {'occupation_skill_pair': 'Python Developer > First Timer',\n",
       "   'compatible_area_of_focus': 'Interview preparation - Debug and fix code',\n",
       "   'type': 'query',\n",
       "   'difficulty': 'Easy',\n",
       "   'target_length': 1},\n",
       "  'messages': [{'role': 'user', 'content': 's'}]},\n",
       " {'metadata': {'occupation_skill_pair': 'Python Developer > First Timer',\n",
       "   'compatible_area_of_focus': 'Interview preparation - Debug and fix code',\n",
       "   'type': 'query',\n",
       "   'difficulty': 'Easy',\n",
       "   'target_length': 1},\n",
       "  'messages': [{'role': 'user', 'content': 't'}]},\n",
       " {'metadata': {'occupation_skill_pair': 'Python Developer > First Timer',\n",
       "   'compatible_area_of_focus': 'Interview preparation - Debug and fix code',\n",
       "   'type': 'query',\n",
       "   'difficulty': 'Easy',\n",
       "   'target_length': 1},\n",
       "  'messages': [{'role': 'user', 'content': ' '}]},\n",
       " {'metadata': {'occupation_skill_pair': 'Python Developer > First Timer',\n",
       "   'compatible_area_of_focus': 'Interview preparation - Debug and fix code',\n",
       "   'type': 'query',\n",
       "   'difficulty': 'Easy',\n",
       "   'target_length': 1},\n",
       "  'messages': [{'role': 'user', 'content': 'T'}]},\n",
       " {'metadata': {'occupation_skill_pair': 'Python Developer > First Timer',\n",
       "   'compatible_area_of_focus': 'Interview preparation - Debug and fix code',\n",
       "   'type': 'query',\n",
       "   'difficulty': 'Easy',\n",
       "   'target_length': 1},\n",
       "  'messages': [{'role': 'user', 'content': 'i'}]},\n",
       " {'metadata': {'occupation_skill_pair': 'Python Developer > First Timer',\n",
       "   'compatible_area_of_focus': 'Interview preparation - Debug and fix code',\n",
       "   'type': 'query',\n",
       "   'difficulty': 'Easy',\n",
       "   'target_length': 1},\n",
       "  'messages': [{'role': 'user', 'content': 'm'}]},\n",
       " {'metadata': {'occupation_skill_pair': 'Python Developer > First Timer',\n",
       "   'compatible_area_of_focus': 'Interview preparation - Debug and fix code',\n",
       "   'type': 'query',\n",
       "   'difficulty': 'Easy',\n",
       "   'target_length': 1},\n",
       "  'messages': [{'role': 'user', 'content': 'e'}]},\n",
       " {'metadata': {'occupation_skill_pair': 'Python Developer > First Timer',\n",
       "   'compatible_area_of_focus': 'Interview preparation - Debug and fix code',\n",
       "   'type': 'query',\n",
       "   'difficulty': 'Easy',\n",
       "   'target_length': 1},\n",
       "  'messages': [{'role': 'user', 'content': 'r'}]},\n",
       " {'metadata': {'occupation_skill_pair': 'Python Developer > First Timer',\n",
       "   'compatible_area_of_focus': 'Interview preparation - System Design rounds',\n",
       "   'type': 'query',\n",
       "   'difficulty': 'Easy',\n",
       "   'target_length': 1},\n",
       "  'messages': [{'role': 'user', 'content': 'P'}]},\n",
       " {'metadata': {'occupation_skill_pair': 'Python Developer > First Timer',\n",
       "   'compatible_area_of_focus': 'Interview preparation - System Design rounds',\n",
       "   'type': 'query',\n",
       "   'difficulty': 'Easy',\n",
       "   'target_length': 1},\n",
       "  'messages': [{'role': 'user', 'content': 'y'}]},\n",
       " {'metadata': {'occupation_skill_pair': 'Python Developer > First Timer',\n",
       "   'compatible_area_of_focus': 'Interview preparation - System Design rounds',\n",
       "   'type': 'query',\n",
       "   'difficulty': 'Easy',\n",
       "   'target_length': 1},\n",
       "  'messages': [{'role': 'user', 'content': 't'}]},\n",
       " {'metadata': {'occupation_skill_pair': 'Python Developer > First Timer',\n",
       "   'compatible_area_of_focus': 'Interview preparation - System Design rounds',\n",
       "   'type': 'query',\n",
       "   'difficulty': 'Easy',\n",
       "   'target_length': 1},\n",
       "  'messages': [{'role': 'user', 'content': 'h'}]},\n",
       " {'metadata': {'occupation_skill_pair': 'Python Developer > First Timer',\n",
       "   'compatible_area_of_focus': 'Interview preparation - System Design rounds',\n",
       "   'type': 'query',\n",
       "   'difficulty': 'Easy',\n",
       "   'target_length': 1},\n",
       "  'messages': [{'role': 'user', 'content': 'o'}]},\n",
       " {'metadata': {'occupation_skill_pair': 'Python Developer > First Timer',\n",
       "   'compatible_area_of_focus': 'Interview preparation - System Design rounds',\n",
       "   'type': 'query',\n",
       "   'difficulty': 'Easy',\n",
       "   'target_length': 1},\n",
       "  'messages': [{'role': 'user', 'content': 'n'}]},\n",
       " {'metadata': {'occupation_skill_pair': 'Python Developer > First Timer',\n",
       "   'compatible_area_of_focus': 'Interview preparation - System Design rounds',\n",
       "   'type': 'query',\n",
       "   'difficulty': 'Easy',\n",
       "   'target_length': 1},\n",
       "  'messages': [{'role': 'user', 'content': ' '}]},\n",
       " {'metadata': {'occupation_skill_pair': 'Python Developer > First Timer',\n",
       "   'compatible_area_of_focus': 'Interview preparation - System Design rounds',\n",
       "   'type': 'query',\n",
       "   'difficulty': 'Easy',\n",
       "   'target_length': 1},\n",
       "  'messages': [{'role': 'user', 'content': 'D'}]},\n",
       " {'metadata': {'occupation_skill_pair': 'Python Developer > First Timer',\n",
       "   'compatible_area_of_focus': 'Interview preparation - System Design rounds',\n",
       "   'type': 'query',\n",
       "   'difficulty': 'Easy',\n",
       "   'target_length': 1},\n",
       "  'messages': [{'role': 'user', 'content': 'e'}]},\n",
       " {'metadata': {'occupation_skill_pair': 'Python Developer > First Timer',\n",
       "   'compatible_area_of_focus': 'Interview preparation - System Design rounds',\n",
       "   'type': 'query',\n",
       "   'difficulty': 'Easy',\n",
       "   'target_length': 1},\n",
       "  'messages': [{'role': 'user', 'content': 'v'}]},\n",
       " {'metadata': {'occupation_skill_pair': 'Python Developer > First Timer',\n",
       "   'compatible_area_of_focus': 'Interview preparation - System Design rounds',\n",
       "   'type': 'query',\n",
       "   'difficulty': 'Easy',\n",
       "   'target_length': 1},\n",
       "  'messages': [{'role': 'user', 'content': 'e'}]},\n",
       " {'metadata': {'occupation_skill_pair': 'Python Developer > First Timer',\n",
       "   'compatible_area_of_focus': 'Interview preparation - System Design rounds',\n",
       "   'type': 'query',\n",
       "   'difficulty': 'Easy',\n",
       "   'target_length': 1},\n",
       "  'messages': [{'role': 'user', 'content': 'l'}]},\n",
       " {'metadata': {'occupation_skill_pair': 'Python Developer > First Timer',\n",
       "   'compatible_area_of_focus': 'Interview preparation - System Design rounds',\n",
       "   'type': 'query',\n",
       "   'difficulty': 'Easy',\n",
       "   'target_length': 1},\n",
       "  'messages': [{'role': 'user', 'content': 'o'}]},\n",
       " {'metadata': {'occupation_skill_pair': 'Python Developer > First Timer',\n",
       "   'compatible_area_of_focus': 'Interview preparation - System Design rounds',\n",
       "   'type': 'query',\n",
       "   'difficulty': 'Easy',\n",
       "   'target_length': 1},\n",
       "  'messages': [{'role': 'user', 'content': 'p'}]},\n",
       " {'metadata': {'occupation_skill_pair': 'Python Developer > First Timer',\n",
       "   'compatible_area_of_focus': 'Interview preparation - System Design rounds',\n",
       "   'type': 'query',\n",
       "   'difficulty': 'Easy',\n",
       "   'target_length': 1},\n",
       "  'messages': [{'role': 'user', 'content': 'e'}]},\n",
       " {'metadata': {'occupation_skill_pair': 'Python Developer > First Timer',\n",
       "   'compatible_area_of_focus': 'Interview preparation - System Design rounds',\n",
       "   'type': 'query',\n",
       "   'difficulty': 'Easy',\n",
       "   'target_length': 1},\n",
       "  'messages': [{'role': 'user', 'content': 'r'}]},\n",
       " {'metadata': {'occupation_skill_pair': 'Python Developer > First Timer',\n",
       "   'compatible_area_of_focus': 'Interview preparation - System Design rounds',\n",
       "   'type': 'query',\n",
       "   'difficulty': 'Easy',\n",
       "   'target_length': 1},\n",
       "  'messages': [{'role': 'user', 'content': ' '}]},\n",
       " {'metadata': {'occupation_skill_pair': 'Python Developer > First Timer',\n",
       "   'compatible_area_of_focus': 'Interview preparation - System Design rounds',\n",
       "   'type': 'query',\n",
       "   'difficulty': 'Easy',\n",
       "   'target_length': 1},\n",
       "  'messages': [{'role': 'user', 'content': '>'}]},\n",
       " {'metadata': {'occupation_skill_pair': 'Python Developer > First Timer',\n",
       "   'compatible_area_of_focus': 'Interview preparation - System Design rounds',\n",
       "   'type': 'query',\n",
       "   'difficulty': 'Easy',\n",
       "   'target_length': 1},\n",
       "  'messages': [{'role': 'user', 'content': ' '}]},\n",
       " {'metadata': {'occupation_skill_pair': 'Python Developer > First Timer',\n",
       "   'compatible_area_of_focus': 'Interview preparation - System Design rounds',\n",
       "   'type': 'query',\n",
       "   'difficulty': 'Easy',\n",
       "   'target_length': 1},\n",
       "  'messages': [{'role': 'user', 'content': 'F'}]},\n",
       " {'metadata': {'occupation_skill_pair': 'Python Developer > First Timer',\n",
       "   'compatible_area_of_focus': 'Interview preparation - System Design rounds',\n",
       "   'type': 'query',\n",
       "   'difficulty': 'Easy',\n",
       "   'target_length': 1},\n",
       "  'messages': [{'role': 'user', 'content': 'i'}]},\n",
       " {'metadata': {'occupation_skill_pair': 'Python Developer > First Timer',\n",
       "   'compatible_area_of_focus': 'Interview preparation - System Design rounds',\n",
       "   'type': 'query',\n",
       "   'difficulty': 'Easy',\n",
       "   'target_length': 1},\n",
       "  'messages': [{'role': 'user', 'content': 'r'}]},\n",
       " {'metadata': {'occupation_skill_pair': 'Python Developer > First Timer',\n",
       "   'compatible_area_of_focus': 'Interview preparation - System Design rounds',\n",
       "   'type': 'query',\n",
       "   'difficulty': 'Easy',\n",
       "   'target_length': 1},\n",
       "  'messages': [{'role': 'user', 'content': 's'}]},\n",
       " {'metadata': {'occupation_skill_pair': 'Python Developer > First Timer',\n",
       "   'compatible_area_of_focus': 'Interview preparation - System Design rounds',\n",
       "   'type': 'query',\n",
       "   'difficulty': 'Easy',\n",
       "   'target_length': 1},\n",
       "  'messages': [{'role': 'user', 'content': 't'}]},\n",
       " {'metadata': {'occupation_skill_pair': 'Python Developer > First Timer',\n",
       "   'compatible_area_of_focus': 'Interview preparation - System Design rounds',\n",
       "   'type': 'query',\n",
       "   'difficulty': 'Easy',\n",
       "   'target_length': 1},\n",
       "  'messages': [{'role': 'user', 'content': ' '}]},\n",
       " {'metadata': {'occupation_skill_pair': 'Python Developer > First Timer',\n",
       "   'compatible_area_of_focus': 'Interview preparation - System Design rounds',\n",
       "   'type': 'query',\n",
       "   'difficulty': 'Easy',\n",
       "   'target_length': 1},\n",
       "  'messages': [{'role': 'user', 'content': 'T'}]},\n",
       " {'metadata': {'occupation_skill_pair': 'Python Developer > First Timer',\n",
       "   'compatible_area_of_focus': 'Interview preparation - System Design rounds',\n",
       "   'type': 'query',\n",
       "   'difficulty': 'Easy',\n",
       "   'target_length': 1},\n",
       "  'messages': [{'role': 'user', 'content': 'i'}]},\n",
       " {'metadata': {'occupation_skill_pair': 'Python Developer > First Timer',\n",
       "   'compatible_area_of_focus': 'Interview preparation - System Design rounds',\n",
       "   'type': 'query',\n",
       "   'difficulty': 'Easy',\n",
       "   'target_length': 1},\n",
       "  'messages': [{'role': 'user', 'content': 'm'}]},\n",
       " {'metadata': {'occupation_skill_pair': 'Python Developer > First Timer',\n",
       "   'compatible_area_of_focus': 'Interview preparation - System Design rounds',\n",
       "   'type': 'query',\n",
       "   'difficulty': 'Easy',\n",
       "   'target_length': 1},\n",
       "  'messages': [{'role': 'user', 'content': 'e'}]},\n",
       " {'metadata': {'occupation_skill_pair': 'Python Developer > First Timer',\n",
       "   'compatible_area_of_focus': 'Interview preparation - System Design rounds',\n",
       "   'type': 'query',\n",
       "   'difficulty': 'Easy',\n",
       "   'target_length': 1},\n",
       "  'messages': [{'role': 'user', 'content': 'r'}]},\n",
       " {'metadata': {'occupation_skill_pair': 'Python Developer > First Timer',\n",
       "   'compatible_area_of_focus': 'Interview preparation - Proactively ask follow up questions',\n",
       "   'type': 'query',\n",
       "   'difficulty': 'Easy',\n",
       "   'target_length': 1},\n",
       "  'messages': [{'role': 'user', 'content': 'P'}]},\n",
       " {'metadata': {'occupation_skill_pair': 'Python Developer > First Timer',\n",
       "   'compatible_area_of_focus': 'Interview preparation - Proactively ask follow up questions',\n",
       "   'type': 'query',\n",
       "   'difficulty': 'Easy',\n",
       "   'target_length': 1},\n",
       "  'messages': [{'role': 'user', 'content': 'y'}]},\n",
       " {'metadata': {'occupation_skill_pair': 'Python Developer > First Timer',\n",
       "   'compatible_area_of_focus': 'Interview preparation - Proactively ask follow up questions',\n",
       "   'type': 'query',\n",
       "   'difficulty': 'Easy',\n",
       "   'target_length': 1},\n",
       "  'messages': [{'role': 'user', 'content': 't'}]},\n",
       " {'metadata': {'occupation_skill_pair': 'Python Developer > First Timer',\n",
       "   'compatible_area_of_focus': 'Interview preparation - Proactively ask follow up questions',\n",
       "   'type': 'query',\n",
       "   'difficulty': 'Easy',\n",
       "   'target_length': 1},\n",
       "  'messages': [{'role': 'user', 'content': 'h'}]},\n",
       " {'metadata': {'occupation_skill_pair': 'Python Developer > First Timer',\n",
       "   'compatible_area_of_focus': 'Interview preparation - Proactively ask follow up questions',\n",
       "   'type': 'query',\n",
       "   'difficulty': 'Easy',\n",
       "   'target_length': 1},\n",
       "  'messages': [{'role': 'user', 'content': 'o'}]},\n",
       " {'metadata': {'occupation_skill_pair': 'Python Developer > First Timer',\n",
       "   'compatible_area_of_focus': 'Interview preparation - Proactively ask follow up questions',\n",
       "   'type': 'query',\n",
       "   'difficulty': 'Easy',\n",
       "   'target_length': 1},\n",
       "  'messages': [{'role': 'user', 'content': 'n'}]},\n",
       " {'metadata': {'occupation_skill_pair': 'Python Developer > First Timer',\n",
       "   'compatible_area_of_focus': 'Interview preparation - Proactively ask follow up questions',\n",
       "   'type': 'query',\n",
       "   'difficulty': 'Easy',\n",
       "   'target_length': 1},\n",
       "  'messages': [{'role': 'user', 'content': ' '}]},\n",
       " {'metadata': {'occupation_skill_pair': 'Python Developer > First Timer',\n",
       "   'compatible_area_of_focus': 'Interview preparation - Proactively ask follow up questions',\n",
       "   'type': 'query',\n",
       "   'difficulty': 'Easy',\n",
       "   'target_length': 1},\n",
       "  'messages': [{'role': 'user', 'content': 'D'}]},\n",
       " {'metadata': {'occupation_skill_pair': 'Python Developer > First Timer',\n",
       "   'compatible_area_of_focus': 'Interview preparation - Proactively ask follow up questions',\n",
       "   'type': 'query',\n",
       "   'difficulty': 'Easy',\n",
       "   'target_length': 1},\n",
       "  'messages': [{'role': 'user', 'content': 'e'}]},\n",
       " {'metadata': {'occupation_skill_pair': 'Python Developer > First Timer',\n",
       "   'compatible_area_of_focus': 'Interview preparation - Proactively ask follow up questions',\n",
       "   'type': 'query',\n",
       "   'difficulty': 'Easy',\n",
       "   'target_length': 1},\n",
       "  'messages': [{'role': 'user', 'content': 'v'}]},\n",
       " {'metadata': {'occupation_skill_pair': 'Python Developer > First Timer',\n",
       "   'compatible_area_of_focus': 'Interview preparation - Proactively ask follow up questions',\n",
       "   'type': 'query',\n",
       "   'difficulty': 'Easy',\n",
       "   'target_length': 1},\n",
       "  'messages': [{'role': 'user', 'content': 'e'}]},\n",
       " {'metadata': {'occupation_skill_pair': 'Python Developer > First Timer',\n",
       "   'compatible_area_of_focus': 'Interview preparation - Proactively ask follow up questions',\n",
       "   'type': 'query',\n",
       "   'difficulty': 'Easy',\n",
       "   'target_length': 1},\n",
       "  'messages': [{'role': 'user', 'content': 'l'}]},\n",
       " {'metadata': {'occupation_skill_pair': 'Python Developer > First Timer',\n",
       "   'compatible_area_of_focus': 'Interview preparation - Proactively ask follow up questions',\n",
       "   'type': 'query',\n",
       "   'difficulty': 'Easy',\n",
       "   'target_length': 1},\n",
       "  'messages': [{'role': 'user', 'content': 'o'}]},\n",
       " {'metadata': {'occupation_skill_pair': 'Python Developer > First Timer',\n",
       "   'compatible_area_of_focus': 'Interview preparation - Proactively ask follow up questions',\n",
       "   'type': 'query',\n",
       "   'difficulty': 'Easy',\n",
       "   'target_length': 1},\n",
       "  'messages': [{'role': 'user', 'content': 'p'}]},\n",
       " {'metadata': {'occupation_skill_pair': 'Python Developer > First Timer',\n",
       "   'compatible_area_of_focus': 'Interview preparation - Proactively ask follow up questions',\n",
       "   'type': 'query',\n",
       "   'difficulty': 'Easy',\n",
       "   'target_length': 1},\n",
       "  'messages': [{'role': 'user', 'content': 'e'}]},\n",
       " {'metadata': {'occupation_skill_pair': 'Python Developer > First Timer',\n",
       "   'compatible_area_of_focus': 'Interview preparation - Proactively ask follow up questions',\n",
       "   'type': 'query',\n",
       "   'difficulty': 'Easy',\n",
       "   'target_length': 1},\n",
       "  'messages': [{'role': 'user', 'content': 'r'}]},\n",
       " {'metadata': {'occupation_skill_pair': 'Python Developer > First Timer',\n",
       "   'compatible_area_of_focus': 'Interview preparation - Proactively ask follow up questions',\n",
       "   'type': 'query',\n",
       "   'difficulty': 'Easy',\n",
       "   'target_length': 1},\n",
       "  'messages': [{'role': 'user', 'content': ' '}]},\n",
       " {'metadata': {'occupation_skill_pair': 'Python Developer > First Timer',\n",
       "   'compatible_area_of_focus': 'Interview preparation - Proactively ask follow up questions',\n",
       "   'type': 'query',\n",
       "   'difficulty': 'Easy',\n",
       "   'target_length': 1},\n",
       "  'messages': [{'role': 'user', 'content': '>'}]},\n",
       " {'metadata': {'occupation_skill_pair': 'Python Developer > First Timer',\n",
       "   'compatible_area_of_focus': 'Interview preparation - Proactively ask follow up questions',\n",
       "   'type': 'query',\n",
       "   'difficulty': 'Easy',\n",
       "   'target_length': 1},\n",
       "  'messages': [{'role': 'user', 'content': ' '}]},\n",
       " {'metadata': {'occupation_skill_pair': 'Python Developer > First Timer',\n",
       "   'compatible_area_of_focus': 'Interview preparation - Proactively ask follow up questions',\n",
       "   'type': 'query',\n",
       "   'difficulty': 'Easy',\n",
       "   'target_length': 1},\n",
       "  'messages': [{'role': 'user', 'content': 'F'}]},\n",
       " {'metadata': {'occupation_skill_pair': 'Python Developer > First Timer',\n",
       "   'compatible_area_of_focus': 'Interview preparation - Proactively ask follow up questions',\n",
       "   'type': 'query',\n",
       "   'difficulty': 'Easy',\n",
       "   'target_length': 1},\n",
       "  'messages': [{'role': 'user', 'content': 'i'}]},\n",
       " {'metadata': {'occupation_skill_pair': 'Python Developer > First Timer',\n",
       "   'compatible_area_of_focus': 'Interview preparation - Proactively ask follow up questions',\n",
       "   'type': 'query',\n",
       "   'difficulty': 'Easy',\n",
       "   'target_length': 1},\n",
       "  'messages': [{'role': 'user', 'content': 'r'}]},\n",
       " {'metadata': {'occupation_skill_pair': 'Python Developer > First Timer',\n",
       "   'compatible_area_of_focus': 'Interview preparation - Proactively ask follow up questions',\n",
       "   'type': 'query',\n",
       "   'difficulty': 'Easy',\n",
       "   'target_length': 1},\n",
       "  'messages': [{'role': 'user', 'content': 's'}]},\n",
       " {'metadata': {'occupation_skill_pair': 'Python Developer > First Timer',\n",
       "   'compatible_area_of_focus': 'Interview preparation - Proactively ask follow up questions',\n",
       "   'type': 'query',\n",
       "   'difficulty': 'Easy',\n",
       "   'target_length': 1},\n",
       "  'messages': [{'role': 'user', 'content': 't'}]},\n",
       " {'metadata': {'occupation_skill_pair': 'Python Developer > First Timer',\n",
       "   'compatible_area_of_focus': 'Interview preparation - Proactively ask follow up questions',\n",
       "   'type': 'query',\n",
       "   'difficulty': 'Easy',\n",
       "   'target_length': 1},\n",
       "  'messages': [{'role': 'user', 'content': ' '}]},\n",
       " {'metadata': {'occupation_skill_pair': 'Python Developer > First Timer',\n",
       "   'compatible_area_of_focus': 'Interview preparation - Proactively ask follow up questions',\n",
       "   'type': 'query',\n",
       "   'difficulty': 'Easy',\n",
       "   'target_length': 1},\n",
       "  'messages': [{'role': 'user', 'content': 'T'}]},\n",
       " {'metadata': {'occupation_skill_pair': 'Python Developer > First Timer',\n",
       "   'compatible_area_of_focus': 'Interview preparation - Proactively ask follow up questions',\n",
       "   'type': 'query',\n",
       "   'difficulty': 'Easy',\n",
       "   'target_length': 1},\n",
       "  'messages': [{'role': 'user', 'content': 'i'}]},\n",
       " {'metadata': {'occupation_skill_pair': 'Python Developer > First Timer',\n",
       "   'compatible_area_of_focus': 'Interview preparation - Proactively ask follow up questions',\n",
       "   'type': 'query',\n",
       "   'difficulty': 'Easy',\n",
       "   'target_length': 1},\n",
       "  'messages': [{'role': 'user', 'content': 'm'}]},\n",
       " {'metadata': {'occupation_skill_pair': 'Python Developer > First Timer',\n",
       "   'compatible_area_of_focus': 'Interview preparation - Proactively ask follow up questions',\n",
       "   'type': 'query',\n",
       "   'difficulty': 'Easy',\n",
       "   'target_length': 1},\n",
       "  'messages': [{'role': 'user', 'content': 'e'}]},\n",
       " {'metadata': {'occupation_skill_pair': 'Python Developer > First Timer',\n",
       "   'compatible_area_of_focus': 'Interview preparation - Proactively ask follow up questions',\n",
       "   'type': 'query',\n",
       "   'difficulty': 'Easy',\n",
       "   'target_length': 1},\n",
       "  'messages': [{'role': 'user', 'content': 'r'}]},\n",
       " {'metadata': {'occupation_skill_pair': 'Python Developer > First Timer',\n",
       "   'compatible_area_of_focus': 'Interview preparation - User asks AI help to take an Interview. AI takes an interview',\n",
       "   'type': 'query',\n",
       "   'difficulty': 'Easy',\n",
       "   'target_length': 1},\n",
       "  'messages': [{'role': 'user', 'content': 'P'}]},\n",
       " {'metadata': {'occupation_skill_pair': 'Python Developer > First Timer',\n",
       "   'compatible_area_of_focus': 'Interview preparation - User asks AI help to take an Interview. AI takes an interview',\n",
       "   'type': 'query',\n",
       "   'difficulty': 'Easy',\n",
       "   'target_length': 1},\n",
       "  'messages': [{'role': 'user', 'content': 'y'}]},\n",
       " {'metadata': {'occupation_skill_pair': 'Python Developer > First Timer',\n",
       "   'compatible_area_of_focus': 'Interview preparation - User asks AI help to take an Interview. AI takes an interview',\n",
       "   'type': 'query',\n",
       "   'difficulty': 'Easy',\n",
       "   'target_length': 1},\n",
       "  'messages': [{'role': 'user', 'content': 't'}]},\n",
       " {'metadata': {'occupation_skill_pair': 'Python Developer > First Timer',\n",
       "   'compatible_area_of_focus': 'Interview preparation - User asks AI help to take an Interview. AI takes an interview',\n",
       "   'type': 'query',\n",
       "   'difficulty': 'Easy',\n",
       "   'target_length': 1},\n",
       "  'messages': [{'role': 'user', 'content': 'h'}]},\n",
       " {'metadata': {'occupation_skill_pair': 'Python Developer > First Timer',\n",
       "   'compatible_area_of_focus': 'Interview preparation - User asks AI help to take an Interview. AI takes an interview',\n",
       "   'type': 'query',\n",
       "   'difficulty': 'Easy',\n",
       "   'target_length': 1},\n",
       "  'messages': [{'role': 'user', 'content': 'o'}]},\n",
       " {'metadata': {'occupation_skill_pair': 'Python Developer > First Timer',\n",
       "   'compatible_area_of_focus': 'Interview preparation - User asks AI help to take an Interview. AI takes an interview',\n",
       "   'type': 'query',\n",
       "   'difficulty': 'Easy',\n",
       "   'target_length': 1},\n",
       "  'messages': [{'role': 'user', 'content': 'n'}]},\n",
       " {'metadata': {'occupation_skill_pair': 'Python Developer > First Timer',\n",
       "   'compatible_area_of_focus': 'Interview preparation - User asks AI help to take an Interview. AI takes an interview',\n",
       "   'type': 'query',\n",
       "   'difficulty': 'Easy',\n",
       "   'target_length': 1},\n",
       "  'messages': [{'role': 'user', 'content': ' '}]},\n",
       " {'metadata': {'occupation_skill_pair': 'Python Developer > First Timer',\n",
       "   'compatible_area_of_focus': 'Interview preparation - User asks AI help to take an Interview. AI takes an interview',\n",
       "   'type': 'query',\n",
       "   'difficulty': 'Easy',\n",
       "   'target_length': 1},\n",
       "  'messages': [{'role': 'user', 'content': 'D'}]},\n",
       " {'metadata': {'occupation_skill_pair': 'Python Developer > First Timer',\n",
       "   'compatible_area_of_focus': 'Interview preparation - User asks AI help to take an Interview. AI takes an interview',\n",
       "   'type': 'query',\n",
       "   'difficulty': 'Easy',\n",
       "   'target_length': 1},\n",
       "  'messages': [{'role': 'user', 'content': 'e'}]},\n",
       " {'metadata': {'occupation_skill_pair': 'Python Developer > First Timer',\n",
       "   'compatible_area_of_focus': 'Interview preparation - User asks AI help to take an Interview. AI takes an interview',\n",
       "   'type': 'query',\n",
       "   'difficulty': 'Easy',\n",
       "   'target_length': 1},\n",
       "  'messages': [{'role': 'user', 'content': 'v'}]},\n",
       " {'metadata': {'occupation_skill_pair': 'Python Developer > First Timer',\n",
       "   'compatible_area_of_focus': 'Interview preparation - User asks AI help to take an Interview. AI takes an interview',\n",
       "   'type': 'query',\n",
       "   'difficulty': 'Easy',\n",
       "   'target_length': 1},\n",
       "  'messages': [{'role': 'user', 'content': 'e'}]},\n",
       " {'metadata': {'occupation_skill_pair': 'Python Developer > First Timer',\n",
       "   'compatible_area_of_focus': 'Interview preparation - User asks AI help to take an Interview. AI takes an interview',\n",
       "   'type': 'query',\n",
       "   'difficulty': 'Easy',\n",
       "   'target_length': 1},\n",
       "  'messages': [{'role': 'user', 'content': 'l'}]},\n",
       " {'metadata': {'occupation_skill_pair': 'Python Developer > First Timer',\n",
       "   'compatible_area_of_focus': 'Interview preparation - User asks AI help to take an Interview. AI takes an interview',\n",
       "   'type': 'query',\n",
       "   'difficulty': 'Easy',\n",
       "   'target_length': 1},\n",
       "  'messages': [{'role': 'user', 'content': 'o'}]},\n",
       " {'metadata': {'occupation_skill_pair': 'Python Developer > First Timer',\n",
       "   'compatible_area_of_focus': 'Interview preparation - User asks AI help to take an Interview. AI takes an interview',\n",
       "   'type': 'query',\n",
       "   'difficulty': 'Easy',\n",
       "   'target_length': 1},\n",
       "  'messages': [{'role': 'user', 'content': 'p'}]},\n",
       " {'metadata': {'occupation_skill_pair': 'Python Developer > First Timer',\n",
       "   'compatible_area_of_focus': 'Interview preparation - User asks AI help to take an Interview. AI takes an interview',\n",
       "   'type': 'query',\n",
       "   'difficulty': 'Easy',\n",
       "   'target_length': 1},\n",
       "  'messages': [{'role': 'user', 'content': 'e'}]},\n",
       " {'metadata': {'occupation_skill_pair': 'Python Developer > First Timer',\n",
       "   'compatible_area_of_focus': 'Interview preparation - User asks AI help to take an Interview. AI takes an interview',\n",
       "   'type': 'query',\n",
       "   'difficulty': 'Easy',\n",
       "   'target_length': 1},\n",
       "  'messages': [{'role': 'user', 'content': 'r'}]},\n",
       " {'metadata': {'occupation_skill_pair': 'Python Developer > First Timer',\n",
       "   'compatible_area_of_focus': 'Interview preparation - User asks AI help to take an Interview. AI takes an interview',\n",
       "   'type': 'query',\n",
       "   'difficulty': 'Easy',\n",
       "   'target_length': 1},\n",
       "  'messages': [{'role': 'user', 'content': ' '}]},\n",
       " {'metadata': {'occupation_skill_pair': 'Python Developer > First Timer',\n",
       "   'compatible_area_of_focus': 'Interview preparation - User asks AI help to take an Interview. AI takes an interview',\n",
       "   'type': 'query',\n",
       "   'difficulty': 'Easy',\n",
       "   'target_length': 1},\n",
       "  'messages': [{'role': 'user', 'content': '>'}]},\n",
       " {'metadata': {'occupation_skill_pair': 'Python Developer > First Timer',\n",
       "   'compatible_area_of_focus': 'Interview preparation - User asks AI help to take an Interview. AI takes an interview',\n",
       "   'type': 'query',\n",
       "   'difficulty': 'Easy',\n",
       "   'target_length': 1},\n",
       "  'messages': [{'role': 'user', 'content': ' '}]},\n",
       " {'metadata': {'occupation_skill_pair': 'Python Developer > First Timer',\n",
       "   'compatible_area_of_focus': 'Interview preparation - User asks AI help to take an Interview. AI takes an interview',\n",
       "   'type': 'query',\n",
       "   'difficulty': 'Easy',\n",
       "   'target_length': 1},\n",
       "  'messages': [{'role': 'user', 'content': 'F'}]},\n",
       " {'metadata': {'occupation_skill_pair': 'Python Developer > First Timer',\n",
       "   'compatible_area_of_focus': 'Interview preparation - User asks AI help to take an Interview. AI takes an interview',\n",
       "   'type': 'query',\n",
       "   'difficulty': 'Easy',\n",
       "   'target_length': 1},\n",
       "  'messages': [{'role': 'user', 'content': 'i'}]},\n",
       " {'metadata': {'occupation_skill_pair': 'Python Developer > First Timer',\n",
       "   'compatible_area_of_focus': 'Interview preparation - User asks AI help to take an Interview. AI takes an interview',\n",
       "   'type': 'query',\n",
       "   'difficulty': 'Easy',\n",
       "   'target_length': 1},\n",
       "  'messages': [{'role': 'user', 'content': 'r'}]},\n",
       " {'metadata': {'occupation_skill_pair': 'Python Developer > First Timer',\n",
       "   'compatible_area_of_focus': 'Interview preparation - User asks AI help to take an Interview. AI takes an interview',\n",
       "   'type': 'query',\n",
       "   'difficulty': 'Easy',\n",
       "   'target_length': 1},\n",
       "  'messages': [{'role': 'user', 'content': 's'}]},\n",
       " {'metadata': {'occupation_skill_pair': 'Python Developer > First Timer',\n",
       "   'compatible_area_of_focus': 'Interview preparation - User asks AI help to take an Interview. AI takes an interview',\n",
       "   'type': 'query',\n",
       "   'difficulty': 'Easy',\n",
       "   'target_length': 1},\n",
       "  'messages': [{'role': 'user', 'content': 't'}]},\n",
       " {'metadata': {'occupation_skill_pair': 'Python Developer > First Timer',\n",
       "   'compatible_area_of_focus': 'Interview preparation - User asks AI help to take an Interview. AI takes an interview',\n",
       "   'type': 'query',\n",
       "   'difficulty': 'Easy',\n",
       "   'target_length': 1},\n",
       "  'messages': [{'role': 'user', 'content': ' '}]},\n",
       " {'metadata': {'occupation_skill_pair': 'Python Developer > First Timer',\n",
       "   'compatible_area_of_focus': 'Interview preparation - User asks AI help to take an Interview. AI takes an interview',\n",
       "   'type': 'query',\n",
       "   'difficulty': 'Easy',\n",
       "   'target_length': 1},\n",
       "  'messages': [{'role': 'user', 'content': 'T'}]},\n",
       " {'metadata': {'occupation_skill_pair': 'Python Developer > First Timer',\n",
       "   'compatible_area_of_focus': 'Interview preparation - User asks AI help to take an Interview. AI takes an interview',\n",
       "   'type': 'query',\n",
       "   'difficulty': 'Easy',\n",
       "   'target_length': 1},\n",
       "  'messages': [{'role': 'user', 'content': 'i'}]},\n",
       " {'metadata': {'occupation_skill_pair': 'Python Developer > First Timer',\n",
       "   'compatible_area_of_focus': 'Interview preparation - User asks AI help to take an Interview. AI takes an interview',\n",
       "   'type': 'query',\n",
       "   'difficulty': 'Easy',\n",
       "   'target_length': 1},\n",
       "  'messages': [{'role': 'user', 'content': 'm'}]},\n",
       " {'metadata': {'occupation_skill_pair': 'Python Developer > First Timer',\n",
       "   'compatible_area_of_focus': 'Interview preparation - User asks AI help to take an Interview. AI takes an interview',\n",
       "   'type': 'query',\n",
       "   'difficulty': 'Easy',\n",
       "   'target_length': 1},\n",
       "  'messages': [{'role': 'user', 'content': 'e'}]},\n",
       " {'metadata': {'occupation_skill_pair': 'Python Developer > First Timer',\n",
       "   'compatible_area_of_focus': 'Interview preparation - User asks AI help to take an Interview. AI takes an interview',\n",
       "   'type': 'query',\n",
       "   'difficulty': 'Easy',\n",
       "   'target_length': 1},\n",
       "  'messages': [{'role': 'user', 'content': 'r'}]},\n",
       " {'metadata': {'occupation_skill_pair': 'Python Developer > First Timer',\n",
       "   'compatible_area_of_focus': 'Debugging and Troubleshooting - Debug error trace',\n",
       "   'type': 'query',\n",
       "   'difficulty': 'Easy',\n",
       "   'target_length': 1},\n",
       "  'messages': [{'role': 'user', 'content': 'P'}]},\n",
       " {'metadata': {'occupation_skill_pair': 'Python Developer > First Timer',\n",
       "   'compatible_area_of_focus': 'Debugging and Troubleshooting - Debug error trace',\n",
       "   'type': 'query',\n",
       "   'difficulty': 'Easy',\n",
       "   'target_length': 1},\n",
       "  'messages': [{'role': 'user', 'content': 'y'}]},\n",
       " {'metadata': {'occupation_skill_pair': 'Python Developer > First Timer',\n",
       "   'compatible_area_of_focus': 'Debugging and Troubleshooting - Debug error trace',\n",
       "   'type': 'query',\n",
       "   'difficulty': 'Easy',\n",
       "   'target_length': 1},\n",
       "  'messages': [{'role': 'user', 'content': 't'}]},\n",
       " {'metadata': {'occupation_skill_pair': 'Python Developer > First Timer',\n",
       "   'compatible_area_of_focus': 'Debugging and Troubleshooting - Debug error trace',\n",
       "   'type': 'query',\n",
       "   'difficulty': 'Easy',\n",
       "   'target_length': 1},\n",
       "  'messages': [{'role': 'user', 'content': 'h'}]},\n",
       " {'metadata': {'occupation_skill_pair': 'Python Developer > First Timer',\n",
       "   'compatible_area_of_focus': 'Debugging and Troubleshooting - Debug error trace',\n",
       "   'type': 'query',\n",
       "   'difficulty': 'Easy',\n",
       "   'target_length': 1},\n",
       "  'messages': [{'role': 'user', 'content': 'o'}]},\n",
       " {'metadata': {'occupation_skill_pair': 'Python Developer > First Timer',\n",
       "   'compatible_area_of_focus': 'Debugging and Troubleshooting - Debug error trace',\n",
       "   'type': 'query',\n",
       "   'difficulty': 'Easy',\n",
       "   'target_length': 1},\n",
       "  'messages': [{'role': 'user', 'content': 'n'}]},\n",
       " {'metadata': {'occupation_skill_pair': 'Python Developer > First Timer',\n",
       "   'compatible_area_of_focus': 'Debugging and Troubleshooting - Debug error trace',\n",
       "   'type': 'query',\n",
       "   'difficulty': 'Easy',\n",
       "   'target_length': 1},\n",
       "  'messages': [{'role': 'user', 'content': ' '}]},\n",
       " {'metadata': {'occupation_skill_pair': 'Python Developer > First Timer',\n",
       "   'compatible_area_of_focus': 'Debugging and Troubleshooting - Debug error trace',\n",
       "   'type': 'query',\n",
       "   'difficulty': 'Easy',\n",
       "   'target_length': 1},\n",
       "  'messages': [{'role': 'user', 'content': 'D'}]},\n",
       " {'metadata': {'occupation_skill_pair': 'Python Developer > First Timer',\n",
       "   'compatible_area_of_focus': 'Debugging and Troubleshooting - Debug error trace',\n",
       "   'type': 'query',\n",
       "   'difficulty': 'Easy',\n",
       "   'target_length': 1},\n",
       "  'messages': [{'role': 'user', 'content': 'e'}]},\n",
       " {'metadata': {'occupation_skill_pair': 'Python Developer > First Timer',\n",
       "   'compatible_area_of_focus': 'Debugging and Troubleshooting - Debug error trace',\n",
       "   'type': 'query',\n",
       "   'difficulty': 'Easy',\n",
       "   'target_length': 1},\n",
       "  'messages': [{'role': 'user', 'content': 'v'}]},\n",
       " {'metadata': {'occupation_skill_pair': 'Python Developer > First Timer',\n",
       "   'compatible_area_of_focus': 'Debugging and Troubleshooting - Debug error trace',\n",
       "   'type': 'query',\n",
       "   'difficulty': 'Easy',\n",
       "   'target_length': 1},\n",
       "  'messages': [{'role': 'user', 'content': 'e'}]},\n",
       " {'metadata': {'occupation_skill_pair': 'Python Developer > First Timer',\n",
       "   'compatible_area_of_focus': 'Debugging and Troubleshooting - Debug error trace',\n",
       "   'type': 'query',\n",
       "   'difficulty': 'Easy',\n",
       "   'target_length': 1},\n",
       "  'messages': [{'role': 'user', 'content': 'l'}]},\n",
       " {'metadata': {'occupation_skill_pair': 'Python Developer > First Timer',\n",
       "   'compatible_area_of_focus': 'Debugging and Troubleshooting - Debug error trace',\n",
       "   'type': 'query',\n",
       "   'difficulty': 'Easy',\n",
       "   'target_length': 1},\n",
       "  'messages': [{'role': 'user', 'content': 'o'}]},\n",
       " {'metadata': {'occupation_skill_pair': 'Python Developer > First Timer',\n",
       "   'compatible_area_of_focus': 'Debugging and Troubleshooting - Debug error trace',\n",
       "   'type': 'query',\n",
       "   'difficulty': 'Easy',\n",
       "   'target_length': 1},\n",
       "  'messages': [{'role': 'user', 'content': 'p'}]},\n",
       " {'metadata': {'occupation_skill_pair': 'Python Developer > First Timer',\n",
       "   'compatible_area_of_focus': 'Debugging and Troubleshooting - Debug error trace',\n",
       "   'type': 'query',\n",
       "   'difficulty': 'Easy',\n",
       "   'target_length': 1},\n",
       "  'messages': [{'role': 'user', 'content': 'e'}]},\n",
       " {'metadata': {'occupation_skill_pair': 'Python Developer > First Timer',\n",
       "   'compatible_area_of_focus': 'Debugging and Troubleshooting - Debug error trace',\n",
       "   'type': 'query',\n",
       "   'difficulty': 'Easy',\n",
       "   'target_length': 1},\n",
       "  'messages': [{'role': 'user', 'content': 'r'}]},\n",
       " {'metadata': {'occupation_skill_pair': 'Python Developer > First Timer',\n",
       "   'compatible_area_of_focus': 'Debugging and Troubleshooting - Debug error trace',\n",
       "   'type': 'query',\n",
       "   'difficulty': 'Easy',\n",
       "   'target_length': 1},\n",
       "  'messages': [{'role': 'user', 'content': ' '}]},\n",
       " {'metadata': {'occupation_skill_pair': 'Python Developer > First Timer',\n",
       "   'compatible_area_of_focus': 'Debugging and Troubleshooting - Debug error trace',\n",
       "   'type': 'query',\n",
       "   'difficulty': 'Easy',\n",
       "   'target_length': 1},\n",
       "  'messages': [{'role': 'user', 'content': '>'}]},\n",
       " {'metadata': {'occupation_skill_pair': 'Python Developer > First Timer',\n",
       "   'compatible_area_of_focus': 'Debugging and Troubleshooting - Debug error trace',\n",
       "   'type': 'query',\n",
       "   'difficulty': 'Easy',\n",
       "   'target_length': 1},\n",
       "  'messages': [{'role': 'user', 'content': ' '}]},\n",
       " {'metadata': {'occupation_skill_pair': 'Python Developer > First Timer',\n",
       "   'compatible_area_of_focus': 'Debugging and Troubleshooting - Debug error trace',\n",
       "   'type': 'query',\n",
       "   'difficulty': 'Easy',\n",
       "   'target_length': 1},\n",
       "  'messages': [{'role': 'user', 'content': 'F'}]},\n",
       " {'metadata': {'occupation_skill_pair': 'Python Developer > First Timer',\n",
       "   'compatible_area_of_focus': 'Debugging and Troubleshooting - Debug error trace',\n",
       "   'type': 'query',\n",
       "   'difficulty': 'Easy',\n",
       "   'target_length': 1},\n",
       "  'messages': [{'role': 'user', 'content': 'i'}]},\n",
       " {'metadata': {'occupation_skill_pair': 'Python Developer > First Timer',\n",
       "   'compatible_area_of_focus': 'Debugging and Troubleshooting - Debug error trace',\n",
       "   'type': 'query',\n",
       "   'difficulty': 'Easy',\n",
       "   'target_length': 1},\n",
       "  'messages': [{'role': 'user', 'content': 'r'}]},\n",
       " {'metadata': {'occupation_skill_pair': 'Python Developer > First Timer',\n",
       "   'compatible_area_of_focus': 'Debugging and Troubleshooting - Debug error trace',\n",
       "   'type': 'query',\n",
       "   'difficulty': 'Easy',\n",
       "   'target_length': 1},\n",
       "  'messages': [{'role': 'user', 'content': 's'}]},\n",
       " {'metadata': {'occupation_skill_pair': 'Python Developer > First Timer',\n",
       "   'compatible_area_of_focus': 'Debugging and Troubleshooting - Debug error trace',\n",
       "   'type': 'query',\n",
       "   'difficulty': 'Easy',\n",
       "   'target_length': 1},\n",
       "  'messages': [{'role': 'user', 'content': 't'}]},\n",
       " {'metadata': {'occupation_skill_pair': 'Python Developer > First Timer',\n",
       "   'compatible_area_of_focus': 'Debugging and Troubleshooting - Debug error trace',\n",
       "   'type': 'query',\n",
       "   'difficulty': 'Easy',\n",
       "   'target_length': 1},\n",
       "  'messages': [{'role': 'user', 'content': ' '}]},\n",
       " {'metadata': {'occupation_skill_pair': 'Python Developer > First Timer',\n",
       "   'compatible_area_of_focus': 'Debugging and Troubleshooting - Debug error trace',\n",
       "   'type': 'query',\n",
       "   'difficulty': 'Easy',\n",
       "   'target_length': 1},\n",
       "  'messages': [{'role': 'user', 'content': 'T'}]},\n",
       " {'metadata': {'occupation_skill_pair': 'Python Developer > First Timer',\n",
       "   'compatible_area_of_focus': 'Debugging and Troubleshooting - Debug error trace',\n",
       "   'type': 'query',\n",
       "   'difficulty': 'Easy',\n",
       "   'target_length': 1},\n",
       "  'messages': [{'role': 'user', 'content': 'i'}]},\n",
       " {'metadata': {'occupation_skill_pair': 'Python Developer > First Timer',\n",
       "   'compatible_area_of_focus': 'Debugging and Troubleshooting - Debug error trace',\n",
       "   'type': 'query',\n",
       "   'difficulty': 'Easy',\n",
       "   'target_length': 1},\n",
       "  'messages': [{'role': 'user', 'content': 'm'}]},\n",
       " {'metadata': {'occupation_skill_pair': 'Python Developer > First Timer',\n",
       "   'compatible_area_of_focus': 'Debugging and Troubleshooting - Debug error trace',\n",
       "   'type': 'query',\n",
       "   'difficulty': 'Easy',\n",
       "   'target_length': 1},\n",
       "  'messages': [{'role': 'user', 'content': 'e'}]},\n",
       " {'metadata': {'occupation_skill_pair': 'Python Developer > First Timer',\n",
       "   'compatible_area_of_focus': 'Debugging and Troubleshooting - Debug error trace',\n",
       "   'type': 'query',\n",
       "   'difficulty': 'Easy',\n",
       "   'target_length': 1},\n",
       "  'messages': [{'role': 'user', 'content': 'r'}]},\n",
       " {'metadata': {'occupation_skill_pair': 'Python Developer > First Timer',\n",
       "   'compatible_area_of_focus': 'Learning - Learn to program',\n",
       "   'type': 'query',\n",
       "   'difficulty': 'Easy',\n",
       "   'target_length': 1},\n",
       "  'messages': [{'role': 'user', 'content': 'P'}]},\n",
       " {'metadata': {'occupation_skill_pair': 'Python Developer > First Timer',\n",
       "   'compatible_area_of_focus': 'Learning - Learn to program',\n",
       "   'type': 'query',\n",
       "   'difficulty': 'Easy',\n",
       "   'target_length': 1},\n",
       "  'messages': [{'role': 'user', 'content': 'y'}]},\n",
       " {'metadata': {'occupation_skill_pair': 'Python Developer > First Timer',\n",
       "   'compatible_area_of_focus': 'Learning - Learn to program',\n",
       "   'type': 'query',\n",
       "   'difficulty': 'Easy',\n",
       "   'target_length': 1},\n",
       "  'messages': [{'role': 'user', 'content': 't'}]},\n",
       " {'metadata': {'occupation_skill_pair': 'Python Developer > First Timer',\n",
       "   'compatible_area_of_focus': 'Learning - Learn to program',\n",
       "   'type': 'query',\n",
       "   'difficulty': 'Easy',\n",
       "   'target_length': 1},\n",
       "  'messages': [{'role': 'user', 'content': 'h'}]},\n",
       " {'metadata': {'occupation_skill_pair': 'Python Developer > First Timer',\n",
       "   'compatible_area_of_focus': 'Learning - Learn to program',\n",
       "   'type': 'query',\n",
       "   'difficulty': 'Easy',\n",
       "   'target_length': 1},\n",
       "  'messages': [{'role': 'user', 'content': 'o'}]},\n",
       " {'metadata': {'occupation_skill_pair': 'Python Developer > First Timer',\n",
       "   'compatible_area_of_focus': 'Learning - Learn to program',\n",
       "   'type': 'query',\n",
       "   'difficulty': 'Easy',\n",
       "   'target_length': 1},\n",
       "  'messages': [{'role': 'user', 'content': 'n'}]},\n",
       " {'metadata': {'occupation_skill_pair': 'Python Developer > First Timer',\n",
       "   'compatible_area_of_focus': 'Learning - Learn to program',\n",
       "   'type': 'query',\n",
       "   'difficulty': 'Easy',\n",
       "   'target_length': 1},\n",
       "  'messages': [{'role': 'user', 'content': ' '}]},\n",
       " {'metadata': {'occupation_skill_pair': 'Python Developer > First Timer',\n",
       "   'compatible_area_of_focus': 'Learning - Learn to program',\n",
       "   'type': 'query',\n",
       "   'difficulty': 'Easy',\n",
       "   'target_length': 1},\n",
       "  'messages': [{'role': 'user', 'content': 'D'}]},\n",
       " {'metadata': {'occupation_skill_pair': 'Python Developer > First Timer',\n",
       "   'compatible_area_of_focus': 'Learning - Learn to program',\n",
       "   'type': 'query',\n",
       "   'difficulty': 'Easy',\n",
       "   'target_length': 1},\n",
       "  'messages': [{'role': 'user', 'content': 'e'}]},\n",
       " {'metadata': {'occupation_skill_pair': 'Python Developer > First Timer',\n",
       "   'compatible_area_of_focus': 'Learning - Learn to program',\n",
       "   'type': 'query',\n",
       "   'difficulty': 'Easy',\n",
       "   'target_length': 1},\n",
       "  'messages': [{'role': 'user', 'content': 'v'}]},\n",
       " {'metadata': {'occupation_skill_pair': 'Python Developer > First Timer',\n",
       "   'compatible_area_of_focus': 'Learning - Learn to program',\n",
       "   'type': 'query',\n",
       "   'difficulty': 'Easy',\n",
       "   'target_length': 1},\n",
       "  'messages': [{'role': 'user', 'content': 'e'}]},\n",
       " {'metadata': {'occupation_skill_pair': 'Python Developer > First Timer',\n",
       "   'compatible_area_of_focus': 'Learning - Learn to program',\n",
       "   'type': 'query',\n",
       "   'difficulty': 'Easy',\n",
       "   'target_length': 1},\n",
       "  'messages': [{'role': 'user', 'content': 'l'}]},\n",
       " {'metadata': {'occupation_skill_pair': 'Python Developer > First Timer',\n",
       "   'compatible_area_of_focus': 'Learning - Learn to program',\n",
       "   'type': 'query',\n",
       "   'difficulty': 'Easy',\n",
       "   'target_length': 1},\n",
       "  'messages': [{'role': 'user', 'content': 'o'}]},\n",
       " {'metadata': {'occupation_skill_pair': 'Python Developer > First Timer',\n",
       "   'compatible_area_of_focus': 'Learning - Learn to program',\n",
       "   'type': 'query',\n",
       "   'difficulty': 'Easy',\n",
       "   'target_length': 1},\n",
       "  'messages': [{'role': 'user', 'content': 'p'}]},\n",
       " {'metadata': {'occupation_skill_pair': 'Python Developer > First Timer',\n",
       "   'compatible_area_of_focus': 'Learning - Learn to program',\n",
       "   'type': 'query',\n",
       "   'difficulty': 'Easy',\n",
       "   'target_length': 1},\n",
       "  'messages': [{'role': 'user', 'content': 'e'}]},\n",
       " {'metadata': {'occupation_skill_pair': 'Python Developer > First Timer',\n",
       "   'compatible_area_of_focus': 'Learning - Learn to program',\n",
       "   'type': 'query',\n",
       "   'difficulty': 'Easy',\n",
       "   'target_length': 1},\n",
       "  'messages': [{'role': 'user', 'content': 'r'}]},\n",
       " {'metadata': {'occupation_skill_pair': 'Python Developer > First Timer',\n",
       "   'compatible_area_of_focus': 'Learning - Learn to program',\n",
       "   'type': 'query',\n",
       "   'difficulty': 'Easy',\n",
       "   'target_length': 1},\n",
       "  'messages': [{'role': 'user', 'content': ' '}]},\n",
       " {'metadata': {'occupation_skill_pair': 'Python Developer > First Timer',\n",
       "   'compatible_area_of_focus': 'Learning - Learn to program',\n",
       "   'type': 'query',\n",
       "   'difficulty': 'Easy',\n",
       "   'target_length': 1},\n",
       "  'messages': [{'role': 'user', 'content': '>'}]},\n",
       " {'metadata': {'occupation_skill_pair': 'Python Developer > First Timer',\n",
       "   'compatible_area_of_focus': 'Learning - Learn to program',\n",
       "   'type': 'query',\n",
       "   'difficulty': 'Easy',\n",
       "   'target_length': 1},\n",
       "  'messages': [{'role': 'user', 'content': ' '}]},\n",
       " {'metadata': {'occupation_skill_pair': 'Python Developer > First Timer',\n",
       "   'compatible_area_of_focus': 'Learning - Learn to program',\n",
       "   'type': 'query',\n",
       "   'difficulty': 'Easy',\n",
       "   'target_length': 1},\n",
       "  'messages': [{'role': 'user', 'content': 'F'}]},\n",
       " {'metadata': {'occupation_skill_pair': 'Python Developer > First Timer',\n",
       "   'compatible_area_of_focus': 'Learning - Learn to program',\n",
       "   'type': 'query',\n",
       "   'difficulty': 'Easy',\n",
       "   'target_length': 1},\n",
       "  'messages': [{'role': 'user', 'content': 'i'}]},\n",
       " {'metadata': {'occupation_skill_pair': 'Python Developer > First Timer',\n",
       "   'compatible_area_of_focus': 'Learning - Learn to program',\n",
       "   'type': 'query',\n",
       "   'difficulty': 'Easy',\n",
       "   'target_length': 1},\n",
       "  'messages': [{'role': 'user', 'content': 'r'}]},\n",
       " {'metadata': {'occupation_skill_pair': 'Python Developer > First Timer',\n",
       "   'compatible_area_of_focus': 'Learning - Learn to program',\n",
       "   'type': 'query',\n",
       "   'difficulty': 'Easy',\n",
       "   'target_length': 1},\n",
       "  'messages': [{'role': 'user', 'content': 's'}]},\n",
       " {'metadata': {'occupation_skill_pair': 'Python Developer > First Timer',\n",
       "   'compatible_area_of_focus': 'Learning - Learn to program',\n",
       "   'type': 'query',\n",
       "   'difficulty': 'Easy',\n",
       "   'target_length': 1},\n",
       "  'messages': [{'role': 'user', 'content': 't'}]},\n",
       " {'metadata': {'occupation_skill_pair': 'Python Developer > First Timer',\n",
       "   'compatible_area_of_focus': 'Learning - Learn to program',\n",
       "   'type': 'query',\n",
       "   'difficulty': 'Easy',\n",
       "   'target_length': 1},\n",
       "  'messages': [{'role': 'user', 'content': ' '}]},\n",
       " {'metadata': {'occupation_skill_pair': 'Python Developer > First Timer',\n",
       "   'compatible_area_of_focus': 'Learning - Learn to program',\n",
       "   'type': 'query',\n",
       "   'difficulty': 'Easy',\n",
       "   'target_length': 1},\n",
       "  'messages': [{'role': 'user', 'content': 'T'}]},\n",
       " {'metadata': {'occupation_skill_pair': 'Python Developer > First Timer',\n",
       "   'compatible_area_of_focus': 'Learning - Learn to program',\n",
       "   'type': 'query',\n",
       "   'difficulty': 'Easy',\n",
       "   'target_length': 1},\n",
       "  'messages': [{'role': 'user', 'content': 'i'}]},\n",
       " {'metadata': {'occupation_skill_pair': 'Python Developer > First Timer',\n",
       "   'compatible_area_of_focus': 'Learning - Learn to program',\n",
       "   'type': 'query',\n",
       "   'difficulty': 'Easy',\n",
       "   'target_length': 1},\n",
       "  'messages': [{'role': 'user', 'content': 'm'}]},\n",
       " {'metadata': {'occupation_skill_pair': 'Python Developer > First Timer',\n",
       "   'compatible_area_of_focus': 'Learning - Learn to program',\n",
       "   'type': 'query',\n",
       "   'difficulty': 'Easy',\n",
       "   'target_length': 1},\n",
       "  'messages': [{'role': 'user', 'content': 'e'}]},\n",
       " {'metadata': {'occupation_skill_pair': 'Python Developer > First Timer',\n",
       "   'compatible_area_of_focus': 'Learning - Learn to program',\n",
       "   'type': 'query',\n",
       "   'difficulty': 'Easy',\n",
       "   'target_length': 1},\n",
       "  'messages': [{'role': 'user', 'content': 'r'}]},\n",
       " {'metadata': {'occupation_skill_pair': 'Python Developer > First Timer',\n",
       "   'compatible_area_of_focus': 'Learning - Learn to use some tool / infra',\n",
       "   'type': 'query',\n",
       "   'difficulty': 'Easy',\n",
       "   'target_length': 1},\n",
       "  'messages': [{'role': 'user', 'content': 'P'}]},\n",
       " {'metadata': {'occupation_skill_pair': 'Python Developer > First Timer',\n",
       "   'compatible_area_of_focus': 'Learning - Learn to use some tool / infra',\n",
       "   'type': 'query',\n",
       "   'difficulty': 'Easy',\n",
       "   'target_length': 1},\n",
       "  'messages': [{'role': 'user', 'content': 'y'}]},\n",
       " {'metadata': {'occupation_skill_pair': 'Python Developer > First Timer',\n",
       "   'compatible_area_of_focus': 'Learning - Learn to use some tool / infra',\n",
       "   'type': 'query',\n",
       "   'difficulty': 'Easy',\n",
       "   'target_length': 1},\n",
       "  'messages': [{'role': 'user', 'content': 't'}]},\n",
       " {'metadata': {'occupation_skill_pair': 'Python Developer > First Timer',\n",
       "   'compatible_area_of_focus': 'Learning - Learn to use some tool / infra',\n",
       "   'type': 'query',\n",
       "   'difficulty': 'Easy',\n",
       "   'target_length': 1},\n",
       "  'messages': [{'role': 'user', 'content': 'h'}]},\n",
       " {'metadata': {'occupation_skill_pair': 'Python Developer > First Timer',\n",
       "   'compatible_area_of_focus': 'Learning - Learn to use some tool / infra',\n",
       "   'type': 'query',\n",
       "   'difficulty': 'Easy',\n",
       "   'target_length': 1},\n",
       "  'messages': [{'role': 'user', 'content': 'o'}]},\n",
       " {'metadata': {'occupation_skill_pair': 'Python Developer > First Timer',\n",
       "   'compatible_area_of_focus': 'Learning - Learn to use some tool / infra',\n",
       "   'type': 'query',\n",
       "   'difficulty': 'Easy',\n",
       "   'target_length': 1},\n",
       "  'messages': [{'role': 'user', 'content': 'n'}]},\n",
       " {'metadata': {'occupation_skill_pair': 'Python Developer > First Timer',\n",
       "   'compatible_area_of_focus': 'Learning - Learn to use some tool / infra',\n",
       "   'type': 'query',\n",
       "   'difficulty': 'Easy',\n",
       "   'target_length': 1},\n",
       "  'messages': [{'role': 'user', 'content': ' '}]},\n",
       " {'metadata': {'occupation_skill_pair': 'Python Developer > First Timer',\n",
       "   'compatible_area_of_focus': 'Learning - Learn to use some tool / infra',\n",
       "   'type': 'query',\n",
       "   'difficulty': 'Easy',\n",
       "   'target_length': 1},\n",
       "  'messages': [{'role': 'user', 'content': 'D'}]},\n",
       " {'metadata': {'occupation_skill_pair': 'Python Developer > First Timer',\n",
       "   'compatible_area_of_focus': 'Learning - Learn to use some tool / infra',\n",
       "   'type': 'query',\n",
       "   'difficulty': 'Easy',\n",
       "   'target_length': 1},\n",
       "  'messages': [{'role': 'user', 'content': 'e'}]},\n",
       " {'metadata': {'occupation_skill_pair': 'Python Developer > First Timer',\n",
       "   'compatible_area_of_focus': 'Learning - Learn to use some tool / infra',\n",
       "   'type': 'query',\n",
       "   'difficulty': 'Easy',\n",
       "   'target_length': 1},\n",
       "  'messages': [{'role': 'user', 'content': 'v'}]},\n",
       " {'metadata': {'occupation_skill_pair': 'Python Developer > First Timer',\n",
       "   'compatible_area_of_focus': 'Learning - Learn to use some tool / infra',\n",
       "   'type': 'query',\n",
       "   'difficulty': 'Easy',\n",
       "   'target_length': 1},\n",
       "  'messages': [{'role': 'user', 'content': 'e'}]},\n",
       " {'metadata': {'occupation_skill_pair': 'Python Developer > First Timer',\n",
       "   'compatible_area_of_focus': 'Learning - Learn to use some tool / infra',\n",
       "   'type': 'query',\n",
       "   'difficulty': 'Easy',\n",
       "   'target_length': 1},\n",
       "  'messages': [{'role': 'user', 'content': 'l'}]},\n",
       " {'metadata': {'occupation_skill_pair': 'Python Developer > First Timer',\n",
       "   'compatible_area_of_focus': 'Learning - Learn to use some tool / infra',\n",
       "   'type': 'query',\n",
       "   'difficulty': 'Easy',\n",
       "   'target_length': 1},\n",
       "  'messages': [{'role': 'user', 'content': 'o'}]},\n",
       " {'metadata': {'occupation_skill_pair': 'Python Developer > First Timer',\n",
       "   'compatible_area_of_focus': 'Learning - Learn to use some tool / infra',\n",
       "   'type': 'query',\n",
       "   'difficulty': 'Easy',\n",
       "   'target_length': 1},\n",
       "  'messages': [{'role': 'user', 'content': 'p'}]},\n",
       " {'metadata': {'occupation_skill_pair': 'Python Developer > First Timer',\n",
       "   'compatible_area_of_focus': 'Learning - Learn to use some tool / infra',\n",
       "   'type': 'query',\n",
       "   'difficulty': 'Easy',\n",
       "   'target_length': 1},\n",
       "  'messages': [{'role': 'user', 'content': 'e'}]},\n",
       " {'metadata': {'occupation_skill_pair': 'Python Developer > First Timer',\n",
       "   'compatible_area_of_focus': 'Learning - Learn to use some tool / infra',\n",
       "   'type': 'query',\n",
       "   'difficulty': 'Easy',\n",
       "   'target_length': 1},\n",
       "  'messages': [{'role': 'user', 'content': 'r'}]},\n",
       " {'metadata': {'occupation_skill_pair': 'Python Developer > First Timer',\n",
       "   'compatible_area_of_focus': 'Learning - Learn to use some tool / infra',\n",
       "   'type': 'query',\n",
       "   'difficulty': 'Easy',\n",
       "   'target_length': 1},\n",
       "  'messages': [{'role': 'user', 'content': ' '}]},\n",
       " {'metadata': {'occupation_skill_pair': 'Python Developer > First Timer',\n",
       "   'compatible_area_of_focus': 'Learning - Learn to use some tool / infra',\n",
       "   'type': 'query',\n",
       "   'difficulty': 'Easy',\n",
       "   'target_length': 1},\n",
       "  'messages': [{'role': 'user', 'content': '>'}]},\n",
       " {'metadata': {'occupation_skill_pair': 'Python Developer > First Timer',\n",
       "   'compatible_area_of_focus': 'Learning - Learn to use some tool / infra',\n",
       "   'type': 'query',\n",
       "   'difficulty': 'Easy',\n",
       "   'target_length': 1},\n",
       "  'messages': [{'role': 'user', 'content': ' '}]},\n",
       " {'metadata': {'occupation_skill_pair': 'Python Developer > First Timer',\n",
       "   'compatible_area_of_focus': 'Learning - Learn to use some tool / infra',\n",
       "   'type': 'query',\n",
       "   'difficulty': 'Easy',\n",
       "   'target_length': 1},\n",
       "  'messages': [{'role': 'user', 'content': 'F'}]},\n",
       " {'metadata': {'occupation_skill_pair': 'Python Developer > First Timer',\n",
       "   'compatible_area_of_focus': 'Learning - Learn to use some tool / infra',\n",
       "   'type': 'query',\n",
       "   'difficulty': 'Easy',\n",
       "   'target_length': 1},\n",
       "  'messages': [{'role': 'user', 'content': 'i'}]},\n",
       " {'metadata': {'occupation_skill_pair': 'Python Developer > First Timer',\n",
       "   'compatible_area_of_focus': 'Learning - Learn to use some tool / infra',\n",
       "   'type': 'query',\n",
       "   'difficulty': 'Easy',\n",
       "   'target_length': 1},\n",
       "  'messages': [{'role': 'user', 'content': 'r'}]},\n",
       " {'metadata': {'occupation_skill_pair': 'Python Developer > First Timer',\n",
       "   'compatible_area_of_focus': 'Learning - Learn to use some tool / infra',\n",
       "   'type': 'query',\n",
       "   'difficulty': 'Easy',\n",
       "   'target_length': 1},\n",
       "  'messages': [{'role': 'user', 'content': 's'}]},\n",
       " {'metadata': {'occupation_skill_pair': 'Python Developer > First Timer',\n",
       "   'compatible_area_of_focus': 'Learning - Learn to use some tool / infra',\n",
       "   'type': 'query',\n",
       "   'difficulty': 'Easy',\n",
       "   'target_length': 1},\n",
       "  'messages': [{'role': 'user', 'content': 't'}]},\n",
       " {'metadata': {'occupation_skill_pair': 'Python Developer > First Timer',\n",
       "   'compatible_area_of_focus': 'Learning - Learn to use some tool / infra',\n",
       "   'type': 'query',\n",
       "   'difficulty': 'Easy',\n",
       "   'target_length': 1},\n",
       "  'messages': [{'role': 'user', 'content': ' '}]},\n",
       " {'metadata': {'occupation_skill_pair': 'Python Developer > First Timer',\n",
       "   'compatible_area_of_focus': 'Learning - Learn to use some tool / infra',\n",
       "   'type': 'query',\n",
       "   'difficulty': 'Easy',\n",
       "   'target_length': 1},\n",
       "  'messages': [{'role': 'user', 'content': 'T'}]},\n",
       " {'metadata': {'occupation_skill_pair': 'Python Developer > First Timer',\n",
       "   'compatible_area_of_focus': 'Learning - Learn to use some tool / infra',\n",
       "   'type': 'query',\n",
       "   'difficulty': 'Easy',\n",
       "   'target_length': 1},\n",
       "  'messages': [{'role': 'user', 'content': 'i'}]},\n",
       " {'metadata': {'occupation_skill_pair': 'Python Developer > First Timer',\n",
       "   'compatible_area_of_focus': 'Learning - Learn to use some tool / infra',\n",
       "   'type': 'query',\n",
       "   'difficulty': 'Easy',\n",
       "   'target_length': 1},\n",
       "  'messages': [{'role': 'user', 'content': 'm'}]},\n",
       " {'metadata': {'occupation_skill_pair': 'Python Developer > First Timer',\n",
       "   'compatible_area_of_focus': 'Learning - Learn to use some tool / infra',\n",
       "   'type': 'query',\n",
       "   'difficulty': 'Easy',\n",
       "   'target_length': 1},\n",
       "  'messages': [{'role': 'user', 'content': 'e'}]},\n",
       " {'metadata': {'occupation_skill_pair': 'Python Developer > First Timer',\n",
       "   'compatible_area_of_focus': 'Learning - Learn to use some tool / infra',\n",
       "   'type': 'query',\n",
       "   'difficulty': 'Easy',\n",
       "   'target_length': 1},\n",
       "  'messages': [{'role': 'user', 'content': 'r'}]},\n",
       " {'metadata': {'occupation_skill_pair': 'Python Developer > Beginner',\n",
       "   'compatible_area_of_focus': 'Basic scripting - Write simple code in Javascript',\n",
       "   'type': 'query',\n",
       "   'difficulty': 'Easy',\n",
       "   'target_length': 1},\n",
       "  'messages': [{'role': 'user', 'content': 'P'}]},\n",
       " {'metadata': {'occupation_skill_pair': 'Python Developer > Beginner',\n",
       "   'compatible_area_of_focus': 'Basic scripting - Write simple code in Javascript',\n",
       "   'type': 'query',\n",
       "   'difficulty': 'Easy',\n",
       "   'target_length': 1},\n",
       "  'messages': [{'role': 'user', 'content': 'y'}]},\n",
       " {'metadata': {'occupation_skill_pair': 'Python Developer > Beginner',\n",
       "   'compatible_area_of_focus': 'Basic scripting - Write simple code in Javascript',\n",
       "   'type': 'query',\n",
       "   'difficulty': 'Easy',\n",
       "   'target_length': 1},\n",
       "  'messages': [{'role': 'user', 'content': 't'}]},\n",
       " {'metadata': {'occupation_skill_pair': 'Python Developer > Beginner',\n",
       "   'compatible_area_of_focus': 'Basic scripting - Write simple code in Javascript',\n",
       "   'type': 'query',\n",
       "   'difficulty': 'Easy',\n",
       "   'target_length': 1},\n",
       "  'messages': [{'role': 'user', 'content': 'h'}]},\n",
       " {'metadata': {'occupation_skill_pair': 'Python Developer > Beginner',\n",
       "   'compatible_area_of_focus': 'Basic scripting - Write simple code in Javascript',\n",
       "   'type': 'query',\n",
       "   'difficulty': 'Easy',\n",
       "   'target_length': 1},\n",
       "  'messages': [{'role': 'user', 'content': 'o'}]},\n",
       " {'metadata': {'occupation_skill_pair': 'Python Developer > Beginner',\n",
       "   'compatible_area_of_focus': 'Basic scripting - Write simple code in Javascript',\n",
       "   'type': 'query',\n",
       "   'difficulty': 'Easy',\n",
       "   'target_length': 1},\n",
       "  'messages': [{'role': 'user', 'content': 'n'}]},\n",
       " {'metadata': {'occupation_skill_pair': 'Python Developer > Beginner',\n",
       "   'compatible_area_of_focus': 'Basic scripting - Write simple code in Javascript',\n",
       "   'type': 'query',\n",
       "   'difficulty': 'Easy',\n",
       "   'target_length': 1},\n",
       "  'messages': [{'role': 'user', 'content': ' '}]},\n",
       " {'metadata': {'occupation_skill_pair': 'Python Developer > Beginner',\n",
       "   'compatible_area_of_focus': 'Basic scripting - Write simple code in Javascript',\n",
       "   'type': 'query',\n",
       "   'difficulty': 'Easy',\n",
       "   'target_length': 1},\n",
       "  'messages': [{'role': 'user', 'content': 'D'}]},\n",
       " {'metadata': {'occupation_skill_pair': 'Python Developer > Beginner',\n",
       "   'compatible_area_of_focus': 'Basic scripting - Write simple code in Javascript',\n",
       "   'type': 'query',\n",
       "   'difficulty': 'Easy',\n",
       "   'target_length': 1},\n",
       "  'messages': [{'role': 'user', 'content': 'e'}]},\n",
       " {'metadata': {'occupation_skill_pair': 'Python Developer > Beginner',\n",
       "   'compatible_area_of_focus': 'Basic scripting - Write simple code in Javascript',\n",
       "   'type': 'query',\n",
       "   'difficulty': 'Easy',\n",
       "   'target_length': 1},\n",
       "  'messages': [{'role': 'user', 'content': 'v'}]},\n",
       " {'metadata': {'occupation_skill_pair': 'Python Developer > Beginner',\n",
       "   'compatible_area_of_focus': 'Basic scripting - Write simple code in Javascript',\n",
       "   'type': 'query',\n",
       "   'difficulty': 'Easy',\n",
       "   'target_length': 1},\n",
       "  'messages': [{'role': 'user', 'content': 'e'}]},\n",
       " {'metadata': {'occupation_skill_pair': 'Python Developer > Beginner',\n",
       "   'compatible_area_of_focus': 'Basic scripting - Write simple code in Javascript',\n",
       "   'type': 'query',\n",
       "   'difficulty': 'Easy',\n",
       "   'target_length': 1},\n",
       "  'messages': [{'role': 'user', 'content': 'l'}]},\n",
       " {'metadata': {'occupation_skill_pair': 'Python Developer > Beginner',\n",
       "   'compatible_area_of_focus': 'Basic scripting - Write simple code in Javascript',\n",
       "   'type': 'query',\n",
       "   'difficulty': 'Easy',\n",
       "   'target_length': 1},\n",
       "  'messages': [{'role': 'user', 'content': 'o'}]},\n",
       " {'metadata': {'occupation_skill_pair': 'Python Developer > Beginner',\n",
       "   'compatible_area_of_focus': 'Basic scripting - Write simple code in Javascript',\n",
       "   'type': 'query',\n",
       "   'difficulty': 'Easy',\n",
       "   'target_length': 1},\n",
       "  'messages': [{'role': 'user', 'content': 'p'}]},\n",
       " {'metadata': {'occupation_skill_pair': 'Python Developer > Beginner',\n",
       "   'compatible_area_of_focus': 'Basic scripting - Write simple code in Javascript',\n",
       "   'type': 'query',\n",
       "   'difficulty': 'Easy',\n",
       "   'target_length': 1},\n",
       "  'messages': [{'role': 'user', 'content': 'e'}]},\n",
       " {'metadata': {'occupation_skill_pair': 'Python Developer > Beginner',\n",
       "   'compatible_area_of_focus': 'Basic scripting - Write simple code in Javascript',\n",
       "   'type': 'query',\n",
       "   'difficulty': 'Easy',\n",
       "   'target_length': 1},\n",
       "  'messages': [{'role': 'user', 'content': 'r'}]},\n",
       " {'metadata': {'occupation_skill_pair': 'Python Developer > Beginner',\n",
       "   'compatible_area_of_focus': 'Basic scripting - Write simple code in Javascript',\n",
       "   'type': 'query',\n",
       "   'difficulty': 'Easy',\n",
       "   'target_length': 1},\n",
       "  'messages': [{'role': 'user', 'content': ' '}]},\n",
       " {'metadata': {'occupation_skill_pair': 'Python Developer > Beginner',\n",
       "   'compatible_area_of_focus': 'Basic scripting - Write simple code in Javascript',\n",
       "   'type': 'query',\n",
       "   'difficulty': 'Easy',\n",
       "   'target_length': 1},\n",
       "  'messages': [{'role': 'user', 'content': '>'}]},\n",
       " {'metadata': {'occupation_skill_pair': 'Python Developer > Beginner',\n",
       "   'compatible_area_of_focus': 'Basic scripting - Write simple code in Javascript',\n",
       "   'type': 'query',\n",
       "   'difficulty': 'Easy',\n",
       "   'target_length': 1},\n",
       "  'messages': [{'role': 'user', 'content': ' '}]},\n",
       " {'metadata': {'occupation_skill_pair': 'Python Developer > Beginner',\n",
       "   'compatible_area_of_focus': 'Basic scripting - Write simple code in Javascript',\n",
       "   'type': 'query',\n",
       "   'difficulty': 'Easy',\n",
       "   'target_length': 1},\n",
       "  'messages': [{'role': 'user', 'content': 'B'}]},\n",
       " {'metadata': {'occupation_skill_pair': 'Python Developer > Beginner',\n",
       "   'compatible_area_of_focus': 'Basic scripting - Write simple code in Javascript',\n",
       "   'type': 'query',\n",
       "   'difficulty': 'Easy',\n",
       "   'target_length': 1},\n",
       "  'messages': [{'role': 'user', 'content': 'e'}]},\n",
       " {'metadata': {'occupation_skill_pair': 'Python Developer > Beginner',\n",
       "   'compatible_area_of_focus': 'Basic scripting - Write simple code in Javascript',\n",
       "   'type': 'query',\n",
       "   'difficulty': 'Easy',\n",
       "   'target_length': 1},\n",
       "  'messages': [{'role': 'user', 'content': 'g'}]},\n",
       " {'metadata': {'occupation_skill_pair': 'Python Developer > Beginner',\n",
       "   'compatible_area_of_focus': 'Basic scripting - Write simple code in Javascript',\n",
       "   'type': 'query',\n",
       "   'difficulty': 'Easy',\n",
       "   'target_length': 1},\n",
       "  'messages': [{'role': 'user', 'content': 'i'}]},\n",
       " {'metadata': {'occupation_skill_pair': 'Python Developer > Beginner',\n",
       "   'compatible_area_of_focus': 'Basic scripting - Write simple code in Javascript',\n",
       "   'type': 'query',\n",
       "   'difficulty': 'Easy',\n",
       "   'target_length': 1},\n",
       "  'messages': [{'role': 'user', 'content': 'n'}]},\n",
       " {'metadata': {'occupation_skill_pair': 'Python Developer > Beginner',\n",
       "   'compatible_area_of_focus': 'Basic scripting - Write simple code in Javascript',\n",
       "   'type': 'query',\n",
       "   'difficulty': 'Easy',\n",
       "   'target_length': 1},\n",
       "  'messages': [{'role': 'user', 'content': 'n'}]},\n",
       " {'metadata': {'occupation_skill_pair': 'Python Developer > Beginner',\n",
       "   'compatible_area_of_focus': 'Basic scripting - Write simple code in Javascript',\n",
       "   'type': 'query',\n",
       "   'difficulty': 'Easy',\n",
       "   'target_length': 1},\n",
       "  'messages': [{'role': 'user', 'content': 'e'}]},\n",
       " {'metadata': {'occupation_skill_pair': 'Python Developer > Beginner',\n",
       "   'compatible_area_of_focus': 'Basic scripting - Write simple code in Javascript',\n",
       "   'type': 'query',\n",
       "   'difficulty': 'Easy',\n",
       "   'target_length': 1},\n",
       "  'messages': [{'role': 'user', 'content': 'r'}]},\n",
       " {'metadata': {'occupation_skill_pair': 'Python Developer > Beginner',\n",
       "   'compatible_area_of_focus': 'General coding help - Rewrite code using better formatting / best practises',\n",
       "   'type': 'query',\n",
       "   'difficulty': 'Easy',\n",
       "   'target_length': 1},\n",
       "  'messages': [{'role': 'user', 'content': 'P'}]},\n",
       " {'metadata': {'occupation_skill_pair': 'Python Developer > Beginner',\n",
       "   'compatible_area_of_focus': 'General coding help - Rewrite code using better formatting / best practises',\n",
       "   'type': 'query',\n",
       "   'difficulty': 'Easy',\n",
       "   'target_length': 1},\n",
       "  'messages': [{'role': 'user', 'content': 'y'}]},\n",
       " {'metadata': {'occupation_skill_pair': 'Python Developer > Beginner',\n",
       "   'compatible_area_of_focus': 'General coding help - Rewrite code using better formatting / best practises',\n",
       "   'type': 'query',\n",
       "   'difficulty': 'Easy',\n",
       "   'target_length': 1},\n",
       "  'messages': [{'role': 'user', 'content': 't'}]},\n",
       " {'metadata': {'occupation_skill_pair': 'Python Developer > Beginner',\n",
       "   'compatible_area_of_focus': 'General coding help - Rewrite code using better formatting / best practises',\n",
       "   'type': 'query',\n",
       "   'difficulty': 'Easy',\n",
       "   'target_length': 1},\n",
       "  'messages': [{'role': 'user', 'content': 'h'}]},\n",
       " {'metadata': {'occupation_skill_pair': 'Python Developer > Beginner',\n",
       "   'compatible_area_of_focus': 'General coding help - Rewrite code using better formatting / best practises',\n",
       "   'type': 'query',\n",
       "   'difficulty': 'Easy',\n",
       "   'target_length': 1},\n",
       "  'messages': [{'role': 'user', 'content': 'o'}]},\n",
       " {'metadata': {'occupation_skill_pair': 'Python Developer > Beginner',\n",
       "   'compatible_area_of_focus': 'General coding help - Rewrite code using better formatting / best practises',\n",
       "   'type': 'query',\n",
       "   'difficulty': 'Easy',\n",
       "   'target_length': 1},\n",
       "  'messages': [{'role': 'user', 'content': 'n'}]},\n",
       " {'metadata': {'occupation_skill_pair': 'Python Developer > Beginner',\n",
       "   'compatible_area_of_focus': 'General coding help - Rewrite code using better formatting / best practises',\n",
       "   'type': 'query',\n",
       "   'difficulty': 'Easy',\n",
       "   'target_length': 1},\n",
       "  'messages': [{'role': 'user', 'content': ' '}]},\n",
       " {'metadata': {'occupation_skill_pair': 'Python Developer > Beginner',\n",
       "   'compatible_area_of_focus': 'General coding help - Rewrite code using better formatting / best practises',\n",
       "   'type': 'query',\n",
       "   'difficulty': 'Easy',\n",
       "   'target_length': 1},\n",
       "  'messages': [{'role': 'user', 'content': 'D'}]},\n",
       " {'metadata': {'occupation_skill_pair': 'Python Developer > Beginner',\n",
       "   'compatible_area_of_focus': 'General coding help - Rewrite code using better formatting / best practises',\n",
       "   'type': 'query',\n",
       "   'difficulty': 'Easy',\n",
       "   'target_length': 1},\n",
       "  'messages': [{'role': 'user', 'content': 'e'}]},\n",
       " {'metadata': {'occupation_skill_pair': 'Python Developer > Beginner',\n",
       "   'compatible_area_of_focus': 'General coding help - Rewrite code using better formatting / best practises',\n",
       "   'type': 'query',\n",
       "   'difficulty': 'Easy',\n",
       "   'target_length': 1},\n",
       "  'messages': [{'role': 'user', 'content': 'v'}]},\n",
       " {'metadata': {'occupation_skill_pair': 'Python Developer > Beginner',\n",
       "   'compatible_area_of_focus': 'General coding help - Rewrite code using better formatting / best practises',\n",
       "   'type': 'query',\n",
       "   'difficulty': 'Easy',\n",
       "   'target_length': 1},\n",
       "  'messages': [{'role': 'user', 'content': 'e'}]},\n",
       " {'metadata': {'occupation_skill_pair': 'Python Developer > Beginner',\n",
       "   'compatible_area_of_focus': 'General coding help - Rewrite code using better formatting / best practises',\n",
       "   'type': 'query',\n",
       "   'difficulty': 'Easy',\n",
       "   'target_length': 1},\n",
       "  'messages': [{'role': 'user', 'content': 'l'}]},\n",
       " {'metadata': {'occupation_skill_pair': 'Python Developer > Beginner',\n",
       "   'compatible_area_of_focus': 'General coding help - Rewrite code using better formatting / best practises',\n",
       "   'type': 'query',\n",
       "   'difficulty': 'Easy',\n",
       "   'target_length': 1},\n",
       "  'messages': [{'role': 'user', 'content': 'o'}]},\n",
       " {'metadata': {'occupation_skill_pair': 'Python Developer > Beginner',\n",
       "   'compatible_area_of_focus': 'General coding help - Rewrite code using better formatting / best practises',\n",
       "   'type': 'query',\n",
       "   'difficulty': 'Easy',\n",
       "   'target_length': 1},\n",
       "  'messages': [{'role': 'user', 'content': 'p'}]},\n",
       " {'metadata': {'occupation_skill_pair': 'Python Developer > Beginner',\n",
       "   'compatible_area_of_focus': 'General coding help - Rewrite code using better formatting / best practises',\n",
       "   'type': 'query',\n",
       "   'difficulty': 'Easy',\n",
       "   'target_length': 1},\n",
       "  'messages': [{'role': 'user', 'content': 'e'}]},\n",
       " {'metadata': {'occupation_skill_pair': 'Python Developer > Beginner',\n",
       "   'compatible_area_of_focus': 'General coding help - Rewrite code using better formatting / best practises',\n",
       "   'type': 'query',\n",
       "   'difficulty': 'Easy',\n",
       "   'target_length': 1},\n",
       "  'messages': [{'role': 'user', 'content': 'r'}]},\n",
       " {'metadata': {'occupation_skill_pair': 'Python Developer > Beginner',\n",
       "   'compatible_area_of_focus': 'General coding help - Rewrite code using better formatting / best practises',\n",
       "   'type': 'query',\n",
       "   'difficulty': 'Easy',\n",
       "   'target_length': 1},\n",
       "  'messages': [{'role': 'user', 'content': ' '}]},\n",
       " {'metadata': {'occupation_skill_pair': 'Python Developer > Beginner',\n",
       "   'compatible_area_of_focus': 'General coding help - Rewrite code using better formatting / best practises',\n",
       "   'type': 'query',\n",
       "   'difficulty': 'Easy',\n",
       "   'target_length': 1},\n",
       "  'messages': [{'role': 'user', 'content': '>'}]},\n",
       " {'metadata': {'occupation_skill_pair': 'Python Developer > Beginner',\n",
       "   'compatible_area_of_focus': 'General coding help - Rewrite code using better formatting / best practises',\n",
       "   'type': 'query',\n",
       "   'difficulty': 'Easy',\n",
       "   'target_length': 1},\n",
       "  'messages': [{'role': 'user', 'content': ' '}]},\n",
       " {'metadata': {'occupation_skill_pair': 'Python Developer > Beginner',\n",
       "   'compatible_area_of_focus': 'General coding help - Rewrite code using better formatting / best practises',\n",
       "   'type': 'query',\n",
       "   'difficulty': 'Easy',\n",
       "   'target_length': 1},\n",
       "  'messages': [{'role': 'user', 'content': 'B'}]},\n",
       " {'metadata': {'occupation_skill_pair': 'Python Developer > Beginner',\n",
       "   'compatible_area_of_focus': 'General coding help - Rewrite code using better formatting / best practises',\n",
       "   'type': 'query',\n",
       "   'difficulty': 'Easy',\n",
       "   'target_length': 1},\n",
       "  'messages': [{'role': 'user', 'content': 'e'}]},\n",
       " {'metadata': {'occupation_skill_pair': 'Python Developer > Beginner',\n",
       "   'compatible_area_of_focus': 'General coding help - Rewrite code using better formatting / best practises',\n",
       "   'type': 'query',\n",
       "   'difficulty': 'Easy',\n",
       "   'target_length': 1},\n",
       "  'messages': [{'role': 'user', 'content': 'g'}]},\n",
       " {'metadata': {'occupation_skill_pair': 'Python Developer > Beginner',\n",
       "   'compatible_area_of_focus': 'General coding help - Rewrite code using better formatting / best practises',\n",
       "   'type': 'query',\n",
       "   'difficulty': 'Easy',\n",
       "   'target_length': 1},\n",
       "  'messages': [{'role': 'user', 'content': 'i'}]},\n",
       " {'metadata': {'occupation_skill_pair': 'Python Developer > Beginner',\n",
       "   'compatible_area_of_focus': 'General coding help - Rewrite code using better formatting / best practises',\n",
       "   'type': 'query',\n",
       "   'difficulty': 'Easy',\n",
       "   'target_length': 1},\n",
       "  'messages': [{'role': 'user', 'content': 'n'}]},\n",
       " {'metadata': {'occupation_skill_pair': 'Python Developer > Beginner',\n",
       "   'compatible_area_of_focus': 'General coding help - Rewrite code using better formatting / best practises',\n",
       "   'type': 'query',\n",
       "   'difficulty': 'Easy',\n",
       "   'target_length': 1},\n",
       "  'messages': [{'role': 'user', 'content': 'n'}]},\n",
       " {'metadata': {'occupation_skill_pair': 'Python Developer > Beginner',\n",
       "   'compatible_area_of_focus': 'General coding help - Rewrite code using better formatting / best practises',\n",
       "   'type': 'query',\n",
       "   'difficulty': 'Easy',\n",
       "   'target_length': 1},\n",
       "  'messages': [{'role': 'user', 'content': 'e'}]},\n",
       " {'metadata': {'occupation_skill_pair': 'Python Developer > Beginner',\n",
       "   'compatible_area_of_focus': 'General coding help - Rewrite code using better formatting / best practises',\n",
       "   'type': 'query',\n",
       "   'difficulty': 'Easy',\n",
       "   'target_length': 1},\n",
       "  'messages': [{'role': 'user', 'content': 'r'}]},\n",
       " {'metadata': {'occupation_skill_pair': 'Python Developer > Beginner',\n",
       "   'compatible_area_of_focus': 'General coding help - Refactor code',\n",
       "   'type': 'query',\n",
       "   'difficulty': 'Easy',\n",
       "   'target_length': 1},\n",
       "  'messages': [{'role': 'user', 'content': 'P'}]},\n",
       " {'metadata': {'occupation_skill_pair': 'Python Developer > Beginner',\n",
       "   'compatible_area_of_focus': 'General coding help - Refactor code',\n",
       "   'type': 'query',\n",
       "   'difficulty': 'Easy',\n",
       "   'target_length': 1},\n",
       "  'messages': [{'role': 'user', 'content': 'y'}]},\n",
       " {'metadata': {'occupation_skill_pair': 'Python Developer > Beginner',\n",
       "   'compatible_area_of_focus': 'General coding help - Refactor code',\n",
       "   'type': 'query',\n",
       "   'difficulty': 'Easy',\n",
       "   'target_length': 1},\n",
       "  'messages': [{'role': 'user', 'content': 't'}]},\n",
       " {'metadata': {'occupation_skill_pair': 'Python Developer > Beginner',\n",
       "   'compatible_area_of_focus': 'General coding help - Refactor code',\n",
       "   'type': 'query',\n",
       "   'difficulty': 'Easy',\n",
       "   'target_length': 1},\n",
       "  'messages': [{'role': 'user', 'content': 'h'}]},\n",
       " {'metadata': {'occupation_skill_pair': 'Python Developer > Beginner',\n",
       "   'compatible_area_of_focus': 'General coding help - Refactor code',\n",
       "   'type': 'query',\n",
       "   'difficulty': 'Easy',\n",
       "   'target_length': 1},\n",
       "  'messages': [{'role': 'user', 'content': 'o'}]},\n",
       " {'metadata': {'occupation_skill_pair': 'Python Developer > Beginner',\n",
       "   'compatible_area_of_focus': 'General coding help - Refactor code',\n",
       "   'type': 'query',\n",
       "   'difficulty': 'Easy',\n",
       "   'target_length': 1},\n",
       "  'messages': [{'role': 'user', 'content': 'n'}]},\n",
       " {'metadata': {'occupation_skill_pair': 'Python Developer > Beginner',\n",
       "   'compatible_area_of_focus': 'General coding help - Refactor code',\n",
       "   'type': 'query',\n",
       "   'difficulty': 'Easy',\n",
       "   'target_length': 1},\n",
       "  'messages': [{'role': 'user', 'content': ' '}]},\n",
       " {'metadata': {'occupation_skill_pair': 'Python Developer > Beginner',\n",
       "   'compatible_area_of_focus': 'General coding help - Refactor code',\n",
       "   'type': 'query',\n",
       "   'difficulty': 'Easy',\n",
       "   'target_length': 1},\n",
       "  'messages': [{'role': 'user', 'content': 'D'}]},\n",
       " {'metadata': {'occupation_skill_pair': 'Python Developer > Beginner',\n",
       "   'compatible_area_of_focus': 'General coding help - Refactor code',\n",
       "   'type': 'query',\n",
       "   'difficulty': 'Easy',\n",
       "   'target_length': 1},\n",
       "  'messages': [{'role': 'user', 'content': 'e'}]},\n",
       " {'metadata': {'occupation_skill_pair': 'Python Developer > Beginner',\n",
       "   'compatible_area_of_focus': 'General coding help - Refactor code',\n",
       "   'type': 'query',\n",
       "   'difficulty': 'Easy',\n",
       "   'target_length': 1},\n",
       "  'messages': [{'role': 'user', 'content': 'v'}]},\n",
       " {'metadata': {'occupation_skill_pair': 'Python Developer > Beginner',\n",
       "   'compatible_area_of_focus': 'General coding help - Refactor code',\n",
       "   'type': 'query',\n",
       "   'difficulty': 'Easy',\n",
       "   'target_length': 1},\n",
       "  'messages': [{'role': 'user', 'content': 'e'}]},\n",
       " {'metadata': {'occupation_skill_pair': 'Python Developer > Beginner',\n",
       "   'compatible_area_of_focus': 'General coding help - Refactor code',\n",
       "   'type': 'query',\n",
       "   'difficulty': 'Easy',\n",
       "   'target_length': 1},\n",
       "  'messages': [{'role': 'user', 'content': 'l'}]},\n",
       " {'metadata': {'occupation_skill_pair': 'Python Developer > Beginner',\n",
       "   'compatible_area_of_focus': 'General coding help - Refactor code',\n",
       "   'type': 'query',\n",
       "   'difficulty': 'Easy',\n",
       "   'target_length': 1},\n",
       "  'messages': [{'role': 'user', 'content': 'o'}]},\n",
       " {'metadata': {'occupation_skill_pair': 'Python Developer > Beginner',\n",
       "   'compatible_area_of_focus': 'General coding help - Refactor code',\n",
       "   'type': 'query',\n",
       "   'difficulty': 'Easy',\n",
       "   'target_length': 1},\n",
       "  'messages': [{'role': 'user', 'content': 'p'}]},\n",
       " {'metadata': {'occupation_skill_pair': 'Python Developer > Beginner',\n",
       "   'compatible_area_of_focus': 'General coding help - Refactor code',\n",
       "   'type': 'query',\n",
       "   'difficulty': 'Easy',\n",
       "   'target_length': 1},\n",
       "  'messages': [{'role': 'user', 'content': 'e'}]},\n",
       " {'metadata': {'occupation_skill_pair': 'Python Developer > Beginner',\n",
       "   'compatible_area_of_focus': 'General coding help - Refactor code',\n",
       "   'type': 'query',\n",
       "   'difficulty': 'Easy',\n",
       "   'target_length': 1},\n",
       "  'messages': [{'role': 'user', 'content': 'r'}]},\n",
       " {'metadata': {'occupation_skill_pair': 'Python Developer > Beginner',\n",
       "   'compatible_area_of_focus': 'General coding help - Refactor code',\n",
       "   'type': 'query',\n",
       "   'difficulty': 'Easy',\n",
       "   'target_length': 1},\n",
       "  'messages': [{'role': 'user', 'content': ' '}]},\n",
       " {'metadata': {'occupation_skill_pair': 'Python Developer > Beginner',\n",
       "   'compatible_area_of_focus': 'General coding help - Refactor code',\n",
       "   'type': 'query',\n",
       "   'difficulty': 'Easy',\n",
       "   'target_length': 1},\n",
       "  'messages': [{'role': 'user', 'content': '>'}]},\n",
       " {'metadata': {'occupation_skill_pair': 'Python Developer > Beginner',\n",
       "   'compatible_area_of_focus': 'General coding help - Refactor code',\n",
       "   'type': 'query',\n",
       "   'difficulty': 'Easy',\n",
       "   'target_length': 1},\n",
       "  'messages': [{'role': 'user', 'content': ' '}]},\n",
       " {'metadata': {'occupation_skill_pair': 'Python Developer > Beginner',\n",
       "   'compatible_area_of_focus': 'General coding help - Refactor code',\n",
       "   'type': 'query',\n",
       "   'difficulty': 'Easy',\n",
       "   'target_length': 1},\n",
       "  'messages': [{'role': 'user', 'content': 'B'}]},\n",
       " {'metadata': {'occupation_skill_pair': 'Python Developer > Beginner',\n",
       "   'compatible_area_of_focus': 'General coding help - Refactor code',\n",
       "   'type': 'query',\n",
       "   'difficulty': 'Easy',\n",
       "   'target_length': 1},\n",
       "  'messages': [{'role': 'user', 'content': 'e'}]},\n",
       " {'metadata': {'occupation_skill_pair': 'Python Developer > Beginner',\n",
       "   'compatible_area_of_focus': 'General coding help - Refactor code',\n",
       "   'type': 'query',\n",
       "   'difficulty': 'Easy',\n",
       "   'target_length': 1},\n",
       "  'messages': [{'role': 'user', 'content': 'g'}]},\n",
       " {'metadata': {'occupation_skill_pair': 'Python Developer > Beginner',\n",
       "   'compatible_area_of_focus': 'General coding help - Refactor code',\n",
       "   'type': 'query',\n",
       "   'difficulty': 'Easy',\n",
       "   'target_length': 1},\n",
       "  'messages': [{'role': 'user', 'content': 'i'}]},\n",
       " {'metadata': {'occupation_skill_pair': 'Python Developer > Beginner',\n",
       "   'compatible_area_of_focus': 'General coding help - Refactor code',\n",
       "   'type': 'query',\n",
       "   'difficulty': 'Easy',\n",
       "   'target_length': 1},\n",
       "  'messages': [{'role': 'user', 'content': 'n'}]},\n",
       " {'metadata': {'occupation_skill_pair': 'Python Developer > Beginner',\n",
       "   'compatible_area_of_focus': 'General coding help - Refactor code',\n",
       "   'type': 'query',\n",
       "   'difficulty': 'Easy',\n",
       "   'target_length': 1},\n",
       "  'messages': [{'role': 'user', 'content': 'n'}]},\n",
       " {'metadata': {'occupation_skill_pair': 'Python Developer > Beginner',\n",
       "   'compatible_area_of_focus': 'General coding help - Refactor code',\n",
       "   'type': 'query',\n",
       "   'difficulty': 'Easy',\n",
       "   'target_length': 1},\n",
       "  'messages': [{'role': 'user', 'content': 'e'}]},\n",
       " {'metadata': {'occupation_skill_pair': 'Python Developer > Beginner',\n",
       "   'compatible_area_of_focus': 'General coding help - Refactor code',\n",
       "   'type': 'query',\n",
       "   'difficulty': 'Easy',\n",
       "   'target_length': 1},\n",
       "  'messages': [{'role': 'user', 'content': 'r'}]},\n",
       " {'metadata': {'occupation_skill_pair': 'Python Developer > Beginner',\n",
       "   'compatible_area_of_focus': 'General coding help - Explain complex code snippets',\n",
       "   'type': 'query',\n",
       "   'difficulty': 'Easy',\n",
       "   'target_length': 1},\n",
       "  'messages': [{'role': 'user', 'content': 'P'}]},\n",
       " {'metadata': {'occupation_skill_pair': 'Python Developer > Beginner',\n",
       "   'compatible_area_of_focus': 'General coding help - Explain complex code snippets',\n",
       "   'type': 'query',\n",
       "   'difficulty': 'Easy',\n",
       "   'target_length': 1},\n",
       "  'messages': [{'role': 'user', 'content': 'y'}]},\n",
       " {'metadata': {'occupation_skill_pair': 'Python Developer > Beginner',\n",
       "   'compatible_area_of_focus': 'General coding help - Explain complex code snippets',\n",
       "   'type': 'query',\n",
       "   'difficulty': 'Easy',\n",
       "   'target_length': 1},\n",
       "  'messages': [{'role': 'user', 'content': 't'}]},\n",
       " {'metadata': {'occupation_skill_pair': 'Python Developer > Beginner',\n",
       "   'compatible_area_of_focus': 'General coding help - Explain complex code snippets',\n",
       "   'type': 'query',\n",
       "   'difficulty': 'Easy',\n",
       "   'target_length': 1},\n",
       "  'messages': [{'role': 'user', 'content': 'h'}]},\n",
       " {'metadata': {'occupation_skill_pair': 'Python Developer > Beginner',\n",
       "   'compatible_area_of_focus': 'General coding help - Explain complex code snippets',\n",
       "   'type': 'query',\n",
       "   'difficulty': 'Easy',\n",
       "   'target_length': 1},\n",
       "  'messages': [{'role': 'user', 'content': 'o'}]},\n",
       " {'metadata': {'occupation_skill_pair': 'Python Developer > Beginner',\n",
       "   'compatible_area_of_focus': 'General coding help - Explain complex code snippets',\n",
       "   'type': 'query',\n",
       "   'difficulty': 'Easy',\n",
       "   'target_length': 1},\n",
       "  'messages': [{'role': 'user', 'content': 'n'}]},\n",
       " {'metadata': {'occupation_skill_pair': 'Python Developer > Beginner',\n",
       "   'compatible_area_of_focus': 'General coding help - Explain complex code snippets',\n",
       "   'type': 'query',\n",
       "   'difficulty': 'Easy',\n",
       "   'target_length': 1},\n",
       "  'messages': [{'role': 'user', 'content': ' '}]},\n",
       " {'metadata': {'occupation_skill_pair': 'Python Developer > Beginner',\n",
       "   'compatible_area_of_focus': 'General coding help - Explain complex code snippets',\n",
       "   'type': 'query',\n",
       "   'difficulty': 'Easy',\n",
       "   'target_length': 1},\n",
       "  'messages': [{'role': 'user', 'content': 'D'}]},\n",
       " {'metadata': {'occupation_skill_pair': 'Python Developer > Beginner',\n",
       "   'compatible_area_of_focus': 'General coding help - Explain complex code snippets',\n",
       "   'type': 'query',\n",
       "   'difficulty': 'Easy',\n",
       "   'target_length': 1},\n",
       "  'messages': [{'role': 'user', 'content': 'e'}]},\n",
       " {'metadata': {'occupation_skill_pair': 'Python Developer > Beginner',\n",
       "   'compatible_area_of_focus': 'General coding help - Explain complex code snippets',\n",
       "   'type': 'query',\n",
       "   'difficulty': 'Easy',\n",
       "   'target_length': 1},\n",
       "  'messages': [{'role': 'user', 'content': 'v'}]},\n",
       " {'metadata': {'occupation_skill_pair': 'Python Developer > Beginner',\n",
       "   'compatible_area_of_focus': 'General coding help - Explain complex code snippets',\n",
       "   'type': 'query',\n",
       "   'difficulty': 'Easy',\n",
       "   'target_length': 1},\n",
       "  'messages': [{'role': 'user', 'content': 'e'}]},\n",
       " {'metadata': {'occupation_skill_pair': 'Python Developer > Beginner',\n",
       "   'compatible_area_of_focus': 'General coding help - Explain complex code snippets',\n",
       "   'type': 'query',\n",
       "   'difficulty': 'Easy',\n",
       "   'target_length': 1},\n",
       "  'messages': [{'role': 'user', 'content': 'l'}]},\n",
       " {'metadata': {'occupation_skill_pair': 'Python Developer > Beginner',\n",
       "   'compatible_area_of_focus': 'General coding help - Explain complex code snippets',\n",
       "   'type': 'query',\n",
       "   'difficulty': 'Easy',\n",
       "   'target_length': 1},\n",
       "  'messages': [{'role': 'user', 'content': 'o'}]},\n",
       " {'metadata': {'occupation_skill_pair': 'Python Developer > Beginner',\n",
       "   'compatible_area_of_focus': 'General coding help - Explain complex code snippets',\n",
       "   'type': 'query',\n",
       "   'difficulty': 'Easy',\n",
       "   'target_length': 1},\n",
       "  'messages': [{'role': 'user', 'content': 'p'}]},\n",
       " {'metadata': {'occupation_skill_pair': 'Python Developer > Beginner',\n",
       "   'compatible_area_of_focus': 'General coding help - Explain complex code snippets',\n",
       "   'type': 'query',\n",
       "   'difficulty': 'Easy',\n",
       "   'target_length': 1},\n",
       "  'messages': [{'role': 'user', 'content': 'e'}]},\n",
       " {'metadata': {'occupation_skill_pair': 'Python Developer > Beginner',\n",
       "   'compatible_area_of_focus': 'General coding help - Explain complex code snippets',\n",
       "   'type': 'query',\n",
       "   'difficulty': 'Easy',\n",
       "   'target_length': 1},\n",
       "  'messages': [{'role': 'user', 'content': 'r'}]},\n",
       " {'metadata': {'occupation_skill_pair': 'Python Developer > Beginner',\n",
       "   'compatible_area_of_focus': 'General coding help - Explain complex code snippets',\n",
       "   'type': 'query',\n",
       "   'difficulty': 'Easy',\n",
       "   'target_length': 1},\n",
       "  'messages': [{'role': 'user', 'content': ' '}]},\n",
       " {'metadata': {'occupation_skill_pair': 'Python Developer > Beginner',\n",
       "   'compatible_area_of_focus': 'General coding help - Explain complex code snippets',\n",
       "   'type': 'query',\n",
       "   'difficulty': 'Easy',\n",
       "   'target_length': 1},\n",
       "  'messages': [{'role': 'user', 'content': '>'}]},\n",
       " {'metadata': {'occupation_skill_pair': 'Python Developer > Beginner',\n",
       "   'compatible_area_of_focus': 'General coding help - Explain complex code snippets',\n",
       "   'type': 'query',\n",
       "   'difficulty': 'Easy',\n",
       "   'target_length': 1},\n",
       "  'messages': [{'role': 'user', 'content': ' '}]},\n",
       " {'metadata': {'occupation_skill_pair': 'Python Developer > Beginner',\n",
       "   'compatible_area_of_focus': 'General coding help - Explain complex code snippets',\n",
       "   'type': 'query',\n",
       "   'difficulty': 'Easy',\n",
       "   'target_length': 1},\n",
       "  'messages': [{'role': 'user', 'content': 'B'}]},\n",
       " {'metadata': {'occupation_skill_pair': 'Python Developer > Beginner',\n",
       "   'compatible_area_of_focus': 'General coding help - Explain complex code snippets',\n",
       "   'type': 'query',\n",
       "   'difficulty': 'Easy',\n",
       "   'target_length': 1},\n",
       "  'messages': [{'role': 'user', 'content': 'e'}]},\n",
       " {'metadata': {'occupation_skill_pair': 'Python Developer > Beginner',\n",
       "   'compatible_area_of_focus': 'General coding help - Explain complex code snippets',\n",
       "   'type': 'query',\n",
       "   'difficulty': 'Easy',\n",
       "   'target_length': 1},\n",
       "  'messages': [{'role': 'user', 'content': 'g'}]},\n",
       " {'metadata': {'occupation_skill_pair': 'Python Developer > Beginner',\n",
       "   'compatible_area_of_focus': 'General coding help - Explain complex code snippets',\n",
       "   'type': 'query',\n",
       "   'difficulty': 'Easy',\n",
       "   'target_length': 1},\n",
       "  'messages': [{'role': 'user', 'content': 'i'}]},\n",
       " {'metadata': {'occupation_skill_pair': 'Python Developer > Beginner',\n",
       "   'compatible_area_of_focus': 'General coding help - Explain complex code snippets',\n",
       "   'type': 'query',\n",
       "   'difficulty': 'Easy',\n",
       "   'target_length': 1},\n",
       "  'messages': [{'role': 'user', 'content': 'n'}]},\n",
       " {'metadata': {'occupation_skill_pair': 'Python Developer > Beginner',\n",
       "   'compatible_area_of_focus': 'General coding help - Explain complex code snippets',\n",
       "   'type': 'query',\n",
       "   'difficulty': 'Easy',\n",
       "   'target_length': 1},\n",
       "  'messages': [{'role': 'user', 'content': 'n'}]},\n",
       " {'metadata': {'occupation_skill_pair': 'Python Developer > Beginner',\n",
       "   'compatible_area_of_focus': 'General coding help - Explain complex code snippets',\n",
       "   'type': 'query',\n",
       "   'difficulty': 'Easy',\n",
       "   'target_length': 1},\n",
       "  'messages': [{'role': 'user', 'content': 'e'}]},\n",
       " {'metadata': {'occupation_skill_pair': 'Python Developer > Beginner',\n",
       "   'compatible_area_of_focus': 'General coding help - Explain complex code snippets',\n",
       "   'type': 'query',\n",
       "   'difficulty': 'Easy',\n",
       "   'target_length': 1},\n",
       "  'messages': [{'role': 'user', 'content': 'r'}]},\n",
       " {'metadata': {'occupation_skill_pair': 'Python Developer > Beginner',\n",
       "   'compatible_area_of_focus': 'General coding help - Add comments to code',\n",
       "   'type': 'query',\n",
       "   'difficulty': 'Easy',\n",
       "   'target_length': 1},\n",
       "  'messages': [{'role': 'user', 'content': 'P'}]},\n",
       " {'metadata': {'occupation_skill_pair': 'Python Developer > Beginner',\n",
       "   'compatible_area_of_focus': 'General coding help - Add comments to code',\n",
       "   'type': 'query',\n",
       "   'difficulty': 'Easy',\n",
       "   'target_length': 1},\n",
       "  'messages': [{'role': 'user', 'content': 'y'}]},\n",
       " {'metadata': {'occupation_skill_pair': 'Python Developer > Beginner',\n",
       "   'compatible_area_of_focus': 'General coding help - Add comments to code',\n",
       "   'type': 'query',\n",
       "   'difficulty': 'Easy',\n",
       "   'target_length': 1},\n",
       "  'messages': [{'role': 'user', 'content': 't'}]},\n",
       " {'metadata': {'occupation_skill_pair': 'Python Developer > Beginner',\n",
       "   'compatible_area_of_focus': 'General coding help - Add comments to code',\n",
       "   'type': 'query',\n",
       "   'difficulty': 'Easy',\n",
       "   'target_length': 1},\n",
       "  'messages': [{'role': 'user', 'content': 'h'}]},\n",
       " {'metadata': {'occupation_skill_pair': 'Python Developer > Beginner',\n",
       "   'compatible_area_of_focus': 'General coding help - Add comments to code',\n",
       "   'type': 'query',\n",
       "   'difficulty': 'Easy',\n",
       "   'target_length': 1},\n",
       "  'messages': [{'role': 'user', 'content': 'o'}]},\n",
       " {'metadata': {'occupation_skill_pair': 'Python Developer > Beginner',\n",
       "   'compatible_area_of_focus': 'General coding help - Add comments to code',\n",
       "   'type': 'query',\n",
       "   'difficulty': 'Easy',\n",
       "   'target_length': 1},\n",
       "  'messages': [{'role': 'user', 'content': 'n'}]},\n",
       " {'metadata': {'occupation_skill_pair': 'Python Developer > Beginner',\n",
       "   'compatible_area_of_focus': 'General coding help - Add comments to code',\n",
       "   'type': 'query',\n",
       "   'difficulty': 'Easy',\n",
       "   'target_length': 1},\n",
       "  'messages': [{'role': 'user', 'content': ' '}]},\n",
       " {'metadata': {'occupation_skill_pair': 'Python Developer > Beginner',\n",
       "   'compatible_area_of_focus': 'General coding help - Add comments to code',\n",
       "   'type': 'query',\n",
       "   'difficulty': 'Easy',\n",
       "   'target_length': 1},\n",
       "  'messages': [{'role': 'user', 'content': 'D'}]},\n",
       " {'metadata': {'occupation_skill_pair': 'Python Developer > Beginner',\n",
       "   'compatible_area_of_focus': 'General coding help - Add comments to code',\n",
       "   'type': 'query',\n",
       "   'difficulty': 'Easy',\n",
       "   'target_length': 1},\n",
       "  'messages': [{'role': 'user', 'content': 'e'}]},\n",
       " {'metadata': {'occupation_skill_pair': 'Python Developer > Beginner',\n",
       "   'compatible_area_of_focus': 'General coding help - Add comments to code',\n",
       "   'type': 'query',\n",
       "   'difficulty': 'Easy',\n",
       "   'target_length': 1},\n",
       "  'messages': [{'role': 'user', 'content': 'v'}]},\n",
       " {'metadata': {'occupation_skill_pair': 'Python Developer > Beginner',\n",
       "   'compatible_area_of_focus': 'General coding help - Add comments to code',\n",
       "   'type': 'query',\n",
       "   'difficulty': 'Easy',\n",
       "   'target_length': 1},\n",
       "  'messages': [{'role': 'user', 'content': 'e'}]},\n",
       " {'metadata': {'occupation_skill_pair': 'Python Developer > Beginner',\n",
       "   'compatible_area_of_focus': 'General coding help - Add comments to code',\n",
       "   'type': 'query',\n",
       "   'difficulty': 'Easy',\n",
       "   'target_length': 1},\n",
       "  'messages': [{'role': 'user', 'content': 'l'}]},\n",
       " {'metadata': {'occupation_skill_pair': 'Python Developer > Beginner',\n",
       "   'compatible_area_of_focus': 'General coding help - Add comments to code',\n",
       "   'type': 'query',\n",
       "   'difficulty': 'Easy',\n",
       "   'target_length': 1},\n",
       "  'messages': [{'role': 'user', 'content': 'o'}]},\n",
       " {'metadata': {'occupation_skill_pair': 'Python Developer > Beginner',\n",
       "   'compatible_area_of_focus': 'General coding help - Add comments to code',\n",
       "   'type': 'query',\n",
       "   'difficulty': 'Easy',\n",
       "   'target_length': 1},\n",
       "  'messages': [{'role': 'user', 'content': 'p'}]},\n",
       " {'metadata': {'occupation_skill_pair': 'Python Developer > Beginner',\n",
       "   'compatible_area_of_focus': 'General coding help - Add comments to code',\n",
       "   'type': 'query',\n",
       "   'difficulty': 'Easy',\n",
       "   'target_length': 1},\n",
       "  'messages': [{'role': 'user', 'content': 'e'}]},\n",
       " {'metadata': {'occupation_skill_pair': 'Python Developer > Beginner',\n",
       "   'compatible_area_of_focus': 'General coding help - Add comments to code',\n",
       "   'type': 'query',\n",
       "   'difficulty': 'Easy',\n",
       "   'target_length': 1},\n",
       "  'messages': [{'role': 'user', 'content': 'r'}]},\n",
       " {'metadata': {'occupation_skill_pair': 'Python Developer > Beginner',\n",
       "   'compatible_area_of_focus': 'General coding help - Add comments to code',\n",
       "   'type': 'query',\n",
       "   'difficulty': 'Easy',\n",
       "   'target_length': 1},\n",
       "  'messages': [{'role': 'user', 'content': ' '}]},\n",
       " {'metadata': {'occupation_skill_pair': 'Python Developer > Beginner',\n",
       "   'compatible_area_of_focus': 'General coding help - Add comments to code',\n",
       "   'type': 'query',\n",
       "   'difficulty': 'Easy',\n",
       "   'target_length': 1},\n",
       "  'messages': [{'role': 'user', 'content': '>'}]},\n",
       " {'metadata': {'occupation_skill_pair': 'Python Developer > Beginner',\n",
       "   'compatible_area_of_focus': 'General coding help - Add comments to code',\n",
       "   'type': 'query',\n",
       "   'difficulty': 'Easy',\n",
       "   'target_length': 1},\n",
       "  'messages': [{'role': 'user', 'content': ' '}]},\n",
       " {'metadata': {'occupation_skill_pair': 'Python Developer > Beginner',\n",
       "   'compatible_area_of_focus': 'General coding help - Add comments to code',\n",
       "   'type': 'query',\n",
       "   'difficulty': 'Easy',\n",
       "   'target_length': 1},\n",
       "  'messages': [{'role': 'user', 'content': 'B'}]},\n",
       " {'metadata': {'occupation_skill_pair': 'Python Developer > Beginner',\n",
       "   'compatible_area_of_focus': 'General coding help - Add comments to code',\n",
       "   'type': 'query',\n",
       "   'difficulty': 'Easy',\n",
       "   'target_length': 1},\n",
       "  'messages': [{'role': 'user', 'content': 'e'}]},\n",
       " {'metadata': {'occupation_skill_pair': 'Python Developer > Beginner',\n",
       "   'compatible_area_of_focus': 'General coding help - Add comments to code',\n",
       "   'type': 'query',\n",
       "   'difficulty': 'Easy',\n",
       "   'target_length': 1},\n",
       "  'messages': [{'role': 'user', 'content': 'g'}]},\n",
       " {'metadata': {'occupation_skill_pair': 'Python Developer > Beginner',\n",
       "   'compatible_area_of_focus': 'General coding help - Add comments to code',\n",
       "   'type': 'query',\n",
       "   'difficulty': 'Easy',\n",
       "   'target_length': 1},\n",
       "  'messages': [{'role': 'user', 'content': 'i'}]},\n",
       " {'metadata': {'occupation_skill_pair': 'Python Developer > Beginner',\n",
       "   'compatible_area_of_focus': 'General coding help - Add comments to code',\n",
       "   'type': 'query',\n",
       "   'difficulty': 'Easy',\n",
       "   'target_length': 1},\n",
       "  'messages': [{'role': 'user', 'content': 'n'}]},\n",
       " {'metadata': {'occupation_skill_pair': 'Python Developer > Beginner',\n",
       "   'compatible_area_of_focus': 'General coding help - Add comments to code',\n",
       "   'type': 'query',\n",
       "   'difficulty': 'Easy',\n",
       "   'target_length': 1},\n",
       "  'messages': [{'role': 'user', 'content': 'n'}]},\n",
       " {'metadata': {'occupation_skill_pair': 'Python Developer > Beginner',\n",
       "   'compatible_area_of_focus': 'General coding help - Add comments to code',\n",
       "   'type': 'query',\n",
       "   'difficulty': 'Easy',\n",
       "   'target_length': 1},\n",
       "  'messages': [{'role': 'user', 'content': 'e'}]},\n",
       " {'metadata': {'occupation_skill_pair': 'Python Developer > Beginner',\n",
       "   'compatible_area_of_focus': 'General coding help - Add comments to code',\n",
       "   'type': 'query',\n",
       "   'difficulty': 'Easy',\n",
       "   'target_length': 1},\n",
       "  'messages': [{'role': 'user', 'content': 'r'}]},\n",
       " {'metadata': {'occupation_skill_pair': 'Python Developer > Beginner',\n",
       "   'compatible_area_of_focus': 'General coding help - Do a code review',\n",
       "   'type': 'query',\n",
       "   'difficulty': 'Easy',\n",
       "   'target_length': 1},\n",
       "  'messages': [{'role': 'user', 'content': 'P'}]},\n",
       " {'metadata': {'occupation_skill_pair': 'Python Developer > Beginner',\n",
       "   'compatible_area_of_focus': 'General coding help - Do a code review',\n",
       "   'type': 'query',\n",
       "   'difficulty': 'Easy',\n",
       "   'target_length': 1},\n",
       "  'messages': [{'role': 'user', 'content': 'y'}]},\n",
       " {'metadata': {'occupation_skill_pair': 'Python Developer > Beginner',\n",
       "   'compatible_area_of_focus': 'General coding help - Do a code review',\n",
       "   'type': 'query',\n",
       "   'difficulty': 'Easy',\n",
       "   'target_length': 1},\n",
       "  'messages': [{'role': 'user', 'content': 't'}]},\n",
       " {'metadata': {'occupation_skill_pair': 'Python Developer > Beginner',\n",
       "   'compatible_area_of_focus': 'General coding help - Do a code review',\n",
       "   'type': 'query',\n",
       "   'difficulty': 'Easy',\n",
       "   'target_length': 1},\n",
       "  'messages': [{'role': 'user', 'content': 'h'}]},\n",
       " {'metadata': {'occupation_skill_pair': 'Python Developer > Beginner',\n",
       "   'compatible_area_of_focus': 'General coding help - Do a code review',\n",
       "   'type': 'query',\n",
       "   'difficulty': 'Easy',\n",
       "   'target_length': 1},\n",
       "  'messages': [{'role': 'user', 'content': 'o'}]},\n",
       " {'metadata': {'occupation_skill_pair': 'Python Developer > Beginner',\n",
       "   'compatible_area_of_focus': 'General coding help - Do a code review',\n",
       "   'type': 'query',\n",
       "   'difficulty': 'Easy',\n",
       "   'target_length': 1},\n",
       "  'messages': [{'role': 'user', 'content': 'n'}]},\n",
       " {'metadata': {'occupation_skill_pair': 'Python Developer > Beginner',\n",
       "   'compatible_area_of_focus': 'General coding help - Do a code review',\n",
       "   'type': 'query',\n",
       "   'difficulty': 'Easy',\n",
       "   'target_length': 1},\n",
       "  'messages': [{'role': 'user', 'content': ' '}]},\n",
       " {'metadata': {'occupation_skill_pair': 'Python Developer > Beginner',\n",
       "   'compatible_area_of_focus': 'General coding help - Do a code review',\n",
       "   'type': 'query',\n",
       "   'difficulty': 'Easy',\n",
       "   'target_length': 1},\n",
       "  'messages': [{'role': 'user', 'content': 'D'}]},\n",
       " {'metadata': {'occupation_skill_pair': 'Python Developer > Beginner',\n",
       "   'compatible_area_of_focus': 'General coding help - Do a code review',\n",
       "   'type': 'query',\n",
       "   'difficulty': 'Easy',\n",
       "   'target_length': 1},\n",
       "  'messages': [{'role': 'user', 'content': 'e'}]},\n",
       " {'metadata': {'occupation_skill_pair': 'Python Developer > Beginner',\n",
       "   'compatible_area_of_focus': 'General coding help - Do a code review',\n",
       "   'type': 'query',\n",
       "   'difficulty': 'Easy',\n",
       "   'target_length': 1},\n",
       "  'messages': [{'role': 'user', 'content': 'v'}]},\n",
       " {'metadata': {'occupation_skill_pair': 'Python Developer > Beginner',\n",
       "   'compatible_area_of_focus': 'General coding help - Do a code review',\n",
       "   'type': 'query',\n",
       "   'difficulty': 'Easy',\n",
       "   'target_length': 1},\n",
       "  'messages': [{'role': 'user', 'content': 'e'}]},\n",
       " {'metadata': {'occupation_skill_pair': 'Python Developer > Beginner',\n",
       "   'compatible_area_of_focus': 'General coding help - Do a code review',\n",
       "   'type': 'query',\n",
       "   'difficulty': 'Easy',\n",
       "   'target_length': 1},\n",
       "  'messages': [{'role': 'user', 'content': 'l'}]},\n",
       " {'metadata': {'occupation_skill_pair': 'Python Developer > Beginner',\n",
       "   'compatible_area_of_focus': 'General coding help - Do a code review',\n",
       "   'type': 'query',\n",
       "   'difficulty': 'Easy',\n",
       "   'target_length': 1},\n",
       "  'messages': [{'role': 'user', 'content': 'o'}]},\n",
       " {'metadata': {'occupation_skill_pair': 'Python Developer > Beginner',\n",
       "   'compatible_area_of_focus': 'General coding help - Do a code review',\n",
       "   'type': 'query',\n",
       "   'difficulty': 'Easy',\n",
       "   'target_length': 1},\n",
       "  'messages': [{'role': 'user', 'content': 'p'}]},\n",
       " {'metadata': {'occupation_skill_pair': 'Python Developer > Beginner',\n",
       "   'compatible_area_of_focus': 'General coding help - Do a code review',\n",
       "   'type': 'query',\n",
       "   'difficulty': 'Easy',\n",
       "   'target_length': 1},\n",
       "  'messages': [{'role': 'user', 'content': 'e'}]},\n",
       " {'metadata': {'occupation_skill_pair': 'Python Developer > Beginner',\n",
       "   'compatible_area_of_focus': 'General coding help - Do a code review',\n",
       "   'type': 'query',\n",
       "   'difficulty': 'Easy',\n",
       "   'target_length': 1},\n",
       "  'messages': [{'role': 'user', 'content': 'r'}]},\n",
       " {'metadata': {'occupation_skill_pair': 'Python Developer > Beginner',\n",
       "   'compatible_area_of_focus': 'General coding help - Do a code review',\n",
       "   'type': 'query',\n",
       "   'difficulty': 'Easy',\n",
       "   'target_length': 1},\n",
       "  'messages': [{'role': 'user', 'content': ' '}]},\n",
       " {'metadata': {'occupation_skill_pair': 'Python Developer > Beginner',\n",
       "   'compatible_area_of_focus': 'General coding help - Do a code review',\n",
       "   'type': 'query',\n",
       "   'difficulty': 'Easy',\n",
       "   'target_length': 1},\n",
       "  'messages': [{'role': 'user', 'content': '>'}]},\n",
       " {'metadata': {'occupation_skill_pair': 'Python Developer > Beginner',\n",
       "   'compatible_area_of_focus': 'General coding help - Do a code review',\n",
       "   'type': 'query',\n",
       "   'difficulty': 'Easy',\n",
       "   'target_length': 1},\n",
       "  'messages': [{'role': 'user', 'content': ' '}]},\n",
       " {'metadata': {'occupation_skill_pair': 'Python Developer > Beginner',\n",
       "   'compatible_area_of_focus': 'General coding help - Do a code review',\n",
       "   'type': 'query',\n",
       "   'difficulty': 'Easy',\n",
       "   'target_length': 1},\n",
       "  'messages': [{'role': 'user', 'content': 'B'}]},\n",
       " {'metadata': {'occupation_skill_pair': 'Python Developer > Beginner',\n",
       "   'compatible_area_of_focus': 'General coding help - Do a code review',\n",
       "   'type': 'query',\n",
       "   'difficulty': 'Easy',\n",
       "   'target_length': 1},\n",
       "  'messages': [{'role': 'user', 'content': 'e'}]},\n",
       " {'metadata': {'occupation_skill_pair': 'Python Developer > Beginner',\n",
       "   'compatible_area_of_focus': 'General coding help - Do a code review',\n",
       "   'type': 'query',\n",
       "   'difficulty': 'Easy',\n",
       "   'target_length': 1},\n",
       "  'messages': [{'role': 'user', 'content': 'g'}]},\n",
       " {'metadata': {'occupation_skill_pair': 'Python Developer > Beginner',\n",
       "   'compatible_area_of_focus': 'General coding help - Do a code review',\n",
       "   'type': 'query',\n",
       "   'difficulty': 'Easy',\n",
       "   'target_length': 1},\n",
       "  'messages': [{'role': 'user', 'content': 'i'}]},\n",
       " {'metadata': {'occupation_skill_pair': 'Python Developer > Beginner',\n",
       "   'compatible_area_of_focus': 'General coding help - Do a code review',\n",
       "   'type': 'query',\n",
       "   'difficulty': 'Easy',\n",
       "   'target_length': 1},\n",
       "  'messages': [{'role': 'user', 'content': 'n'}]},\n",
       " {'metadata': {'occupation_skill_pair': 'Python Developer > Beginner',\n",
       "   'compatible_area_of_focus': 'General coding help - Do a code review',\n",
       "   'type': 'query',\n",
       "   'difficulty': 'Easy',\n",
       "   'target_length': 1},\n",
       "  'messages': [{'role': 'user', 'content': 'n'}]},\n",
       " {'metadata': {'occupation_skill_pair': 'Python Developer > Beginner',\n",
       "   'compatible_area_of_focus': 'General coding help - Do a code review',\n",
       "   'type': 'query',\n",
       "   'difficulty': 'Easy',\n",
       "   'target_length': 1},\n",
       "  'messages': [{'role': 'user', 'content': 'e'}]},\n",
       " {'metadata': {'occupation_skill_pair': 'Python Developer > Beginner',\n",
       "   'compatible_area_of_focus': 'General coding help - Do a code review',\n",
       "   'type': 'query',\n",
       "   'difficulty': 'Easy',\n",
       "   'target_length': 1},\n",
       "  'messages': [{'role': 'user', 'content': 'r'}]},\n",
       " {'metadata': {'occupation_skill_pair': 'Python Developer > Beginner',\n",
       "   'compatible_area_of_focus': 'Write unit test - Explain code with comments',\n",
       "   'type': 'query',\n",
       "   'difficulty': 'Easy',\n",
       "   'target_length': 1},\n",
       "  'messages': [{'role': 'user', 'content': 'P'}]},\n",
       " {'metadata': {'occupation_skill_pair': 'Python Developer > Beginner',\n",
       "   'compatible_area_of_focus': 'Write unit test - Explain code with comments',\n",
       "   'type': 'query',\n",
       "   'difficulty': 'Easy',\n",
       "   'target_length': 1},\n",
       "  'messages': [{'role': 'user', 'content': 'y'}]},\n",
       " {'metadata': {'occupation_skill_pair': 'Python Developer > Beginner',\n",
       "   'compatible_area_of_focus': 'Write unit test - Explain code with comments',\n",
       "   'type': 'query',\n",
       "   'difficulty': 'Easy',\n",
       "   'target_length': 1},\n",
       "  'messages': [{'role': 'user', 'content': 't'}]},\n",
       " {'metadata': {'occupation_skill_pair': 'Python Developer > Beginner',\n",
       "   'compatible_area_of_focus': 'Write unit test - Explain code with comments',\n",
       "   'type': 'query',\n",
       "   'difficulty': 'Easy',\n",
       "   'target_length': 1},\n",
       "  'messages': [{'role': 'user', 'content': 'h'}]},\n",
       " {'metadata': {'occupation_skill_pair': 'Python Developer > Beginner',\n",
       "   'compatible_area_of_focus': 'Write unit test - Explain code with comments',\n",
       "   'type': 'query',\n",
       "   'difficulty': 'Easy',\n",
       "   'target_length': 1},\n",
       "  'messages': [{'role': 'user', 'content': 'o'}]},\n",
       " {'metadata': {'occupation_skill_pair': 'Python Developer > Beginner',\n",
       "   'compatible_area_of_focus': 'Write unit test - Explain code with comments',\n",
       "   'type': 'query',\n",
       "   'difficulty': 'Easy',\n",
       "   'target_length': 1},\n",
       "  'messages': [{'role': 'user', 'content': 'n'}]},\n",
       " {'metadata': {'occupation_skill_pair': 'Python Developer > Beginner',\n",
       "   'compatible_area_of_focus': 'Write unit test - Explain code with comments',\n",
       "   'type': 'query',\n",
       "   'difficulty': 'Easy',\n",
       "   'target_length': 1},\n",
       "  'messages': [{'role': 'user', 'content': ' '}]},\n",
       " {'metadata': {'occupation_skill_pair': 'Python Developer > Beginner',\n",
       "   'compatible_area_of_focus': 'Write unit test - Explain code with comments',\n",
       "   'type': 'query',\n",
       "   'difficulty': 'Easy',\n",
       "   'target_length': 1},\n",
       "  'messages': [{'role': 'user', 'content': 'D'}]},\n",
       " {'metadata': {'occupation_skill_pair': 'Python Developer > Beginner',\n",
       "   'compatible_area_of_focus': 'Write unit test - Explain code with comments',\n",
       "   'type': 'query',\n",
       "   'difficulty': 'Easy',\n",
       "   'target_length': 1},\n",
       "  'messages': [{'role': 'user', 'content': 'e'}]},\n",
       " {'metadata': {'occupation_skill_pair': 'Python Developer > Beginner',\n",
       "   'compatible_area_of_focus': 'Write unit test - Explain code with comments',\n",
       "   'type': 'query',\n",
       "   'difficulty': 'Easy',\n",
       "   'target_length': 1},\n",
       "  'messages': [{'role': 'user', 'content': 'v'}]},\n",
       " {'metadata': {'occupation_skill_pair': 'Python Developer > Beginner',\n",
       "   'compatible_area_of_focus': 'Write unit test - Explain code with comments',\n",
       "   'type': 'query',\n",
       "   'difficulty': 'Easy',\n",
       "   'target_length': 1},\n",
       "  'messages': [{'role': 'user', 'content': 'e'}]},\n",
       " {'metadata': {'occupation_skill_pair': 'Python Developer > Beginner',\n",
       "   'compatible_area_of_focus': 'Write unit test - Explain code with comments',\n",
       "   'type': 'query',\n",
       "   'difficulty': 'Easy',\n",
       "   'target_length': 1},\n",
       "  'messages': [{'role': 'user', 'content': 'l'}]},\n",
       " {'metadata': {'occupation_skill_pair': 'Python Developer > Beginner',\n",
       "   'compatible_area_of_focus': 'Write unit test - Explain code with comments',\n",
       "   'type': 'query',\n",
       "   'difficulty': 'Easy',\n",
       "   'target_length': 1},\n",
       "  'messages': [{'role': 'user', 'content': 'o'}]},\n",
       " {'metadata': {'occupation_skill_pair': 'Python Developer > Beginner',\n",
       "   'compatible_area_of_focus': 'Write unit test - Explain code with comments',\n",
       "   'type': 'query',\n",
       "   'difficulty': 'Easy',\n",
       "   'target_length': 1},\n",
       "  'messages': [{'role': 'user', 'content': 'p'}]},\n",
       " {'metadata': {'occupation_skill_pair': 'Python Developer > Beginner',\n",
       "   'compatible_area_of_focus': 'Write unit test - Explain code with comments',\n",
       "   'type': 'query',\n",
       "   'difficulty': 'Easy',\n",
       "   'target_length': 1},\n",
       "  'messages': [{'role': 'user', 'content': 'e'}]},\n",
       " {'metadata': {'occupation_skill_pair': 'Python Developer > Beginner',\n",
       "   'compatible_area_of_focus': 'Write unit test - Explain code with comments',\n",
       "   'type': 'query',\n",
       "   'difficulty': 'Easy',\n",
       "   'target_length': 1},\n",
       "  'messages': [{'role': 'user', 'content': 'r'}]},\n",
       " {'metadata': {'occupation_skill_pair': 'Python Developer > Beginner',\n",
       "   'compatible_area_of_focus': 'Write unit test - Explain code with comments',\n",
       "   'type': 'query',\n",
       "   'difficulty': 'Easy',\n",
       "   'target_length': 1},\n",
       "  'messages': [{'role': 'user', 'content': ' '}]},\n",
       " {'metadata': {'occupation_skill_pair': 'Python Developer > Beginner',\n",
       "   'compatible_area_of_focus': 'Write unit test - Explain code with comments',\n",
       "   'type': 'query',\n",
       "   'difficulty': 'Easy',\n",
       "   'target_length': 1},\n",
       "  'messages': [{'role': 'user', 'content': '>'}]},\n",
       " {'metadata': {'occupation_skill_pair': 'Python Developer > Beginner',\n",
       "   'compatible_area_of_focus': 'Write unit test - Explain code with comments',\n",
       "   'type': 'query',\n",
       "   'difficulty': 'Easy',\n",
       "   'target_length': 1},\n",
       "  'messages': [{'role': 'user', 'content': ' '}]},\n",
       " {'metadata': {'occupation_skill_pair': 'Python Developer > Beginner',\n",
       "   'compatible_area_of_focus': 'Write unit test - Explain code with comments',\n",
       "   'type': 'query',\n",
       "   'difficulty': 'Easy',\n",
       "   'target_length': 1},\n",
       "  'messages': [{'role': 'user', 'content': 'B'}]},\n",
       " {'metadata': {'occupation_skill_pair': 'Python Developer > Beginner',\n",
       "   'compatible_area_of_focus': 'Write unit test - Explain code with comments',\n",
       "   'type': 'query',\n",
       "   'difficulty': 'Easy',\n",
       "   'target_length': 1},\n",
       "  'messages': [{'role': 'user', 'content': 'e'}]},\n",
       " {'metadata': {'occupation_skill_pair': 'Python Developer > Beginner',\n",
       "   'compatible_area_of_focus': 'Write unit test - Explain code with comments',\n",
       "   'type': 'query',\n",
       "   'difficulty': 'Easy',\n",
       "   'target_length': 1},\n",
       "  'messages': [{'role': 'user', 'content': 'g'}]},\n",
       " {'metadata': {'occupation_skill_pair': 'Python Developer > Beginner',\n",
       "   'compatible_area_of_focus': 'Write unit test - Explain code with comments',\n",
       "   'type': 'query',\n",
       "   'difficulty': 'Easy',\n",
       "   'target_length': 1},\n",
       "  'messages': [{'role': 'user', 'content': 'i'}]},\n",
       " {'metadata': {'occupation_skill_pair': 'Python Developer > Beginner',\n",
       "   'compatible_area_of_focus': 'Write unit test - Explain code with comments',\n",
       "   'type': 'query',\n",
       "   'difficulty': 'Easy',\n",
       "   'target_length': 1},\n",
       "  'messages': [{'role': 'user', 'content': 'n'}]},\n",
       " {'metadata': {'occupation_skill_pair': 'Python Developer > Beginner',\n",
       "   'compatible_area_of_focus': 'Write unit test - Explain code with comments',\n",
       "   'type': 'query',\n",
       "   'difficulty': 'Easy',\n",
       "   'target_length': 1},\n",
       "  'messages': [{'role': 'user', 'content': 'n'}]},\n",
       " {'metadata': {'occupation_skill_pair': 'Python Developer > Beginner',\n",
       "   'compatible_area_of_focus': 'Write unit test - Explain code with comments',\n",
       "   'type': 'query',\n",
       "   'difficulty': 'Easy',\n",
       "   'target_length': 1},\n",
       "  'messages': [{'role': 'user', 'content': 'e'}]},\n",
       " {'metadata': {'occupation_skill_pair': 'Python Developer > Beginner',\n",
       "   'compatible_area_of_focus': 'Write unit test - Explain code with comments',\n",
       "   'type': 'query',\n",
       "   'difficulty': 'Easy',\n",
       "   'target_length': 1},\n",
       "  'messages': [{'role': 'user', 'content': 'r'}]},\n",
       " {'metadata': {'occupation_skill_pair': 'Python Developer > Beginner',\n",
       "   'compatible_area_of_focus': 'Interview preparation - Explain the problem step by step',\n",
       "   'type': 'query',\n",
       "   'difficulty': 'Easy',\n",
       "   'target_length': 1},\n",
       "  'messages': [{'role': 'user', 'content': 'P'}]},\n",
       " {'metadata': {'occupation_skill_pair': 'Python Developer > Beginner',\n",
       "   'compatible_area_of_focus': 'Interview preparation - Explain the problem step by step',\n",
       "   'type': 'query',\n",
       "   'difficulty': 'Easy',\n",
       "   'target_length': 1},\n",
       "  'messages': [{'role': 'user', 'content': 'y'}]},\n",
       " {'metadata': {'occupation_skill_pair': 'Python Developer > Beginner',\n",
       "   'compatible_area_of_focus': 'Interview preparation - Explain the problem step by step',\n",
       "   'type': 'query',\n",
       "   'difficulty': 'Easy',\n",
       "   'target_length': 1},\n",
       "  'messages': [{'role': 'user', 'content': 't'}]},\n",
       " {'metadata': {'occupation_skill_pair': 'Python Developer > Beginner',\n",
       "   'compatible_area_of_focus': 'Interview preparation - Explain the problem step by step',\n",
       "   'type': 'query',\n",
       "   'difficulty': 'Easy',\n",
       "   'target_length': 1},\n",
       "  'messages': [{'role': 'user', 'content': 'h'}]},\n",
       " {'metadata': {'occupation_skill_pair': 'Python Developer > Beginner',\n",
       "   'compatible_area_of_focus': 'Interview preparation - Explain the problem step by step',\n",
       "   'type': 'query',\n",
       "   'difficulty': 'Easy',\n",
       "   'target_length': 1},\n",
       "  'messages': [{'role': 'user', 'content': 'o'}]},\n",
       " {'metadata': {'occupation_skill_pair': 'Python Developer > Beginner',\n",
       "   'compatible_area_of_focus': 'Interview preparation - Explain the problem step by step',\n",
       "   'type': 'query',\n",
       "   'difficulty': 'Easy',\n",
       "   'target_length': 1},\n",
       "  'messages': [{'role': 'user', 'content': 'n'}]},\n",
       " {'metadata': {'occupation_skill_pair': 'Python Developer > Beginner',\n",
       "   'compatible_area_of_focus': 'Interview preparation - Explain the problem step by step',\n",
       "   'type': 'query',\n",
       "   'difficulty': 'Easy',\n",
       "   'target_length': 1},\n",
       "  'messages': [{'role': 'user', 'content': ' '}]},\n",
       " {'metadata': {'occupation_skill_pair': 'Python Developer > Beginner',\n",
       "   'compatible_area_of_focus': 'Interview preparation - Explain the problem step by step',\n",
       "   'type': 'query',\n",
       "   'difficulty': 'Easy',\n",
       "   'target_length': 1},\n",
       "  'messages': [{'role': 'user', 'content': 'D'}]},\n",
       " {'metadata': {'occupation_skill_pair': 'Python Developer > Beginner',\n",
       "   'compatible_area_of_focus': 'Interview preparation - Explain the problem step by step',\n",
       "   'type': 'query',\n",
       "   'difficulty': 'Easy',\n",
       "   'target_length': 1},\n",
       "  'messages': [{'role': 'user', 'content': 'e'}]},\n",
       " {'metadata': {'occupation_skill_pair': 'Python Developer > Beginner',\n",
       "   'compatible_area_of_focus': 'Interview preparation - Explain the problem step by step',\n",
       "   'type': 'query',\n",
       "   'difficulty': 'Easy',\n",
       "   'target_length': 1},\n",
       "  'messages': [{'role': 'user', 'content': 'v'}]},\n",
       " {'metadata': {'occupation_skill_pair': 'Python Developer > Beginner',\n",
       "   'compatible_area_of_focus': 'Interview preparation - Explain the problem step by step',\n",
       "   'type': 'query',\n",
       "   'difficulty': 'Easy',\n",
       "   'target_length': 1},\n",
       "  'messages': [{'role': 'user', 'content': 'e'}]},\n",
       " {'metadata': {'occupation_skill_pair': 'Python Developer > Beginner',\n",
       "   'compatible_area_of_focus': 'Interview preparation - Explain the problem step by step',\n",
       "   'type': 'query',\n",
       "   'difficulty': 'Easy',\n",
       "   'target_length': 1},\n",
       "  'messages': [{'role': 'user', 'content': 'l'}]},\n",
       " {'metadata': {'occupation_skill_pair': 'Python Developer > Beginner',\n",
       "   'compatible_area_of_focus': 'Interview preparation - Explain the problem step by step',\n",
       "   'type': 'query',\n",
       "   'difficulty': 'Easy',\n",
       "   'target_length': 1},\n",
       "  'messages': [{'role': 'user', 'content': 'o'}]},\n",
       " {'metadata': {'occupation_skill_pair': 'Python Developer > Beginner',\n",
       "   'compatible_area_of_focus': 'Interview preparation - Explain the problem step by step',\n",
       "   'type': 'query',\n",
       "   'difficulty': 'Easy',\n",
       "   'target_length': 1},\n",
       "  'messages': [{'role': 'user', 'content': 'p'}]},\n",
       " {'metadata': {'occupation_skill_pair': 'Python Developer > Beginner',\n",
       "   'compatible_area_of_focus': 'Interview preparation - Explain the problem step by step',\n",
       "   'type': 'query',\n",
       "   'difficulty': 'Easy',\n",
       "   'target_length': 1},\n",
       "  'messages': [{'role': 'user', 'content': 'e'}]},\n",
       " {'metadata': {'occupation_skill_pair': 'Python Developer > Beginner',\n",
       "   'compatible_area_of_focus': 'Interview preparation - Explain the problem step by step',\n",
       "   'type': 'query',\n",
       "   'difficulty': 'Easy',\n",
       "   'target_length': 1},\n",
       "  'messages': [{'role': 'user', 'content': 'r'}]},\n",
       " {'metadata': {'occupation_skill_pair': 'Python Developer > Beginner',\n",
       "   'compatible_area_of_focus': 'Interview preparation - Explain the problem step by step',\n",
       "   'type': 'query',\n",
       "   'difficulty': 'Easy',\n",
       "   'target_length': 1},\n",
       "  'messages': [{'role': 'user', 'content': ' '}]},\n",
       " {'metadata': {'occupation_skill_pair': 'Python Developer > Beginner',\n",
       "   'compatible_area_of_focus': 'Interview preparation - Explain the problem step by step',\n",
       "   'type': 'query',\n",
       "   'difficulty': 'Easy',\n",
       "   'target_length': 1},\n",
       "  'messages': [{'role': 'user', 'content': '>'}]},\n",
       " {'metadata': {'occupation_skill_pair': 'Python Developer > Beginner',\n",
       "   'compatible_area_of_focus': 'Interview preparation - Explain the problem step by step',\n",
       "   'type': 'query',\n",
       "   'difficulty': 'Easy',\n",
       "   'target_length': 1},\n",
       "  'messages': [{'role': 'user', 'content': ' '}]},\n",
       " {'metadata': {'occupation_skill_pair': 'Python Developer > Beginner',\n",
       "   'compatible_area_of_focus': 'Interview preparation - Explain the problem step by step',\n",
       "   'type': 'query',\n",
       "   'difficulty': 'Easy',\n",
       "   'target_length': 1},\n",
       "  'messages': [{'role': 'user', 'content': 'B'}]},\n",
       " {'metadata': {'occupation_skill_pair': 'Python Developer > Beginner',\n",
       "   'compatible_area_of_focus': 'Interview preparation - Explain the problem step by step',\n",
       "   'type': 'query',\n",
       "   'difficulty': 'Easy',\n",
       "   'target_length': 1},\n",
       "  'messages': [{'role': 'user', 'content': 'e'}]},\n",
       " {'metadata': {'occupation_skill_pair': 'Python Developer > Beginner',\n",
       "   'compatible_area_of_focus': 'Interview preparation - Explain the problem step by step',\n",
       "   'type': 'query',\n",
       "   'difficulty': 'Easy',\n",
       "   'target_length': 1},\n",
       "  'messages': [{'role': 'user', 'content': 'g'}]},\n",
       " {'metadata': {'occupation_skill_pair': 'Python Developer > Beginner',\n",
       "   'compatible_area_of_focus': 'Interview preparation - Explain the problem step by step',\n",
       "   'type': 'query',\n",
       "   'difficulty': 'Easy',\n",
       "   'target_length': 1},\n",
       "  'messages': [{'role': 'user', 'content': 'i'}]},\n",
       " {'metadata': {'occupation_skill_pair': 'Python Developer > Beginner',\n",
       "   'compatible_area_of_focus': 'Interview preparation - Explain the problem step by step',\n",
       "   'type': 'query',\n",
       "   'difficulty': 'Easy',\n",
       "   'target_length': 1},\n",
       "  'messages': [{'role': 'user', 'content': 'n'}]},\n",
       " {'metadata': {'occupation_skill_pair': 'Python Developer > Beginner',\n",
       "   'compatible_area_of_focus': 'Interview preparation - Explain the problem step by step',\n",
       "   'type': 'query',\n",
       "   'difficulty': 'Easy',\n",
       "   'target_length': 1},\n",
       "  'messages': [{'role': 'user', 'content': 'n'}]},\n",
       " {'metadata': {'occupation_skill_pair': 'Python Developer > Beginner',\n",
       "   'compatible_area_of_focus': 'Interview preparation - Explain the problem step by step',\n",
       "   'type': 'query',\n",
       "   'difficulty': 'Easy',\n",
       "   'target_length': 1},\n",
       "  'messages': [{'role': 'user', 'content': 'e'}]},\n",
       " {'metadata': {'occupation_skill_pair': 'Python Developer > Beginner',\n",
       "   'compatible_area_of_focus': 'Interview preparation - Explain the problem step by step',\n",
       "   'type': 'query',\n",
       "   'difficulty': 'Easy',\n",
       "   'target_length': 1},\n",
       "  'messages': [{'role': 'user', 'content': 'r'}]},\n",
       " {'metadata': {'occupation_skill_pair': 'Python Developer > Beginner',\n",
       "   'compatible_area_of_focus': 'Interview preparation - Explain areas where people usually make mistakes',\n",
       "   'type': 'query',\n",
       "   'difficulty': 'Easy',\n",
       "   'target_length': 1},\n",
       "  'messages': [{'role': 'user', 'content': 'P'}]},\n",
       " {'metadata': {'occupation_skill_pair': 'Python Developer > Beginner',\n",
       "   'compatible_area_of_focus': 'Interview preparation - Explain areas where people usually make mistakes',\n",
       "   'type': 'query',\n",
       "   'difficulty': 'Easy',\n",
       "   'target_length': 1},\n",
       "  'messages': [{'role': 'user', 'content': 'y'}]},\n",
       " {'metadata': {'occupation_skill_pair': 'Python Developer > Beginner',\n",
       "   'compatible_area_of_focus': 'Interview preparation - Explain areas where people usually make mistakes',\n",
       "   'type': 'query',\n",
       "   'difficulty': 'Easy',\n",
       "   'target_length': 1},\n",
       "  'messages': [{'role': 'user', 'content': 't'}]},\n",
       " {'metadata': {'occupation_skill_pair': 'Python Developer > Beginner',\n",
       "   'compatible_area_of_focus': 'Interview preparation - Explain areas where people usually make mistakes',\n",
       "   'type': 'query',\n",
       "   'difficulty': 'Easy',\n",
       "   'target_length': 1},\n",
       "  'messages': [{'role': 'user', 'content': 'h'}]},\n",
       " {'metadata': {'occupation_skill_pair': 'Python Developer > Beginner',\n",
       "   'compatible_area_of_focus': 'Interview preparation - Explain areas where people usually make mistakes',\n",
       "   'type': 'query',\n",
       "   'difficulty': 'Easy',\n",
       "   'target_length': 1},\n",
       "  'messages': [{'role': 'user', 'content': 'o'}]},\n",
       " {'metadata': {'occupation_skill_pair': 'Python Developer > Beginner',\n",
       "   'compatible_area_of_focus': 'Interview preparation - Explain areas where people usually make mistakes',\n",
       "   'type': 'query',\n",
       "   'difficulty': 'Easy',\n",
       "   'target_length': 1},\n",
       "  'messages': [{'role': 'user', 'content': 'n'}]},\n",
       " {'metadata': {'occupation_skill_pair': 'Python Developer > Beginner',\n",
       "   'compatible_area_of_focus': 'Interview preparation - Explain areas where people usually make mistakes',\n",
       "   'type': 'query',\n",
       "   'difficulty': 'Easy',\n",
       "   'target_length': 1},\n",
       "  'messages': [{'role': 'user', 'content': ' '}]},\n",
       " {'metadata': {'occupation_skill_pair': 'Python Developer > Beginner',\n",
       "   'compatible_area_of_focus': 'Interview preparation - Explain areas where people usually make mistakes',\n",
       "   'type': 'query',\n",
       "   'difficulty': 'Easy',\n",
       "   'target_length': 1},\n",
       "  'messages': [{'role': 'user', 'content': 'D'}]},\n",
       " {'metadata': {'occupation_skill_pair': 'Python Developer > Beginner',\n",
       "   'compatible_area_of_focus': 'Interview preparation - Explain areas where people usually make mistakes',\n",
       "   'type': 'query',\n",
       "   'difficulty': 'Easy',\n",
       "   'target_length': 1},\n",
       "  'messages': [{'role': 'user', 'content': 'e'}]},\n",
       " {'metadata': {'occupation_skill_pair': 'Python Developer > Beginner',\n",
       "   'compatible_area_of_focus': 'Interview preparation - Explain areas where people usually make mistakes',\n",
       "   'type': 'query',\n",
       "   'difficulty': 'Easy',\n",
       "   'target_length': 1},\n",
       "  'messages': [{'role': 'user', 'content': 'v'}]},\n",
       " {'metadata': {'occupation_skill_pair': 'Python Developer > Beginner',\n",
       "   'compatible_area_of_focus': 'Interview preparation - Explain areas where people usually make mistakes',\n",
       "   'type': 'query',\n",
       "   'difficulty': 'Easy',\n",
       "   'target_length': 1},\n",
       "  'messages': [{'role': 'user', 'content': 'e'}]},\n",
       " {'metadata': {'occupation_skill_pair': 'Python Developer > Beginner',\n",
       "   'compatible_area_of_focus': 'Interview preparation - Explain areas where people usually make mistakes',\n",
       "   'type': 'query',\n",
       "   'difficulty': 'Easy',\n",
       "   'target_length': 1},\n",
       "  'messages': [{'role': 'user', 'content': 'l'}]},\n",
       " {'metadata': {'occupation_skill_pair': 'Python Developer > Beginner',\n",
       "   'compatible_area_of_focus': 'Interview preparation - Explain areas where people usually make mistakes',\n",
       "   'type': 'query',\n",
       "   'difficulty': 'Easy',\n",
       "   'target_length': 1},\n",
       "  'messages': [{'role': 'user', 'content': 'o'}]},\n",
       " {'metadata': {'occupation_skill_pair': 'Python Developer > Beginner',\n",
       "   'compatible_area_of_focus': 'Interview preparation - Explain areas where people usually make mistakes',\n",
       "   'type': 'query',\n",
       "   'difficulty': 'Easy',\n",
       "   'target_length': 1},\n",
       "  'messages': [{'role': 'user', 'content': 'p'}]},\n",
       " {'metadata': {'occupation_skill_pair': 'Python Developer > Beginner',\n",
       "   'compatible_area_of_focus': 'Interview preparation - Explain areas where people usually make mistakes',\n",
       "   'type': 'query',\n",
       "   'difficulty': 'Easy',\n",
       "   'target_length': 1},\n",
       "  'messages': [{'role': 'user', 'content': 'e'}]},\n",
       " {'metadata': {'occupation_skill_pair': 'Python Developer > Beginner',\n",
       "   'compatible_area_of_focus': 'Interview preparation - Explain areas where people usually make mistakes',\n",
       "   'type': 'query',\n",
       "   'difficulty': 'Easy',\n",
       "   'target_length': 1},\n",
       "  'messages': [{'role': 'user', 'content': 'r'}]},\n",
       " {'metadata': {'occupation_skill_pair': 'Python Developer > Beginner',\n",
       "   'compatible_area_of_focus': 'Interview preparation - Explain areas where people usually make mistakes',\n",
       "   'type': 'query',\n",
       "   'difficulty': 'Easy',\n",
       "   'target_length': 1},\n",
       "  'messages': [{'role': 'user', 'content': ' '}]},\n",
       " {'metadata': {'occupation_skill_pair': 'Python Developer > Beginner',\n",
       "   'compatible_area_of_focus': 'Interview preparation - Explain areas where people usually make mistakes',\n",
       "   'type': 'query',\n",
       "   'difficulty': 'Easy',\n",
       "   'target_length': 1},\n",
       "  'messages': [{'role': 'user', 'content': '>'}]},\n",
       " {'metadata': {'occupation_skill_pair': 'Python Developer > Beginner',\n",
       "   'compatible_area_of_focus': 'Interview preparation - Explain areas where people usually make mistakes',\n",
       "   'type': 'query',\n",
       "   'difficulty': 'Easy',\n",
       "   'target_length': 1},\n",
       "  'messages': [{'role': 'user', 'content': ' '}]},\n",
       " {'metadata': {'occupation_skill_pair': 'Python Developer > Beginner',\n",
       "   'compatible_area_of_focus': 'Interview preparation - Explain areas where people usually make mistakes',\n",
       "   'type': 'query',\n",
       "   'difficulty': 'Easy',\n",
       "   'target_length': 1},\n",
       "  'messages': [{'role': 'user', 'content': 'B'}]},\n",
       " {'metadata': {'occupation_skill_pair': 'Python Developer > Beginner',\n",
       "   'compatible_area_of_focus': 'Interview preparation - Explain areas where people usually make mistakes',\n",
       "   'type': 'query',\n",
       "   'difficulty': 'Easy',\n",
       "   'target_length': 1},\n",
       "  'messages': [{'role': 'user', 'content': 'e'}]},\n",
       " {'metadata': {'occupation_skill_pair': 'Python Developer > Beginner',\n",
       "   'compatible_area_of_focus': 'Interview preparation - Explain areas where people usually make mistakes',\n",
       "   'type': 'query',\n",
       "   'difficulty': 'Easy',\n",
       "   'target_length': 1},\n",
       "  'messages': [{'role': 'user', 'content': 'g'}]},\n",
       " {'metadata': {'occupation_skill_pair': 'Python Developer > Beginner',\n",
       "   'compatible_area_of_focus': 'Interview preparation - Explain areas where people usually make mistakes',\n",
       "   'type': 'query',\n",
       "   'difficulty': 'Easy',\n",
       "   'target_length': 1},\n",
       "  'messages': [{'role': 'user', 'content': 'i'}]},\n",
       " {'metadata': {'occupation_skill_pair': 'Python Developer > Beginner',\n",
       "   'compatible_area_of_focus': 'Interview preparation - Explain areas where people usually make mistakes',\n",
       "   'type': 'query',\n",
       "   'difficulty': 'Easy',\n",
       "   'target_length': 1},\n",
       "  'messages': [{'role': 'user', 'content': 'n'}]},\n",
       " {'metadata': {'occupation_skill_pair': 'Python Developer > Beginner',\n",
       "   'compatible_area_of_focus': 'Interview preparation - Explain areas where people usually make mistakes',\n",
       "   'type': 'query',\n",
       "   'difficulty': 'Easy',\n",
       "   'target_length': 1},\n",
       "  'messages': [{'role': 'user', 'content': 'n'}]},\n",
       " {'metadata': {'occupation_skill_pair': 'Python Developer > Beginner',\n",
       "   'compatible_area_of_focus': 'Interview preparation - Explain areas where people usually make mistakes',\n",
       "   'type': 'query',\n",
       "   'difficulty': 'Easy',\n",
       "   'target_length': 1},\n",
       "  'messages': [{'role': 'user', 'content': 'e'}]},\n",
       " {'metadata': {'occupation_skill_pair': 'Python Developer > Beginner',\n",
       "   'compatible_area_of_focus': 'Interview preparation - Explain areas where people usually make mistakes',\n",
       "   'type': 'query',\n",
       "   'difficulty': 'Easy',\n",
       "   'target_length': 1},\n",
       "  'messages': [{'role': 'user', 'content': 'r'}]},\n",
       " {'metadata': {'occupation_skill_pair': 'Python Developer > Beginner',\n",
       "   'compatible_area_of_focus': 'Interview preparation - Explain alternative solutions and trade offs',\n",
       "   'type': 'query',\n",
       "   'difficulty': 'Easy',\n",
       "   'target_length': 1},\n",
       "  'messages': [{'role': 'user', 'content': 'P'}]},\n",
       " {'metadata': {'occupation_skill_pair': 'Python Developer > Beginner',\n",
       "   'compatible_area_of_focus': 'Interview preparation - Explain alternative solutions and trade offs',\n",
       "   'type': 'query',\n",
       "   'difficulty': 'Easy',\n",
       "   'target_length': 1},\n",
       "  'messages': [{'role': 'user', 'content': 'y'}]},\n",
       " {'metadata': {'occupation_skill_pair': 'Python Developer > Beginner',\n",
       "   'compatible_area_of_focus': 'Interview preparation - Explain alternative solutions and trade offs',\n",
       "   'type': 'query',\n",
       "   'difficulty': 'Easy',\n",
       "   'target_length': 1},\n",
       "  'messages': [{'role': 'user', 'content': 't'}]},\n",
       " {'metadata': {'occupation_skill_pair': 'Python Developer > Beginner',\n",
       "   'compatible_area_of_focus': 'Interview preparation - Explain alternative solutions and trade offs',\n",
       "   'type': 'query',\n",
       "   'difficulty': 'Easy',\n",
       "   'target_length': 1},\n",
       "  'messages': [{'role': 'user', 'content': 'h'}]},\n",
       " {'metadata': {'occupation_skill_pair': 'Python Developer > Beginner',\n",
       "   'compatible_area_of_focus': 'Interview preparation - Explain alternative solutions and trade offs',\n",
       "   'type': 'query',\n",
       "   'difficulty': 'Easy',\n",
       "   'target_length': 1},\n",
       "  'messages': [{'role': 'user', 'content': 'o'}]},\n",
       " {'metadata': {'occupation_skill_pair': 'Python Developer > Beginner',\n",
       "   'compatible_area_of_focus': 'Interview preparation - Explain alternative solutions and trade offs',\n",
       "   'type': 'query',\n",
       "   'difficulty': 'Easy',\n",
       "   'target_length': 1},\n",
       "  'messages': [{'role': 'user', 'content': 'n'}]},\n",
       " {'metadata': {'occupation_skill_pair': 'Python Developer > Beginner',\n",
       "   'compatible_area_of_focus': 'Interview preparation - Explain alternative solutions and trade offs',\n",
       "   'type': 'query',\n",
       "   'difficulty': 'Easy',\n",
       "   'target_length': 1},\n",
       "  'messages': [{'role': 'user', 'content': ' '}]},\n",
       " {'metadata': {'occupation_skill_pair': 'Python Developer > Beginner',\n",
       "   'compatible_area_of_focus': 'Interview preparation - Explain alternative solutions and trade offs',\n",
       "   'type': 'query',\n",
       "   'difficulty': 'Easy',\n",
       "   'target_length': 1},\n",
       "  'messages': [{'role': 'user', 'content': 'D'}]},\n",
       " {'metadata': {'occupation_skill_pair': 'Python Developer > Beginner',\n",
       "   'compatible_area_of_focus': 'Interview preparation - Explain alternative solutions and trade offs',\n",
       "   'type': 'query',\n",
       "   'difficulty': 'Easy',\n",
       "   'target_length': 1},\n",
       "  'messages': [{'role': 'user', 'content': 'e'}]},\n",
       " {'metadata': {'occupation_skill_pair': 'Python Developer > Beginner',\n",
       "   'compatible_area_of_focus': 'Interview preparation - Explain alternative solutions and trade offs',\n",
       "   'type': 'query',\n",
       "   'difficulty': 'Easy',\n",
       "   'target_length': 1},\n",
       "  'messages': [{'role': 'user', 'content': 'v'}]},\n",
       " {'metadata': {'occupation_skill_pair': 'Python Developer > Beginner',\n",
       "   'compatible_area_of_focus': 'Interview preparation - Explain alternative solutions and trade offs',\n",
       "   'type': 'query',\n",
       "   'difficulty': 'Easy',\n",
       "   'target_length': 1},\n",
       "  'messages': [{'role': 'user', 'content': 'e'}]},\n",
       " {'metadata': {'occupation_skill_pair': 'Python Developer > Beginner',\n",
       "   'compatible_area_of_focus': 'Interview preparation - Explain alternative solutions and trade offs',\n",
       "   'type': 'query',\n",
       "   'difficulty': 'Easy',\n",
       "   'target_length': 1},\n",
       "  'messages': [{'role': 'user', 'content': 'l'}]},\n",
       " {'metadata': {'occupation_skill_pair': 'Python Developer > Beginner',\n",
       "   'compatible_area_of_focus': 'Interview preparation - Explain alternative solutions and trade offs',\n",
       "   'type': 'query',\n",
       "   'difficulty': 'Easy',\n",
       "   'target_length': 1},\n",
       "  'messages': [{'role': 'user', 'content': 'o'}]},\n",
       " {'metadata': {'occupation_skill_pair': 'Python Developer > Beginner',\n",
       "   'compatible_area_of_focus': 'Interview preparation - Explain alternative solutions and trade offs',\n",
       "   'type': 'query',\n",
       "   'difficulty': 'Easy',\n",
       "   'target_length': 1},\n",
       "  'messages': [{'role': 'user', 'content': 'p'}]},\n",
       " {'metadata': {'occupation_skill_pair': 'Python Developer > Beginner',\n",
       "   'compatible_area_of_focus': 'Interview preparation - Explain alternative solutions and trade offs',\n",
       "   'type': 'query',\n",
       "   'difficulty': 'Easy',\n",
       "   'target_length': 1},\n",
       "  'messages': [{'role': 'user', 'content': 'e'}]},\n",
       " {'metadata': {'occupation_skill_pair': 'Python Developer > Beginner',\n",
       "   'compatible_area_of_focus': 'Interview preparation - Explain alternative solutions and trade offs',\n",
       "   'type': 'query',\n",
       "   'difficulty': 'Easy',\n",
       "   'target_length': 1},\n",
       "  'messages': [{'role': 'user', 'content': 'r'}]},\n",
       " {'metadata': {'occupation_skill_pair': 'Python Developer > Beginner',\n",
       "   'compatible_area_of_focus': 'Interview preparation - Explain alternative solutions and trade offs',\n",
       "   'type': 'query',\n",
       "   'difficulty': 'Easy',\n",
       "   'target_length': 1},\n",
       "  'messages': [{'role': 'user', 'content': ' '}]},\n",
       " {'metadata': {'occupation_skill_pair': 'Python Developer > Beginner',\n",
       "   'compatible_area_of_focus': 'Interview preparation - Explain alternative solutions and trade offs',\n",
       "   'type': 'query',\n",
       "   'difficulty': 'Easy',\n",
       "   'target_length': 1},\n",
       "  'messages': [{'role': 'user', 'content': '>'}]},\n",
       " {'metadata': {'occupation_skill_pair': 'Python Developer > Beginner',\n",
       "   'compatible_area_of_focus': 'Interview preparation - Explain alternative solutions and trade offs',\n",
       "   'type': 'query',\n",
       "   'difficulty': 'Easy',\n",
       "   'target_length': 1},\n",
       "  'messages': [{'role': 'user', 'content': ' '}]},\n",
       " {'metadata': {'occupation_skill_pair': 'Python Developer > Beginner',\n",
       "   'compatible_area_of_focus': 'Interview preparation - Explain alternative solutions and trade offs',\n",
       "   'type': 'query',\n",
       "   'difficulty': 'Easy',\n",
       "   'target_length': 1},\n",
       "  'messages': [{'role': 'user', 'content': 'B'}]},\n",
       " {'metadata': {'occupation_skill_pair': 'Python Developer > Beginner',\n",
       "   'compatible_area_of_focus': 'Interview preparation - Explain alternative solutions and trade offs',\n",
       "   'type': 'query',\n",
       "   'difficulty': 'Easy',\n",
       "   'target_length': 1},\n",
       "  'messages': [{'role': 'user', 'content': 'e'}]},\n",
       " {'metadata': {'occupation_skill_pair': 'Python Developer > Beginner',\n",
       "   'compatible_area_of_focus': 'Interview preparation - Explain alternative solutions and trade offs',\n",
       "   'type': 'query',\n",
       "   'difficulty': 'Easy',\n",
       "   'target_length': 1},\n",
       "  'messages': [{'role': 'user', 'content': 'g'}]},\n",
       " {'metadata': {'occupation_skill_pair': 'Python Developer > Beginner',\n",
       "   'compatible_area_of_focus': 'Interview preparation - Explain alternative solutions and trade offs',\n",
       "   'type': 'query',\n",
       "   'difficulty': 'Easy',\n",
       "   'target_length': 1},\n",
       "  'messages': [{'role': 'user', 'content': 'i'}]},\n",
       " {'metadata': {'occupation_skill_pair': 'Python Developer > Beginner',\n",
       "   'compatible_area_of_focus': 'Interview preparation - Explain alternative solutions and trade offs',\n",
       "   'type': 'query',\n",
       "   'difficulty': 'Easy',\n",
       "   'target_length': 1},\n",
       "  'messages': [{'role': 'user', 'content': 'n'}]},\n",
       " {'metadata': {'occupation_skill_pair': 'Python Developer > Beginner',\n",
       "   'compatible_area_of_focus': 'Interview preparation - Explain alternative solutions and trade offs',\n",
       "   'type': 'query',\n",
       "   'difficulty': 'Easy',\n",
       "   'target_length': 1},\n",
       "  'messages': [{'role': 'user', 'content': 'n'}]},\n",
       " {'metadata': {'occupation_skill_pair': 'Python Developer > Beginner',\n",
       "   'compatible_area_of_focus': 'Interview preparation - Explain alternative solutions and trade offs',\n",
       "   'type': 'query',\n",
       "   'difficulty': 'Easy',\n",
       "   'target_length': 1},\n",
       "  'messages': [{'role': 'user', 'content': 'e'}]},\n",
       " {'metadata': {'occupation_skill_pair': 'Python Developer > Beginner',\n",
       "   'compatible_area_of_focus': 'Interview preparation - Explain alternative solutions and trade offs',\n",
       "   'type': 'query',\n",
       "   'difficulty': 'Easy',\n",
       "   'target_length': 1},\n",
       "  'messages': [{'role': 'user', 'content': 'r'}]},\n",
       " {'metadata': {'occupation_skill_pair': 'Python Developer > Beginner',\n",
       "   'compatible_area_of_focus': 'Interview preparation - Debug and fix code',\n",
       "   'type': 'query',\n",
       "   'difficulty': 'Easy',\n",
       "   'target_length': 1},\n",
       "  'messages': [{'role': 'user', 'content': 'P'}]},\n",
       " {'metadata': {'occupation_skill_pair': 'Python Developer > Beginner',\n",
       "   'compatible_area_of_focus': 'Interview preparation - Debug and fix code',\n",
       "   'type': 'query',\n",
       "   'difficulty': 'Easy',\n",
       "   'target_length': 1},\n",
       "  'messages': [{'role': 'user', 'content': 'y'}]},\n",
       " {'metadata': {'occupation_skill_pair': 'Python Developer > Beginner',\n",
       "   'compatible_area_of_focus': 'Interview preparation - Debug and fix code',\n",
       "   'type': 'query',\n",
       "   'difficulty': 'Easy',\n",
       "   'target_length': 1},\n",
       "  'messages': [{'role': 'user', 'content': 't'}]},\n",
       " {'metadata': {'occupation_skill_pair': 'Python Developer > Beginner',\n",
       "   'compatible_area_of_focus': 'Interview preparation - Debug and fix code',\n",
       "   'type': 'query',\n",
       "   'difficulty': 'Easy',\n",
       "   'target_length': 1},\n",
       "  'messages': [{'role': 'user', 'content': 'h'}]},\n",
       " {'metadata': {'occupation_skill_pair': 'Python Developer > Beginner',\n",
       "   'compatible_area_of_focus': 'Interview preparation - Debug and fix code',\n",
       "   'type': 'query',\n",
       "   'difficulty': 'Easy',\n",
       "   'target_length': 1},\n",
       "  'messages': [{'role': 'user', 'content': 'o'}]},\n",
       " {'metadata': {'occupation_skill_pair': 'Python Developer > Beginner',\n",
       "   'compatible_area_of_focus': 'Interview preparation - Debug and fix code',\n",
       "   'type': 'query',\n",
       "   'difficulty': 'Easy',\n",
       "   'target_length': 1},\n",
       "  'messages': [{'role': 'user', 'content': 'n'}]},\n",
       " {'metadata': {'occupation_skill_pair': 'Python Developer > Beginner',\n",
       "   'compatible_area_of_focus': 'Interview preparation - Debug and fix code',\n",
       "   'type': 'query',\n",
       "   'difficulty': 'Easy',\n",
       "   'target_length': 1},\n",
       "  'messages': [{'role': 'user', 'content': ' '}]},\n",
       " {'metadata': {'occupation_skill_pair': 'Python Developer > Beginner',\n",
       "   'compatible_area_of_focus': 'Interview preparation - Debug and fix code',\n",
       "   'type': 'query',\n",
       "   'difficulty': 'Easy',\n",
       "   'target_length': 1},\n",
       "  'messages': [{'role': 'user', 'content': 'D'}]},\n",
       " {'metadata': {'occupation_skill_pair': 'Python Developer > Beginner',\n",
       "   'compatible_area_of_focus': 'Interview preparation - Debug and fix code',\n",
       "   'type': 'query',\n",
       "   'difficulty': 'Easy',\n",
       "   'target_length': 1},\n",
       "  'messages': [{'role': 'user', 'content': 'e'}]},\n",
       " {'metadata': {'occupation_skill_pair': 'Python Developer > Beginner',\n",
       "   'compatible_area_of_focus': 'Interview preparation - Debug and fix code',\n",
       "   'type': 'query',\n",
       "   'difficulty': 'Easy',\n",
       "   'target_length': 1},\n",
       "  'messages': [{'role': 'user', 'content': 'v'}]},\n",
       " {'metadata': {'occupation_skill_pair': 'Python Developer > Beginner',\n",
       "   'compatible_area_of_focus': 'Interview preparation - Debug and fix code',\n",
       "   'type': 'query',\n",
       "   'difficulty': 'Easy',\n",
       "   'target_length': 1},\n",
       "  'messages': [{'role': 'user', 'content': 'e'}]},\n",
       " {'metadata': {'occupation_skill_pair': 'Python Developer > Beginner',\n",
       "   'compatible_area_of_focus': 'Interview preparation - Debug and fix code',\n",
       "   'type': 'query',\n",
       "   'difficulty': 'Easy',\n",
       "   'target_length': 1},\n",
       "  'messages': [{'role': 'user', 'content': 'l'}]},\n",
       " {'metadata': {'occupation_skill_pair': 'Python Developer > Beginner',\n",
       "   'compatible_area_of_focus': 'Interview preparation - Debug and fix code',\n",
       "   'type': 'query',\n",
       "   'difficulty': 'Easy',\n",
       "   'target_length': 1},\n",
       "  'messages': [{'role': 'user', 'content': 'o'}]},\n",
       " {'metadata': {'occupation_skill_pair': 'Python Developer > Beginner',\n",
       "   'compatible_area_of_focus': 'Interview preparation - Debug and fix code',\n",
       "   'type': 'query',\n",
       "   'difficulty': 'Easy',\n",
       "   'target_length': 1},\n",
       "  'messages': [{'role': 'user', 'content': 'p'}]},\n",
       " {'metadata': {'occupation_skill_pair': 'Python Developer > Beginner',\n",
       "   'compatible_area_of_focus': 'Interview preparation - Debug and fix code',\n",
       "   'type': 'query',\n",
       "   'difficulty': 'Easy',\n",
       "   'target_length': 1},\n",
       "  'messages': [{'role': 'user', 'content': 'e'}]},\n",
       " {'metadata': {'occupation_skill_pair': 'Python Developer > Beginner',\n",
       "   'compatible_area_of_focus': 'Interview preparation - Debug and fix code',\n",
       "   'type': 'query',\n",
       "   'difficulty': 'Easy',\n",
       "   'target_length': 1},\n",
       "  'messages': [{'role': 'user', 'content': 'r'}]},\n",
       " {'metadata': {'occupation_skill_pair': 'Python Developer > Beginner',\n",
       "   'compatible_area_of_focus': 'Interview preparation - Debug and fix code',\n",
       "   'type': 'query',\n",
       "   'difficulty': 'Easy',\n",
       "   'target_length': 1},\n",
       "  'messages': [{'role': 'user', 'content': ' '}]},\n",
       " {'metadata': {'occupation_skill_pair': 'Python Developer > Beginner',\n",
       "   'compatible_area_of_focus': 'Interview preparation - Debug and fix code',\n",
       "   'type': 'query',\n",
       "   'difficulty': 'Easy',\n",
       "   'target_length': 1},\n",
       "  'messages': [{'role': 'user', 'content': '>'}]},\n",
       " {'metadata': {'occupation_skill_pair': 'Python Developer > Beginner',\n",
       "   'compatible_area_of_focus': 'Interview preparation - Debug and fix code',\n",
       "   'type': 'query',\n",
       "   'difficulty': 'Easy',\n",
       "   'target_length': 1},\n",
       "  'messages': [{'role': 'user', 'content': ' '}]},\n",
       " {'metadata': {'occupation_skill_pair': 'Python Developer > Beginner',\n",
       "   'compatible_area_of_focus': 'Interview preparation - Debug and fix code',\n",
       "   'type': 'query',\n",
       "   'difficulty': 'Easy',\n",
       "   'target_length': 1},\n",
       "  'messages': [{'role': 'user', 'content': 'B'}]},\n",
       " {'metadata': {'occupation_skill_pair': 'Python Developer > Beginner',\n",
       "   'compatible_area_of_focus': 'Interview preparation - Debug and fix code',\n",
       "   'type': 'query',\n",
       "   'difficulty': 'Easy',\n",
       "   'target_length': 1},\n",
       "  'messages': [{'role': 'user', 'content': 'e'}]},\n",
       " {'metadata': {'occupation_skill_pair': 'Python Developer > Beginner',\n",
       "   'compatible_area_of_focus': 'Interview preparation - Debug and fix code',\n",
       "   'type': 'query',\n",
       "   'difficulty': 'Easy',\n",
       "   'target_length': 1},\n",
       "  'messages': [{'role': 'user', 'content': 'g'}]},\n",
       " {'metadata': {'occupation_skill_pair': 'Python Developer > Beginner',\n",
       "   'compatible_area_of_focus': 'Interview preparation - Debug and fix code',\n",
       "   'type': 'query',\n",
       "   'difficulty': 'Easy',\n",
       "   'target_length': 1},\n",
       "  'messages': [{'role': 'user', 'content': 'i'}]},\n",
       " {'metadata': {'occupation_skill_pair': 'Python Developer > Beginner',\n",
       "   'compatible_area_of_focus': 'Interview preparation - Debug and fix code',\n",
       "   'type': 'query',\n",
       "   'difficulty': 'Easy',\n",
       "   'target_length': 1},\n",
       "  'messages': [{'role': 'user', 'content': 'n'}]},\n",
       " {'metadata': {'occupation_skill_pair': 'Python Developer > Beginner',\n",
       "   'compatible_area_of_focus': 'Interview preparation - Debug and fix code',\n",
       "   'type': 'query',\n",
       "   'difficulty': 'Easy',\n",
       "   'target_length': 1},\n",
       "  'messages': [{'role': 'user', 'content': 'n'}]},\n",
       " {'metadata': {'occupation_skill_pair': 'Python Developer > Beginner',\n",
       "   'compatible_area_of_focus': 'Interview preparation - Debug and fix code',\n",
       "   'type': 'query',\n",
       "   'difficulty': 'Easy',\n",
       "   'target_length': 1},\n",
       "  'messages': [{'role': 'user', 'content': 'e'}]},\n",
       " {'metadata': {'occupation_skill_pair': 'Python Developer > Beginner',\n",
       "   'compatible_area_of_focus': 'Interview preparation - Debug and fix code',\n",
       "   'type': 'query',\n",
       "   'difficulty': 'Easy',\n",
       "   'target_length': 1},\n",
       "  'messages': [{'role': 'user', 'content': 'r'}]},\n",
       " {'metadata': {'occupation_skill_pair': 'Python Developer > Beginner',\n",
       "   'compatible_area_of_focus': 'Interview preparation - System Design rounds',\n",
       "   'type': 'query',\n",
       "   'difficulty': 'Easy',\n",
       "   'target_length': 1},\n",
       "  'messages': [{'role': 'user', 'content': 'P'}]},\n",
       " {'metadata': {'occupation_skill_pair': 'Python Developer > Beginner',\n",
       "   'compatible_area_of_focus': 'Interview preparation - System Design rounds',\n",
       "   'type': 'query',\n",
       "   'difficulty': 'Easy',\n",
       "   'target_length': 1},\n",
       "  'messages': [{'role': 'user', 'content': 'y'}]},\n",
       " {'metadata': {'occupation_skill_pair': 'Python Developer > Beginner',\n",
       "   'compatible_area_of_focus': 'Interview preparation - System Design rounds',\n",
       "   'type': 'query',\n",
       "   'difficulty': 'Easy',\n",
       "   'target_length': 1},\n",
       "  'messages': [{'role': 'user', 'content': 't'}]},\n",
       " {'metadata': {'occupation_skill_pair': 'Python Developer > Beginner',\n",
       "   'compatible_area_of_focus': 'Interview preparation - System Design rounds',\n",
       "   'type': 'query',\n",
       "   'difficulty': 'Easy',\n",
       "   'target_length': 1},\n",
       "  'messages': [{'role': 'user', 'content': 'h'}]},\n",
       " {'metadata': {'occupation_skill_pair': 'Python Developer > Beginner',\n",
       "   'compatible_area_of_focus': 'Interview preparation - System Design rounds',\n",
       "   'type': 'query',\n",
       "   'difficulty': 'Easy',\n",
       "   'target_length': 1},\n",
       "  'messages': [{'role': 'user', 'content': 'o'}]},\n",
       " {'metadata': {'occupation_skill_pair': 'Python Developer > Beginner',\n",
       "   'compatible_area_of_focus': 'Interview preparation - System Design rounds',\n",
       "   'type': 'query',\n",
       "   'difficulty': 'Easy',\n",
       "   'target_length': 1},\n",
       "  'messages': [{'role': 'user', 'content': 'n'}]},\n",
       " {'metadata': {'occupation_skill_pair': 'Python Developer > Beginner',\n",
       "   'compatible_area_of_focus': 'Interview preparation - System Design rounds',\n",
       "   'type': 'query',\n",
       "   'difficulty': 'Easy',\n",
       "   'target_length': 1},\n",
       "  'messages': [{'role': 'user', 'content': ' '}]},\n",
       " {'metadata': {'occupation_skill_pair': 'Python Developer > Beginner',\n",
       "   'compatible_area_of_focus': 'Interview preparation - System Design rounds',\n",
       "   'type': 'query',\n",
       "   'difficulty': 'Easy',\n",
       "   'target_length': 1},\n",
       "  'messages': [{'role': 'user', 'content': 'D'}]},\n",
       " {'metadata': {'occupation_skill_pair': 'Python Developer > Beginner',\n",
       "   'compatible_area_of_focus': 'Interview preparation - System Design rounds',\n",
       "   'type': 'query',\n",
       "   'difficulty': 'Easy',\n",
       "   'target_length': 1},\n",
       "  'messages': [{'role': 'user', 'content': 'e'}]},\n",
       " {'metadata': {'occupation_skill_pair': 'Python Developer > Beginner',\n",
       "   'compatible_area_of_focus': 'Interview preparation - System Design rounds',\n",
       "   'type': 'query',\n",
       "   'difficulty': 'Easy',\n",
       "   'target_length': 1},\n",
       "  'messages': [{'role': 'user', 'content': 'v'}]},\n",
       " {'metadata': {'occupation_skill_pair': 'Python Developer > Beginner',\n",
       "   'compatible_area_of_focus': 'Interview preparation - System Design rounds',\n",
       "   'type': 'query',\n",
       "   'difficulty': 'Easy',\n",
       "   'target_length': 1},\n",
       "  'messages': [{'role': 'user', 'content': 'e'}]},\n",
       " {'metadata': {'occupation_skill_pair': 'Python Developer > Beginner',\n",
       "   'compatible_area_of_focus': 'Interview preparation - System Design rounds',\n",
       "   'type': 'query',\n",
       "   'difficulty': 'Easy',\n",
       "   'target_length': 1},\n",
       "  'messages': [{'role': 'user', 'content': 'l'}]},\n",
       " {'metadata': {'occupation_skill_pair': 'Python Developer > Beginner',\n",
       "   'compatible_area_of_focus': 'Interview preparation - System Design rounds',\n",
       "   'type': 'query',\n",
       "   'difficulty': 'Easy',\n",
       "   'target_length': 1},\n",
       "  'messages': [{'role': 'user', 'content': 'o'}]},\n",
       " {'metadata': {'occupation_skill_pair': 'Python Developer > Beginner',\n",
       "   'compatible_area_of_focus': 'Interview preparation - System Design rounds',\n",
       "   'type': 'query',\n",
       "   'difficulty': 'Easy',\n",
       "   'target_length': 1},\n",
       "  'messages': [{'role': 'user', 'content': 'p'}]},\n",
       " {'metadata': {'occupation_skill_pair': 'Python Developer > Beginner',\n",
       "   'compatible_area_of_focus': 'Interview preparation - System Design rounds',\n",
       "   'type': 'query',\n",
       "   'difficulty': 'Easy',\n",
       "   'target_length': 1},\n",
       "  'messages': [{'role': 'user', 'content': 'e'}]},\n",
       " {'metadata': {'occupation_skill_pair': 'Python Developer > Beginner',\n",
       "   'compatible_area_of_focus': 'Interview preparation - System Design rounds',\n",
       "   'type': 'query',\n",
       "   'difficulty': 'Easy',\n",
       "   'target_length': 1},\n",
       "  'messages': [{'role': 'user', 'content': 'r'}]},\n",
       " {'metadata': {'occupation_skill_pair': 'Python Developer > Beginner',\n",
       "   'compatible_area_of_focus': 'Interview preparation - System Design rounds',\n",
       "   'type': 'query',\n",
       "   'difficulty': 'Easy',\n",
       "   'target_length': 1},\n",
       "  'messages': [{'role': 'user', 'content': ' '}]},\n",
       " {'metadata': {'occupation_skill_pair': 'Python Developer > Beginner',\n",
       "   'compatible_area_of_focus': 'Interview preparation - System Design rounds',\n",
       "   'type': 'query',\n",
       "   'difficulty': 'Easy',\n",
       "   'target_length': 1},\n",
       "  'messages': [{'role': 'user', 'content': '>'}]},\n",
       " {'metadata': {'occupation_skill_pair': 'Python Developer > Beginner',\n",
       "   'compatible_area_of_focus': 'Interview preparation - System Design rounds',\n",
       "   'type': 'query',\n",
       "   'difficulty': 'Easy',\n",
       "   'target_length': 1},\n",
       "  'messages': [{'role': 'user', 'content': ' '}]},\n",
       " {'metadata': {'occupation_skill_pair': 'Python Developer > Beginner',\n",
       "   'compatible_area_of_focus': 'Interview preparation - System Design rounds',\n",
       "   'type': 'query',\n",
       "   'difficulty': 'Easy',\n",
       "   'target_length': 1},\n",
       "  'messages': [{'role': 'user', 'content': 'B'}]},\n",
       " {'metadata': {'occupation_skill_pair': 'Python Developer > Beginner',\n",
       "   'compatible_area_of_focus': 'Interview preparation - System Design rounds',\n",
       "   'type': 'query',\n",
       "   'difficulty': 'Easy',\n",
       "   'target_length': 1},\n",
       "  'messages': [{'role': 'user', 'content': 'e'}]},\n",
       " {'metadata': {'occupation_skill_pair': 'Python Developer > Beginner',\n",
       "   'compatible_area_of_focus': 'Interview preparation - System Design rounds',\n",
       "   'type': 'query',\n",
       "   'difficulty': 'Easy',\n",
       "   'target_length': 1},\n",
       "  'messages': [{'role': 'user', 'content': 'g'}]},\n",
       " {'metadata': {'occupation_skill_pair': 'Python Developer > Beginner',\n",
       "   'compatible_area_of_focus': 'Interview preparation - System Design rounds',\n",
       "   'type': 'query',\n",
       "   'difficulty': 'Easy',\n",
       "   'target_length': 1},\n",
       "  'messages': [{'role': 'user', 'content': 'i'}]},\n",
       " {'metadata': {'occupation_skill_pair': 'Python Developer > Beginner',\n",
       "   'compatible_area_of_focus': 'Interview preparation - System Design rounds',\n",
       "   'type': 'query',\n",
       "   'difficulty': 'Easy',\n",
       "   'target_length': 1},\n",
       "  'messages': [{'role': 'user', 'content': 'n'}]},\n",
       " {'metadata': {'occupation_skill_pair': 'Python Developer > Beginner',\n",
       "   'compatible_area_of_focus': 'Interview preparation - System Design rounds',\n",
       "   'type': 'query',\n",
       "   'difficulty': 'Easy',\n",
       "   'target_length': 1},\n",
       "  'messages': [{'role': 'user', 'content': 'n'}]},\n",
       " {'metadata': {'occupation_skill_pair': 'Python Developer > Beginner',\n",
       "   'compatible_area_of_focus': 'Interview preparation - System Design rounds',\n",
       "   'type': 'query',\n",
       "   'difficulty': 'Easy',\n",
       "   'target_length': 1},\n",
       "  'messages': [{'role': 'user', 'content': 'e'}]},\n",
       " {'metadata': {'occupation_skill_pair': 'Python Developer > Beginner',\n",
       "   'compatible_area_of_focus': 'Interview preparation - System Design rounds',\n",
       "   'type': 'query',\n",
       "   'difficulty': 'Easy',\n",
       "   'target_length': 1},\n",
       "  'messages': [{'role': 'user', 'content': 'r'}]},\n",
       " {'metadata': {'occupation_skill_pair': 'Python Developer > Beginner',\n",
       "   'compatible_area_of_focus': 'Interview preparation - Proactively ask follow up questions',\n",
       "   'type': 'query',\n",
       "   'difficulty': 'Easy',\n",
       "   'target_length': 1},\n",
       "  'messages': [{'role': 'user', 'content': 'P'}]},\n",
       " {'metadata': {'occupation_skill_pair': 'Python Developer > Beginner',\n",
       "   'compatible_area_of_focus': 'Interview preparation - Proactively ask follow up questions',\n",
       "   'type': 'query',\n",
       "   'difficulty': 'Easy',\n",
       "   'target_length': 1},\n",
       "  'messages': [{'role': 'user', 'content': 'y'}]},\n",
       " {'metadata': {'occupation_skill_pair': 'Python Developer > Beginner',\n",
       "   'compatible_area_of_focus': 'Interview preparation - Proactively ask follow up questions',\n",
       "   'type': 'query',\n",
       "   'difficulty': 'Easy',\n",
       "   'target_length': 1},\n",
       "  'messages': [{'role': 'user', 'content': 't'}]},\n",
       " {'metadata': {'occupation_skill_pair': 'Python Developer > Beginner',\n",
       "   'compatible_area_of_focus': 'Interview preparation - Proactively ask follow up questions',\n",
       "   'type': 'query',\n",
       "   'difficulty': 'Easy',\n",
       "   'target_length': 1},\n",
       "  'messages': [{'role': 'user', 'content': 'h'}]},\n",
       " {'metadata': {'occupation_skill_pair': 'Python Developer > Beginner',\n",
       "   'compatible_area_of_focus': 'Interview preparation - Proactively ask follow up questions',\n",
       "   'type': 'query',\n",
       "   'difficulty': 'Easy',\n",
       "   'target_length': 1},\n",
       "  'messages': [{'role': 'user', 'content': 'o'}]},\n",
       " {'metadata': {'occupation_skill_pair': 'Python Developer > Beginner',\n",
       "   'compatible_area_of_focus': 'Interview preparation - Proactively ask follow up questions',\n",
       "   'type': 'query',\n",
       "   'difficulty': 'Easy',\n",
       "   'target_length': 1},\n",
       "  'messages': [{'role': 'user', 'content': 'n'}]},\n",
       " {'metadata': {'occupation_skill_pair': 'Python Developer > Beginner',\n",
       "   'compatible_area_of_focus': 'Interview preparation - Proactively ask follow up questions',\n",
       "   'type': 'query',\n",
       "   'difficulty': 'Easy',\n",
       "   'target_length': 1},\n",
       "  'messages': [{'role': 'user', 'content': ' '}]},\n",
       " {'metadata': {'occupation_skill_pair': 'Python Developer > Beginner',\n",
       "   'compatible_area_of_focus': 'Interview preparation - Proactively ask follow up questions',\n",
       "   'type': 'query',\n",
       "   'difficulty': 'Easy',\n",
       "   'target_length': 1},\n",
       "  'messages': [{'role': 'user', 'content': 'D'}]},\n",
       " {'metadata': {'occupation_skill_pair': 'Python Developer > Beginner',\n",
       "   'compatible_area_of_focus': 'Interview preparation - Proactively ask follow up questions',\n",
       "   'type': 'query',\n",
       "   'difficulty': 'Easy',\n",
       "   'target_length': 1},\n",
       "  'messages': [{'role': 'user', 'content': 'e'}]},\n",
       " {'metadata': {'occupation_skill_pair': 'Python Developer > Beginner',\n",
       "   'compatible_area_of_focus': 'Interview preparation - Proactively ask follow up questions',\n",
       "   'type': 'query',\n",
       "   'difficulty': 'Easy',\n",
       "   'target_length': 1},\n",
       "  'messages': [{'role': 'user', 'content': 'v'}]},\n",
       " {'metadata': {'occupation_skill_pair': 'Python Developer > Beginner',\n",
       "   'compatible_area_of_focus': 'Interview preparation - Proactively ask follow up questions',\n",
       "   'type': 'query',\n",
       "   'difficulty': 'Easy',\n",
       "   'target_length': 1},\n",
       "  'messages': [{'role': 'user', 'content': 'e'}]},\n",
       " {'metadata': {'occupation_skill_pair': 'Python Developer > Beginner',\n",
       "   'compatible_area_of_focus': 'Interview preparation - Proactively ask follow up questions',\n",
       "   'type': 'query',\n",
       "   'difficulty': 'Easy',\n",
       "   'target_length': 1},\n",
       "  'messages': [{'role': 'user', 'content': 'l'}]},\n",
       " {'metadata': {'occupation_skill_pair': 'Python Developer > Beginner',\n",
       "   'compatible_area_of_focus': 'Interview preparation - Proactively ask follow up questions',\n",
       "   'type': 'query',\n",
       "   'difficulty': 'Easy',\n",
       "   'target_length': 1},\n",
       "  'messages': [{'role': 'user', 'content': 'o'}]},\n",
       " {'metadata': {'occupation_skill_pair': 'Python Developer > Beginner',\n",
       "   'compatible_area_of_focus': 'Interview preparation - Proactively ask follow up questions',\n",
       "   'type': 'query',\n",
       "   'difficulty': 'Easy',\n",
       "   'target_length': 1},\n",
       "  'messages': [{'role': 'user', 'content': 'p'}]},\n",
       " {'metadata': {'occupation_skill_pair': 'Python Developer > Beginner',\n",
       "   'compatible_area_of_focus': 'Interview preparation - Proactively ask follow up questions',\n",
       "   'type': 'query',\n",
       "   'difficulty': 'Easy',\n",
       "   'target_length': 1},\n",
       "  'messages': [{'role': 'user', 'content': 'e'}]},\n",
       " {'metadata': {'occupation_skill_pair': 'Python Developer > Beginner',\n",
       "   'compatible_area_of_focus': 'Interview preparation - Proactively ask follow up questions',\n",
       "   'type': 'query',\n",
       "   'difficulty': 'Easy',\n",
       "   'target_length': 1},\n",
       "  'messages': [{'role': 'user', 'content': 'r'}]},\n",
       " {'metadata': {'occupation_skill_pair': 'Python Developer > Beginner',\n",
       "   'compatible_area_of_focus': 'Interview preparation - Proactively ask follow up questions',\n",
       "   'type': 'query',\n",
       "   'difficulty': 'Easy',\n",
       "   'target_length': 1},\n",
       "  'messages': [{'role': 'user', 'content': ' '}]},\n",
       " {'metadata': {'occupation_skill_pair': 'Python Developer > Beginner',\n",
       "   'compatible_area_of_focus': 'Interview preparation - Proactively ask follow up questions',\n",
       "   'type': 'query',\n",
       "   'difficulty': 'Easy',\n",
       "   'target_length': 1},\n",
       "  'messages': [{'role': 'user', 'content': '>'}]},\n",
       " {'metadata': {'occupation_skill_pair': 'Python Developer > Beginner',\n",
       "   'compatible_area_of_focus': 'Interview preparation - Proactively ask follow up questions',\n",
       "   'type': 'query',\n",
       "   'difficulty': 'Easy',\n",
       "   'target_length': 1},\n",
       "  'messages': [{'role': 'user', 'content': ' '}]},\n",
       " {'metadata': {'occupation_skill_pair': 'Python Developer > Beginner',\n",
       "   'compatible_area_of_focus': 'Interview preparation - Proactively ask follow up questions',\n",
       "   'type': 'query',\n",
       "   'difficulty': 'Easy',\n",
       "   'target_length': 1},\n",
       "  'messages': [{'role': 'user', 'content': 'B'}]},\n",
       " {'metadata': {'occupation_skill_pair': 'Python Developer > Beginner',\n",
       "   'compatible_area_of_focus': 'Interview preparation - Proactively ask follow up questions',\n",
       "   'type': 'query',\n",
       "   'difficulty': 'Easy',\n",
       "   'target_length': 1},\n",
       "  'messages': [{'role': 'user', 'content': 'e'}]},\n",
       " {'metadata': {'occupation_skill_pair': 'Python Developer > Beginner',\n",
       "   'compatible_area_of_focus': 'Interview preparation - Proactively ask follow up questions',\n",
       "   'type': 'query',\n",
       "   'difficulty': 'Easy',\n",
       "   'target_length': 1},\n",
       "  'messages': [{'role': 'user', 'content': 'g'}]},\n",
       " {'metadata': {'occupation_skill_pair': 'Python Developer > Beginner',\n",
       "   'compatible_area_of_focus': 'Interview preparation - Proactively ask follow up questions',\n",
       "   'type': 'query',\n",
       "   'difficulty': 'Easy',\n",
       "   'target_length': 1},\n",
       "  'messages': [{'role': 'user', 'content': 'i'}]},\n",
       " {'metadata': {'occupation_skill_pair': 'Python Developer > Beginner',\n",
       "   'compatible_area_of_focus': 'Interview preparation - Proactively ask follow up questions',\n",
       "   'type': 'query',\n",
       "   'difficulty': 'Easy',\n",
       "   'target_length': 1},\n",
       "  'messages': [{'role': 'user', 'content': 'n'}]},\n",
       " {'metadata': {'occupation_skill_pair': 'Python Developer > Beginner',\n",
       "   'compatible_area_of_focus': 'Interview preparation - Proactively ask follow up questions',\n",
       "   'type': 'query',\n",
       "   'difficulty': 'Easy',\n",
       "   'target_length': 1},\n",
       "  'messages': [{'role': 'user', 'content': 'n'}]},\n",
       " {'metadata': {'occupation_skill_pair': 'Python Developer > Beginner',\n",
       "   'compatible_area_of_focus': 'Interview preparation - Proactively ask follow up questions',\n",
       "   'type': 'query',\n",
       "   'difficulty': 'Easy',\n",
       "   'target_length': 1},\n",
       "  'messages': [{'role': 'user', 'content': 'e'}]},\n",
       " {'metadata': {'occupation_skill_pair': 'Python Developer > Beginner',\n",
       "   'compatible_area_of_focus': 'Interview preparation - Proactively ask follow up questions',\n",
       "   'type': 'query',\n",
       "   'difficulty': 'Easy',\n",
       "   'target_length': 1},\n",
       "  'messages': [{'role': 'user', 'content': 'r'}]},\n",
       " {'metadata': {'occupation_skill_pair': 'Python Developer > Beginner',\n",
       "   'compatible_area_of_focus': 'Interview preparation - User asks AI help to take an Interview. AI takes an interview',\n",
       "   'type': 'query',\n",
       "   'difficulty': 'Easy',\n",
       "   'target_length': 1},\n",
       "  'messages': [{'role': 'user', 'content': 'P'}]},\n",
       " {'metadata': {'occupation_skill_pair': 'Python Developer > Beginner',\n",
       "   'compatible_area_of_focus': 'Interview preparation - User asks AI help to take an Interview. AI takes an interview',\n",
       "   'type': 'query',\n",
       "   'difficulty': 'Easy',\n",
       "   'target_length': 1},\n",
       "  'messages': [{'role': 'user', 'content': 'y'}]},\n",
       " {'metadata': {'occupation_skill_pair': 'Python Developer > Beginner',\n",
       "   'compatible_area_of_focus': 'Interview preparation - User asks AI help to take an Interview. AI takes an interview',\n",
       "   'type': 'query',\n",
       "   'difficulty': 'Easy',\n",
       "   'target_length': 1},\n",
       "  'messages': [{'role': 'user', 'content': 't'}]},\n",
       " {'metadata': {'occupation_skill_pair': 'Python Developer > Beginner',\n",
       "   'compatible_area_of_focus': 'Interview preparation - User asks AI help to take an Interview. AI takes an interview',\n",
       "   'type': 'query',\n",
       "   'difficulty': 'Easy',\n",
       "   'target_length': 1},\n",
       "  'messages': [{'role': 'user', 'content': 'h'}]},\n",
       " {'metadata': {'occupation_skill_pair': 'Python Developer > Beginner',\n",
       "   'compatible_area_of_focus': 'Interview preparation - User asks AI help to take an Interview. AI takes an interview',\n",
       "   'type': 'query',\n",
       "   'difficulty': 'Easy',\n",
       "   'target_length': 1},\n",
       "  'messages': [{'role': 'user', 'content': 'o'}]},\n",
       " {'metadata': {'occupation_skill_pair': 'Python Developer > Beginner',\n",
       "   'compatible_area_of_focus': 'Interview preparation - User asks AI help to take an Interview. AI takes an interview',\n",
       "   'type': 'query',\n",
       "   'difficulty': 'Easy',\n",
       "   'target_length': 1},\n",
       "  'messages': [{'role': 'user', 'content': 'n'}]},\n",
       " {'metadata': {'occupation_skill_pair': 'Python Developer > Beginner',\n",
       "   'compatible_area_of_focus': 'Interview preparation - User asks AI help to take an Interview. AI takes an interview',\n",
       "   'type': 'query',\n",
       "   'difficulty': 'Easy',\n",
       "   'target_length': 1},\n",
       "  'messages': [{'role': 'user', 'content': ' '}]},\n",
       " {'metadata': {'occupation_skill_pair': 'Python Developer > Beginner',\n",
       "   'compatible_area_of_focus': 'Interview preparation - User asks AI help to take an Interview. AI takes an interview',\n",
       "   'type': 'query',\n",
       "   'difficulty': 'Easy',\n",
       "   'target_length': 1},\n",
       "  'messages': [{'role': 'user', 'content': 'D'}]},\n",
       " {'metadata': {'occupation_skill_pair': 'Python Developer > Beginner',\n",
       "   'compatible_area_of_focus': 'Interview preparation - User asks AI help to take an Interview. AI takes an interview',\n",
       "   'type': 'query',\n",
       "   'difficulty': 'Easy',\n",
       "   'target_length': 1},\n",
       "  'messages': [{'role': 'user', 'content': 'e'}]},\n",
       " {'metadata': {'occupation_skill_pair': 'Python Developer > Beginner',\n",
       "   'compatible_area_of_focus': 'Interview preparation - User asks AI help to take an Interview. AI takes an interview',\n",
       "   'type': 'query',\n",
       "   'difficulty': 'Easy',\n",
       "   'target_length': 1},\n",
       "  'messages': [{'role': 'user', 'content': 'v'}]},\n",
       " {'metadata': {'occupation_skill_pair': 'Python Developer > Beginner',\n",
       "   'compatible_area_of_focus': 'Interview preparation - User asks AI help to take an Interview. AI takes an interview',\n",
       "   'type': 'query',\n",
       "   'difficulty': 'Easy',\n",
       "   'target_length': 1},\n",
       "  'messages': [{'role': 'user', 'content': 'e'}]},\n",
       " {'metadata': {'occupation_skill_pair': 'Python Developer > Beginner',\n",
       "   'compatible_area_of_focus': 'Interview preparation - User asks AI help to take an Interview. AI takes an interview',\n",
       "   'type': 'query',\n",
       "   'difficulty': 'Easy',\n",
       "   'target_length': 1},\n",
       "  'messages': [{'role': 'user', 'content': 'l'}]},\n",
       " {'metadata': {'occupation_skill_pair': 'Python Developer > Beginner',\n",
       "   'compatible_area_of_focus': 'Interview preparation - User asks AI help to take an Interview. AI takes an interview',\n",
       "   'type': 'query',\n",
       "   'difficulty': 'Easy',\n",
       "   'target_length': 1},\n",
       "  'messages': [{'role': 'user', 'content': 'o'}]},\n",
       " {'metadata': {'occupation_skill_pair': 'Python Developer > Beginner',\n",
       "   'compatible_area_of_focus': 'Interview preparation - User asks AI help to take an Interview. AI takes an interview',\n",
       "   'type': 'query',\n",
       "   'difficulty': 'Easy',\n",
       "   'target_length': 1},\n",
       "  'messages': [{'role': 'user', 'content': 'p'}]},\n",
       " {'metadata': {'occupation_skill_pair': 'Python Developer > Beginner',\n",
       "   'compatible_area_of_focus': 'Interview preparation - User asks AI help to take an Interview. AI takes an interview',\n",
       "   'type': 'query',\n",
       "   'difficulty': 'Easy',\n",
       "   'target_length': 1},\n",
       "  'messages': [{'role': 'user', 'content': 'e'}]},\n",
       " {'metadata': {'occupation_skill_pair': 'Python Developer > Beginner',\n",
       "   'compatible_area_of_focus': 'Interview preparation - User asks AI help to take an Interview. AI takes an interview',\n",
       "   'type': 'query',\n",
       "   'difficulty': 'Easy',\n",
       "   'target_length': 1},\n",
       "  'messages': [{'role': 'user', 'content': 'r'}]},\n",
       " {'metadata': {'occupation_skill_pair': 'Python Developer > Beginner',\n",
       "   'compatible_area_of_focus': 'Interview preparation - User asks AI help to take an Interview. AI takes an interview',\n",
       "   'type': 'query',\n",
       "   'difficulty': 'Easy',\n",
       "   'target_length': 1},\n",
       "  'messages': [{'role': 'user', 'content': ' '}]},\n",
       " {'metadata': {'occupation_skill_pair': 'Python Developer > Beginner',\n",
       "   'compatible_area_of_focus': 'Interview preparation - User asks AI help to take an Interview. AI takes an interview',\n",
       "   'type': 'query',\n",
       "   'difficulty': 'Easy',\n",
       "   'target_length': 1},\n",
       "  'messages': [{'role': 'user', 'content': '>'}]},\n",
       " {'metadata': {'occupation_skill_pair': 'Python Developer > Beginner',\n",
       "   'compatible_area_of_focus': 'Interview preparation - User asks AI help to take an Interview. AI takes an interview',\n",
       "   'type': 'query',\n",
       "   'difficulty': 'Easy',\n",
       "   'target_length': 1},\n",
       "  'messages': [{'role': 'user', 'content': ' '}]},\n",
       " {'metadata': {'occupation_skill_pair': 'Python Developer > Beginner',\n",
       "   'compatible_area_of_focus': 'Interview preparation - User asks AI help to take an Interview. AI takes an interview',\n",
       "   'type': 'query',\n",
       "   'difficulty': 'Easy',\n",
       "   'target_length': 1},\n",
       "  'messages': [{'role': 'user', 'content': 'B'}]},\n",
       " {'metadata': {'occupation_skill_pair': 'Python Developer > Beginner',\n",
       "   'compatible_area_of_focus': 'Interview preparation - User asks AI help to take an Interview. AI takes an interview',\n",
       "   'type': 'query',\n",
       "   'difficulty': 'Easy',\n",
       "   'target_length': 1},\n",
       "  'messages': [{'role': 'user', 'content': 'e'}]},\n",
       " {'metadata': {'occupation_skill_pair': 'Python Developer > Beginner',\n",
       "   'compatible_area_of_focus': 'Interview preparation - User asks AI help to take an Interview. AI takes an interview',\n",
       "   'type': 'query',\n",
       "   'difficulty': 'Easy',\n",
       "   'target_length': 1},\n",
       "  'messages': [{'role': 'user', 'content': 'g'}]},\n",
       " {'metadata': {'occupation_skill_pair': 'Python Developer > Beginner',\n",
       "   'compatible_area_of_focus': 'Interview preparation - User asks AI help to take an Interview. AI takes an interview',\n",
       "   'type': 'query',\n",
       "   'difficulty': 'Easy',\n",
       "   'target_length': 1},\n",
       "  'messages': [{'role': 'user', 'content': 'i'}]},\n",
       " {'metadata': {'occupation_skill_pair': 'Python Developer > Beginner',\n",
       "   'compatible_area_of_focus': 'Interview preparation - User asks AI help to take an Interview. AI takes an interview',\n",
       "   'type': 'query',\n",
       "   'difficulty': 'Easy',\n",
       "   'target_length': 1},\n",
       "  'messages': [{'role': 'user', 'content': 'n'}]},\n",
       " {'metadata': {'occupation_skill_pair': 'Python Developer > Beginner',\n",
       "   'compatible_area_of_focus': 'Interview preparation - User asks AI help to take an Interview. AI takes an interview',\n",
       "   'type': 'query',\n",
       "   'difficulty': 'Easy',\n",
       "   'target_length': 1},\n",
       "  'messages': [{'role': 'user', 'content': 'n'}]},\n",
       " {'metadata': {'occupation_skill_pair': 'Python Developer > Beginner',\n",
       "   'compatible_area_of_focus': 'Interview preparation - User asks AI help to take an Interview. AI takes an interview',\n",
       "   'type': 'query',\n",
       "   'difficulty': 'Easy',\n",
       "   'target_length': 1},\n",
       "  'messages': [{'role': 'user', 'content': 'e'}]},\n",
       " {'metadata': {'occupation_skill_pair': 'Python Developer > Beginner',\n",
       "   'compatible_area_of_focus': 'Interview preparation - User asks AI help to take an Interview. AI takes an interview',\n",
       "   'type': 'query',\n",
       "   'difficulty': 'Easy',\n",
       "   'target_length': 1},\n",
       "  'messages': [{'role': 'user', 'content': 'r'}]},\n",
       " {'metadata': {'occupation_skill_pair': 'Python Developer > Beginner',\n",
       "   'compatible_area_of_focus': 'Debugging and Troubleshooting - Debug error trace',\n",
       "   'type': 'query',\n",
       "   'difficulty': 'Easy',\n",
       "   'target_length': 1},\n",
       "  'messages': [{'role': 'user', 'content': 'P'}]},\n",
       " {'metadata': {'occupation_skill_pair': 'Python Developer > Beginner',\n",
       "   'compatible_area_of_focus': 'Debugging and Troubleshooting - Debug error trace',\n",
       "   'type': 'query',\n",
       "   'difficulty': 'Easy',\n",
       "   'target_length': 1},\n",
       "  'messages': [{'role': 'user', 'content': 'y'}]},\n",
       " {'metadata': {'occupation_skill_pair': 'Python Developer > Beginner',\n",
       "   'compatible_area_of_focus': 'Debugging and Troubleshooting - Debug error trace',\n",
       "   'type': 'query',\n",
       "   'difficulty': 'Easy',\n",
       "   'target_length': 1},\n",
       "  'messages': [{'role': 'user', 'content': 't'}]},\n",
       " {'metadata': {'occupation_skill_pair': 'Python Developer > Beginner',\n",
       "   'compatible_area_of_focus': 'Debugging and Troubleshooting - Debug error trace',\n",
       "   'type': 'query',\n",
       "   'difficulty': 'Easy',\n",
       "   'target_length': 1},\n",
       "  'messages': [{'role': 'user', 'content': 'h'}]},\n",
       " {'metadata': {'occupation_skill_pair': 'Python Developer > Beginner',\n",
       "   'compatible_area_of_focus': 'Debugging and Troubleshooting - Debug error trace',\n",
       "   'type': 'query',\n",
       "   'difficulty': 'Easy',\n",
       "   'target_length': 1},\n",
       "  'messages': [{'role': 'user', 'content': 'o'}]},\n",
       " {'metadata': {'occupation_skill_pair': 'Python Developer > Beginner',\n",
       "   'compatible_area_of_focus': 'Debugging and Troubleshooting - Debug error trace',\n",
       "   'type': 'query',\n",
       "   'difficulty': 'Easy',\n",
       "   'target_length': 1},\n",
       "  'messages': [{'role': 'user', 'content': 'n'}]},\n",
       " {'metadata': {'occupation_skill_pair': 'Python Developer > Beginner',\n",
       "   'compatible_area_of_focus': 'Debugging and Troubleshooting - Debug error trace',\n",
       "   'type': 'query',\n",
       "   'difficulty': 'Easy',\n",
       "   'target_length': 1},\n",
       "  'messages': [{'role': 'user', 'content': ' '}]},\n",
       " {'metadata': {'occupation_skill_pair': 'Python Developer > Beginner',\n",
       "   'compatible_area_of_focus': 'Debugging and Troubleshooting - Debug error trace',\n",
       "   'type': 'query',\n",
       "   'difficulty': 'Easy',\n",
       "   'target_length': 1},\n",
       "  'messages': [{'role': 'user', 'content': 'D'}]},\n",
       " {'metadata': {'occupation_skill_pair': 'Python Developer > Beginner',\n",
       "   'compatible_area_of_focus': 'Debugging and Troubleshooting - Debug error trace',\n",
       "   'type': 'query',\n",
       "   'difficulty': 'Easy',\n",
       "   'target_length': 1},\n",
       "  'messages': [{'role': 'user', 'content': 'e'}]},\n",
       " {'metadata': {'occupation_skill_pair': 'Python Developer > Beginner',\n",
       "   'compatible_area_of_focus': 'Debugging and Troubleshooting - Debug error trace',\n",
       "   'type': 'query',\n",
       "   'difficulty': 'Easy',\n",
       "   'target_length': 1},\n",
       "  'messages': [{'role': 'user', 'content': 'v'}]},\n",
       " {'metadata': {'occupation_skill_pair': 'Python Developer > Beginner',\n",
       "   'compatible_area_of_focus': 'Debugging and Troubleshooting - Debug error trace',\n",
       "   'type': 'query',\n",
       "   'difficulty': 'Easy',\n",
       "   'target_length': 1},\n",
       "  'messages': [{'role': 'user', 'content': 'e'}]},\n",
       " {'metadata': {'occupation_skill_pair': 'Python Developer > Beginner',\n",
       "   'compatible_area_of_focus': 'Debugging and Troubleshooting - Debug error trace',\n",
       "   'type': 'query',\n",
       "   'difficulty': 'Easy',\n",
       "   'target_length': 1},\n",
       "  'messages': [{'role': 'user', 'content': 'l'}]},\n",
       " {'metadata': {'occupation_skill_pair': 'Python Developer > Beginner',\n",
       "   'compatible_area_of_focus': 'Debugging and Troubleshooting - Debug error trace',\n",
       "   'type': 'query',\n",
       "   'difficulty': 'Easy',\n",
       "   'target_length': 1},\n",
       "  'messages': [{'role': 'user', 'content': 'o'}]},\n",
       " {'metadata': {'occupation_skill_pair': 'Python Developer > Beginner',\n",
       "   'compatible_area_of_focus': 'Debugging and Troubleshooting - Debug error trace',\n",
       "   'type': 'query',\n",
       "   'difficulty': 'Easy',\n",
       "   'target_length': 1},\n",
       "  'messages': [{'role': 'user', 'content': 'p'}]},\n",
       " {'metadata': {'occupation_skill_pair': 'Python Developer > Beginner',\n",
       "   'compatible_area_of_focus': 'Debugging and Troubleshooting - Debug error trace',\n",
       "   'type': 'query',\n",
       "   'difficulty': 'Easy',\n",
       "   'target_length': 1},\n",
       "  'messages': [{'role': 'user', 'content': 'e'}]},\n",
       " {'metadata': {'occupation_skill_pair': 'Python Developer > Beginner',\n",
       "   'compatible_area_of_focus': 'Debugging and Troubleshooting - Debug error trace',\n",
       "   'type': 'query',\n",
       "   'difficulty': 'Easy',\n",
       "   'target_length': 1},\n",
       "  'messages': [{'role': 'user', 'content': 'r'}]},\n",
       " {'metadata': {'occupation_skill_pair': 'Python Developer > Beginner',\n",
       "   'compatible_area_of_focus': 'Debugging and Troubleshooting - Debug error trace',\n",
       "   'type': 'query',\n",
       "   'difficulty': 'Easy',\n",
       "   'target_length': 1},\n",
       "  'messages': [{'role': 'user', 'content': ' '}]},\n",
       " {'metadata': {'occupation_skill_pair': 'Python Developer > Beginner',\n",
       "   'compatible_area_of_focus': 'Debugging and Troubleshooting - Debug error trace',\n",
       "   'type': 'query',\n",
       "   'difficulty': 'Easy',\n",
       "   'target_length': 1},\n",
       "  'messages': [{'role': 'user', 'content': '>'}]},\n",
       " {'metadata': {'occupation_skill_pair': 'Python Developer > Beginner',\n",
       "   'compatible_area_of_focus': 'Debugging and Troubleshooting - Debug error trace',\n",
       "   'type': 'query',\n",
       "   'difficulty': 'Easy',\n",
       "   'target_length': 1},\n",
       "  'messages': [{'role': 'user', 'content': ' '}]},\n",
       " {'metadata': {'occupation_skill_pair': 'Python Developer > Beginner',\n",
       "   'compatible_area_of_focus': 'Debugging and Troubleshooting - Debug error trace',\n",
       "   'type': 'query',\n",
       "   'difficulty': 'Easy',\n",
       "   'target_length': 1},\n",
       "  'messages': [{'role': 'user', 'content': 'B'}]},\n",
       " {'metadata': {'occupation_skill_pair': 'Python Developer > Beginner',\n",
       "   'compatible_area_of_focus': 'Debugging and Troubleshooting - Debug error trace',\n",
       "   'type': 'query',\n",
       "   'difficulty': 'Easy',\n",
       "   'target_length': 1},\n",
       "  'messages': [{'role': 'user', 'content': 'e'}]},\n",
       " {'metadata': {'occupation_skill_pair': 'Python Developer > Beginner',\n",
       "   'compatible_area_of_focus': 'Debugging and Troubleshooting - Debug error trace',\n",
       "   'type': 'query',\n",
       "   'difficulty': 'Easy',\n",
       "   'target_length': 1},\n",
       "  'messages': [{'role': 'user', 'content': 'g'}]},\n",
       " {'metadata': {'occupation_skill_pair': 'Python Developer > Beginner',\n",
       "   'compatible_area_of_focus': 'Debugging and Troubleshooting - Debug error trace',\n",
       "   'type': 'query',\n",
       "   'difficulty': 'Easy',\n",
       "   'target_length': 1},\n",
       "  'messages': [{'role': 'user', 'content': 'i'}]},\n",
       " {'metadata': {'occupation_skill_pair': 'Python Developer > Beginner',\n",
       "   'compatible_area_of_focus': 'Debugging and Troubleshooting - Debug error trace',\n",
       "   'type': 'query',\n",
       "   'difficulty': 'Easy',\n",
       "   'target_length': 1},\n",
       "  'messages': [{'role': 'user', 'content': 'n'}]},\n",
       " {'metadata': {'occupation_skill_pair': 'Python Developer > Beginner',\n",
       "   'compatible_area_of_focus': 'Debugging and Troubleshooting - Debug error trace',\n",
       "   'type': 'query',\n",
       "   'difficulty': 'Easy',\n",
       "   'target_length': 1},\n",
       "  'messages': [{'role': 'user', 'content': 'n'}]},\n",
       " {'metadata': {'occupation_skill_pair': 'Python Developer > Beginner',\n",
       "   'compatible_area_of_focus': 'Debugging and Troubleshooting - Debug error trace',\n",
       "   'type': 'query',\n",
       "   'difficulty': 'Easy',\n",
       "   'target_length': 1},\n",
       "  'messages': [{'role': 'user', 'content': 'e'}]},\n",
       " {'metadata': {'occupation_skill_pair': 'Python Developer > Beginner',\n",
       "   'compatible_area_of_focus': 'Debugging and Troubleshooting - Debug error trace',\n",
       "   'type': 'query',\n",
       "   'difficulty': 'Easy',\n",
       "   'target_length': 1},\n",
       "  'messages': [{'role': 'user', 'content': 'r'}]},\n",
       " {'metadata': {'occupation_skill_pair': 'Python Developer > Beginner',\n",
       "   'compatible_area_of_focus': 'Learning - Learn to program',\n",
       "   'type': 'query',\n",
       "   'difficulty': 'Easy',\n",
       "   'target_length': 1},\n",
       "  'messages': [{'role': 'user', 'content': 'P'}]},\n",
       " {'metadata': {'occupation_skill_pair': 'Python Developer > Beginner',\n",
       "   'compatible_area_of_focus': 'Learning - Learn to program',\n",
       "   'type': 'query',\n",
       "   'difficulty': 'Easy',\n",
       "   'target_length': 1},\n",
       "  'messages': [{'role': 'user', 'content': 'y'}]},\n",
       " {'metadata': {'occupation_skill_pair': 'Python Developer > Beginner',\n",
       "   'compatible_area_of_focus': 'Learning - Learn to program',\n",
       "   'type': 'query',\n",
       "   'difficulty': 'Easy',\n",
       "   'target_length': 1},\n",
       "  'messages': [{'role': 'user', 'content': 't'}]},\n",
       " {'metadata': {'occupation_skill_pair': 'Python Developer > Beginner',\n",
       "   'compatible_area_of_focus': 'Learning - Learn to program',\n",
       "   'type': 'query',\n",
       "   'difficulty': 'Easy',\n",
       "   'target_length': 1},\n",
       "  'messages': [{'role': 'user', 'content': 'h'}]},\n",
       " {'metadata': {'occupation_skill_pair': 'Python Developer > Beginner',\n",
       "   'compatible_area_of_focus': 'Learning - Learn to program',\n",
       "   'type': 'query',\n",
       "   'difficulty': 'Easy',\n",
       "   'target_length': 1},\n",
       "  'messages': [{'role': 'user', 'content': 'o'}]},\n",
       " {'metadata': {'occupation_skill_pair': 'Python Developer > Beginner',\n",
       "   'compatible_area_of_focus': 'Learning - Learn to program',\n",
       "   'type': 'query',\n",
       "   'difficulty': 'Easy',\n",
       "   'target_length': 1},\n",
       "  'messages': [{'role': 'user', 'content': 'n'}]},\n",
       " {'metadata': {'occupation_skill_pair': 'Python Developer > Beginner',\n",
       "   'compatible_area_of_focus': 'Learning - Learn to program',\n",
       "   'type': 'query',\n",
       "   'difficulty': 'Easy',\n",
       "   'target_length': 1},\n",
       "  'messages': [{'role': 'user', 'content': ' '}]},\n",
       " {'metadata': {'occupation_skill_pair': 'Python Developer > Beginner',\n",
       "   'compatible_area_of_focus': 'Learning - Learn to program',\n",
       "   'type': 'query',\n",
       "   'difficulty': 'Easy',\n",
       "   'target_length': 1},\n",
       "  'messages': [{'role': 'user', 'content': 'D'}]},\n",
       " {'metadata': {'occupation_skill_pair': 'Python Developer > Beginner',\n",
       "   'compatible_area_of_focus': 'Learning - Learn to program',\n",
       "   'type': 'query',\n",
       "   'difficulty': 'Easy',\n",
       "   'target_length': 1},\n",
       "  'messages': [{'role': 'user', 'content': 'e'}]},\n",
       " {'metadata': {'occupation_skill_pair': 'Python Developer > Beginner',\n",
       "   'compatible_area_of_focus': 'Learning - Learn to program',\n",
       "   'type': 'query',\n",
       "   'difficulty': 'Easy',\n",
       "   'target_length': 1},\n",
       "  'messages': [{'role': 'user', 'content': 'v'}]},\n",
       " {'metadata': {'occupation_skill_pair': 'Python Developer > Beginner',\n",
       "   'compatible_area_of_focus': 'Learning - Learn to program',\n",
       "   'type': 'query',\n",
       "   'difficulty': 'Easy',\n",
       "   'target_length': 1},\n",
       "  'messages': [{'role': 'user', 'content': 'e'}]},\n",
       " {'metadata': {'occupation_skill_pair': 'Python Developer > Beginner',\n",
       "   'compatible_area_of_focus': 'Learning - Learn to program',\n",
       "   'type': 'query',\n",
       "   'difficulty': 'Easy',\n",
       "   'target_length': 1},\n",
       "  'messages': [{'role': 'user', 'content': 'l'}]},\n",
       " {'metadata': {'occupation_skill_pair': 'Python Developer > Beginner',\n",
       "   'compatible_area_of_focus': 'Learning - Learn to program',\n",
       "   'type': 'query',\n",
       "   'difficulty': 'Easy',\n",
       "   'target_length': 1},\n",
       "  'messages': [{'role': 'user', 'content': 'o'}]},\n",
       " {'metadata': {'occupation_skill_pair': 'Python Developer > Beginner',\n",
       "   'compatible_area_of_focus': 'Learning - Learn to program',\n",
       "   'type': 'query',\n",
       "   'difficulty': 'Easy',\n",
       "   'target_length': 1},\n",
       "  'messages': [{'role': 'user', 'content': 'p'}]},\n",
       " {'metadata': {'occupation_skill_pair': 'Python Developer > Beginner',\n",
       "   'compatible_area_of_focus': 'Learning - Learn to program',\n",
       "   'type': 'query',\n",
       "   'difficulty': 'Easy',\n",
       "   'target_length': 1},\n",
       "  'messages': [{'role': 'user', 'content': 'e'}]},\n",
       " {'metadata': {'occupation_skill_pair': 'Python Developer > Beginner',\n",
       "   'compatible_area_of_focus': 'Learning - Learn to program',\n",
       "   'type': 'query',\n",
       "   'difficulty': 'Easy',\n",
       "   'target_length': 1},\n",
       "  'messages': [{'role': 'user', 'content': 'r'}]},\n",
       " {'metadata': {'occupation_skill_pair': 'Python Developer > Beginner',\n",
       "   'compatible_area_of_focus': 'Learning - Learn to program',\n",
       "   'type': 'query',\n",
       "   'difficulty': 'Easy',\n",
       "   'target_length': 1},\n",
       "  'messages': [{'role': 'user', 'content': ' '}]},\n",
       " {'metadata': {'occupation_skill_pair': 'Python Developer > Beginner',\n",
       "   'compatible_area_of_focus': 'Learning - Learn to program',\n",
       "   'type': 'query',\n",
       "   'difficulty': 'Easy',\n",
       "   'target_length': 1},\n",
       "  'messages': [{'role': 'user', 'content': '>'}]},\n",
       " {'metadata': {'occupation_skill_pair': 'Python Developer > Beginner',\n",
       "   'compatible_area_of_focus': 'Learning - Learn to program',\n",
       "   'type': 'query',\n",
       "   'difficulty': 'Easy',\n",
       "   'target_length': 1},\n",
       "  'messages': [{'role': 'user', 'content': ' '}]},\n",
       " {'metadata': {'occupation_skill_pair': 'Python Developer > Beginner',\n",
       "   'compatible_area_of_focus': 'Learning - Learn to program',\n",
       "   'type': 'query',\n",
       "   'difficulty': 'Easy',\n",
       "   'target_length': 1},\n",
       "  'messages': [{'role': 'user', 'content': 'B'}]},\n",
       " {'metadata': {'occupation_skill_pair': 'Python Developer > Beginner',\n",
       "   'compatible_area_of_focus': 'Learning - Learn to program',\n",
       "   'type': 'query',\n",
       "   'difficulty': 'Easy',\n",
       "   'target_length': 1},\n",
       "  'messages': [{'role': 'user', 'content': 'e'}]},\n",
       " {'metadata': {'occupation_skill_pair': 'Python Developer > Beginner',\n",
       "   'compatible_area_of_focus': 'Learning - Learn to program',\n",
       "   'type': 'query',\n",
       "   'difficulty': 'Easy',\n",
       "   'target_length': 1},\n",
       "  'messages': [{'role': 'user', 'content': 'g'}]},\n",
       " {'metadata': {'occupation_skill_pair': 'Python Developer > Beginner',\n",
       "   'compatible_area_of_focus': 'Learning - Learn to program',\n",
       "   'type': 'query',\n",
       "   'difficulty': 'Easy',\n",
       "   'target_length': 1},\n",
       "  'messages': [{'role': 'user', 'content': 'i'}]},\n",
       " {'metadata': {'occupation_skill_pair': 'Python Developer > Beginner',\n",
       "   'compatible_area_of_focus': 'Learning - Learn to program',\n",
       "   'type': 'query',\n",
       "   'difficulty': 'Easy',\n",
       "   'target_length': 1},\n",
       "  'messages': [{'role': 'user', 'content': 'n'}]},\n",
       " {'metadata': {'occupation_skill_pair': 'Python Developer > Beginner',\n",
       "   'compatible_area_of_focus': 'Learning - Learn to program',\n",
       "   'type': 'query',\n",
       "   'difficulty': 'Easy',\n",
       "   'target_length': 1},\n",
       "  'messages': [{'role': 'user', 'content': 'n'}]},\n",
       " {'metadata': {'occupation_skill_pair': 'Python Developer > Beginner',\n",
       "   'compatible_area_of_focus': 'Learning - Learn to program',\n",
       "   'type': 'query',\n",
       "   'difficulty': 'Easy',\n",
       "   'target_length': 1},\n",
       "  'messages': [{'role': 'user', 'content': 'e'}]},\n",
       " {'metadata': {'occupation_skill_pair': 'Python Developer > Beginner',\n",
       "   'compatible_area_of_focus': 'Learning - Learn to program',\n",
       "   'type': 'query',\n",
       "   'difficulty': 'Easy',\n",
       "   'target_length': 1},\n",
       "  'messages': [{'role': 'user', 'content': 'r'}]},\n",
       " {'metadata': {'occupation_skill_pair': 'Python Developer > Beginner',\n",
       "   'compatible_area_of_focus': 'Learning - Learn to use some tool / infra',\n",
       "   'type': 'query',\n",
       "   'difficulty': 'Easy',\n",
       "   'target_length': 1},\n",
       "  'messages': [{'role': 'user', 'content': 'P'}]},\n",
       " {'metadata': {'occupation_skill_pair': 'Python Developer > Beginner',\n",
       "   'compatible_area_of_focus': 'Learning - Learn to use some tool / infra',\n",
       "   'type': 'query',\n",
       "   'difficulty': 'Easy',\n",
       "   'target_length': 1},\n",
       "  'messages': [{'role': 'user', 'content': 'y'}]},\n",
       " {'metadata': {'occupation_skill_pair': 'Python Developer > Beginner',\n",
       "   'compatible_area_of_focus': 'Learning - Learn to use some tool / infra',\n",
       "   'type': 'query',\n",
       "   'difficulty': 'Easy',\n",
       "   'target_length': 1},\n",
       "  'messages': [{'role': 'user', 'content': 't'}]},\n",
       " {'metadata': {'occupation_skill_pair': 'Python Developer > Beginner',\n",
       "   'compatible_area_of_focus': 'Learning - Learn to use some tool / infra',\n",
       "   'type': 'query',\n",
       "   'difficulty': 'Easy',\n",
       "   'target_length': 1},\n",
       "  'messages': [{'role': 'user', 'content': 'h'}]},\n",
       " {'metadata': {'occupation_skill_pair': 'Python Developer > Beginner',\n",
       "   'compatible_area_of_focus': 'Learning - Learn to use some tool / infra',\n",
       "   'type': 'query',\n",
       "   'difficulty': 'Easy',\n",
       "   'target_length': 1},\n",
       "  'messages': [{'role': 'user', 'content': 'o'}]},\n",
       " {'metadata': {'occupation_skill_pair': 'Python Developer > Beginner',\n",
       "   'compatible_area_of_focus': 'Learning - Learn to use some tool / infra',\n",
       "   'type': 'query',\n",
       "   'difficulty': 'Easy',\n",
       "   'target_length': 1},\n",
       "  'messages': [{'role': 'user', 'content': 'n'}]},\n",
       " {'metadata': {'occupation_skill_pair': 'Python Developer > Beginner',\n",
       "   'compatible_area_of_focus': 'Learning - Learn to use some tool / infra',\n",
       "   'type': 'query',\n",
       "   'difficulty': 'Easy',\n",
       "   'target_length': 1},\n",
       "  'messages': [{'role': 'user', 'content': ' '}]},\n",
       " {'metadata': {'occupation_skill_pair': 'Python Developer > Beginner',\n",
       "   'compatible_area_of_focus': 'Learning - Learn to use some tool / infra',\n",
       "   'type': 'query',\n",
       "   'difficulty': 'Easy',\n",
       "   'target_length': 1},\n",
       "  'messages': [{'role': 'user', 'content': 'D'}]},\n",
       " {'metadata': {'occupation_skill_pair': 'Python Developer > Beginner',\n",
       "   'compatible_area_of_focus': 'Learning - Learn to use some tool / infra',\n",
       "   'type': 'query',\n",
       "   'difficulty': 'Easy',\n",
       "   'target_length': 1},\n",
       "  'messages': [{'role': 'user', 'content': 'e'}]},\n",
       " {'metadata': {'occupation_skill_pair': 'Python Developer > Beginner',\n",
       "   'compatible_area_of_focus': 'Learning - Learn to use some tool / infra',\n",
       "   'type': 'query',\n",
       "   'difficulty': 'Easy',\n",
       "   'target_length': 1},\n",
       "  'messages': [{'role': 'user', 'content': 'v'}]},\n",
       " {'metadata': {'occupation_skill_pair': 'Python Developer > Beginner',\n",
       "   'compatible_area_of_focus': 'Learning - Learn to use some tool / infra',\n",
       "   'type': 'query',\n",
       "   'difficulty': 'Easy',\n",
       "   'target_length': 1},\n",
       "  'messages': [{'role': 'user', 'content': 'e'}]},\n",
       " {'metadata': {'occupation_skill_pair': 'Python Developer > Beginner',\n",
       "   'compatible_area_of_focus': 'Learning - Learn to use some tool / infra',\n",
       "   'type': 'query',\n",
       "   'difficulty': 'Easy',\n",
       "   'target_length': 1},\n",
       "  'messages': [{'role': 'user', 'content': 'l'}]},\n",
       " {'metadata': {'occupation_skill_pair': 'Python Developer > Beginner',\n",
       "   'compatible_area_of_focus': 'Learning - Learn to use some tool / infra',\n",
       "   'type': 'query',\n",
       "   'difficulty': 'Easy',\n",
       "   'target_length': 1},\n",
       "  'messages': [{'role': 'user', 'content': 'o'}]},\n",
       " {'metadata': {'occupation_skill_pair': 'Python Developer > Beginner',\n",
       "   'compatible_area_of_focus': 'Learning - Learn to use some tool / infra',\n",
       "   'type': 'query',\n",
       "   'difficulty': 'Easy',\n",
       "   'target_length': 1},\n",
       "  'messages': [{'role': 'user', 'content': 'p'}]},\n",
       " {'metadata': {'occupation_skill_pair': 'Python Developer > Beginner',\n",
       "   'compatible_area_of_focus': 'Learning - Learn to use some tool / infra',\n",
       "   'type': 'query',\n",
       "   'difficulty': 'Easy',\n",
       "   'target_length': 1},\n",
       "  'messages': [{'role': 'user', 'content': 'e'}]},\n",
       " {'metadata': {'occupation_skill_pair': 'Python Developer > Beginner',\n",
       "   'compatible_area_of_focus': 'Learning - Learn to use some tool / infra',\n",
       "   'type': 'query',\n",
       "   'difficulty': 'Easy',\n",
       "   'target_length': 1},\n",
       "  'messages': [{'role': 'user', 'content': 'r'}]},\n",
       " {'metadata': {'occupation_skill_pair': 'Python Developer > Beginner',\n",
       "   'compatible_area_of_focus': 'Learning - Learn to use some tool / infra',\n",
       "   'type': 'query',\n",
       "   'difficulty': 'Easy',\n",
       "   'target_length': 1},\n",
       "  'messages': [{'role': 'user', 'content': ' '}]},\n",
       " {'metadata': {'occupation_skill_pair': 'Python Developer > Beginner',\n",
       "   'compatible_area_of_focus': 'Learning - Learn to use some tool / infra',\n",
       "   'type': 'query',\n",
       "   'difficulty': 'Easy',\n",
       "   'target_length': 1},\n",
       "  'messages': [{'role': 'user', 'content': '>'}]},\n",
       " {'metadata': {'occupation_skill_pair': 'Python Developer > Beginner',\n",
       "   'compatible_area_of_focus': 'Learning - Learn to use some tool / infra',\n",
       "   'type': 'query',\n",
       "   'difficulty': 'Easy',\n",
       "   'target_length': 1},\n",
       "  'messages': [{'role': 'user', 'content': ' '}]},\n",
       " {'metadata': {'occupation_skill_pair': 'Python Developer > Beginner',\n",
       "   'compatible_area_of_focus': 'Learning - Learn to use some tool / infra',\n",
       "   'type': 'query',\n",
       "   'difficulty': 'Easy',\n",
       "   'target_length': 1},\n",
       "  'messages': [{'role': 'user', 'content': 'B'}]},\n",
       " {'metadata': {'occupation_skill_pair': 'Python Developer > Beginner',\n",
       "   'compatible_area_of_focus': 'Learning - Learn to use some tool / infra',\n",
       "   'type': 'query',\n",
       "   'difficulty': 'Easy',\n",
       "   'target_length': 1},\n",
       "  'messages': [{'role': 'user', 'content': 'e'}]},\n",
       " {'metadata': {'occupation_skill_pair': 'Python Developer > Beginner',\n",
       "   'compatible_area_of_focus': 'Learning - Learn to use some tool / infra',\n",
       "   'type': 'query',\n",
       "   'difficulty': 'Easy',\n",
       "   'target_length': 1},\n",
       "  'messages': [{'role': 'user', 'content': 'g'}]},\n",
       " {'metadata': {'occupation_skill_pair': 'Python Developer > Beginner',\n",
       "   'compatible_area_of_focus': 'Learning - Learn to use some tool / infra',\n",
       "   'type': 'query',\n",
       "   'difficulty': 'Easy',\n",
       "   'target_length': 1},\n",
       "  'messages': [{'role': 'user', 'content': 'i'}]},\n",
       " {'metadata': {'occupation_skill_pair': 'Python Developer > Beginner',\n",
       "   'compatible_area_of_focus': 'Learning - Learn to use some tool / infra',\n",
       "   'type': 'query',\n",
       "   'difficulty': 'Easy',\n",
       "   'target_length': 1},\n",
       "  'messages': [{'role': 'user', 'content': 'n'}]},\n",
       " {'metadata': {'occupation_skill_pair': 'Python Developer > Beginner',\n",
       "   'compatible_area_of_focus': 'Learning - Learn to use some tool / infra',\n",
       "   'type': 'query',\n",
       "   'difficulty': 'Easy',\n",
       "   'target_length': 1},\n",
       "  'messages': [{'role': 'user', 'content': 'n'}]},\n",
       " {'metadata': {'occupation_skill_pair': 'Python Developer > Beginner',\n",
       "   'compatible_area_of_focus': 'Learning - Learn to use some tool / infra',\n",
       "   'type': 'query',\n",
       "   'difficulty': 'Easy',\n",
       "   'target_length': 1},\n",
       "  'messages': [{'role': 'user', 'content': 'e'}]},\n",
       " {'metadata': {'occupation_skill_pair': 'Python Developer > Beginner',\n",
       "   'compatible_area_of_focus': 'Learning - Learn to use some tool / infra',\n",
       "   'type': 'query',\n",
       "   'difficulty': 'Easy',\n",
       "   'target_length': 1},\n",
       "  'messages': [{'role': 'user', 'content': 'r'}]},\n",
       " {'metadata': {'occupation_skill_pair': 'Python Developer > Intermediate',\n",
       "   'compatible_area_of_focus': 'Basic scripting - Write simple code in Javascript',\n",
       "   'type': 'query',\n",
       "   'difficulty': 'Easy',\n",
       "   'target_length': 1},\n",
       "  'messages': [{'role': 'user', 'content': 'P'}]},\n",
       " {'metadata': {'occupation_skill_pair': 'Python Developer > Intermediate',\n",
       "   'compatible_area_of_focus': 'Basic scripting - Write simple code in Javascript',\n",
       "   'type': 'query',\n",
       "   'difficulty': 'Easy',\n",
       "   'target_length': 1},\n",
       "  'messages': [{'role': 'user', 'content': 'y'}]},\n",
       " {'metadata': {'occupation_skill_pair': 'Python Developer > Intermediate',\n",
       "   'compatible_area_of_focus': 'Basic scripting - Write simple code in Javascript',\n",
       "   'type': 'query',\n",
       "   'difficulty': 'Easy',\n",
       "   'target_length': 1},\n",
       "  'messages': [{'role': 'user', 'content': 't'}]},\n",
       " {'metadata': {'occupation_skill_pair': 'Python Developer > Intermediate',\n",
       "   'compatible_area_of_focus': 'Basic scripting - Write simple code in Javascript',\n",
       "   'type': 'query',\n",
       "   'difficulty': 'Easy',\n",
       "   'target_length': 1},\n",
       "  'messages': [{'role': 'user', 'content': 'h'}]},\n",
       " {'metadata': {'occupation_skill_pair': 'Python Developer > Intermediate',\n",
       "   'compatible_area_of_focus': 'Basic scripting - Write simple code in Javascript',\n",
       "   'type': 'query',\n",
       "   'difficulty': 'Easy',\n",
       "   'target_length': 1},\n",
       "  'messages': [{'role': 'user', 'content': 'o'}]},\n",
       " {'metadata': {'occupation_skill_pair': 'Python Developer > Intermediate',\n",
       "   'compatible_area_of_focus': 'Basic scripting - Write simple code in Javascript',\n",
       "   'type': 'query',\n",
       "   'difficulty': 'Easy',\n",
       "   'target_length': 1},\n",
       "  'messages': [{'role': 'user', 'content': 'n'}]},\n",
       " {'metadata': {'occupation_skill_pair': 'Python Developer > Intermediate',\n",
       "   'compatible_area_of_focus': 'Basic scripting - Write simple code in Javascript',\n",
       "   'type': 'query',\n",
       "   'difficulty': 'Easy',\n",
       "   'target_length': 1},\n",
       "  'messages': [{'role': 'user', 'content': ' '}]},\n",
       " {'metadata': {'occupation_skill_pair': 'Python Developer > Intermediate',\n",
       "   'compatible_area_of_focus': 'Basic scripting - Write simple code in Javascript',\n",
       "   'type': 'query',\n",
       "   'difficulty': 'Easy',\n",
       "   'target_length': 1},\n",
       "  'messages': [{'role': 'user', 'content': 'D'}]},\n",
       " {'metadata': {'occupation_skill_pair': 'Python Developer > Intermediate',\n",
       "   'compatible_area_of_focus': 'Basic scripting - Write simple code in Javascript',\n",
       "   'type': 'query',\n",
       "   'difficulty': 'Easy',\n",
       "   'target_length': 1},\n",
       "  'messages': [{'role': 'user', 'content': 'e'}]},\n",
       " {'metadata': {'occupation_skill_pair': 'Python Developer > Intermediate',\n",
       "   'compatible_area_of_focus': 'Basic scripting - Write simple code in Javascript',\n",
       "   'type': 'query',\n",
       "   'difficulty': 'Easy',\n",
       "   'target_length': 1},\n",
       "  'messages': [{'role': 'user', 'content': 'v'}]},\n",
       " {'metadata': {'occupation_skill_pair': 'Python Developer > Intermediate',\n",
       "   'compatible_area_of_focus': 'Basic scripting - Write simple code in Javascript',\n",
       "   'type': 'query',\n",
       "   'difficulty': 'Easy',\n",
       "   'target_length': 1},\n",
       "  'messages': [{'role': 'user', 'content': 'e'}]},\n",
       " {'metadata': {'occupation_skill_pair': 'Python Developer > Intermediate',\n",
       "   'compatible_area_of_focus': 'Basic scripting - Write simple code in Javascript',\n",
       "   'type': 'query',\n",
       "   'difficulty': 'Easy',\n",
       "   'target_length': 1},\n",
       "  'messages': [{'role': 'user', 'content': 'l'}]},\n",
       " {'metadata': {'occupation_skill_pair': 'Python Developer > Intermediate',\n",
       "   'compatible_area_of_focus': 'Basic scripting - Write simple code in Javascript',\n",
       "   'type': 'query',\n",
       "   'difficulty': 'Easy',\n",
       "   'target_length': 1},\n",
       "  'messages': [{'role': 'user', 'content': 'o'}]},\n",
       " {'metadata': {'occupation_skill_pair': 'Python Developer > Intermediate',\n",
       "   'compatible_area_of_focus': 'Basic scripting - Write simple code in Javascript',\n",
       "   'type': 'query',\n",
       "   'difficulty': 'Easy',\n",
       "   'target_length': 1},\n",
       "  'messages': [{'role': 'user', 'content': 'p'}]},\n",
       " {'metadata': {'occupation_skill_pair': 'Python Developer > Intermediate',\n",
       "   'compatible_area_of_focus': 'Basic scripting - Write simple code in Javascript',\n",
       "   'type': 'query',\n",
       "   'difficulty': 'Easy',\n",
       "   'target_length': 1},\n",
       "  'messages': [{'role': 'user', 'content': 'e'}]},\n",
       " {'metadata': {'occupation_skill_pair': 'Python Developer > Intermediate',\n",
       "   'compatible_area_of_focus': 'Basic scripting - Write simple code in Javascript',\n",
       "   'type': 'query',\n",
       "   'difficulty': 'Easy',\n",
       "   'target_length': 1},\n",
       "  'messages': [{'role': 'user', 'content': 'r'}]},\n",
       " {'metadata': {'occupation_skill_pair': 'Python Developer > Intermediate',\n",
       "   'compatible_area_of_focus': 'Basic scripting - Write simple code in Javascript',\n",
       "   'type': 'query',\n",
       "   'difficulty': 'Easy',\n",
       "   'target_length': 1},\n",
       "  'messages': [{'role': 'user', 'content': ' '}]},\n",
       " {'metadata': {'occupation_skill_pair': 'Python Developer > Intermediate',\n",
       "   'compatible_area_of_focus': 'Basic scripting - Write simple code in Javascript',\n",
       "   'type': 'query',\n",
       "   'difficulty': 'Easy',\n",
       "   'target_length': 1},\n",
       "  'messages': [{'role': 'user', 'content': '>'}]},\n",
       " {'metadata': {'occupation_skill_pair': 'Python Developer > Intermediate',\n",
       "   'compatible_area_of_focus': 'Basic scripting - Write simple code in Javascript',\n",
       "   'type': 'query',\n",
       "   'difficulty': 'Easy',\n",
       "   'target_length': 1},\n",
       "  'messages': [{'role': 'user', 'content': ' '}]},\n",
       " {'metadata': {'occupation_skill_pair': 'Python Developer > Intermediate',\n",
       "   'compatible_area_of_focus': 'Basic scripting - Write simple code in Javascript',\n",
       "   'type': 'query',\n",
       "   'difficulty': 'Easy',\n",
       "   'target_length': 1},\n",
       "  'messages': [{'role': 'user', 'content': 'I'}]},\n",
       " {'metadata': {'occupation_skill_pair': 'Python Developer > Intermediate',\n",
       "   'compatible_area_of_focus': 'Basic scripting - Write simple code in Javascript',\n",
       "   'type': 'query',\n",
       "   'difficulty': 'Easy',\n",
       "   'target_length': 1},\n",
       "  'messages': [{'role': 'user', 'content': 'n'}]},\n",
       " {'metadata': {'occupation_skill_pair': 'Python Developer > Intermediate',\n",
       "   'compatible_area_of_focus': 'Basic scripting - Write simple code in Javascript',\n",
       "   'type': 'query',\n",
       "   'difficulty': 'Easy',\n",
       "   'target_length': 1},\n",
       "  'messages': [{'role': 'user', 'content': 't'}]},\n",
       " {'metadata': {'occupation_skill_pair': 'Python Developer > Intermediate',\n",
       "   'compatible_area_of_focus': 'Basic scripting - Write simple code in Javascript',\n",
       "   'type': 'query',\n",
       "   'difficulty': 'Easy',\n",
       "   'target_length': 1},\n",
       "  'messages': [{'role': 'user', 'content': 'e'}]},\n",
       " {'metadata': {'occupation_skill_pair': 'Python Developer > Intermediate',\n",
       "   'compatible_area_of_focus': 'Basic scripting - Write simple code in Javascript',\n",
       "   'type': 'query',\n",
       "   'difficulty': 'Easy',\n",
       "   'target_length': 1},\n",
       "  'messages': [{'role': 'user', 'content': 'r'}]},\n",
       " {'metadata': {'occupation_skill_pair': 'Python Developer > Intermediate',\n",
       "   'compatible_area_of_focus': 'Basic scripting - Write simple code in Javascript',\n",
       "   'type': 'query',\n",
       "   'difficulty': 'Easy',\n",
       "   'target_length': 1},\n",
       "  'messages': [{'role': 'user', 'content': 'm'}]},\n",
       " {'metadata': {'occupation_skill_pair': 'Python Developer > Intermediate',\n",
       "   'compatible_area_of_focus': 'Basic scripting - Write simple code in Javascript',\n",
       "   'type': 'query',\n",
       "   'difficulty': 'Easy',\n",
       "   'target_length': 1},\n",
       "  'messages': [{'role': 'user', 'content': 'e'}]},\n",
       " {'metadata': {'occupation_skill_pair': 'Python Developer > Intermediate',\n",
       "   'compatible_area_of_focus': 'Basic scripting - Write simple code in Javascript',\n",
       "   'type': 'query',\n",
       "   'difficulty': 'Easy',\n",
       "   'target_length': 1},\n",
       "  'messages': [{'role': 'user', 'content': 'd'}]},\n",
       " {'metadata': {'occupation_skill_pair': 'Python Developer > Intermediate',\n",
       "   'compatible_area_of_focus': 'Basic scripting - Write simple code in Javascript',\n",
       "   'type': 'query',\n",
       "   'difficulty': 'Easy',\n",
       "   'target_length': 1},\n",
       "  'messages': [{'role': 'user', 'content': 'i'}]},\n",
       " {'metadata': {'occupation_skill_pair': 'Python Developer > Intermediate',\n",
       "   'compatible_area_of_focus': 'Basic scripting - Write simple code in Javascript',\n",
       "   'type': 'query',\n",
       "   'difficulty': 'Easy',\n",
       "   'target_length': 1},\n",
       "  'messages': [{'role': 'user', 'content': 'a'}]},\n",
       " {'metadata': {'occupation_skill_pair': 'Python Developer > Intermediate',\n",
       "   'compatible_area_of_focus': 'Basic scripting - Write simple code in Javascript',\n",
       "   'type': 'query',\n",
       "   'difficulty': 'Easy',\n",
       "   'target_length': 1},\n",
       "  'messages': [{'role': 'user', 'content': 't'}]},\n",
       " {'metadata': {'occupation_skill_pair': 'Python Developer > Intermediate',\n",
       "   'compatible_area_of_focus': 'Basic scripting - Write simple code in Javascript',\n",
       "   'type': 'query',\n",
       "   'difficulty': 'Easy',\n",
       "   'target_length': 1},\n",
       "  'messages': [{'role': 'user', 'content': 'e'}]},\n",
       " ...]"
      ]
     },
     "execution_count": 90,
     "metadata": {},
     "output_type": "execute_result"
    }
   ],
   "source": [
    "problems"
   ]
  },
  {
   "cell_type": "code",
   "execution_count": null,
   "metadata": {},
   "outputs": [],
   "source": [
    "with tqdm(total=len(all_topics)) as pbar:\n",
    "    for topic in all_topics:\n",
    "        questions = generate_human_like_code_modification_requests(topic, 3)\n",
    "        for question in questions[\"questions\"]:\n",
    "            problems.append({\n",
    "                \"metadata\": {\n",
    "                    \"occupation_skill_pair\": occupation_skill,\n",
    "                    \"compatible_area_of_focus\": area_of_focus,\n",
    "                    \"type\": \"query\",\n",
    "                    \"difficulty\": \"Easy\",\n",
    "                    \"target_length\": 1\n",
    "                },\n",
    "                \"messages\": [\n",
    "                    {\"role\": \"user\", \"content\": question},\n",
    "                ]\n",
    "            })\n",
    "        pbar.update(1)"
   ]
  },
  {
   "cell_type": "code",
   "execution_count": null,
   "metadata": {},
   "outputs": [],
   "source": []
  },
  {
   "cell_type": "code",
   "execution_count": null,
   "metadata": {},
   "outputs": [],
   "source": [
    "# filter"
   ]
  },
  {
   "cell_type": "markdown",
   "metadata": {},
   "source": [
    "#### generating user themes based on their occupation and experience level"
   ]
  },
  {
   "cell_type": "code",
   "execution_count": 41,
   "metadata": {},
   "outputs": [],
   "source": [
    "def generate_usecase_technical_topic(occupation, n=1, existing_questions=None):\n",
    "    SYSTEM_PROMPT = f\"\"\"IDENTITY:\n",
    "You are an AI capable of generating user themes based on their occupation and experience level.\n",
    "\n",
    "CONTEXT:\n",
    "We are trying to generate human-like queries that a user would send to an ai assistant through a chat interface. \n",
    "The user's query tone & structure should be diversified as much as possible making sure to include some realistic examples.\n",
    "We already have batch of previously generated questions and we want to avoid duplication of questions when generating new batch.\n",
    "\n",
    "CONSTRAINTS:\n",
    "1. Occupation and skill Related\n",
    "2. Easy (Solvable by a median developer in 15 minutes)\n",
    "3. Questions should elicit a response that includes code.\n",
    "\n",
    "INSTRUCTION:\n",
    "You will be given an occupation and experience level and asked for number of Use Case coupled with Technical Topic and User Personality to generate.\n",
    "You will also be given previously generated questions for respective topic and ask to ignore generating question if exist.\n",
    "The aim is to maximize diversity.\n",
    "Act accordingly.\n",
    "\n",
    "Generate a theme object for a user with the following occupation and experience level:\n",
    "- Occupation: \n",
    "- Experience level: \n",
    "The theme object should contain a use case, a technical topic, and the user's personality.\n",
    "\n",
    "RESPONSE FORMAT:\n",
    "A JSON-valid object that includes {{\"questions\":[\"use_case\", \"technical_topic\", and \"user_personality\"]}}.\n",
    "\n",
    "\"\"\"\n",
    "    try:\n",
    "        response = client.chat.completions.create(\n",
    "            model=\"gpt-4-1106-preview\",\n",
    "            messages=[\n",
    "                {\"role\": \"system\", \"content\": SYSTEM_PROMPT},\n",
    "                {\"role\": \"user\", \"content\": f\"Occupation: {occupation} \\nNumber of questions: {n} \\n existing questions {existing_questions}\"},\n",
    "            ],\n",
    "            temperature=0.0,\n",
    "            max_tokens=4096,\n",
    "            seed = 42,\n",
    "            response_format={ \n",
    "                \"type\": \"json_object\" \n",
    "            },\n",
    "        )\n",
    "        questions = json.loads(response.choices[0].message.content)\n",
    "        return questions\n",
    "    except Exception as e:\n",
    "        print(f\"An error occurred: {e}\")\n",
    "        return None"
   ]
  },
  {
   "cell_type": "code",
   "execution_count": 44,
   "metadata": {},
   "outputs": [
    {
     "name": "stderr",
     "output_type": "stream",
     "text": [
      " 10%|█         | 1/10 [00:05<00:53,  5.99s/it]"
     ]
    },
    {
     "name": "stdout",
     "output_type": "stream",
     "text": [
      "{'questions': [{'use_case': \"Creating a simple 'Hello, World!' program\", 'technical_topic': 'Basic syntax in Python', 'user_personality': 'Curious and eager to learn the fundamentals'}]}\n"
     ]
    },
    {
     "name": "stderr",
     "output_type": "stream",
     "text": [
      " 20%|██        | 2/10 [00:16<01:07,  8.41s/it]"
     ]
    },
    {
     "name": "stdout",
     "output_type": "stream",
     "text": [
      "{'questions': [{'use_case': 'Creating a simple REST API endpoint to retrieve user data', 'technical_topic': 'Building a RESTful service with Flask', 'user_personality': 'Curious and eager to learn, with a preference for clear, step-by-step explanations'}]}\n"
     ]
    },
    {
     "name": "stderr",
     "output_type": "stream",
     "text": [
      " 30%|███       | 3/10 [00:20<00:47,  6.81s/it]"
     ]
    },
    {
     "name": "stdout",
     "output_type": "stream",
     "text": [
      "{'questions': [{'use_case': 'Implementing a RESTful API endpoint for a to-do application', 'technical_topic': 'Creating a new feature using Flask in Python', 'user_personality': 'Curious and detail-oriented, seeking to understand best practices'}]}\n"
     ]
    },
    {
     "name": "stderr",
     "output_type": "stream",
     "text": [
      " 40%|████      | 4/10 [00:26<00:36,  6.16s/it]"
     ]
    },
    {
     "name": "stdout",
     "output_type": "stream",
     "text": [
      "{'questions': [{'use_case': 'Implementing a RESTful API endpoint for a social media application', 'technical_topic': 'Asynchronous programming in Node.js', 'user_personality': 'Curious and detail-oriented, seeking to optimize performance'}]}\n"
     ]
    },
    {
     "name": "stderr",
     "output_type": "stream",
     "text": [
      " 50%|█████     | 5/10 [00:31<00:29,  5.96s/it]"
     ]
    },
    {
     "name": "stdout",
     "output_type": "stream",
     "text": [
      "{'questions': [{'use_case': 'Implementing a caching mechanism to improve application performance', 'technical_topic': 'Redis integration with a Node.js application', 'user_personality': 'Inquisitive and detail-oriented, seeking to optimize existing systems'}]}\n"
     ]
    },
    {
     "name": "stderr",
     "output_type": "stream",
     "text": [
      " 60%|██████    | 6/10 [00:38<00:25,  6.39s/it]"
     ]
    },
    {
     "name": "stdout",
     "output_type": "stream",
     "text": [
      "{'questions': [{'use_case': 'Creating a responsive navigation menu for a personal portfolio website', 'technical_topic': 'CSS media queries and JavaScript event handling', 'user_personality': 'Eager to learn and apply new web design techniques, with a preference for clean and modern aesthetics'}]}\n"
     ]
    },
    {
     "name": "stderr",
     "output_type": "stream",
     "text": [
      " 70%|███████   | 7/10 [00:45<00:19,  6.44s/it]"
     ]
    },
    {
     "name": "stdout",
     "output_type": "stream",
     "text": [
      "{'questions': [{'use_case': 'Creating a responsive navigation menu', 'technical_topic': 'CSS Flexbox and Media Queries', 'user_personality': 'Curious and eager to learn best practices'}]}\n"
     ]
    },
    {
     "name": "stderr",
     "output_type": "stream",
     "text": [
      " 80%|████████  | 8/10 [00:49<00:11,  5.67s/it]"
     ]
    },
    {
     "name": "stdout",
     "output_type": "stream",
     "text": [
      "{'questions': [{'use_case': 'Implementing responsive navigation menu', 'technical_topic': 'CSS media queries', 'user_personality': 'Curious about best practices for mobile-first design'}]}\n"
     ]
    },
    {
     "name": "stderr",
     "output_type": "stream",
     "text": [
      " 90%|█████████ | 9/10 [00:54<00:05,  5.30s/it]"
     ]
    },
    {
     "name": "stdout",
     "output_type": "stream",
     "text": [
      "{'questions': [{'use_case': 'Implementing responsive navigation menu', 'technical_topic': 'CSS Flexbox and Media Queries', 'user_personality': 'Detail-oriented and keen on performance'}]}\n"
     ]
    },
    {
     "name": "stderr",
     "output_type": "stream",
     "text": [
      "100%|██████████| 10/10 [00:58<00:00,  4.96s/it]"
     ]
    },
    {
     "name": "stdout",
     "output_type": "stream",
     "text": [
      "{'questions': [{'use_case': 'Implementing a responsive navigation menu', 'technical_topic': 'CSS Flexbox and Media Queries', 'user_personality': 'Detail-oriented and appreciates clean, maintainable code'}]}\n"
     ]
    },
    {
     "name": "stderr",
     "output_type": "stream",
     "text": [
      "11it [01:03,  5.04s/it]                        "
     ]
    },
    {
     "name": "stdout",
     "output_type": "stream",
     "text": [
      "{'questions': [{'use_case': 'Analyzing customer feedback', 'technical_topic': 'Text data preprocessing', 'user_personality': 'Curious and eager to learn'}]}\n"
     ]
    },
    {
     "name": "stderr",
     "output_type": "stream",
     "text": [
      "12it [01:08,  5.19s/it]"
     ]
    },
    {
     "name": "stdout",
     "output_type": "stream",
     "text": [
      "{'questions': [{'use_case': 'Analyzing customer feedback for sentiment', 'technical_topic': 'Implementing a basic sentiment analysis with Python', 'user_personality': 'Curious and eager to learn about natural language processing'}]}\n"
     ]
    },
    {
     "name": "stderr",
     "output_type": "stream",
     "text": [
      "13it [01:14,  5.39s/it]"
     ]
    },
    {
     "name": "stdout",
     "output_type": "stream",
     "text": [
      "{'questions': [{'use_case': 'Analyzing customer feedback for sentiment', 'technical_topic': 'Natural Language Processing with Python', 'user_personality': 'Curious and detail-oriented, seeking to improve product features based on user reviews'}]}\n"
     ]
    },
    {
     "name": "stderr",
     "output_type": "stream",
     "text": [
      "14it [01:18,  4.87s/it]"
     ]
    },
    {
     "name": "stdout",
     "output_type": "stream",
     "text": [
      "{'questions': [{'use_case': 'Analyzing customer churn', 'technical_topic': 'Machine learning model optimization', 'user_personality': 'Analytical and detail-oriented, seeking to improve model accuracy'}]}\n"
     ]
    },
    {
     "name": "stderr",
     "output_type": "stream",
     "text": [
      "15it [01:23,  4.99s/it]"
     ]
    },
    {
     "name": "stdout",
     "output_type": "stream",
     "text": [
      "{'questions': [{'use_case': 'Predictive modeling for customer churn', 'technical_topic': 'Machine learning with Python', 'user_personality': 'Analytical and detail-oriented, seeking efficient and scalable solutions'}]}\n"
     ]
    },
    {
     "name": "stderr",
     "output_type": "stream",
     "text": [
      "16it [01:27,  4.56s/it]"
     ]
    },
    {
     "name": "stdout",
     "output_type": "stream",
     "text": [
      "{'questions': [{'use_case': 'Creating a simple user authentication screen', 'technical_topic': 'Implementing OAuth 2.0 in a mobile application', 'user_personality': 'Eager to learn and apply best practices in app security'}]}\n"
     ]
    },
    {
     "name": "stderr",
     "output_type": "stream",
     "text": [
      "17it [01:31,  4.41s/it]"
     ]
    },
    {
     "name": "stdout",
     "output_type": "stream",
     "text": [
      "{'questions': [{'use_case': 'Creating a simple user authentication screen', 'technical_topic': 'Implementing a login form in Flutter', 'user_personality': 'Eager to learn and appreciates step-by-step guidance'}]}\n"
     ]
    },
    {
     "name": "stderr",
     "output_type": "stream",
     "text": [
      "18it [01:35,  4.32s/it]"
     ]
    },
    {
     "name": "stdout",
     "output_type": "stream",
     "text": [
      "{'questions': [{'use_case': 'Implementing a custom animated splash screen for a mobile app', 'technical_topic': 'Mobile app development with Flutter', 'user_personality': 'Curious and detail-oriented, seeking to enhance user experience with engaging visuals'}]}\n"
     ]
    },
    {
     "name": "stderr",
     "output_type": "stream",
     "text": [
      "19it [01:40,  4.64s/it]"
     ]
    },
    {
     "name": "stdout",
     "output_type": "stream",
     "text": [
      "{'questions': [{'use_case': 'Implementing a custom animated splash screen for a mobile app', 'technical_topic': 'Mobile app development with Flutter', 'user_personality': 'A detail-oriented developer who enjoys adding a personal touch to applications'}]}\n"
     ]
    },
    {
     "name": "stderr",
     "output_type": "stream",
     "text": [
      "20it [01:46,  4.85s/it]"
     ]
    },
    {
     "name": "stdout",
     "output_type": "stream",
     "text": [
      "{'questions': [{'use_case': 'optimizing the performance of a mobile application', 'technical_topic': 'implementing efficient caching strategies', 'user_personality': 'meticulous and detail-oriented, always seeking to enhance app responsiveness and reduce load times'}]}\n"
     ]
    },
    {
     "name": "stderr",
     "output_type": "stream",
     "text": [
      "21it [01:51,  5.02s/it]"
     ]
    },
    {
     "name": "stdout",
     "output_type": "stream",
     "text": [
      "{'questions': [{'use_case': 'Automating a simple deployment process', 'technical_topic': 'Writing a basic Ansible playbook', 'user_personality': 'Eager to learn and apply new DevOps practices'}]}\n"
     ]
    },
    {
     "name": "stderr",
     "output_type": "stream",
     "text": [
      "22it [01:56,  4.89s/it]"
     ]
    },
    {
     "name": "stdout",
     "output_type": "stream",
     "text": [
      "{'questions': [{'use_case': 'Automating a simple deployment process', 'technical_topic': 'Writing a basic Ansible playbook', 'user_personality': 'Eager to learn and apply new tools'}]}\n"
     ]
    },
    {
     "name": "stderr",
     "output_type": "stream",
     "text": [
      "23it [02:01,  5.05s/it]"
     ]
    },
    {
     "name": "stdout",
     "output_type": "stream",
     "text": [
      "{'questions': [{'use_case': 'Automating deployment processes', 'technical_topic': 'Writing a basic Ansible playbook', 'user_personality': 'Curious and eager to optimize workflows'}]}\n"
     ]
    },
    {
     "name": "stderr",
     "output_type": "stream",
     "text": [
      "23it [02:04,  5.43s/it]\n"
     ]
    },
    {
     "ename": "KeyboardInterrupt",
     "evalue": "",
     "output_type": "error",
     "traceback": [
      "\u001b[1;31m---------------------------------------------------------------------------\u001b[0m",
      "\u001b[1;31mKeyboardInterrupt\u001b[0m                         Traceback (most recent call last)",
      "Cell \u001b[1;32mIn[44], line 6\u001b[0m\n\u001b[0;32m      4\u001b[0m \u001b[38;5;28;01mwith\u001b[39;00m tqdm(total\u001b[38;5;241m=\u001b[39mMAX_QUESTIONS) \u001b[38;5;28;01mas\u001b[39;00m pbar:\n\u001b[0;32m      5\u001b[0m     \u001b[38;5;28;01mfor\u001b[39;00m Occupation \u001b[38;5;129;01min\u001b[39;00m all_occupations_with_levels:\n\u001b[1;32m----> 6\u001b[0m         questions \u001b[38;5;241m=\u001b[39m \u001b[43mgenerate_usecase_technical_topic\u001b[49m\u001b[43m(\u001b[49m\u001b[43mOccupation\u001b[49m\u001b[43m,\u001b[49m\u001b[43m \u001b[49m\u001b[38;5;241;43m1\u001b[39;49m\u001b[43m)\u001b[49m\n\u001b[0;32m      7\u001b[0m         \u001b[38;5;28mprint\u001b[39m(questions)\n\u001b[0;32m      8\u001b[0m         \u001b[38;5;28;01mfor\u001b[39;00m question \u001b[38;5;129;01min\u001b[39;00m questions[\u001b[38;5;124m\"\u001b[39m\u001b[38;5;124mquestions\u001b[39m\u001b[38;5;124m\"\u001b[39m]:\n",
      "Cell \u001b[1;32mIn[41], line 31\u001b[0m, in \u001b[0;36mgenerate_usecase_technical_topic\u001b[1;34m(occupation, n, existing_questions)\u001b[0m\n\u001b[0;32m      2\u001b[0m     SYSTEM_PROMPT \u001b[38;5;241m=\u001b[39m \u001b[38;5;124mf\u001b[39m\u001b[38;5;124m\"\"\"\u001b[39m\u001b[38;5;124mIDENTITY:\u001b[39m\n\u001b[0;32m      3\u001b[0m \u001b[38;5;124mYou are an AI capable of generating user themes based on their occupation and experience level.\u001b[39m\n\u001b[0;32m      4\u001b[0m \n\u001b[1;32m   (...)\u001b[0m\n\u001b[0;32m     28\u001b[0m \n\u001b[0;32m     29\u001b[0m \u001b[38;5;124m\"\"\"\u001b[39m\n\u001b[0;32m     30\u001b[0m     \u001b[38;5;28;01mtry\u001b[39;00m:\n\u001b[1;32m---> 31\u001b[0m         response \u001b[38;5;241m=\u001b[39m \u001b[43mclient\u001b[49m\u001b[38;5;241;43m.\u001b[39;49m\u001b[43mchat\u001b[49m\u001b[38;5;241;43m.\u001b[39;49m\u001b[43mcompletions\u001b[49m\u001b[38;5;241;43m.\u001b[39;49m\u001b[43mcreate\u001b[49m\u001b[43m(\u001b[49m\n\u001b[0;32m     32\u001b[0m \u001b[43m            \u001b[49m\u001b[43mmodel\u001b[49m\u001b[38;5;241;43m=\u001b[39;49m\u001b[38;5;124;43m\"\u001b[39;49m\u001b[38;5;124;43mgpt-4-1106-preview\u001b[39;49m\u001b[38;5;124;43m\"\u001b[39;49m\u001b[43m,\u001b[49m\n\u001b[0;32m     33\u001b[0m \u001b[43m            \u001b[49m\u001b[43mmessages\u001b[49m\u001b[38;5;241;43m=\u001b[39;49m\u001b[43m[\u001b[49m\n\u001b[0;32m     34\u001b[0m \u001b[43m                \u001b[49m\u001b[43m{\u001b[49m\u001b[38;5;124;43m\"\u001b[39;49m\u001b[38;5;124;43mrole\u001b[39;49m\u001b[38;5;124;43m\"\u001b[39;49m\u001b[43m:\u001b[49m\u001b[43m \u001b[49m\u001b[38;5;124;43m\"\u001b[39;49m\u001b[38;5;124;43msystem\u001b[39;49m\u001b[38;5;124;43m\"\u001b[39;49m\u001b[43m,\u001b[49m\u001b[43m \u001b[49m\u001b[38;5;124;43m\"\u001b[39;49m\u001b[38;5;124;43mcontent\u001b[39;49m\u001b[38;5;124;43m\"\u001b[39;49m\u001b[43m:\u001b[49m\u001b[43m \u001b[49m\u001b[43mSYSTEM_PROMPT\u001b[49m\u001b[43m}\u001b[49m\u001b[43m,\u001b[49m\n\u001b[0;32m     35\u001b[0m \u001b[43m                \u001b[49m\u001b[43m{\u001b[49m\u001b[38;5;124;43m\"\u001b[39;49m\u001b[38;5;124;43mrole\u001b[39;49m\u001b[38;5;124;43m\"\u001b[39;49m\u001b[43m:\u001b[49m\u001b[43m \u001b[49m\u001b[38;5;124;43m\"\u001b[39;49m\u001b[38;5;124;43muser\u001b[39;49m\u001b[38;5;124;43m\"\u001b[39;49m\u001b[43m,\u001b[49m\u001b[43m \u001b[49m\u001b[38;5;124;43m\"\u001b[39;49m\u001b[38;5;124;43mcontent\u001b[39;49m\u001b[38;5;124;43m\"\u001b[39;49m\u001b[43m:\u001b[49m\u001b[43m \u001b[49m\u001b[38;5;124;43mf\u001b[39;49m\u001b[38;5;124;43m\"\u001b[39;49m\u001b[38;5;124;43mOccupation: \u001b[39;49m\u001b[38;5;132;43;01m{\u001b[39;49;00m\u001b[43moccupation\u001b[49m\u001b[38;5;132;43;01m}\u001b[39;49;00m\u001b[38;5;124;43m \u001b[39;49m\u001b[38;5;130;43;01m\\n\u001b[39;49;00m\u001b[38;5;124;43mNumber of questions: \u001b[39;49m\u001b[38;5;132;43;01m{\u001b[39;49;00m\u001b[43mn\u001b[49m\u001b[38;5;132;43;01m}\u001b[39;49;00m\u001b[38;5;124;43m \u001b[39;49m\u001b[38;5;130;43;01m\\n\u001b[39;49;00m\u001b[38;5;124;43m existing questions \u001b[39;49m\u001b[38;5;132;43;01m{\u001b[39;49;00m\u001b[43mexisting_questions\u001b[49m\u001b[38;5;132;43;01m}\u001b[39;49;00m\u001b[38;5;124;43m\"\u001b[39;49m\u001b[43m}\u001b[49m\u001b[43m,\u001b[49m\n\u001b[0;32m     36\u001b[0m \u001b[43m            \u001b[49m\u001b[43m]\u001b[49m\u001b[43m,\u001b[49m\n\u001b[0;32m     37\u001b[0m \u001b[43m            \u001b[49m\u001b[43mtemperature\u001b[49m\u001b[38;5;241;43m=\u001b[39;49m\u001b[38;5;241;43m0.0\u001b[39;49m\u001b[43m,\u001b[49m\n\u001b[0;32m     38\u001b[0m \u001b[43m            \u001b[49m\u001b[43mmax_tokens\u001b[49m\u001b[38;5;241;43m=\u001b[39;49m\u001b[38;5;241;43m4096\u001b[39;49m\u001b[43m,\u001b[49m\n\u001b[0;32m     39\u001b[0m \u001b[43m            \u001b[49m\u001b[43mseed\u001b[49m\u001b[43m \u001b[49m\u001b[38;5;241;43m=\u001b[39;49m\u001b[43m \u001b[49m\u001b[38;5;241;43m42\u001b[39;49m\u001b[43m,\u001b[49m\n\u001b[0;32m     40\u001b[0m \u001b[43m            \u001b[49m\u001b[43mresponse_format\u001b[49m\u001b[38;5;241;43m=\u001b[39;49m\u001b[43m{\u001b[49m\u001b[43m \u001b[49m\n\u001b[0;32m     41\u001b[0m \u001b[43m                \u001b[49m\u001b[38;5;124;43m\"\u001b[39;49m\u001b[38;5;124;43mtype\u001b[39;49m\u001b[38;5;124;43m\"\u001b[39;49m\u001b[43m:\u001b[49m\u001b[43m \u001b[49m\u001b[38;5;124;43m\"\u001b[39;49m\u001b[38;5;124;43mjson_object\u001b[39;49m\u001b[38;5;124;43m\"\u001b[39;49m\u001b[43m \u001b[49m\n\u001b[0;32m     42\u001b[0m \u001b[43m            \u001b[49m\u001b[43m}\u001b[49m\u001b[43m,\u001b[49m\n\u001b[0;32m     43\u001b[0m \u001b[43m        \u001b[49m\u001b[43m)\u001b[49m\n\u001b[0;32m     44\u001b[0m         questions \u001b[38;5;241m=\u001b[39m json\u001b[38;5;241m.\u001b[39mloads(response\u001b[38;5;241m.\u001b[39mchoices[\u001b[38;5;241m0\u001b[39m]\u001b[38;5;241m.\u001b[39mmessage\u001b[38;5;241m.\u001b[39mcontent)\n\u001b[0;32m     45\u001b[0m         \u001b[38;5;28;01mreturn\u001b[39;00m questions\n",
      "File \u001b[1;32mc:\\Users\\hp\\AppData\\Local\\Programs\\Python\\Python310\\lib\\site-packages\\openai\\_utils\\_utils.py:303\u001b[0m, in \u001b[0;36mrequired_args.<locals>.inner.<locals>.wrapper\u001b[1;34m(*args, **kwargs)\u001b[0m\n\u001b[0;32m    301\u001b[0m             msg \u001b[38;5;241m=\u001b[39m \u001b[38;5;124mf\u001b[39m\u001b[38;5;124m\"\u001b[39m\u001b[38;5;124mMissing required argument: \u001b[39m\u001b[38;5;132;01m{\u001b[39;00mquote(missing[\u001b[38;5;241m0\u001b[39m])\u001b[38;5;132;01m}\u001b[39;00m\u001b[38;5;124m\"\u001b[39m\n\u001b[0;32m    302\u001b[0m     \u001b[38;5;28;01mraise\u001b[39;00m \u001b[38;5;167;01mTypeError\u001b[39;00m(msg)\n\u001b[1;32m--> 303\u001b[0m \u001b[38;5;28;01mreturn\u001b[39;00m func(\u001b[38;5;241m*\u001b[39margs, \u001b[38;5;241m*\u001b[39m\u001b[38;5;241m*\u001b[39mkwargs)\n",
      "File \u001b[1;32mc:\\Users\\hp\\AppData\\Local\\Programs\\Python\\Python310\\lib\\site-packages\\openai\\resources\\chat\\completions.py:645\u001b[0m, in \u001b[0;36mCompletions.create\u001b[1;34m(self, messages, model, frequency_penalty, function_call, functions, logit_bias, logprobs, max_tokens, n, presence_penalty, response_format, seed, stop, stream, temperature, tool_choice, tools, top_logprobs, top_p, user, extra_headers, extra_query, extra_body, timeout)\u001b[0m\n\u001b[0;32m    596\u001b[0m \u001b[38;5;129m@required_args\u001b[39m([\u001b[38;5;124m\"\u001b[39m\u001b[38;5;124mmessages\u001b[39m\u001b[38;5;124m\"\u001b[39m, \u001b[38;5;124m\"\u001b[39m\u001b[38;5;124mmodel\u001b[39m\u001b[38;5;124m\"\u001b[39m], [\u001b[38;5;124m\"\u001b[39m\u001b[38;5;124mmessages\u001b[39m\u001b[38;5;124m\"\u001b[39m, \u001b[38;5;124m\"\u001b[39m\u001b[38;5;124mmodel\u001b[39m\u001b[38;5;124m\"\u001b[39m, \u001b[38;5;124m\"\u001b[39m\u001b[38;5;124mstream\u001b[39m\u001b[38;5;124m\"\u001b[39m])\n\u001b[0;32m    597\u001b[0m \u001b[38;5;28;01mdef\u001b[39;00m \u001b[38;5;21mcreate\u001b[39m(\n\u001b[0;32m    598\u001b[0m     \u001b[38;5;28mself\u001b[39m,\n\u001b[1;32m   (...)\u001b[0m\n\u001b[0;32m    643\u001b[0m     timeout: \u001b[38;5;28mfloat\u001b[39m \u001b[38;5;241m|\u001b[39m httpx\u001b[38;5;241m.\u001b[39mTimeout \u001b[38;5;241m|\u001b[39m \u001b[38;5;28;01mNone\u001b[39;00m \u001b[38;5;241m|\u001b[39m NotGiven \u001b[38;5;241m=\u001b[39m NOT_GIVEN,\n\u001b[0;32m    644\u001b[0m ) \u001b[38;5;241m-\u001b[39m\u001b[38;5;241m>\u001b[39m ChatCompletion \u001b[38;5;241m|\u001b[39m Stream[ChatCompletionChunk]:\n\u001b[1;32m--> 645\u001b[0m     \u001b[38;5;28;01mreturn\u001b[39;00m \u001b[38;5;28;43mself\u001b[39;49m\u001b[38;5;241;43m.\u001b[39;49m\u001b[43m_post\u001b[49m\u001b[43m(\u001b[49m\n\u001b[0;32m    646\u001b[0m \u001b[43m        \u001b[49m\u001b[38;5;124;43m\"\u001b[39;49m\u001b[38;5;124;43m/chat/completions\u001b[39;49m\u001b[38;5;124;43m\"\u001b[39;49m\u001b[43m,\u001b[49m\n\u001b[0;32m    647\u001b[0m \u001b[43m        \u001b[49m\u001b[43mbody\u001b[49m\u001b[38;5;241;43m=\u001b[39;49m\u001b[43mmaybe_transform\u001b[49m\u001b[43m(\u001b[49m\n\u001b[0;32m    648\u001b[0m \u001b[43m            \u001b[49m\u001b[43m{\u001b[49m\n\u001b[0;32m    649\u001b[0m \u001b[43m                \u001b[49m\u001b[38;5;124;43m\"\u001b[39;49m\u001b[38;5;124;43mmessages\u001b[39;49m\u001b[38;5;124;43m\"\u001b[39;49m\u001b[43m:\u001b[49m\u001b[43m \u001b[49m\u001b[43mmessages\u001b[49m\u001b[43m,\u001b[49m\n\u001b[0;32m    650\u001b[0m \u001b[43m                \u001b[49m\u001b[38;5;124;43m\"\u001b[39;49m\u001b[38;5;124;43mmodel\u001b[39;49m\u001b[38;5;124;43m\"\u001b[39;49m\u001b[43m:\u001b[49m\u001b[43m \u001b[49m\u001b[43mmodel\u001b[49m\u001b[43m,\u001b[49m\n\u001b[0;32m    651\u001b[0m \u001b[43m                \u001b[49m\u001b[38;5;124;43m\"\u001b[39;49m\u001b[38;5;124;43mfrequency_penalty\u001b[39;49m\u001b[38;5;124;43m\"\u001b[39;49m\u001b[43m:\u001b[49m\u001b[43m \u001b[49m\u001b[43mfrequency_penalty\u001b[49m\u001b[43m,\u001b[49m\n\u001b[0;32m    652\u001b[0m \u001b[43m                \u001b[49m\u001b[38;5;124;43m\"\u001b[39;49m\u001b[38;5;124;43mfunction_call\u001b[39;49m\u001b[38;5;124;43m\"\u001b[39;49m\u001b[43m:\u001b[49m\u001b[43m \u001b[49m\u001b[43mfunction_call\u001b[49m\u001b[43m,\u001b[49m\n\u001b[0;32m    653\u001b[0m \u001b[43m                \u001b[49m\u001b[38;5;124;43m\"\u001b[39;49m\u001b[38;5;124;43mfunctions\u001b[39;49m\u001b[38;5;124;43m\"\u001b[39;49m\u001b[43m:\u001b[49m\u001b[43m \u001b[49m\u001b[43mfunctions\u001b[49m\u001b[43m,\u001b[49m\n\u001b[0;32m    654\u001b[0m \u001b[43m                \u001b[49m\u001b[38;5;124;43m\"\u001b[39;49m\u001b[38;5;124;43mlogit_bias\u001b[39;49m\u001b[38;5;124;43m\"\u001b[39;49m\u001b[43m:\u001b[49m\u001b[43m \u001b[49m\u001b[43mlogit_bias\u001b[49m\u001b[43m,\u001b[49m\n\u001b[0;32m    655\u001b[0m \u001b[43m                \u001b[49m\u001b[38;5;124;43m\"\u001b[39;49m\u001b[38;5;124;43mlogprobs\u001b[39;49m\u001b[38;5;124;43m\"\u001b[39;49m\u001b[43m:\u001b[49m\u001b[43m \u001b[49m\u001b[43mlogprobs\u001b[49m\u001b[43m,\u001b[49m\n\u001b[0;32m    656\u001b[0m \u001b[43m                \u001b[49m\u001b[38;5;124;43m\"\u001b[39;49m\u001b[38;5;124;43mmax_tokens\u001b[39;49m\u001b[38;5;124;43m\"\u001b[39;49m\u001b[43m:\u001b[49m\u001b[43m \u001b[49m\u001b[43mmax_tokens\u001b[49m\u001b[43m,\u001b[49m\n\u001b[0;32m    657\u001b[0m \u001b[43m                \u001b[49m\u001b[38;5;124;43m\"\u001b[39;49m\u001b[38;5;124;43mn\u001b[39;49m\u001b[38;5;124;43m\"\u001b[39;49m\u001b[43m:\u001b[49m\u001b[43m \u001b[49m\u001b[43mn\u001b[49m\u001b[43m,\u001b[49m\n\u001b[0;32m    658\u001b[0m \u001b[43m                \u001b[49m\u001b[38;5;124;43m\"\u001b[39;49m\u001b[38;5;124;43mpresence_penalty\u001b[39;49m\u001b[38;5;124;43m\"\u001b[39;49m\u001b[43m:\u001b[49m\u001b[43m \u001b[49m\u001b[43mpresence_penalty\u001b[49m\u001b[43m,\u001b[49m\n\u001b[0;32m    659\u001b[0m \u001b[43m                \u001b[49m\u001b[38;5;124;43m\"\u001b[39;49m\u001b[38;5;124;43mresponse_format\u001b[39;49m\u001b[38;5;124;43m\"\u001b[39;49m\u001b[43m:\u001b[49m\u001b[43m \u001b[49m\u001b[43mresponse_format\u001b[49m\u001b[43m,\u001b[49m\n\u001b[0;32m    660\u001b[0m \u001b[43m                \u001b[49m\u001b[38;5;124;43m\"\u001b[39;49m\u001b[38;5;124;43mseed\u001b[39;49m\u001b[38;5;124;43m\"\u001b[39;49m\u001b[43m:\u001b[49m\u001b[43m \u001b[49m\u001b[43mseed\u001b[49m\u001b[43m,\u001b[49m\n\u001b[0;32m    661\u001b[0m \u001b[43m                \u001b[49m\u001b[38;5;124;43m\"\u001b[39;49m\u001b[38;5;124;43mstop\u001b[39;49m\u001b[38;5;124;43m\"\u001b[39;49m\u001b[43m:\u001b[49m\u001b[43m \u001b[49m\u001b[43mstop\u001b[49m\u001b[43m,\u001b[49m\n\u001b[0;32m    662\u001b[0m \u001b[43m                \u001b[49m\u001b[38;5;124;43m\"\u001b[39;49m\u001b[38;5;124;43mstream\u001b[39;49m\u001b[38;5;124;43m\"\u001b[39;49m\u001b[43m:\u001b[49m\u001b[43m \u001b[49m\u001b[43mstream\u001b[49m\u001b[43m,\u001b[49m\n\u001b[0;32m    663\u001b[0m \u001b[43m                \u001b[49m\u001b[38;5;124;43m\"\u001b[39;49m\u001b[38;5;124;43mtemperature\u001b[39;49m\u001b[38;5;124;43m\"\u001b[39;49m\u001b[43m:\u001b[49m\u001b[43m \u001b[49m\u001b[43mtemperature\u001b[49m\u001b[43m,\u001b[49m\n\u001b[0;32m    664\u001b[0m \u001b[43m                \u001b[49m\u001b[38;5;124;43m\"\u001b[39;49m\u001b[38;5;124;43mtool_choice\u001b[39;49m\u001b[38;5;124;43m\"\u001b[39;49m\u001b[43m:\u001b[49m\u001b[43m \u001b[49m\u001b[43mtool_choice\u001b[49m\u001b[43m,\u001b[49m\n\u001b[0;32m    665\u001b[0m \u001b[43m                \u001b[49m\u001b[38;5;124;43m\"\u001b[39;49m\u001b[38;5;124;43mtools\u001b[39;49m\u001b[38;5;124;43m\"\u001b[39;49m\u001b[43m:\u001b[49m\u001b[43m \u001b[49m\u001b[43mtools\u001b[49m\u001b[43m,\u001b[49m\n\u001b[0;32m    666\u001b[0m \u001b[43m                \u001b[49m\u001b[38;5;124;43m\"\u001b[39;49m\u001b[38;5;124;43mtop_logprobs\u001b[39;49m\u001b[38;5;124;43m\"\u001b[39;49m\u001b[43m:\u001b[49m\u001b[43m \u001b[49m\u001b[43mtop_logprobs\u001b[49m\u001b[43m,\u001b[49m\n\u001b[0;32m    667\u001b[0m \u001b[43m                \u001b[49m\u001b[38;5;124;43m\"\u001b[39;49m\u001b[38;5;124;43mtop_p\u001b[39;49m\u001b[38;5;124;43m\"\u001b[39;49m\u001b[43m:\u001b[49m\u001b[43m \u001b[49m\u001b[43mtop_p\u001b[49m\u001b[43m,\u001b[49m\n\u001b[0;32m    668\u001b[0m \u001b[43m                \u001b[49m\u001b[38;5;124;43m\"\u001b[39;49m\u001b[38;5;124;43muser\u001b[39;49m\u001b[38;5;124;43m\"\u001b[39;49m\u001b[43m:\u001b[49m\u001b[43m \u001b[49m\u001b[43muser\u001b[49m\u001b[43m,\u001b[49m\n\u001b[0;32m    669\u001b[0m \u001b[43m            \u001b[49m\u001b[43m}\u001b[49m\u001b[43m,\u001b[49m\n\u001b[0;32m    670\u001b[0m \u001b[43m            \u001b[49m\u001b[43mcompletion_create_params\u001b[49m\u001b[38;5;241;43m.\u001b[39;49m\u001b[43mCompletionCreateParams\u001b[49m\u001b[43m,\u001b[49m\n\u001b[0;32m    671\u001b[0m \u001b[43m        \u001b[49m\u001b[43m)\u001b[49m\u001b[43m,\u001b[49m\n\u001b[0;32m    672\u001b[0m \u001b[43m        \u001b[49m\u001b[43moptions\u001b[49m\u001b[38;5;241;43m=\u001b[39;49m\u001b[43mmake_request_options\u001b[49m\u001b[43m(\u001b[49m\n\u001b[0;32m    673\u001b[0m \u001b[43m            \u001b[49m\u001b[43mextra_headers\u001b[49m\u001b[38;5;241;43m=\u001b[39;49m\u001b[43mextra_headers\u001b[49m\u001b[43m,\u001b[49m\u001b[43m \u001b[49m\u001b[43mextra_query\u001b[49m\u001b[38;5;241;43m=\u001b[39;49m\u001b[43mextra_query\u001b[49m\u001b[43m,\u001b[49m\u001b[43m \u001b[49m\u001b[43mextra_body\u001b[49m\u001b[38;5;241;43m=\u001b[39;49m\u001b[43mextra_body\u001b[49m\u001b[43m,\u001b[49m\u001b[43m \u001b[49m\u001b[43mtimeout\u001b[49m\u001b[38;5;241;43m=\u001b[39;49m\u001b[43mtimeout\u001b[49m\n\u001b[0;32m    674\u001b[0m \u001b[43m        \u001b[49m\u001b[43m)\u001b[49m\u001b[43m,\u001b[49m\n\u001b[0;32m    675\u001b[0m \u001b[43m        \u001b[49m\u001b[43mcast_to\u001b[49m\u001b[38;5;241;43m=\u001b[39;49m\u001b[43mChatCompletion\u001b[49m\u001b[43m,\u001b[49m\n\u001b[0;32m    676\u001b[0m \u001b[43m        \u001b[49m\u001b[43mstream\u001b[49m\u001b[38;5;241;43m=\u001b[39;49m\u001b[43mstream\u001b[49m\u001b[43m \u001b[49m\u001b[38;5;129;43;01mor\u001b[39;49;00m\u001b[43m \u001b[49m\u001b[38;5;28;43;01mFalse\u001b[39;49;00m\u001b[43m,\u001b[49m\n\u001b[0;32m    677\u001b[0m \u001b[43m        \u001b[49m\u001b[43mstream_cls\u001b[49m\u001b[38;5;241;43m=\u001b[39;49m\u001b[43mStream\u001b[49m\u001b[43m[\u001b[49m\u001b[43mChatCompletionChunk\u001b[49m\u001b[43m]\u001b[49m\u001b[43m,\u001b[49m\n\u001b[0;32m    678\u001b[0m \u001b[43m    \u001b[49m\u001b[43m)\u001b[49m\n",
      "File \u001b[1;32mc:\\Users\\hp\\AppData\\Local\\Programs\\Python\\Python310\\lib\\site-packages\\openai\\_base_client.py:1088\u001b[0m, in \u001b[0;36mSyncAPIClient.post\u001b[1;34m(self, path, cast_to, body, options, files, stream, stream_cls)\u001b[0m\n\u001b[0;32m   1074\u001b[0m \u001b[38;5;28;01mdef\u001b[39;00m \u001b[38;5;21mpost\u001b[39m(\n\u001b[0;32m   1075\u001b[0m     \u001b[38;5;28mself\u001b[39m,\n\u001b[0;32m   1076\u001b[0m     path: \u001b[38;5;28mstr\u001b[39m,\n\u001b[1;32m   (...)\u001b[0m\n\u001b[0;32m   1083\u001b[0m     stream_cls: \u001b[38;5;28mtype\u001b[39m[_StreamT] \u001b[38;5;241m|\u001b[39m \u001b[38;5;28;01mNone\u001b[39;00m \u001b[38;5;241m=\u001b[39m \u001b[38;5;28;01mNone\u001b[39;00m,\n\u001b[0;32m   1084\u001b[0m ) \u001b[38;5;241m-\u001b[39m\u001b[38;5;241m>\u001b[39m ResponseT \u001b[38;5;241m|\u001b[39m _StreamT:\n\u001b[0;32m   1085\u001b[0m     opts \u001b[38;5;241m=\u001b[39m FinalRequestOptions\u001b[38;5;241m.\u001b[39mconstruct(\n\u001b[0;32m   1086\u001b[0m         method\u001b[38;5;241m=\u001b[39m\u001b[38;5;124m\"\u001b[39m\u001b[38;5;124mpost\u001b[39m\u001b[38;5;124m\"\u001b[39m, url\u001b[38;5;241m=\u001b[39mpath, json_data\u001b[38;5;241m=\u001b[39mbody, files\u001b[38;5;241m=\u001b[39mto_httpx_files(files), \u001b[38;5;241m*\u001b[39m\u001b[38;5;241m*\u001b[39moptions\n\u001b[0;32m   1087\u001b[0m     )\n\u001b[1;32m-> 1088\u001b[0m     \u001b[38;5;28;01mreturn\u001b[39;00m cast(ResponseT, \u001b[38;5;28;43mself\u001b[39;49m\u001b[38;5;241;43m.\u001b[39;49m\u001b[43mrequest\u001b[49m\u001b[43m(\u001b[49m\u001b[43mcast_to\u001b[49m\u001b[43m,\u001b[49m\u001b[43m \u001b[49m\u001b[43mopts\u001b[49m\u001b[43m,\u001b[49m\u001b[43m \u001b[49m\u001b[43mstream\u001b[49m\u001b[38;5;241;43m=\u001b[39;49m\u001b[43mstream\u001b[49m\u001b[43m,\u001b[49m\u001b[43m \u001b[49m\u001b[43mstream_cls\u001b[49m\u001b[38;5;241;43m=\u001b[39;49m\u001b[43mstream_cls\u001b[49m\u001b[43m)\u001b[49m)\n",
      "File \u001b[1;32mc:\\Users\\hp\\AppData\\Local\\Programs\\Python\\Python310\\lib\\site-packages\\openai\\_base_client.py:853\u001b[0m, in \u001b[0;36mSyncAPIClient.request\u001b[1;34m(self, cast_to, options, remaining_retries, stream, stream_cls)\u001b[0m\n\u001b[0;32m    844\u001b[0m \u001b[38;5;28;01mdef\u001b[39;00m \u001b[38;5;21mrequest\u001b[39m(\n\u001b[0;32m    845\u001b[0m     \u001b[38;5;28mself\u001b[39m,\n\u001b[0;32m    846\u001b[0m     cast_to: Type[ResponseT],\n\u001b[1;32m   (...)\u001b[0m\n\u001b[0;32m    851\u001b[0m     stream_cls: \u001b[38;5;28mtype\u001b[39m[_StreamT] \u001b[38;5;241m|\u001b[39m \u001b[38;5;28;01mNone\u001b[39;00m \u001b[38;5;241m=\u001b[39m \u001b[38;5;28;01mNone\u001b[39;00m,\n\u001b[0;32m    852\u001b[0m ) \u001b[38;5;241m-\u001b[39m\u001b[38;5;241m>\u001b[39m ResponseT \u001b[38;5;241m|\u001b[39m _StreamT:\n\u001b[1;32m--> 853\u001b[0m     \u001b[38;5;28;01mreturn\u001b[39;00m \u001b[38;5;28;43mself\u001b[39;49m\u001b[38;5;241;43m.\u001b[39;49m\u001b[43m_request\u001b[49m\u001b[43m(\u001b[49m\n\u001b[0;32m    854\u001b[0m \u001b[43m        \u001b[49m\u001b[43mcast_to\u001b[49m\u001b[38;5;241;43m=\u001b[39;49m\u001b[43mcast_to\u001b[49m\u001b[43m,\u001b[49m\n\u001b[0;32m    855\u001b[0m \u001b[43m        \u001b[49m\u001b[43moptions\u001b[49m\u001b[38;5;241;43m=\u001b[39;49m\u001b[43moptions\u001b[49m\u001b[43m,\u001b[49m\n\u001b[0;32m    856\u001b[0m \u001b[43m        \u001b[49m\u001b[43mstream\u001b[49m\u001b[38;5;241;43m=\u001b[39;49m\u001b[43mstream\u001b[49m\u001b[43m,\u001b[49m\n\u001b[0;32m    857\u001b[0m \u001b[43m        \u001b[49m\u001b[43mstream_cls\u001b[49m\u001b[38;5;241;43m=\u001b[39;49m\u001b[43mstream_cls\u001b[49m\u001b[43m,\u001b[49m\n\u001b[0;32m    858\u001b[0m \u001b[43m        \u001b[49m\u001b[43mremaining_retries\u001b[49m\u001b[38;5;241;43m=\u001b[39;49m\u001b[43mremaining_retries\u001b[49m\u001b[43m,\u001b[49m\n\u001b[0;32m    859\u001b[0m \u001b[43m    \u001b[49m\u001b[43m)\u001b[49m\n",
      "File \u001b[1;32mc:\\Users\\hp\\AppData\\Local\\Programs\\Python\\Python310\\lib\\site-packages\\openai\\_base_client.py:877\u001b[0m, in \u001b[0;36mSyncAPIClient._request\u001b[1;34m(self, cast_to, options, remaining_retries, stream, stream_cls)\u001b[0m\n\u001b[0;32m    874\u001b[0m \u001b[38;5;28mself\u001b[39m\u001b[38;5;241m.\u001b[39m_prepare_request(request)\n\u001b[0;32m    876\u001b[0m \u001b[38;5;28;01mtry\u001b[39;00m:\n\u001b[1;32m--> 877\u001b[0m     response \u001b[38;5;241m=\u001b[39m \u001b[38;5;28;43mself\u001b[39;49m\u001b[38;5;241;43m.\u001b[39;49m\u001b[43m_client\u001b[49m\u001b[38;5;241;43m.\u001b[39;49m\u001b[43msend\u001b[49m\u001b[43m(\u001b[49m\n\u001b[0;32m    878\u001b[0m \u001b[43m        \u001b[49m\u001b[43mrequest\u001b[49m\u001b[43m,\u001b[49m\n\u001b[0;32m    879\u001b[0m \u001b[43m        \u001b[49m\u001b[43mauth\u001b[49m\u001b[38;5;241;43m=\u001b[39;49m\u001b[38;5;28;43mself\u001b[39;49m\u001b[38;5;241;43m.\u001b[39;49m\u001b[43mcustom_auth\u001b[49m\u001b[43m,\u001b[49m\n\u001b[0;32m    880\u001b[0m \u001b[43m        \u001b[49m\u001b[43mstream\u001b[49m\u001b[38;5;241;43m=\u001b[39;49m\u001b[43mstream\u001b[49m\u001b[43m \u001b[49m\u001b[38;5;129;43;01mor\u001b[39;49;00m\u001b[43m \u001b[49m\u001b[38;5;28;43mself\u001b[39;49m\u001b[38;5;241;43m.\u001b[39;49m\u001b[43m_should_stream_response_body\u001b[49m\u001b[43m(\u001b[49m\u001b[43mrequest\u001b[49m\u001b[38;5;241;43m=\u001b[39;49m\u001b[43mrequest\u001b[49m\u001b[43m)\u001b[49m\u001b[43m,\u001b[49m\n\u001b[0;32m    881\u001b[0m \u001b[43m    \u001b[49m\u001b[43m)\u001b[49m\n\u001b[0;32m    882\u001b[0m \u001b[38;5;28;01mexcept\u001b[39;00m httpx\u001b[38;5;241m.\u001b[39mTimeoutException \u001b[38;5;28;01mas\u001b[39;00m err:\n\u001b[0;32m    883\u001b[0m     \u001b[38;5;28;01mif\u001b[39;00m retries \u001b[38;5;241m>\u001b[39m \u001b[38;5;241m0\u001b[39m:\n",
      "File \u001b[1;32m~\\AppData\\Roaming\\Python\\Python310\\site-packages\\httpx\\_client.py:901\u001b[0m, in \u001b[0;36mClient.send\u001b[1;34m(self, request, stream, auth, follow_redirects)\u001b[0m\n\u001b[0;32m    893\u001b[0m follow_redirects \u001b[38;5;241m=\u001b[39m (\n\u001b[0;32m    894\u001b[0m     \u001b[38;5;28mself\u001b[39m\u001b[38;5;241m.\u001b[39mfollow_redirects\n\u001b[0;32m    895\u001b[0m     \u001b[38;5;28;01mif\u001b[39;00m \u001b[38;5;28misinstance\u001b[39m(follow_redirects, UseClientDefault)\n\u001b[0;32m    896\u001b[0m     \u001b[38;5;28;01melse\u001b[39;00m follow_redirects\n\u001b[0;32m    897\u001b[0m )\n\u001b[0;32m    899\u001b[0m auth \u001b[38;5;241m=\u001b[39m \u001b[38;5;28mself\u001b[39m\u001b[38;5;241m.\u001b[39m_build_request_auth(request, auth)\n\u001b[1;32m--> 901\u001b[0m response \u001b[38;5;241m=\u001b[39m \u001b[38;5;28;43mself\u001b[39;49m\u001b[38;5;241;43m.\u001b[39;49m\u001b[43m_send_handling_auth\u001b[49m\u001b[43m(\u001b[49m\n\u001b[0;32m    902\u001b[0m \u001b[43m    \u001b[49m\u001b[43mrequest\u001b[49m\u001b[43m,\u001b[49m\n\u001b[0;32m    903\u001b[0m \u001b[43m    \u001b[49m\u001b[43mauth\u001b[49m\u001b[38;5;241;43m=\u001b[39;49m\u001b[43mauth\u001b[49m\u001b[43m,\u001b[49m\n\u001b[0;32m    904\u001b[0m \u001b[43m    \u001b[49m\u001b[43mfollow_redirects\u001b[49m\u001b[38;5;241;43m=\u001b[39;49m\u001b[43mfollow_redirects\u001b[49m\u001b[43m,\u001b[49m\n\u001b[0;32m    905\u001b[0m \u001b[43m    \u001b[49m\u001b[43mhistory\u001b[49m\u001b[38;5;241;43m=\u001b[39;49m\u001b[43m[\u001b[49m\u001b[43m]\u001b[49m\u001b[43m,\u001b[49m\n\u001b[0;32m    906\u001b[0m \u001b[43m\u001b[49m\u001b[43m)\u001b[49m\n\u001b[0;32m    907\u001b[0m \u001b[38;5;28;01mtry\u001b[39;00m:\n\u001b[0;32m    908\u001b[0m     \u001b[38;5;28;01mif\u001b[39;00m \u001b[38;5;129;01mnot\u001b[39;00m stream:\n",
      "File \u001b[1;32m~\\AppData\\Roaming\\Python\\Python310\\site-packages\\httpx\\_client.py:929\u001b[0m, in \u001b[0;36mClient._send_handling_auth\u001b[1;34m(self, request, auth, follow_redirects, history)\u001b[0m\n\u001b[0;32m    926\u001b[0m request \u001b[38;5;241m=\u001b[39m \u001b[38;5;28mnext\u001b[39m(auth_flow)\n\u001b[0;32m    928\u001b[0m \u001b[38;5;28;01mwhile\u001b[39;00m \u001b[38;5;28;01mTrue\u001b[39;00m:\n\u001b[1;32m--> 929\u001b[0m     response \u001b[38;5;241m=\u001b[39m \u001b[38;5;28;43mself\u001b[39;49m\u001b[38;5;241;43m.\u001b[39;49m\u001b[43m_send_handling_redirects\u001b[49m\u001b[43m(\u001b[49m\n\u001b[0;32m    930\u001b[0m \u001b[43m        \u001b[49m\u001b[43mrequest\u001b[49m\u001b[43m,\u001b[49m\n\u001b[0;32m    931\u001b[0m \u001b[43m        \u001b[49m\u001b[43mfollow_redirects\u001b[49m\u001b[38;5;241;43m=\u001b[39;49m\u001b[43mfollow_redirects\u001b[49m\u001b[43m,\u001b[49m\n\u001b[0;32m    932\u001b[0m \u001b[43m        \u001b[49m\u001b[43mhistory\u001b[49m\u001b[38;5;241;43m=\u001b[39;49m\u001b[43mhistory\u001b[49m\u001b[43m,\u001b[49m\n\u001b[0;32m    933\u001b[0m \u001b[43m    \u001b[49m\u001b[43m)\u001b[49m\n\u001b[0;32m    934\u001b[0m     \u001b[38;5;28;01mtry\u001b[39;00m:\n\u001b[0;32m    935\u001b[0m         \u001b[38;5;28;01mtry\u001b[39;00m:\n",
      "File \u001b[1;32m~\\AppData\\Roaming\\Python\\Python310\\site-packages\\httpx\\_client.py:966\u001b[0m, in \u001b[0;36mClient._send_handling_redirects\u001b[1;34m(self, request, follow_redirects, history)\u001b[0m\n\u001b[0;32m    963\u001b[0m \u001b[38;5;28;01mfor\u001b[39;00m hook \u001b[38;5;129;01min\u001b[39;00m \u001b[38;5;28mself\u001b[39m\u001b[38;5;241m.\u001b[39m_event_hooks[\u001b[38;5;124m\"\u001b[39m\u001b[38;5;124mrequest\u001b[39m\u001b[38;5;124m\"\u001b[39m]:\n\u001b[0;32m    964\u001b[0m     hook(request)\n\u001b[1;32m--> 966\u001b[0m response \u001b[38;5;241m=\u001b[39m \u001b[38;5;28;43mself\u001b[39;49m\u001b[38;5;241;43m.\u001b[39;49m\u001b[43m_send_single_request\u001b[49m\u001b[43m(\u001b[49m\u001b[43mrequest\u001b[49m\u001b[43m)\u001b[49m\n\u001b[0;32m    967\u001b[0m \u001b[38;5;28;01mtry\u001b[39;00m:\n\u001b[0;32m    968\u001b[0m     \u001b[38;5;28;01mfor\u001b[39;00m hook \u001b[38;5;129;01min\u001b[39;00m \u001b[38;5;28mself\u001b[39m\u001b[38;5;241m.\u001b[39m_event_hooks[\u001b[38;5;124m\"\u001b[39m\u001b[38;5;124mresponse\u001b[39m\u001b[38;5;124m\"\u001b[39m]:\n",
      "File \u001b[1;32m~\\AppData\\Roaming\\Python\\Python310\\site-packages\\httpx\\_client.py:1002\u001b[0m, in \u001b[0;36mClient._send_single_request\u001b[1;34m(self, request)\u001b[0m\n\u001b[0;32m    997\u001b[0m     \u001b[38;5;28;01mraise\u001b[39;00m \u001b[38;5;167;01mRuntimeError\u001b[39;00m(\n\u001b[0;32m    998\u001b[0m         \u001b[38;5;124m\"\u001b[39m\u001b[38;5;124mAttempted to send an async request with a sync Client instance.\u001b[39m\u001b[38;5;124m\"\u001b[39m\n\u001b[0;32m    999\u001b[0m     )\n\u001b[0;32m   1001\u001b[0m \u001b[38;5;28;01mwith\u001b[39;00m request_context(request\u001b[38;5;241m=\u001b[39mrequest):\n\u001b[1;32m-> 1002\u001b[0m     response \u001b[38;5;241m=\u001b[39m \u001b[43mtransport\u001b[49m\u001b[38;5;241;43m.\u001b[39;49m\u001b[43mhandle_request\u001b[49m\u001b[43m(\u001b[49m\u001b[43mrequest\u001b[49m\u001b[43m)\u001b[49m\n\u001b[0;32m   1004\u001b[0m \u001b[38;5;28;01massert\u001b[39;00m \u001b[38;5;28misinstance\u001b[39m(response\u001b[38;5;241m.\u001b[39mstream, SyncByteStream)\n\u001b[0;32m   1006\u001b[0m response\u001b[38;5;241m.\u001b[39mrequest \u001b[38;5;241m=\u001b[39m request\n",
      "File \u001b[1;32m~\\AppData\\Roaming\\Python\\Python310\\site-packages\\httpx\\_transports\\default.py:218\u001b[0m, in \u001b[0;36mHTTPTransport.handle_request\u001b[1;34m(self, request)\u001b[0m\n\u001b[0;32m    205\u001b[0m req \u001b[38;5;241m=\u001b[39m httpcore\u001b[38;5;241m.\u001b[39mRequest(\n\u001b[0;32m    206\u001b[0m     method\u001b[38;5;241m=\u001b[39mrequest\u001b[38;5;241m.\u001b[39mmethod,\n\u001b[0;32m    207\u001b[0m     url\u001b[38;5;241m=\u001b[39mhttpcore\u001b[38;5;241m.\u001b[39mURL(\n\u001b[1;32m   (...)\u001b[0m\n\u001b[0;32m    215\u001b[0m     extensions\u001b[38;5;241m=\u001b[39mrequest\u001b[38;5;241m.\u001b[39mextensions,\n\u001b[0;32m    216\u001b[0m )\n\u001b[0;32m    217\u001b[0m \u001b[38;5;28;01mwith\u001b[39;00m map_httpcore_exceptions():\n\u001b[1;32m--> 218\u001b[0m     resp \u001b[38;5;241m=\u001b[39m \u001b[38;5;28;43mself\u001b[39;49m\u001b[38;5;241;43m.\u001b[39;49m\u001b[43m_pool\u001b[49m\u001b[38;5;241;43m.\u001b[39;49m\u001b[43mhandle_request\u001b[49m\u001b[43m(\u001b[49m\u001b[43mreq\u001b[49m\u001b[43m)\u001b[49m\n\u001b[0;32m    220\u001b[0m \u001b[38;5;28;01massert\u001b[39;00m \u001b[38;5;28misinstance\u001b[39m(resp\u001b[38;5;241m.\u001b[39mstream, typing\u001b[38;5;241m.\u001b[39mIterable)\n\u001b[0;32m    222\u001b[0m \u001b[38;5;28;01mreturn\u001b[39;00m Response(\n\u001b[0;32m    223\u001b[0m     status_code\u001b[38;5;241m=\u001b[39mresp\u001b[38;5;241m.\u001b[39mstatus,\n\u001b[0;32m    224\u001b[0m     headers\u001b[38;5;241m=\u001b[39mresp\u001b[38;5;241m.\u001b[39mheaders,\n\u001b[0;32m    225\u001b[0m     stream\u001b[38;5;241m=\u001b[39mResponseStream(resp\u001b[38;5;241m.\u001b[39mstream),\n\u001b[0;32m    226\u001b[0m     extensions\u001b[38;5;241m=\u001b[39mresp\u001b[38;5;241m.\u001b[39mextensions,\n\u001b[0;32m    227\u001b[0m )\n",
      "File \u001b[1;32m~\\AppData\\Roaming\\Python\\Python310\\site-packages\\httpcore\\_sync\\connection_pool.py:262\u001b[0m, in \u001b[0;36mConnectionPool.handle_request\u001b[1;34m(self, request)\u001b[0m\n\u001b[0;32m    260\u001b[0m     \u001b[38;5;28;01mwith\u001b[39;00m ShieldCancellation():\n\u001b[0;32m    261\u001b[0m         \u001b[38;5;28mself\u001b[39m\u001b[38;5;241m.\u001b[39mresponse_closed(status)\n\u001b[1;32m--> 262\u001b[0m     \u001b[38;5;28;01mraise\u001b[39;00m exc\n\u001b[0;32m    263\u001b[0m \u001b[38;5;28;01melse\u001b[39;00m:\n\u001b[0;32m    264\u001b[0m     \u001b[38;5;28;01mbreak\u001b[39;00m\n",
      "File \u001b[1;32m~\\AppData\\Roaming\\Python\\Python310\\site-packages\\httpcore\\_sync\\connection_pool.py:245\u001b[0m, in \u001b[0;36mConnectionPool.handle_request\u001b[1;34m(self, request)\u001b[0m\n\u001b[0;32m    242\u001b[0m         \u001b[38;5;28;01mraise\u001b[39;00m exc\n\u001b[0;32m    244\u001b[0m \u001b[38;5;28;01mtry\u001b[39;00m:\n\u001b[1;32m--> 245\u001b[0m     response \u001b[38;5;241m=\u001b[39m \u001b[43mconnection\u001b[49m\u001b[38;5;241;43m.\u001b[39;49m\u001b[43mhandle_request\u001b[49m\u001b[43m(\u001b[49m\u001b[43mrequest\u001b[49m\u001b[43m)\u001b[49m\n\u001b[0;32m    246\u001b[0m \u001b[38;5;28;01mexcept\u001b[39;00m ConnectionNotAvailable:\n\u001b[0;32m    247\u001b[0m     \u001b[38;5;66;03m# The ConnectionNotAvailable exception is a special case, that\u001b[39;00m\n\u001b[0;32m    248\u001b[0m     \u001b[38;5;66;03m# indicates we need to retry the request on a new connection.\u001b[39;00m\n\u001b[1;32m   (...)\u001b[0m\n\u001b[0;32m    252\u001b[0m     \u001b[38;5;66;03m# might end up as an HTTP/2 connection, but which actually ends\u001b[39;00m\n\u001b[0;32m    253\u001b[0m     \u001b[38;5;66;03m# up as HTTP/1.1.\u001b[39;00m\n\u001b[0;32m    254\u001b[0m     \u001b[38;5;28;01mwith\u001b[39;00m \u001b[38;5;28mself\u001b[39m\u001b[38;5;241m.\u001b[39m_pool_lock:\n\u001b[0;32m    255\u001b[0m         \u001b[38;5;66;03m# Maintain our position in the request queue, but reset the\u001b[39;00m\n\u001b[0;32m    256\u001b[0m         \u001b[38;5;66;03m# status so that the request becomes queued again.\u001b[39;00m\n",
      "File \u001b[1;32m~\\AppData\\Roaming\\Python\\Python310\\site-packages\\httpcore\\_sync\\connection.py:96\u001b[0m, in \u001b[0;36mHTTPConnection.handle_request\u001b[1;34m(self, request)\u001b[0m\n\u001b[0;32m     93\u001b[0m     \u001b[38;5;28;01melif\u001b[39;00m \u001b[38;5;129;01mnot\u001b[39;00m \u001b[38;5;28mself\u001b[39m\u001b[38;5;241m.\u001b[39m_connection\u001b[38;5;241m.\u001b[39mis_available():\n\u001b[0;32m     94\u001b[0m         \u001b[38;5;28;01mraise\u001b[39;00m ConnectionNotAvailable()\n\u001b[1;32m---> 96\u001b[0m \u001b[38;5;28;01mreturn\u001b[39;00m \u001b[38;5;28;43mself\u001b[39;49m\u001b[38;5;241;43m.\u001b[39;49m\u001b[43m_connection\u001b[49m\u001b[38;5;241;43m.\u001b[39;49m\u001b[43mhandle_request\u001b[49m\u001b[43m(\u001b[49m\u001b[43mrequest\u001b[49m\u001b[43m)\u001b[49m\n",
      "File \u001b[1;32m~\\AppData\\Roaming\\Python\\Python310\\site-packages\\httpcore\\_sync\\http11.py:121\u001b[0m, in \u001b[0;36mHTTP11Connection.handle_request\u001b[1;34m(self, request)\u001b[0m\n\u001b[0;32m    119\u001b[0m     \u001b[38;5;28;01mwith\u001b[39;00m Trace(\u001b[38;5;124m\"\u001b[39m\u001b[38;5;124mresponse_closed\u001b[39m\u001b[38;5;124m\"\u001b[39m, logger, request) \u001b[38;5;28;01mas\u001b[39;00m trace:\n\u001b[0;32m    120\u001b[0m         \u001b[38;5;28mself\u001b[39m\u001b[38;5;241m.\u001b[39m_response_closed()\n\u001b[1;32m--> 121\u001b[0m \u001b[38;5;28;01mraise\u001b[39;00m exc\n",
      "File \u001b[1;32m~\\AppData\\Roaming\\Python\\Python310\\site-packages\\httpcore\\_sync\\http11.py:99\u001b[0m, in \u001b[0;36mHTTP11Connection.handle_request\u001b[1;34m(self, request)\u001b[0m\n\u001b[0;32m     90\u001b[0m     \u001b[38;5;28mself\u001b[39m\u001b[38;5;241m.\u001b[39m_send_request_body(\u001b[38;5;241m*\u001b[39m\u001b[38;5;241m*\u001b[39mkwargs)\n\u001b[0;32m     91\u001b[0m \u001b[38;5;28;01mwith\u001b[39;00m Trace(\n\u001b[0;32m     92\u001b[0m     \u001b[38;5;124m\"\u001b[39m\u001b[38;5;124mreceive_response_headers\u001b[39m\u001b[38;5;124m\"\u001b[39m, logger, request, kwargs\n\u001b[0;32m     93\u001b[0m ) \u001b[38;5;28;01mas\u001b[39;00m trace:\n\u001b[0;32m     94\u001b[0m     (\n\u001b[0;32m     95\u001b[0m         http_version,\n\u001b[0;32m     96\u001b[0m         status,\n\u001b[0;32m     97\u001b[0m         reason_phrase,\n\u001b[0;32m     98\u001b[0m         headers,\n\u001b[1;32m---> 99\u001b[0m     ) \u001b[38;5;241m=\u001b[39m \u001b[38;5;28mself\u001b[39m\u001b[38;5;241m.\u001b[39m_receive_response_headers(\u001b[38;5;241m*\u001b[39m\u001b[38;5;241m*\u001b[39mkwargs)\n\u001b[0;32m    100\u001b[0m     trace\u001b[38;5;241m.\u001b[39mreturn_value \u001b[38;5;241m=\u001b[39m (\n\u001b[0;32m    101\u001b[0m         http_version,\n\u001b[0;32m    102\u001b[0m         status,\n\u001b[0;32m    103\u001b[0m         reason_phrase,\n\u001b[0;32m    104\u001b[0m         headers,\n\u001b[0;32m    105\u001b[0m     )\n\u001b[0;32m    107\u001b[0m \u001b[38;5;28;01mreturn\u001b[39;00m Response(\n\u001b[0;32m    108\u001b[0m     status\u001b[38;5;241m=\u001b[39mstatus,\n\u001b[0;32m    109\u001b[0m     headers\u001b[38;5;241m=\u001b[39mheaders,\n\u001b[1;32m   (...)\u001b[0m\n\u001b[0;32m    115\u001b[0m     },\n\u001b[0;32m    116\u001b[0m )\n",
      "File \u001b[1;32m~\\AppData\\Roaming\\Python\\Python310\\site-packages\\httpcore\\_sync\\http11.py:164\u001b[0m, in \u001b[0;36mHTTP11Connection._receive_response_headers\u001b[1;34m(self, request)\u001b[0m\n\u001b[0;32m    161\u001b[0m timeout \u001b[38;5;241m=\u001b[39m timeouts\u001b[38;5;241m.\u001b[39mget(\u001b[38;5;124m\"\u001b[39m\u001b[38;5;124mread\u001b[39m\u001b[38;5;124m\"\u001b[39m, \u001b[38;5;28;01mNone\u001b[39;00m)\n\u001b[0;32m    163\u001b[0m \u001b[38;5;28;01mwhile\u001b[39;00m \u001b[38;5;28;01mTrue\u001b[39;00m:\n\u001b[1;32m--> 164\u001b[0m     event \u001b[38;5;241m=\u001b[39m \u001b[38;5;28;43mself\u001b[39;49m\u001b[38;5;241;43m.\u001b[39;49m\u001b[43m_receive_event\u001b[49m\u001b[43m(\u001b[49m\u001b[43mtimeout\u001b[49m\u001b[38;5;241;43m=\u001b[39;49m\u001b[43mtimeout\u001b[49m\u001b[43m)\u001b[49m\n\u001b[0;32m    165\u001b[0m     \u001b[38;5;28;01mif\u001b[39;00m \u001b[38;5;28misinstance\u001b[39m(event, h11\u001b[38;5;241m.\u001b[39mResponse):\n\u001b[0;32m    166\u001b[0m         \u001b[38;5;28;01mbreak\u001b[39;00m\n",
      "File \u001b[1;32m~\\AppData\\Roaming\\Python\\Python310\\site-packages\\httpcore\\_sync\\http11.py:200\u001b[0m, in \u001b[0;36mHTTP11Connection._receive_event\u001b[1;34m(self, timeout)\u001b[0m\n\u001b[0;32m    197\u001b[0m     event \u001b[38;5;241m=\u001b[39m \u001b[38;5;28mself\u001b[39m\u001b[38;5;241m.\u001b[39m_h11_state\u001b[38;5;241m.\u001b[39mnext_event()\n\u001b[0;32m    199\u001b[0m \u001b[38;5;28;01mif\u001b[39;00m event \u001b[38;5;129;01mis\u001b[39;00m h11\u001b[38;5;241m.\u001b[39mNEED_DATA:\n\u001b[1;32m--> 200\u001b[0m     data \u001b[38;5;241m=\u001b[39m \u001b[38;5;28;43mself\u001b[39;49m\u001b[38;5;241;43m.\u001b[39;49m\u001b[43m_network_stream\u001b[49m\u001b[38;5;241;43m.\u001b[39;49m\u001b[43mread\u001b[49m\u001b[43m(\u001b[49m\n\u001b[0;32m    201\u001b[0m \u001b[43m        \u001b[49m\u001b[38;5;28;43mself\u001b[39;49m\u001b[38;5;241;43m.\u001b[39;49m\u001b[43mREAD_NUM_BYTES\u001b[49m\u001b[43m,\u001b[49m\u001b[43m \u001b[49m\u001b[43mtimeout\u001b[49m\u001b[38;5;241;43m=\u001b[39;49m\u001b[43mtimeout\u001b[49m\n\u001b[0;32m    202\u001b[0m \u001b[43m    \u001b[49m\u001b[43m)\u001b[49m\n\u001b[0;32m    204\u001b[0m     \u001b[38;5;66;03m# If we feed this case through h11 we'll raise an exception like:\u001b[39;00m\n\u001b[0;32m    205\u001b[0m     \u001b[38;5;66;03m#\u001b[39;00m\n\u001b[0;32m    206\u001b[0m     \u001b[38;5;66;03m#     httpcore.RemoteProtocolError: can't handle event type\u001b[39;00m\n\u001b[1;32m   (...)\u001b[0m\n\u001b[0;32m    210\u001b[0m     \u001b[38;5;66;03m# perspective. Instead we handle this case distinctly and treat\u001b[39;00m\n\u001b[0;32m    211\u001b[0m     \u001b[38;5;66;03m# it as a ConnectError.\u001b[39;00m\n\u001b[0;32m    212\u001b[0m     \u001b[38;5;28;01mif\u001b[39;00m data \u001b[38;5;241m==\u001b[39m \u001b[38;5;124mb\u001b[39m\u001b[38;5;124m\"\u001b[39m\u001b[38;5;124m\"\u001b[39m \u001b[38;5;129;01mand\u001b[39;00m \u001b[38;5;28mself\u001b[39m\u001b[38;5;241m.\u001b[39m_h11_state\u001b[38;5;241m.\u001b[39mtheir_state \u001b[38;5;241m==\u001b[39m h11\u001b[38;5;241m.\u001b[39mSEND_RESPONSE:\n",
      "File \u001b[1;32m~\\AppData\\Roaming\\Python\\Python310\\site-packages\\httpcore\\_backends\\sync.py:28\u001b[0m, in \u001b[0;36mSyncStream.read\u001b[1;34m(self, max_bytes, timeout)\u001b[0m\n\u001b[0;32m     26\u001b[0m \u001b[38;5;28;01mwith\u001b[39;00m map_exceptions(exc_map):\n\u001b[0;32m     27\u001b[0m     \u001b[38;5;28mself\u001b[39m\u001b[38;5;241m.\u001b[39m_sock\u001b[38;5;241m.\u001b[39msettimeout(timeout)\n\u001b[1;32m---> 28\u001b[0m     \u001b[38;5;28;01mreturn\u001b[39;00m \u001b[38;5;28;43mself\u001b[39;49m\u001b[38;5;241;43m.\u001b[39;49m\u001b[43m_sock\u001b[49m\u001b[38;5;241;43m.\u001b[39;49m\u001b[43mrecv\u001b[49m\u001b[43m(\u001b[49m\u001b[43mmax_bytes\u001b[49m\u001b[43m)\u001b[49m\n",
      "File \u001b[1;32mc:\\Users\\hp\\AppData\\Local\\Programs\\Python\\Python310\\lib\\ssl.py:1259\u001b[0m, in \u001b[0;36mSSLSocket.recv\u001b[1;34m(self, buflen, flags)\u001b[0m\n\u001b[0;32m   1255\u001b[0m     \u001b[38;5;28;01mif\u001b[39;00m flags \u001b[38;5;241m!=\u001b[39m \u001b[38;5;241m0\u001b[39m:\n\u001b[0;32m   1256\u001b[0m         \u001b[38;5;28;01mraise\u001b[39;00m \u001b[38;5;167;01mValueError\u001b[39;00m(\n\u001b[0;32m   1257\u001b[0m             \u001b[38;5;124m\"\u001b[39m\u001b[38;5;124mnon-zero flags not allowed in calls to recv() on \u001b[39m\u001b[38;5;132;01m%s\u001b[39;00m\u001b[38;5;124m\"\u001b[39m \u001b[38;5;241m%\u001b[39m\n\u001b[0;32m   1258\u001b[0m             \u001b[38;5;28mself\u001b[39m\u001b[38;5;241m.\u001b[39m\u001b[38;5;18m__class__\u001b[39m)\n\u001b[1;32m-> 1259\u001b[0m     \u001b[38;5;28;01mreturn\u001b[39;00m \u001b[38;5;28;43mself\u001b[39;49m\u001b[38;5;241;43m.\u001b[39;49m\u001b[43mread\u001b[49m\u001b[43m(\u001b[49m\u001b[43mbuflen\u001b[49m\u001b[43m)\u001b[49m\n\u001b[0;32m   1260\u001b[0m \u001b[38;5;28;01melse\u001b[39;00m:\n\u001b[0;32m   1261\u001b[0m     \u001b[38;5;28;01mreturn\u001b[39;00m \u001b[38;5;28msuper\u001b[39m()\u001b[38;5;241m.\u001b[39mrecv(buflen, flags)\n",
      "File \u001b[1;32mc:\\Users\\hp\\AppData\\Local\\Programs\\Python\\Python310\\lib\\ssl.py:1132\u001b[0m, in \u001b[0;36mSSLSocket.read\u001b[1;34m(self, len, buffer)\u001b[0m\n\u001b[0;32m   1130\u001b[0m         \u001b[38;5;28;01mreturn\u001b[39;00m \u001b[38;5;28mself\u001b[39m\u001b[38;5;241m.\u001b[39m_sslobj\u001b[38;5;241m.\u001b[39mread(\u001b[38;5;28mlen\u001b[39m, buffer)\n\u001b[0;32m   1131\u001b[0m     \u001b[38;5;28;01melse\u001b[39;00m:\n\u001b[1;32m-> 1132\u001b[0m         \u001b[38;5;28;01mreturn\u001b[39;00m \u001b[38;5;28;43mself\u001b[39;49m\u001b[38;5;241;43m.\u001b[39;49m\u001b[43m_sslobj\u001b[49m\u001b[38;5;241;43m.\u001b[39;49m\u001b[43mread\u001b[49m\u001b[43m(\u001b[49m\u001b[38;5;28;43mlen\u001b[39;49m\u001b[43m)\u001b[49m\n\u001b[0;32m   1133\u001b[0m \u001b[38;5;28;01mexcept\u001b[39;00m SSLError \u001b[38;5;28;01mas\u001b[39;00m x:\n\u001b[0;32m   1134\u001b[0m     \u001b[38;5;28;01mif\u001b[39;00m x\u001b[38;5;241m.\u001b[39margs[\u001b[38;5;241m0\u001b[39m] \u001b[38;5;241m==\u001b[39m SSL_ERROR_EOF \u001b[38;5;129;01mand\u001b[39;00m \u001b[38;5;28mself\u001b[39m\u001b[38;5;241m.\u001b[39msuppress_ragged_eofs:\n",
      "\u001b[1;31mKeyboardInterrupt\u001b[0m: "
     ]
    }
   ],
   "source": [
    "from tqdm import tqdm\n",
    "\n",
    "problems = []\n",
    "with tqdm(total=MAX_QUESTIONS) as pbar:\n",
    "    for Occupation in all_occupations_with_levels:\n",
    "        questions = generate_usecase_technical_topic(Occupation, 1)\n",
    "        print(questions)\n",
    "        for question in questions[\"questions\"]:\n",
    "            problems.append({\n",
    "                \"metadata\": {\n",
    "                    \"Occupation\": Occupation,\n",
    "                    \"type\": \"query\",\n",
    "                    \"difficulty\": \"Easy\",\n",
    "                    \"target_length\": 1\n",
    "                },\n",
    "                \"messages\": [\n",
    "                    {\"role\": \"user\", \"content\": question},\n",
    "                ]\n",
    "            })\n",
    "        pbar.update(1)\n"
   ]
  },
  {
   "cell_type": "code",
   "execution_count": 47,
   "metadata": {},
   "outputs": [
    {
     "data": {
      "text/plain": [
       "[{'metadata': {'Occupation': 'SoftwareCentricOccupations > MostPopular > Software Developer > First Timer',\n",
       "   'type': 'query',\n",
       "   'difficulty': 'Easy',\n",
       "   'target_length': 1},\n",
       "  'messages': [{'role': 'user',\n",
       "    'content': {'use_case': \"Creating a simple 'Hello, World!' program\",\n",
       "     'technical_topic': 'Basic syntax in Python',\n",
       "     'user_personality': 'Curious and eager to learn the fundamentals'}}]},\n",
       " {'metadata': {'Occupation': 'SoftwareCentricOccupations > MostPopular > Software Developer > Beginner',\n",
       "   'type': 'query',\n",
       "   'difficulty': 'Easy',\n",
       "   'target_length': 1},\n",
       "  'messages': [{'role': 'user',\n",
       "    'content': {'use_case': 'Creating a simple REST API endpoint to retrieve user data',\n",
       "     'technical_topic': 'Building a RESTful service with Flask',\n",
       "     'user_personality': 'Curious and eager to learn, with a preference for clear, step-by-step explanations'}}]},\n",
       " {'metadata': {'Occupation': 'SoftwareCentricOccupations > MostPopular > Software Developer > Intermediate',\n",
       "   'type': 'query',\n",
       "   'difficulty': 'Easy',\n",
       "   'target_length': 1},\n",
       "  'messages': [{'role': 'user',\n",
       "    'content': {'use_case': 'Implementing a RESTful API endpoint for a to-do application',\n",
       "     'technical_topic': 'Creating a new feature using Flask in Python',\n",
       "     'user_personality': 'Curious and detail-oriented, seeking to understand best practices'}}]},\n",
       " {'metadata': {'Occupation': 'SoftwareCentricOccupations > MostPopular > Software Developer > Advanced',\n",
       "   'type': 'query',\n",
       "   'difficulty': 'Easy',\n",
       "   'target_length': 1},\n",
       "  'messages': [{'role': 'user',\n",
       "    'content': {'use_case': 'Implementing a RESTful API endpoint for a social media application',\n",
       "     'technical_topic': 'Asynchronous programming in Node.js',\n",
       "     'user_personality': 'Curious and detail-oriented, seeking to optimize performance'}}]},\n",
       " {'metadata': {'Occupation': 'SoftwareCentricOccupations > MostPopular > Software Developer > Expert',\n",
       "   'type': 'query',\n",
       "   'difficulty': 'Easy',\n",
       "   'target_length': 1},\n",
       "  'messages': [{'role': 'user',\n",
       "    'content': {'use_case': 'Implementing a caching mechanism to improve application performance',\n",
       "     'technical_topic': 'Redis integration with a Node.js application',\n",
       "     'user_personality': 'Inquisitive and detail-oriented, seeking to optimize existing systems'}}]},\n",
       " {'metadata': {'Occupation': 'SoftwareCentricOccupations > MostPopular > Web Developer > First Timer',\n",
       "   'type': 'query',\n",
       "   'difficulty': 'Easy',\n",
       "   'target_length': 1},\n",
       "  'messages': [{'role': 'user',\n",
       "    'content': {'use_case': 'Creating a responsive navigation menu for a personal portfolio website',\n",
       "     'technical_topic': 'CSS media queries and JavaScript event handling',\n",
       "     'user_personality': 'Eager to learn and apply new web design techniques, with a preference for clean and modern aesthetics'}}]},\n",
       " {'metadata': {'Occupation': 'SoftwareCentricOccupations > MostPopular > Web Developer > Beginner',\n",
       "   'type': 'query',\n",
       "   'difficulty': 'Easy',\n",
       "   'target_length': 1},\n",
       "  'messages': [{'role': 'user',\n",
       "    'content': {'use_case': 'Creating a responsive navigation menu',\n",
       "     'technical_topic': 'CSS Flexbox and Media Queries',\n",
       "     'user_personality': 'Curious and eager to learn best practices'}}]},\n",
       " {'metadata': {'Occupation': 'SoftwareCentricOccupations > MostPopular > Web Developer > Intermediate',\n",
       "   'type': 'query',\n",
       "   'difficulty': 'Easy',\n",
       "   'target_length': 1},\n",
       "  'messages': [{'role': 'user',\n",
       "    'content': {'use_case': 'Implementing responsive navigation menu',\n",
       "     'technical_topic': 'CSS media queries',\n",
       "     'user_personality': 'Curious about best practices for mobile-first design'}}]},\n",
       " {'metadata': {'Occupation': 'SoftwareCentricOccupations > MostPopular > Web Developer > Advanced',\n",
       "   'type': 'query',\n",
       "   'difficulty': 'Easy',\n",
       "   'target_length': 1},\n",
       "  'messages': [{'role': 'user',\n",
       "    'content': {'use_case': 'Implementing responsive navigation menu',\n",
       "     'technical_topic': 'CSS Flexbox and Media Queries',\n",
       "     'user_personality': 'Detail-oriented and keen on performance'}}]},\n",
       " {'metadata': {'Occupation': 'SoftwareCentricOccupations > MostPopular > Web Developer > Expert',\n",
       "   'type': 'query',\n",
       "   'difficulty': 'Easy',\n",
       "   'target_length': 1},\n",
       "  'messages': [{'role': 'user',\n",
       "    'content': {'use_case': 'Implementing a responsive navigation menu',\n",
       "     'technical_topic': 'CSS Flexbox and Media Queries',\n",
       "     'user_personality': 'Detail-oriented and appreciates clean, maintainable code'}}]},\n",
       " {'metadata': {'Occupation': 'SoftwareCentricOccupations > MostPopular > Data Scientist > First Timer',\n",
       "   'type': 'query',\n",
       "   'difficulty': 'Easy',\n",
       "   'target_length': 1},\n",
       "  'messages': [{'role': 'user',\n",
       "    'content': {'use_case': 'Analyzing customer feedback',\n",
       "     'technical_topic': 'Text data preprocessing',\n",
       "     'user_personality': 'Curious and eager to learn'}}]},\n",
       " {'metadata': {'Occupation': 'SoftwareCentricOccupations > MostPopular > Data Scientist > Beginner',\n",
       "   'type': 'query',\n",
       "   'difficulty': 'Easy',\n",
       "   'target_length': 1},\n",
       "  'messages': [{'role': 'user',\n",
       "    'content': {'use_case': 'Analyzing customer feedback for sentiment',\n",
       "     'technical_topic': 'Implementing a basic sentiment analysis with Python',\n",
       "     'user_personality': 'Curious and eager to learn about natural language processing'}}]},\n",
       " {'metadata': {'Occupation': 'SoftwareCentricOccupations > MostPopular > Data Scientist > Intermediate',\n",
       "   'type': 'query',\n",
       "   'difficulty': 'Easy',\n",
       "   'target_length': 1},\n",
       "  'messages': [{'role': 'user',\n",
       "    'content': {'use_case': 'Analyzing customer feedback for sentiment',\n",
       "     'technical_topic': 'Natural Language Processing with Python',\n",
       "     'user_personality': 'Curious and detail-oriented, seeking to improve product features based on user reviews'}}]},\n",
       " {'metadata': {'Occupation': 'SoftwareCentricOccupations > MostPopular > Data Scientist > Advanced',\n",
       "   'type': 'query',\n",
       "   'difficulty': 'Easy',\n",
       "   'target_length': 1},\n",
       "  'messages': [{'role': 'user',\n",
       "    'content': {'use_case': 'Analyzing customer churn',\n",
       "     'technical_topic': 'Machine learning model optimization',\n",
       "     'user_personality': 'Analytical and detail-oriented, seeking to improve model accuracy'}}]},\n",
       " {'metadata': {'Occupation': 'SoftwareCentricOccupations > MostPopular > Data Scientist > Expert',\n",
       "   'type': 'query',\n",
       "   'difficulty': 'Easy',\n",
       "   'target_length': 1},\n",
       "  'messages': [{'role': 'user',\n",
       "    'content': {'use_case': 'Predictive modeling for customer churn',\n",
       "     'technical_topic': 'Machine learning with Python',\n",
       "     'user_personality': 'Analytical and detail-oriented, seeking efficient and scalable solutions'}}]},\n",
       " {'metadata': {'Occupation': 'SoftwareCentricOccupations > MostPopular > Mobile App Developer > First Timer',\n",
       "   'type': 'query',\n",
       "   'difficulty': 'Easy',\n",
       "   'target_length': 1},\n",
       "  'messages': [{'role': 'user',\n",
       "    'content': {'use_case': 'Creating a simple user authentication screen',\n",
       "     'technical_topic': 'Implementing OAuth 2.0 in a mobile application',\n",
       "     'user_personality': 'Eager to learn and apply best practices in app security'}}]},\n",
       " {'metadata': {'Occupation': 'SoftwareCentricOccupations > MostPopular > Mobile App Developer > Beginner',\n",
       "   'type': 'query',\n",
       "   'difficulty': 'Easy',\n",
       "   'target_length': 1},\n",
       "  'messages': [{'role': 'user',\n",
       "    'content': {'use_case': 'Creating a simple user authentication screen',\n",
       "     'technical_topic': 'Implementing a login form in Flutter',\n",
       "     'user_personality': 'Eager to learn and appreciates step-by-step guidance'}}]},\n",
       " {'metadata': {'Occupation': 'SoftwareCentricOccupations > MostPopular > Mobile App Developer > Intermediate',\n",
       "   'type': 'query',\n",
       "   'difficulty': 'Easy',\n",
       "   'target_length': 1},\n",
       "  'messages': [{'role': 'user',\n",
       "    'content': {'use_case': 'Implementing a custom animated splash screen for a mobile app',\n",
       "     'technical_topic': 'Mobile app development with Flutter',\n",
       "     'user_personality': 'Curious and detail-oriented, seeking to enhance user experience with engaging visuals'}}]},\n",
       " {'metadata': {'Occupation': 'SoftwareCentricOccupations > MostPopular > Mobile App Developer > Advanced',\n",
       "   'type': 'query',\n",
       "   'difficulty': 'Easy',\n",
       "   'target_length': 1},\n",
       "  'messages': [{'role': 'user',\n",
       "    'content': {'use_case': 'Implementing a custom animated splash screen for a mobile app',\n",
       "     'technical_topic': 'Mobile app development with Flutter',\n",
       "     'user_personality': 'A detail-oriented developer who enjoys adding a personal touch to applications'}}]},\n",
       " {'metadata': {'Occupation': 'SoftwareCentricOccupations > MostPopular > Mobile App Developer > Expert',\n",
       "   'type': 'query',\n",
       "   'difficulty': 'Easy',\n",
       "   'target_length': 1},\n",
       "  'messages': [{'role': 'user',\n",
       "    'content': {'use_case': 'optimizing the performance of a mobile application',\n",
       "     'technical_topic': 'implementing efficient caching strategies',\n",
       "     'user_personality': 'meticulous and detail-oriented, always seeking to enhance app responsiveness and reduce load times'}}]},\n",
       " {'metadata': {'Occupation': 'SoftwareCentricOccupations > MostPopular > DevOps Engineer > First Timer',\n",
       "   'type': 'query',\n",
       "   'difficulty': 'Easy',\n",
       "   'target_length': 1},\n",
       "  'messages': [{'role': 'user',\n",
       "    'content': {'use_case': 'Automating a simple deployment process',\n",
       "     'technical_topic': 'Writing a basic Ansible playbook',\n",
       "     'user_personality': 'Eager to learn and apply new DevOps practices'}}]},\n",
       " {'metadata': {'Occupation': 'SoftwareCentricOccupations > MostPopular > DevOps Engineer > Beginner',\n",
       "   'type': 'query',\n",
       "   'difficulty': 'Easy',\n",
       "   'target_length': 1},\n",
       "  'messages': [{'role': 'user',\n",
       "    'content': {'use_case': 'Automating a simple deployment process',\n",
       "     'technical_topic': 'Writing a basic Ansible playbook',\n",
       "     'user_personality': 'Eager to learn and apply new tools'}}]},\n",
       " {'metadata': {'Occupation': 'SoftwareCentricOccupations > MostPopular > DevOps Engineer > Intermediate',\n",
       "   'type': 'query',\n",
       "   'difficulty': 'Easy',\n",
       "   'target_length': 1},\n",
       "  'messages': [{'role': 'user',\n",
       "    'content': {'use_case': 'Automating deployment processes',\n",
       "     'technical_topic': 'Writing a basic Ansible playbook',\n",
       "     'user_personality': 'Curious and eager to optimize workflows'}}]}]"
      ]
     },
     "execution_count": 47,
     "metadata": {},
     "output_type": "execute_result"
    }
   ],
   "source": [
    "problems"
   ]
  }
 ],
 "metadata": {
  "kernelspec": {
   "display_name": "Python 3",
   "language": "python",
   "name": "python3"
  },
  "language_info": {
   "codemirror_mode": {
    "name": "ipython",
    "version": 3
   },
   "file_extension": ".py",
   "mimetype": "text/x-python",
   "name": "python",
   "nbconvert_exporter": "python",
   "pygments_lexer": "ipython3",
   "version": "3.10.9"
  }
 },
 "nbformat": 4,
 "nbformat_minor": 2
}
