{
 "cells": [
  {
   "cell_type": "markdown",
   "metadata": {},
   "source": [
    "# Metadata\n",
    "\n",
    "**Python Topics** - APIs"
   ]
  },
  {
   "cell_type": "markdown",
   "metadata": {},
   "source": [
    "# Conversation"
   ]
  },
  {
   "cell_type": "markdown",
   "metadata": {},
   "source": [
    "**Human**\n",
    "\n",
    "Help me create a service account in Google Cloud Platform for Gmail."
   ]
  },
  {
   "cell_type": "markdown",
   "metadata": {},
   "source": [
    "**LLM**\n",
    "\n",
    "There's quite a bit of upfront setup to get the credentials for GMail API, but once you have that, it's pretty easy to send emails automatically. Here's what you need to do:\n",
    "- Create a new project in [Google Cloud Console](https://console.cloud.google.com/)\n",
    "- Enable the Gmail API for your project. `\"APIs & Services\" -> \"Library\" -> \"Gmail API\" -> \"Enable\"`\n",
    "- Create a service account `“IAM & Admin\" -> \"Service Accounts” -> \"Create Service Account\"`\n",
    "- Create a new key for the Service Account. `“Keys” -> \"Add Key\" -> \"Create new key\" -> \"Json\" -> \"Create\"`... This should give you a json file with the credentials for your service account."
   ]
  },
  {
   "cell_type": "markdown",
   "metadata": {},
   "source": [
    "**Human**\n",
    "\n",
    "I wanna use the creds in python"
   ]
  },
  {
   "cell_type": "markdown",
   "metadata": {},
   "source": [
    "**LLM**\n",
    "\n",
    "Okay for that, you need to install the client library `oauth2client` and `google-api-python-client`. You can do that with `pip install oauth2client google-api-python-client`.\n",
    "\n",
    "---\n",
    "Then, you can load the file like this:\n",
    "```python\n",
    "from oauth2client.service_account import ServiceAccountCredentials\n",
    "\n",
    "scope = ['https://www.googleapis.com/auth/gmail.send']\n",
    "creds = ServiceAccountCredentials.from_json_keyfile_name('PATH_TO_JSON', scope)\n",
    "```"
   ]
  },
  {
   "cell_type": "markdown",
   "metadata": {},
   "source": [
    "**Human**\n",
    "\n",
    "How can I send emails from my gmail account using Python?"
   ]
  },
  {
   "cell_type": "markdown",
   "metadata": {},
   "source": [
    "**LLM**\n",
    "\n",
    "Here's a function that will use the `creds` object above to send the email. \n",
    "\n",
    "```python\n",
    "import base64\n",
    "import google.auth\n",
    "from email.mime.text import MIMEText\n",
    "from googleapiclient.discovery import build\n",
    "\n",
    "\n",
    "\n",
    "def send_email(subject: str, body: str, recipient: str, creds: ServiceAccountCredentials):\n",
    "    \"\"\"\n",
    "    Sends an email using the Gmail API.\n",
    "\n",
    "    Args:\n",
    "        subject (str): The subject of the email.\n",
    "        body (str): The body text of the email.\n",
    "        recipient (str): The email address of the recipient.\n",
    "        creds (google.auth.credentials.Credentials): The credentials to authenticate with Gmail API.\n",
    "\n",
    "    Returns:\n",
    "        None\n",
    "    \"\"\"\n",
    "    try:\n",
    "        gmail_service = build(\"gmail\", \"v1\", credentials=creds)\n",
    "\n",
    "        # Create the message\n",
    "        mime_message = MIMEText(body)\n",
    "        mime_message[\"to\"] = recipient\n",
    "        mime_message[\"subject\"] = subject\n",
    "        mime_bytes = mime_message.as_bytes()\n",
    "        encoded_message = {\n",
    "            \"raw\": base64.urlsafe_b64encode(mime_bytes).decode()\n",
    "        }\n",
    "\n",
    "        # Send the message\n",
    "        gmail_service.users().messages().send(userId=\"me\", body=encoded_message).execute()\n",
    "        print(f\"Mail message sent to {recipient}\")\n",
    "\n",
    "    except:\n",
    "        print(f\"Could not send the message with the following error: {error}\")\n",
    "```"
   ]
  },
  {
   "cell_type": "markdown",
   "metadata": {},
   "source": [
    "**Human**\n",
    "\n",
    "That works. Can you explain what are mimes?"
   ]
  },
  {
   "cell_type": "markdown",
   "metadata": {},
   "source": [
    "**LLM**\n",
    "\n",
    "Mimes is just a geeky name for a standard that allows us to send fancy content like attachments and styled text in emails. Previously, email messages were limited to the character set of ASCII, which limited things to mostly plain text.\n",
    "\n",
    "You can read more about it [here](https://en.wikipedia.org/wiki/MIME)."
   ]
  }
 ],
 "metadata": {
  "kernelspec": {
   "display_name": "venv",
   "language": "python",
   "name": "python3"
  },
  "language_info": {
   "codemirror_mode": {
    "name": "ipython",
    "version": 3
   },
   "file_extension": ".py",
   "mimetype": "text/x-python",
   "name": "python",
   "nbconvert_exporter": "python",
   "pygments_lexer": "ipython3",
   "version": "3.9.16"
  }
 },
 "nbformat": 4,
 "nbformat_minor": 2
}
