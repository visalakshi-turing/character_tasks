{
 "cells": [
  {
   "cell_type": "markdown",
   "metadata": {},
   "source": [
    "# Metadata\n",
    "\n",
    "**Python Topics** - Fast API"
   ]
  },
  {
   "cell_type": "markdown",
   "metadata": {},
   "source": [
    "# Conversation"
   ]
  },
  {
   "cell_type": "markdown",
   "metadata": {},
   "source": [
    "**Human**\n",
    "\n",
    "Help me create a fast api application from scratch."
   ]
  },
  {
   "cell_type": "markdown",
   "metadata": {},
   "source": [
    "**LLM**\n",
    "\n",
    "Let's start small with only the fundamentals.\n",
    "- **requirements.txt** for listing explicit dependency versions\n",
    "- **main.py** which contains your application code\n",
    "\n",
    "---\n",
    "##### Setup the Environemnt\n",
    "You only need 2 things at this stage\n",
    "- Install initial dependencies `pip install fastapi uvicorn`\n",
    "- Document the versions in requirements.txt as such\n",
    "```\n",
    "uvicorn==a.b.c\n",
    "fastapi==x.y.z\n",
    "```\n",
    "\n",
    "##### Write your app\n",
    "Here's a sample hello-world endpoint for you\n",
    "```python\n",
    "from fastapi import FastAPI\n",
    "\n",
    "app = FastAPI()\n",
    "\n",
    "@app.get(\"/\")\n",
    "async def read_root():\n",
    "    return \"Hello World!\"\n",
    "```\n",
    "\n",
    "##### Run your Application\n",
    "```bash\n",
    "uvicorn main:app --host 0.0.0.0 --port 8888\n",
    "```\n",
    "\n",
    "This will make your application go live on your system, if you navigate to http://localhost:8888 you should find a `Hello World!` message :D"
   ]
  },
  {
   "cell_type": "markdown",
   "metadata": {},
   "source": [
    "**Human**\n",
    "\n",
    "That's awesome! However, I just tried to change the message from hello world to something else, even though I saved, It does not change on the browser no matter how many times I refresh."
   ]
  },
  {
   "cell_type": "markdown",
   "metadata": {},
   "source": [
    "**LLM**\n",
    "\n",
    "Yeah, we need to stop the server from the terminal and rerun it to make the changes reflect. A nice option in uvicorn is using the `--reload` flag as follows:\n",
    "\n",
    "```bash\n",
    "uvicorn main:app --host 0.0.0.0 --port 8888 --reload\n",
    "```\n",
    "\n",
    "This monitors your codebase, whenever you save any code files, It will automatically restart the app for you. It's a huge time saver."
   ]
  },
  {
   "cell_type": "markdown",
   "metadata": {},
   "source": [
    "**Human**\n",
    "\n",
    "I also wanna set up a virtual environemnt"
   ]
  },
  {
   "cell_type": "markdown",
   "metadata": {},
   "source": [
    "**LLM**\n",
    "\n",
    "There are many types of virtual environments available... the simplest one is venv. \n",
    "Here's how to get started:\n",
    "- Create the environemnt in the project's root dir `python -m venv venv`\n",
    "- Activate it: `source venv/bin/activate` for linux & `venv\\Scripts\\activate` for windows.\n",
    "- Install your dependencies `pip install -r requirements.txt`\n",
    "\n",
    "And there you have it... a portable project via explicit & isolated dependencies! "
   ]
  },
  {
   "cell_type": "markdown",
   "metadata": {},
   "source": [
    "**Human**\n",
    "\n",
    "I'm creating a create recipe form... a recipe should have a name, ingredients & preparation instrucitons... I want to do input validation"
   ]
  },
  {
   "cell_type": "markdown",
   "metadata": {},
   "source": [
    "**LLM**\n",
    "\n",
    "I think you will need `pydantic` for this. It works seamlessly with fastapi for handling input validations based on the types and models you create. \n",
    "\n",
    "First, Just `pip install pydantic` & add the version explicitly to your `requirements.txt`\n",
    "\n",
    "Then, Let's define the pydantic model itself:\n",
    "```python\n",
    "from typing import List\n",
    "from pydantic import BaseModel\n",
    "\n",
    "\n",
    "class Ingredient(BasModel):\n",
    "    name: str\n",
    "    quantity: float\n",
    "    unit: str\n",
    "\n",
    "\n",
    "class CreateRecipe(BaseModel):\n",
    "    name: str\n",
    "    ingredients: List[Ingredient] \n",
    "    prep_instructions: str\n",
    "```"
   ]
  },
  {
   "cell_type": "markdown",
   "metadata": {},
   "source": [
    "**Human**\n",
    "\n",
    "Please add the validation to the following function\n",
    "\n",
    "\n",
    "```python\n",
    "@app.post(\"/recipes/\", status_code=status.HTTP_201_CREATED)\n",
    "async def create_recipe(recipe):\n",
    "    # Function doing some secret things.\n",
    "    return {\"message\": \"Recipe created successfully\", \"recipe\": recipe}\n",
    "```"
   ]
  },
  {
   "cell_type": "markdown",
   "metadata": {},
   "source": [
    "**LLM**\n",
    "\n",
    "This is exactly why `pydantic` shines... watch how we're adding the validation with minimal code changes.\n",
    "\n",
    "```python\n",
    "@app.post(\"/recipes/\", status_code=status.HTTP_201_CREATED)\n",
    "async def create_recipe(recipe: CreateRecipe):\n",
    "    # Function doing some secret things.\n",
    "    return {\"message\": \"Recipe created successfully\", \"recipe\": recipe}\n",
    "```\n",
    "\n",
    "Voala!"
   ]
  },
  {
   "cell_type": "markdown",
   "metadata": {},
   "source": [
    "**Human**\n",
    "\n",
    "What was the route for the auto generated docs?"
   ]
  },
  {
   "cell_type": "markdown",
   "metadata": {},
   "source": [
    "**LLM**\n",
    "\n",
    "It's `/docs`... [Here you go](http://localhost:8888/docs)"
   ]
  },
  {
   "cell_type": "markdown",
   "metadata": {},
   "source": [
    "**Human**\n",
    "\n",
    "Can you help me dockerize this? The secret code is just using pyodbc to connect to mssql 2017... that's the only additional dependency."
   ]
  },
  {
   "cell_type": "markdown",
   "metadata": {},
   "source": [
    "**LLM**\n",
    "\n",
    "```Dockerfile\n",
    "FROM python:3.9-slim\n",
    "\n",
    "# Install ODBC Driver\n",
    "RUN apt-get update && apt-get install --reinstall build-essential -y\n",
    "RUN apt-get install curl -y\n",
    "RUN curl https://packages.microsoft.com/keys/microsoft.asc | apt-key add -\n",
    "RUN apt-get update && apt-get install -y curl apt-transport-https \\\n",
    "    && curl https://packages.microsoft.com/config/debian/10/prod.list > /etc/apt/sources.list.d/mssql-release.list \\\n",
    "    && apt-get update \\\n",
    "    && ACCEPT_EULA=Y apt-get install -y msodbcsql17 unixodbc-dev\n",
    "RUN ACCEPT_EULA=Y apt-get install -y --allow-unauthenticated mssql-tools\n",
    "RUN echo 'export PATH=\"$PATH:/opt/mssql-tools/bin\"' >> ~/.bashrc\n",
    "RUN echo 'export PATH=\"$PATH:/opt/mssql-tools/bin\"' >> ~/.bash_profile\n",
    "RUN apt-get install -y unixodbc-dev\n",
    "\n",
    "# Install dependencies\n",
    "WORKDIR /app\n",
    "COPY requirements.txt requirements\n",
    "RUN pip install -r requirements.txt\n",
    "\n",
    "# Copy Source Code\n",
    "COPY . .\n",
    "\n",
    "# Run Command\n",
    "EXPOSE 80\n",
    "CMD [\"uvicorn\", \"main:app\", \"--host\", \"0.0.0.0\", \"--port\", \"80\"]\n",
    "```\n",
    "---\n",
    "Here are the considerations while creating this:\n",
    "- Installing the `ODBC` driver and especially the msodbcsql17 was needed for your secret code to work.\n",
    "- Installing the dependencies comes before the source code to take advantage of the docker layers and optimize build times.\n",
    "- Running the app on port 80 internally as this is compatible with most cloud providers.\n",
    "\n",
    "\n",
    "Please let me know if you have any questions."
   ]
  }
 ],
 "metadata": {
  "language_info": {
   "name": "python"
  }
 },
 "nbformat": 4,
 "nbformat_minor": 2
}
