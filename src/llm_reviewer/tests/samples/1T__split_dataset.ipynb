{
 "cells": [
  {
   "cell_type": "markdown",
   "metadata": {},
   "source": [
    "# Metadata\n",
    "\n",
    "**Python Topics** - Sklearn Train/Test split"
   ]
  },
  {
   "cell_type": "markdown",
   "metadata": {},
   "source": [
    "# Conversation"
   ]
  },
  {
   "cell_type": "markdown",
   "metadata": {},
   "source": [
    "**Human**\n",
    "\n",
    "how to split dataset for train & test in sklearn"
   ]
  },
  {
   "cell_type": "markdown",
   "metadata": {},
   "source": [
    "**LLM**\n",
    "\n",
    "It's pretty simple actually, you can do it in a couple of lines of code.\n",
    "\n",
    "```python\n",
    "from sklearn.model_selection import train_test_split\n",
    "\n",
    "\n",
    "# Existing Code\n",
    "\n",
    "# X is your features matrix\n",
    "# Y is your labels sequence\n",
    "X_train, X_test, y_train, y_test = train_test_split(X, Y, test_size=0.2, random_state=33, stratify=Y)\n",
    "```\n",
    "\n",
    "**Note that**\n",
    "- `test_size` - We've assigned 20% of your data to the test set which is a generic value. As your data size increases, especially when its complexity is moderate... you can safely reduce the ration or even set an explicit number of samples.\n",
    "- `random_state` - This just helps you get the exact same split across reruns as long as the value passed is the same.\n",
    "- `stratify` - We use this to bias the sample selection to be distributed among some values. It's pretty standard to do so for the labels to ensure you're covering every class during your evaluations."
   ]
  }
 ],
 "metadata": {
  "language_info": {
   "name": "python"
  }
 },
 "nbformat": 4,
 "nbformat_minor": 2
}
