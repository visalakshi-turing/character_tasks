{
 "cells": [
  {
   "cell_type": "markdown",
   "metadata": {},
   "source": [
    "# Metadata\n",
    "\n",
    "**Python Topics** - Logging"
   ]
  },
  {
   "cell_type": "markdown",
   "metadata": {},
   "source": [
    "# Conversation"
   ]
  },
  {
   "cell_type": "markdown",
   "metadata": {},
   "source": [
    "**Human**\n",
    "\n",
    "How do I set up basic logging in a python script?"
   ]
  },
  {
   "cell_type": "markdown",
   "metadata": {},
   "source": [
    "**LLM**\n",
    "\n",
    "Python has an integrated library for this, you just need to include the following snippet at the start of your script's entry point\n",
    "\n",
    "```python\n",
    "import logging\n",
    "\n",
    "logging.basicConfig(level=logging.DEBUG)\n",
    "```\n",
    "---\n",
    "Then, you can use the logging module to log messages at different levels anywhere in your script\n",
    "```python\n",
    "# Use this to display values of variables in the middle of your script\n",
    "logging.debug('message')\n",
    "\n",
    "# This one should be used sparringly, at logical checkpoints in your script\n",
    "logging.info('message')\n",
    "\n",
    "# This can be used to show warnings in corner cases\n",
    "logging.warning('message')\n",
    "\n",
    "# This can be used during error handling\n",
    "logging.error('message')\n",
    "\n",
    "# This can be used when critical events occur\n",
    "logging.critical('message')\n",
    "```"
   ]
  },
  {
   "cell_type": "markdown",
   "metadata": {},
   "source": [
    "**Human**\n",
    "\n",
    "What if I want to log to a file instead of the console? I also want each log line to contain the timestamp and the filename as well as the line numbers where the log was called."
   ]
  },
  {
   "cell_type": "markdown",
   "metadata": {},
   "source": [
    "**LLM**\n",
    "\n",
    "Yeah that's possible too... there's a parameter in the basicConfig() function which allows you to specify a file to log to\n",
    "\n",
    "```python\n",
    "import logging\n",
    "\n",
    "# Custom log format\n",
    "log_format = '%(asctime)s - %(levelname)s - [%(filename)s:%(lineno)d] - %(message)s'\n",
    "\n",
    "# Configure logging to write to a file\n",
    "logging.basicConfig(filename='FILEPATH.log', filemode='w', level=logging.DEBUG)\n",
    "```"
   ]
  }
 ],
 "metadata": {
  "kernelspec": {
   "display_name": "venv",
   "language": "python",
   "name": "python3"
  },
  "language_info": {
   "codemirror_mode": {
    "name": "ipython",
    "version": 3
   },
   "file_extension": ".py",
   "mimetype": "text/x-python",
   "name": "python",
   "nbconvert_exporter": "python",
   "pygments_lexer": "ipython3",
   "version": "3.9.16"
  }
 },
 "nbformat": 4,
 "nbformat_minor": 2
}
