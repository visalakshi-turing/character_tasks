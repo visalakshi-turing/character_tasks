{
 "cells": [
  {
   "cell_type": "markdown",
   "metadata": {},
   "source": [
    "# Metadata\n",
    "\n",
    "**Python Topics** - OS List"
   ]
  },
  {
   "cell_type": "markdown",
   "metadata": {},
   "source": [
    "# Conversation"
   ]
  },
  {
   "cell_type": "markdown",
   "metadata": {},
   "source": [
    "**Human**\n",
    "\n",
    "I need to script renaming files in a given folder. Just set the name to the last modified date in the format YYYY-MM-DD"
   ]
  },
  {
   "cell_type": "markdown",
   "metadata": {},
   "source": [
    "**LLM**\n",
    "\n",
    "Okay. Here's a simple python script for this.\n",
    "\n",
    "```python\n",
    "import os\n",
    "import datetime\n",
    "\n",
    "\n",
    "def rename_files_to_date_modified(folder_path: str, verbose: bool = True):\n",
    "    os.chdir(folder_path)\n",
    "    for file in os.listdir():\n",
    "        # Get the last modified time and format it\n",
    "        mod_time = os.path.getmtime(file)\n",
    "        date_str = datetime.datetime.fromtimestamp(mod_time).strftime('%Y-%m-%d')\n",
    "\n",
    "        # Create the new filename and rename\n",
    "        file_extension = os.path.splitext(file)[1]\n",
    "        new_name = date_str + file_extension\n",
    "        os.rename(file, new_name)\n",
    "\n",
    "        if verbose:\n",
    "            print(f\"Renamed '{file}' to '{new_name}'\")\n",
    "\n",
    "\n",
    "# Call the function\n",
    "rename_files_to_date('PATH_TO_YOUR_FOLDER')\n",
    "```"
   ]
  },
  {
   "cell_type": "markdown",
   "metadata": {},
   "source": [
    "**Human**\n",
    "\n",
    "I want to run this using cmd args"
   ]
  },
  {
   "cell_type": "markdown",
   "metadata": {},
   "source": [
    "**LLM**\n",
    "\n",
    "We can use `argparse` for this... this will help us define some options to pass while running the script from cmd.\n",
    "\n",
    "Here's the modified script\n",
    "```python\n",
    "import os\n",
    "import datetime\n",
    "import argparse\n",
    "\n",
    "\n",
    "def rename_files_to_date_modified(folder_path: str, verbose: bool = True):\n",
    "    os.chdir(folder_path)\n",
    "    for file in os.listdir():\n",
    "        # Get the last modified time and format it\n",
    "        mod_time = os.path.getmtime(file)\n",
    "        date_str = datetime.datetime.fromtimestamp(mod_time).strftime('%Y-%m-%d')\n",
    "\n",
    "        # Create the new filename and rename\n",
    "        file_extension = os.path.splitext(file)[1]\n",
    "        new_name = date_str + file_extension\n",
    "        os.rename(file, new_name)\n",
    "\n",
    "        # Conditionally print\n",
    "        if verbose:\n",
    "            print(f\"Renamed '{file}' to '{new_name}'\")\n",
    "\n",
    "\n",
    "parser = argparse.ArgumentParser(description='Rename files in a directory to their last modified date.')\n",
    "parser.add_argument('folder_path', type=str, help='Directory path where the files are located.')\n",
    "parser.add_argument('-v', '--verbose', action=\"store_true\", help='Print the files being renamed.')\n",
    "\n",
    "args = parser.parse_args()\n",
    "rename_files_to_date(args.folder_path, args.verbose)\n",
    "```\n",
    "\n",
    "\n",
    "And that's it! Assuming you've saved the script as `rename_files.py`, you can run it like this:\n",
    "\n",
    "```bash\n",
    "python rename_files.py PATH_TO_YOUR_FOLDER\n",
    "```\n",
    "\n",
    "Or if you want to see the files being renamed, you can run it like this:\n",
    "\n",
    "```bash\n",
    "python rename_files.py PATH_TO_YOUR_FOLDER -v\n",
    "```"
   ]
  }
 ],
 "metadata": {
  "language_info": {
   "name": "python"
  }
 },
 "nbformat": 4,
 "nbformat_minor": 2
}
